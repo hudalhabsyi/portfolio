{
 "cells": [
  {
   "cell_type": "markdown",
   "metadata": {},
   "source": [
    "Computer Vision: \n",
    "* Facial recognition\n",
    "* Reading emotions\n",
    "\n",
    "Methodology:\n",
    "* CNN Classifier\n",
    "* Optimiser if needed (can use Adam or RMS prop)"
   ]
  },
  {
   "cell_type": "markdown",
   "metadata": {},
   "source": [
    "Things we need:\n",
    "* Data for emotions\n",
    "    * happy\n",
    "    * sad\n",
    "    * angry\n",
    "    * anxious\n",
    "    * nervous"
   ]
  },
  {
   "cell_type": "markdown",
   "metadata": {},
   "source": []
  },
  {
   "cell_type": "code",
   "execution_count": null,
   "metadata": {},
   "outputs": [],
   "source": []
  },
  {
   "cell_type": "code",
   "execution_count": 1,
   "metadata": {},
   "outputs": [],
   "source": [
    "import cv2 as cv\n"
   ]
  },
  {
   "cell_type": "code",
   "execution_count": 4,
   "metadata": {},
   "outputs": [],
   "source": [
    "\n"
   ]
  },
  {
   "cell_type": "code",
   "execution_count": 2,
   "metadata": {},
   "outputs": [],
   "source": [
    "#Reading videos\n",
    "capture = cv.VideoCapture(0)\n",
    "\n",
    "while True:\n",
    "    istrue, frame = capture.read()\n",
    "\n",
    "    cv.imshow('Video', frame)   #display the captured frame\n",
    "\n",
    "    if cv.waitKey(20) & 0xFF==ord('d'):     #press 'd' to stop the capturing of images\n",
    "        break\n",
    "\n",
    "capture.release()\n"
   ]
  },
  {
   "cell_type": "code",
   "execution_count": 3,
   "metadata": {},
   "outputs": [],
   "source": [
    "cv.destroyAllWindows()"
   ]
  }
 ],
 "metadata": {
  "kernelspec": {
   "display_name": "base",
   "language": "python",
   "name": "python3"
  },
  "language_info": {
   "codemirror_mode": {
    "name": "ipython",
    "version": 3
   },
   "file_extension": ".py",
   "mimetype": "text/x-python",
   "name": "python",
   "nbconvert_exporter": "python",
   "pygments_lexer": "ipython3",
   "version": "3.11.5"
  }
 },
 "nbformat": 4,
 "nbformat_minor": 2
}
