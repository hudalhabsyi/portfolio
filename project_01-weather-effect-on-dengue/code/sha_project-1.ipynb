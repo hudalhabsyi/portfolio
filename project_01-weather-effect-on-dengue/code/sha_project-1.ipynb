{
 "cells": [
  {
   "cell_type": "markdown",
   "metadata": {},
   "source": [
    "<img src=\"http://imgur.com/1ZcRyrc.png\" style=\"float: left; margin: 20px; height: 55px\">\n",
    "\n",
    "# Project 1: Data Analysis of Singapore Weather Conditions and its Effects on the Number of Dengue Cases"
   ]
  },
  {
   "cell_type": "markdown",
   "metadata": {},
   "source": [
    "--- \n",
    "# Part 1\n",
    "\n",
    "Part 1 requires knowledge of basic Python.\n",
    "\n",
    "---"
   ]
  },
  {
   "cell_type": "markdown",
   "metadata": {},
   "source": [
    "### Contents:\n",
    "- [Background](#Background)\n",
    "- [Data Import & Cleaning](#Data-Import-and-Cleaning)\n",
    "- [Exploratory Data Analysis](#Exploratory-Data-Analysis)\n",
    "- [Data Visualization](#Visualize-the-Data)\n",
    "- [Conclusions and Recommendations](#Conclusions-and-Recommendations)"
   ]
  },
  {
   "cell_type": "markdown",
   "metadata": {},
   "source": [
    "## Background"
   ]
  },
  {
   "cell_type": "markdown",
   "metadata": {},
   "source": [
    "### Introduction\n"
   ]
  },
  {
   "cell_type": "markdown",
   "metadata": {},
   "source": [
    "Dengue fever is a mosquito-borne viral illness that is common in tropical and subtropical climates, transmitted through the bite of an infected Female Aedes mosquito (aka the vector). \n",
    "\n",
    "According to research, with global warming causing a change in climate, dengue transmission can possibly be exacerbated. Relative humidity, rainfall and temperature are some weather conditions that are associated with mosquito vector survival. The typical life cycle of Aedes Aegypti mosquito takes up to 4 weeks. Mean temperatures above 27.5 degrees Celsius are shown to be optimal for the survival of the mosquitoes and temperatures between 25 degrees Celsius to 32 degrees Celsius accelerates the life cycle of the mosquito vectors.\n",
    "\n",
    "Dengue outbreaks have been reported in Singapore as early as 1901 and is still prevalent today, with NEA (National Environment Agency) monitoring multiple dengue clusters in Singapore and deinfining them into 3 categories - [Red Alert, Yellow Alert, Green Alert](https://www.nea.gov.sg/dengue-zika/dengue/dengue-clusters). \n",
    "\n",
    "There have also been outreach efforts by NEA to the public to reduce mosquito breeding via the BLOCK method and initiatives such as the creation of Gravitrap to trap the female Aedes mosquitoes which are looking for sites to lay their eggs and it prevents the eggs from hatching. \n",
    "\n",
    "Images sourced from NEA\n",
    "\n",
    "<img src=\"https://www.nea.gov.sg/images/default-source/default-album/fy21/default-album/stop-dengue-with-block-banner_prevent-aedes-page.png\" style=\"float: left; margin: 20px; height: 230px\">\n",
    "\n",
    "<img src=\"https://www.nea.gov.sg/images/default-source/default-album/fy21/default-album/picture-of-gravitraps.jpg\" style=\"float: left; margin: 20px; height: 230px\">\n"
   ]
  },
  {
   "cell_type": "markdown",
   "metadata": {},
   "source": [
    "### What is Project Wolbachia?\n"
   ]
  },
  {
   "cell_type": "markdown",
   "metadata": {},
   "source": [
    "<img src = 'https://www.nea.gov.sg/images/default-source/resources/project-wolbachia/project-wolbachia-singapore_logo.png'>\n",
    "\n",
    "Image sourced from NEA"
   ]
  },
  {
   "cell_type": "markdown",
   "metadata": {},
   "source": [
    "Project Wolbachia Singapore is a project by NEA which studies the feasibility of using Wolbachia-carrying Aedes aegypti males to help suppress the population of these mosquitoes. Wolbachia are naturally-occuring bacteria present in more than 60% of insections. When female mosquitoes from the field, which do not carry Wolbachia, miate with males that carry Wolbachia,the eggs derived from these matings do not hatch. With a supressed population, the expected outcome is that dengue transmission will be reduced hence decreasing the number of dengue fever cases in the country.\n",
    "\n",
    "<img src = \"https://www.nea.gov.sg/images/default-source/resources/project-wolbachia/how-does-wolbachia-aedes-suppression-technology-work-/wolbachia-aedes-suppression-technology.png?MaxWidth=720&MaxHeight=&ScaleUp=true&Quality=High&Method=ResizeFitToAreaArguments&Signature=1F72EE09C4E65A896BFDCB981C109814D0D8C9A0\">\n",
    "\n",
    "Image sourced from NEA"
   ]
  },
  {
   "cell_type": "markdown",
   "metadata": {},
   "source": [
    "Other Sources of Data:\n",
    "* [Dengue Clusters in Singapore](\"https://www.nea.gov.sg/dengue-zika/dengue/dengue-clusters\")  : Geographical locations of dengue clusters, classified according to Red, Yellow and Green Zones.\n",
    "* [Population of Aedes aegypti across Singapore](\"https://www.nea.gov.sg/dengue-zika/Aedes\")  : Geographical locations of high populations of Aedes aegypti across Singapore.\n",
    "* [Wolbachia-Aedes Release Schedule](\"https://www.nea.gov.sg/corporate-functions/resources/research/wolbachia-aedes-mosquito-suppression-strategy/wolbachia-aedes-release-schedule\")  : Current release schedule and areas under Project Wolbachia."
   ]
  },
  {
   "cell_type": "markdown",
   "metadata": {},
   "source": [
    "### Datasets Used\n"
   ]
  },
  {
   "cell_type": "markdown",
   "metadata": {},
   "source": [
    "\n",
    "Source: data.gov.sg\n",
    "\n",
    "* [Relative Humidity](https://data.gov.sg/dataset/relative-humidity-monthly-mean)  : Relative Humidity (monthly mean) from 1982-2022\n",
    "* [Monthly Number of Rainy Days](./data/rainfall-monthly-number-of-rain-days.csv)  : Monthly number of rain days from 1982 to 2022. A day is considered to have “rained” if the total rainfall for that day is 0.2mm or more.\n",
    "* [Monthly Total Rainfall](./data/rainfall-monthly-total.csv)  : Monthly total rain recorded in mm(millimeters) from 1982 to 2022\n",
    "* [Monthly Mean Temperature](https://data.gov.sg/dataset/surface-air-temperature-mean-daily-minimum)  : Temperature (monthly mean) from 1982-2022\n",
    "* [Number of Dengue Cases](dengue_cases.csv)  : Number of Dengue and Dengue Haemorrhagic Fever (DHF) in Singapore (by week) from 2014 - 2018"
   ]
  },
  {
   "cell_type": "markdown",
   "metadata": {},
   "source": [
    "### Problem Statement"
   ]
  },
  {
   "cell_type": "markdown",
   "metadata": {},
   "source": [
    "High incidences of dengue fever is a persistent issue in Singapore despite measures taken by the government to curb it. For example, an increase in rainfall could lead to an increase in the population of mosquitoes, which in turn leads to higher incidences of dengue fever. \n",
    "\n",
    "With the implementation of Project Wolbachia, the drop in the number of dengue cases has been observed. However, the release of Wolbachia mosquitoes are currently carried out on a weekly basis, which could be resource intensive and have a negative ecological impact.\n",
    "\n",
    "As mosquito activity is highly influenced by weather conditions, this project aims to analyse trends in Singapore weather and the number of dengue cases between 2014 to 2018. This analysis can be used to help NEA plan optimal time periods for the release of the male Wolbachia-Aedes mosquitoes into the environment to enhance effectiveness of Project Wolbachia. This can in turn curb dengue transmission to decrease the number of dengue cases."
   ]
  },
  {
   "cell_type": "markdown",
   "metadata": {},
   "source": [
    "### Summary of Findings from Research and Articles"
   ]
  },
  {
   "cell_type": "markdown",
   "metadata": {},
   "source": [
    "[Article 1: Singapore’s 5 decades of dengue prevention and control—Implications for global dengue control](\"https://journals.plos.org/plosntds/article?id=10.1371/journal.pntd.0011400#sec003\")\n",
    "\n",
    "Source: Journal Article\n",
    "\n",
    "Findings:\n",
    "* The optimal temperature for the survival of Aedes aegypti is approximately 27.5 degrees Celsius.\n",
    "* Having a temperature of between 25 and 35 degrees Celsius will shorten the life cycle of the mosquito."
   ]
  },
  {
   "cell_type": "markdown",
   "metadata": {},
   "source": [
    "[Article 2: Project Wolbachia: 300 million mosquitoes released but not a silver bullet to deal with dengue, says NEA](\"https://www.channelnewsasia.com/singapore/project-wolbachia-mosquito-dengue-nea-facility-3773176\") \n",
    "\n",
    "Source: Channel News Asia\n",
    "\n",
    "Findings:\n",
    "* The considerations and challenges in scaling up Project Wolbachia into an islandwide implementation include high costs of operations, manpower issues, ecological impact and overcoming public concern."
   ]
  },
  {
   "cell_type": "markdown",
   "metadata": {},
   "source": [
    "## Coding Challenges\n",
    "\n",
    "1. Manually calculate mean:\n",
    "\n",
    "    Write a function that takes in values and returns the mean of the values. Create a list of numbers that you test on your function to check to make sure your function works!\n",
    "    \n",
    "    *Note*: Do not use any mean methods built-in to any Python libraries to do this! This should be done without importing any additional libraries."
   ]
  },
  {
   "cell_type": "code",
   "execution_count": 1,
   "metadata": {},
   "outputs": [
    {
     "data": {
      "text/plain": [
       "5.0"
      ]
     },
     "execution_count": 1,
     "metadata": {},
     "output_type": "execute_result"
    }
   ],
   "source": [
    "# Code:\n",
    "\n",
    "def mean_values (num_list):\n",
    "    sum = 0\n",
    "    for n in num_list:\n",
    "        sum = sum + n               #at every iteration, we add n to the sum until we add values in the whole list\n",
    "        n+=1\n",
    "    ave = sum / len(num_list)       #to find average we take sum / length of the list\n",
    "    return ave                      #return the value of average\n",
    "\n",
    "mean_values([1,2,3,4,5,6,7,8,9])\n"
   ]
  },
  {
   "cell_type": "markdown",
   "metadata": {},
   "source": [
    "2. Manually calculate standard deviation:\n",
    "\n",
    "    The formula for standard deviation is below:\n",
    "\n",
    "    $$\\sigma = \\sqrt{\\frac{1}{n}\\sum_{i=1}^n(x_i - \\mu)^2}$$\n",
    "\n",
    "    Where $x_i$ represents each value in the dataset, $\\mu$ represents the mean of all values in the dataset and $n$ represents the number of values in the dataset.\n",
    "\n",
    "    Write a function that takes in values and returns the standard deviation of the values using the formula above. Hint: use the function you wrote above to calculate the mean! Use the list of numbers you created above to test on your function.\n",
    "    \n",
    "    *Note*: Do not use any standard deviation methods built-in to any Python libraries to do this! This should be done without importing any additional libraries."
   ]
  },
  {
   "cell_type": "code",
   "execution_count": 2,
   "metadata": {},
   "outputs": [
    {
     "data": {
      "text/plain": [
       "2.581988897471611"
      ]
     },
     "execution_count": 2,
     "metadata": {},
     "output_type": "execute_result"
    }
   ],
   "source": [
    "# Code:\n",
    "def std_dev (value_list):\n",
    "    total = 0\n",
    "    #squared = 0\n",
    "    for i in value_list:\n",
    "        squared = (i - mean_values(value_list)) ** 2\n",
    "        total = total + squared\n",
    "    return (( total / len(value_list)) ** 0.5)\n",
    "\n",
    "std_dev([1,2,3,4,5,6,7,8,9])\n",
    "\n"
   ]
  },
  {
   "cell_type": "markdown",
   "metadata": {},
   "source": [
    "--- \n",
    "# Part 2\n",
    "\n",
    "Part 2 requires knowledge of Pandas, EDA, data cleaning, and data visualization.\n",
    "\n",
    "---"
   ]
  },
  {
   "cell_type": "markdown",
   "metadata": {},
   "source": [
    "*All libraries used should be added here*"
   ]
  },
  {
   "cell_type": "code",
   "execution_count": 3,
   "metadata": {},
   "outputs": [],
   "source": [
    "# Importing NumPy and Pandas.\n",
    "import numpy as np\n",
    "import pandas as pd\n",
    "\n",
    "import matplotlib.pyplot as plt\n",
    "\n",
    "# Import Seaborn.\n",
    "import seaborn as sns"
   ]
  },
  {
   "cell_type": "markdown",
   "metadata": {},
   "source": [
    "## Data Import and Cleaning\n",
    "---"
   ]
  },
  {
   "cell_type": "markdown",
   "metadata": {},
   "source": [
    "### Data Import & Cleaning\n",
    "\n",
    "Import all the datasets that you selected for this project and go through the following steps at a minimum. You are welcome to do further cleaning as you feel necessary. Make sure to comment your code to showcase the intent behind the data processing step.\n",
    "1. Display the data: print the first 5 rows of each dataframe to your Jupyter notebook.\n",
    "2. Check for missing values and datatype.\n",
    "3. Check for any obvious issues with the observations.\n",
    "4. Fix any errors you identified in steps 2-3.\n",
    "6. Fix any incorrect data types found in step 5.\n",
    "    - Fix any individual values preventing other columns from being the appropriate type.\n",
    "    - If the month column data is better analyzed as month and year, create new columns for the same\n",
    "7. Rename Columns.\n",
    "    - Column names should be all lowercase.\n",
    "    - Column names should not contain spaces (underscores will suffice--this allows for using the `df.column_name` method to access columns in addition to `df['column_name']`).\n",
    "    - Column names should be unique and informative.\n",
    "8. Drop unnecessary rows (if needed).\n",
    "9. Merge dataframes that can be merged.\n",
    "    - Since different climate metrics are in month format, you can merge them into one single dataframe for easier analysis\n",
    "10. Perform any additional cleaning that you feel is necessary.\n",
    "11. Save your cleaned and merged dataframes as csv files."
   ]
  },
  {
   "cell_type": "code",
   "execution_count": 4,
   "metadata": {},
   "outputs": [],
   "source": [
    "# Code: display the data\n",
    "rainy_days = pd.read_csv('../data/rainfall-monthly-number-of-rain-days.csv')\n",
    "total_rainfall = pd.read_csv('../data/rainfall-monthly-total.csv')\n",
    "humidity = pd.read_csv('../data/RelativeHumidityMonthlyMean.csv')\n",
    "temperature = pd.read_csv('../data/SurfaceAirTemperatureMonthlyMean.csv')\n",
    "dengue_cases = pd.read_csv('../data/dengue_cases.csv')\n"
   ]
  },
  {
   "cell_type": "markdown",
   "metadata": {},
   "source": [
    "#### Rainy Days Data Set\n",
    "Conclusions made:\n",
    "* no null values found\n",
    "* total row count = 488\n",
    "* columns >> month, no_of_rainy_days"
   ]
  },
  {
   "cell_type": "code",
   "execution_count": 5,
   "metadata": {},
   "outputs": [
    {
     "data": {
      "text/html": [
       "<div>\n",
       "<style scoped>\n",
       "    .dataframe tbody tr th:only-of-type {\n",
       "        vertical-align: middle;\n",
       "    }\n",
       "\n",
       "    .dataframe tbody tr th {\n",
       "        vertical-align: top;\n",
       "    }\n",
       "\n",
       "    .dataframe thead th {\n",
       "        text-align: right;\n",
       "    }\n",
       "</style>\n",
       "<table border=\"1\" class=\"dataframe\">\n",
       "  <thead>\n",
       "    <tr style=\"text-align: right;\">\n",
       "      <th></th>\n",
       "      <th>month</th>\n",
       "      <th>no_of_rainy_days</th>\n",
       "    </tr>\n",
       "  </thead>\n",
       "  <tbody>\n",
       "    <tr>\n",
       "      <th>0</th>\n",
       "      <td>1982-01</td>\n",
       "      <td>10</td>\n",
       "    </tr>\n",
       "    <tr>\n",
       "      <th>1</th>\n",
       "      <td>1982-02</td>\n",
       "      <td>5</td>\n",
       "    </tr>\n",
       "    <tr>\n",
       "      <th>2</th>\n",
       "      <td>1982-03</td>\n",
       "      <td>11</td>\n",
       "    </tr>\n",
       "    <tr>\n",
       "      <th>3</th>\n",
       "      <td>1982-04</td>\n",
       "      <td>14</td>\n",
       "    </tr>\n",
       "    <tr>\n",
       "      <th>4</th>\n",
       "      <td>1982-05</td>\n",
       "      <td>10</td>\n",
       "    </tr>\n",
       "  </tbody>\n",
       "</table>\n",
       "</div>"
      ],
      "text/plain": [
       "     month  no_of_rainy_days\n",
       "0  1982-01                10\n",
       "1  1982-02                 5\n",
       "2  1982-03                11\n",
       "3  1982-04                14\n",
       "4  1982-05                10"
      ]
     },
     "execution_count": 5,
     "metadata": {},
     "output_type": "execute_result"
    }
   ],
   "source": [
    "#display the first 5 rows of the data frame\n",
    "rainy_days.head()"
   ]
  },
  {
   "cell_type": "code",
   "execution_count": 6,
   "metadata": {},
   "outputs": [
    {
     "data": {
      "text/html": [
       "<div>\n",
       "<style scoped>\n",
       "    .dataframe tbody tr th:only-of-type {\n",
       "        vertical-align: middle;\n",
       "    }\n",
       "\n",
       "    .dataframe tbody tr th {\n",
       "        vertical-align: top;\n",
       "    }\n",
       "\n",
       "    .dataframe thead th {\n",
       "        text-align: right;\n",
       "    }\n",
       "</style>\n",
       "<table border=\"1\" class=\"dataframe\">\n",
       "  <thead>\n",
       "    <tr style=\"text-align: right;\">\n",
       "      <th></th>\n",
       "      <th>month</th>\n",
       "      <th>no_of_rainy_days</th>\n",
       "    </tr>\n",
       "  </thead>\n",
       "  <tbody>\n",
       "    <tr>\n",
       "      <th>483</th>\n",
       "      <td>2022-04</td>\n",
       "      <td>18</td>\n",
       "    </tr>\n",
       "    <tr>\n",
       "      <th>484</th>\n",
       "      <td>2022-05</td>\n",
       "      <td>12</td>\n",
       "    </tr>\n",
       "    <tr>\n",
       "      <th>485</th>\n",
       "      <td>2022-06</td>\n",
       "      <td>17</td>\n",
       "    </tr>\n",
       "    <tr>\n",
       "      <th>486</th>\n",
       "      <td>2022-07</td>\n",
       "      <td>16</td>\n",
       "    </tr>\n",
       "    <tr>\n",
       "      <th>487</th>\n",
       "      <td>2022-08</td>\n",
       "      <td>15</td>\n",
       "    </tr>\n",
       "  </tbody>\n",
       "</table>\n",
       "</div>"
      ],
      "text/plain": [
       "       month  no_of_rainy_days\n",
       "483  2022-04                18\n",
       "484  2022-05                12\n",
       "485  2022-06                17\n",
       "486  2022-07                16\n",
       "487  2022-08                15"
      ]
     },
     "execution_count": 6,
     "metadata": {},
     "output_type": "execute_result"
    }
   ],
   "source": [
    "#display the last 5 rows of the data frame\n",
    "rainy_days.tail()"
   ]
  },
  {
   "cell_type": "code",
   "execution_count": 7,
   "metadata": {},
   "outputs": [
    {
     "data": {
      "text/plain": [
       "month               0\n",
       "no_of_rainy_days    0\n",
       "dtype: int64"
      ]
     },
     "execution_count": 7,
     "metadata": {},
     "output_type": "execute_result"
    }
   ],
   "source": [
    "# check for null values in the dataset\n",
    "rainy_days.isna().sum()"
   ]
  },
  {
   "cell_type": "code",
   "execution_count": 8,
   "metadata": {},
   "outputs": [
    {
     "name": "stdout",
     "output_type": "stream",
     "text": [
      "<class 'pandas.core.frame.DataFrame'>\n",
      "RangeIndex: 488 entries, 0 to 487\n",
      "Data columns (total 2 columns):\n",
      " #   Column            Non-Null Count  Dtype \n",
      "---  ------            --------------  ----- \n",
      " 0   month             488 non-null    object\n",
      " 1   no_of_rainy_days  488 non-null    int64 \n",
      "dtypes: int64(1), object(1)\n",
      "memory usage: 7.8+ KB\n"
     ]
    }
   ],
   "source": [
    "#check datatype of each column\n",
    "rainy_days.info()"
   ]
  },
  {
   "cell_type": "code",
   "execution_count": 9,
   "metadata": {},
   "outputs": [
    {
     "data": {
      "text/html": [
       "<div>\n",
       "<style scoped>\n",
       "    .dataframe tbody tr th:only-of-type {\n",
       "        vertical-align: middle;\n",
       "    }\n",
       "\n",
       "    .dataframe tbody tr th {\n",
       "        vertical-align: top;\n",
       "    }\n",
       "\n",
       "    .dataframe thead th {\n",
       "        text-align: right;\n",
       "    }\n",
       "</style>\n",
       "<table border=\"1\" class=\"dataframe\">\n",
       "  <thead>\n",
       "    <tr style=\"text-align: right;\">\n",
       "      <th></th>\n",
       "      <th>no_of_rainy_days</th>\n",
       "    </tr>\n",
       "  </thead>\n",
       "  <tbody>\n",
       "    <tr>\n",
       "      <th>count</th>\n",
       "      <td>488.000000</td>\n",
       "    </tr>\n",
       "    <tr>\n",
       "      <th>mean</th>\n",
       "      <td>14.061475</td>\n",
       "    </tr>\n",
       "    <tr>\n",
       "      <th>std</th>\n",
       "      <td>4.947394</td>\n",
       "    </tr>\n",
       "    <tr>\n",
       "      <th>min</th>\n",
       "      <td>1.000000</td>\n",
       "    </tr>\n",
       "    <tr>\n",
       "      <th>25%</th>\n",
       "      <td>11.000000</td>\n",
       "    </tr>\n",
       "    <tr>\n",
       "      <th>50%</th>\n",
       "      <td>14.000000</td>\n",
       "    </tr>\n",
       "    <tr>\n",
       "      <th>75%</th>\n",
       "      <td>18.000000</td>\n",
       "    </tr>\n",
       "    <tr>\n",
       "      <th>max</th>\n",
       "      <td>27.000000</td>\n",
       "    </tr>\n",
       "  </tbody>\n",
       "</table>\n",
       "</div>"
      ],
      "text/plain": [
       "       no_of_rainy_days\n",
       "count        488.000000\n",
       "mean          14.061475\n",
       "std            4.947394\n",
       "min            1.000000\n",
       "25%           11.000000\n",
       "50%           14.000000\n",
       "75%           18.000000\n",
       "max           27.000000"
      ]
     },
     "execution_count": 9,
     "metadata": {},
     "output_type": "execute_result"
    }
   ],
   "source": [
    "#display basic statistics for the data set\n",
    "rainy_days.describe()"
   ]
  },
  {
   "cell_type": "code",
   "execution_count": 10,
   "metadata": {},
   "outputs": [
    {
     "data": {
      "text/html": [
       "<div>\n",
       "<style scoped>\n",
       "    .dataframe tbody tr th:only-of-type {\n",
       "        vertical-align: middle;\n",
       "    }\n",
       "\n",
       "    .dataframe tbody tr th {\n",
       "        vertical-align: top;\n",
       "    }\n",
       "\n",
       "    .dataframe thead th {\n",
       "        text-align: right;\n",
       "    }\n",
       "</style>\n",
       "<table border=\"1\" class=\"dataframe\">\n",
       "  <thead>\n",
       "    <tr style=\"text-align: right;\">\n",
       "      <th></th>\n",
       "      <th>month</th>\n",
       "      <th>no_of_rainy_days</th>\n",
       "    </tr>\n",
       "  </thead>\n",
       "  <tbody>\n",
       "    <tr>\n",
       "      <th>384</th>\n",
       "      <td>2014-01</td>\n",
       "      <td>5</td>\n",
       "    </tr>\n",
       "    <tr>\n",
       "      <th>385</th>\n",
       "      <td>2014-02</td>\n",
       "      <td>1</td>\n",
       "    </tr>\n",
       "    <tr>\n",
       "      <th>386</th>\n",
       "      <td>2014-03</td>\n",
       "      <td>6</td>\n",
       "    </tr>\n",
       "    <tr>\n",
       "      <th>387</th>\n",
       "      <td>2014-04</td>\n",
       "      <td>17</td>\n",
       "    </tr>\n",
       "    <tr>\n",
       "      <th>388</th>\n",
       "      <td>2014-05</td>\n",
       "      <td>18</td>\n",
       "    </tr>\n",
       "    <tr>\n",
       "      <th>389</th>\n",
       "      <td>2014-06</td>\n",
       "      <td>11</td>\n",
       "    </tr>\n",
       "    <tr>\n",
       "      <th>390</th>\n",
       "      <td>2014-07</td>\n",
       "      <td>15</td>\n",
       "    </tr>\n",
       "    <tr>\n",
       "      <th>391</th>\n",
       "      <td>2014-08</td>\n",
       "      <td>20</td>\n",
       "    </tr>\n",
       "    <tr>\n",
       "      <th>392</th>\n",
       "      <td>2014-09</td>\n",
       "      <td>9</td>\n",
       "    </tr>\n",
       "    <tr>\n",
       "      <th>393</th>\n",
       "      <td>2014-10</td>\n",
       "      <td>10</td>\n",
       "    </tr>\n",
       "    <tr>\n",
       "      <th>394</th>\n",
       "      <td>2014-11</td>\n",
       "      <td>23</td>\n",
       "    </tr>\n",
       "    <tr>\n",
       "      <th>395</th>\n",
       "      <td>2014-12</td>\n",
       "      <td>17</td>\n",
       "    </tr>\n",
       "  </tbody>\n",
       "</table>\n",
       "</div>"
      ],
      "text/plain": [
       "       month  no_of_rainy_days\n",
       "384  2014-01                 5\n",
       "385  2014-02                 1\n",
       "386  2014-03                 6\n",
       "387  2014-04                17\n",
       "388  2014-05                18\n",
       "389  2014-06                11\n",
       "390  2014-07                15\n",
       "391  2014-08                20\n",
       "392  2014-09                 9\n",
       "393  2014-10                10\n",
       "394  2014-11                23\n",
       "395  2014-12                17"
      ]
     },
     "execution_count": 10,
     "metadata": {},
     "output_type": "execute_result"
    }
   ],
   "source": [
    "#locating all rows for 2014-2018 data\n",
    "rainy_days.loc[rainy_days['month'].str.contains(\"2014\")]"
   ]
  },
  {
   "cell_type": "code",
   "execution_count": 11,
   "metadata": {},
   "outputs": [
    {
     "data": {
      "text/html": [
       "<div>\n",
       "<style scoped>\n",
       "    .dataframe tbody tr th:only-of-type {\n",
       "        vertical-align: middle;\n",
       "    }\n",
       "\n",
       "    .dataframe tbody tr th {\n",
       "        vertical-align: top;\n",
       "    }\n",
       "\n",
       "    .dataframe thead th {\n",
       "        text-align: right;\n",
       "    }\n",
       "</style>\n",
       "<table border=\"1\" class=\"dataframe\">\n",
       "  <thead>\n",
       "    <tr style=\"text-align: right;\">\n",
       "      <th></th>\n",
       "      <th>month</th>\n",
       "      <th>no_of_rainy_days</th>\n",
       "    </tr>\n",
       "  </thead>\n",
       "  <tbody>\n",
       "    <tr>\n",
       "      <th>432</th>\n",
       "      <td>2018-01</td>\n",
       "      <td>25</td>\n",
       "    </tr>\n",
       "    <tr>\n",
       "      <th>433</th>\n",
       "      <td>2018-02</td>\n",
       "      <td>5</td>\n",
       "    </tr>\n",
       "    <tr>\n",
       "      <th>434</th>\n",
       "      <td>2018-03</td>\n",
       "      <td>10</td>\n",
       "    </tr>\n",
       "    <tr>\n",
       "      <th>435</th>\n",
       "      <td>2018-04</td>\n",
       "      <td>14</td>\n",
       "    </tr>\n",
       "    <tr>\n",
       "      <th>436</th>\n",
       "      <td>2018-05</td>\n",
       "      <td>19</td>\n",
       "    </tr>\n",
       "    <tr>\n",
       "      <th>437</th>\n",
       "      <td>2018-06</td>\n",
       "      <td>17</td>\n",
       "    </tr>\n",
       "    <tr>\n",
       "      <th>438</th>\n",
       "      <td>2018-07</td>\n",
       "      <td>10</td>\n",
       "    </tr>\n",
       "    <tr>\n",
       "      <th>439</th>\n",
       "      <td>2018-08</td>\n",
       "      <td>11</td>\n",
       "    </tr>\n",
       "    <tr>\n",
       "      <th>440</th>\n",
       "      <td>2018-09</td>\n",
       "      <td>13</td>\n",
       "    </tr>\n",
       "    <tr>\n",
       "      <th>441</th>\n",
       "      <td>2018-10</td>\n",
       "      <td>18</td>\n",
       "    </tr>\n",
       "    <tr>\n",
       "      <th>442</th>\n",
       "      <td>2018-11</td>\n",
       "      <td>27</td>\n",
       "    </tr>\n",
       "    <tr>\n",
       "      <th>443</th>\n",
       "      <td>2018-12</td>\n",
       "      <td>19</td>\n",
       "    </tr>\n",
       "  </tbody>\n",
       "</table>\n",
       "</div>"
      ],
      "text/plain": [
       "       month  no_of_rainy_days\n",
       "432  2018-01                25\n",
       "433  2018-02                 5\n",
       "434  2018-03                10\n",
       "435  2018-04                14\n",
       "436  2018-05                19\n",
       "437  2018-06                17\n",
       "438  2018-07                10\n",
       "439  2018-08                11\n",
       "440  2018-09                13\n",
       "441  2018-10                18\n",
       "442  2018-11                27\n",
       "443  2018-12                19"
      ]
     },
     "execution_count": 11,
     "metadata": {},
     "output_type": "execute_result"
    }
   ],
   "source": [
    "#locating all rows for 2014-2018 data\n",
    "rainy_days.loc[rainy_days['month'].str.contains(\"2018\")]        "
   ]
  },
  {
   "cell_type": "markdown",
   "metadata": {},
   "source": [
    "#### Total Rainfall Data Set\n",
    "Conclusions made:\n",
    "* no null values found\n",
    "* total row count = 488\n",
    "* columns >> month, total_rainfall (in mm)"
   ]
  },
  {
   "cell_type": "code",
   "execution_count": 12,
   "metadata": {},
   "outputs": [
    {
     "data": {
      "text/html": [
       "<div>\n",
       "<style scoped>\n",
       "    .dataframe tbody tr th:only-of-type {\n",
       "        vertical-align: middle;\n",
       "    }\n",
       "\n",
       "    .dataframe tbody tr th {\n",
       "        vertical-align: top;\n",
       "    }\n",
       "\n",
       "    .dataframe thead th {\n",
       "        text-align: right;\n",
       "    }\n",
       "</style>\n",
       "<table border=\"1\" class=\"dataframe\">\n",
       "  <thead>\n",
       "    <tr style=\"text-align: right;\">\n",
       "      <th></th>\n",
       "      <th>month</th>\n",
       "      <th>total_rainfall</th>\n",
       "    </tr>\n",
       "  </thead>\n",
       "  <tbody>\n",
       "    <tr>\n",
       "      <th>0</th>\n",
       "      <td>1982-01</td>\n",
       "      <td>107.1</td>\n",
       "    </tr>\n",
       "    <tr>\n",
       "      <th>1</th>\n",
       "      <td>1982-02</td>\n",
       "      <td>27.8</td>\n",
       "    </tr>\n",
       "    <tr>\n",
       "      <th>2</th>\n",
       "      <td>1982-03</td>\n",
       "      <td>160.8</td>\n",
       "    </tr>\n",
       "    <tr>\n",
       "      <th>3</th>\n",
       "      <td>1982-04</td>\n",
       "      <td>157.0</td>\n",
       "    </tr>\n",
       "    <tr>\n",
       "      <th>4</th>\n",
       "      <td>1982-05</td>\n",
       "      <td>102.2</td>\n",
       "    </tr>\n",
       "  </tbody>\n",
       "</table>\n",
       "</div>"
      ],
      "text/plain": [
       "     month  total_rainfall\n",
       "0  1982-01           107.1\n",
       "1  1982-02            27.8\n",
       "2  1982-03           160.8\n",
       "3  1982-04           157.0\n",
       "4  1982-05           102.2"
      ]
     },
     "execution_count": 12,
     "metadata": {},
     "output_type": "execute_result"
    }
   ],
   "source": [
    "#display the first 5 rows of the data frame\n",
    "total_rainfall.head()"
   ]
  },
  {
   "cell_type": "code",
   "execution_count": 13,
   "metadata": {},
   "outputs": [
    {
     "data": {
      "text/plain": [
       "month             0\n",
       "total_rainfall    0\n",
       "dtype: int64"
      ]
     },
     "execution_count": 13,
     "metadata": {},
     "output_type": "execute_result"
    }
   ],
   "source": [
    "# check for null values in the dataset\n",
    "total_rainfall.isna().sum()"
   ]
  },
  {
   "cell_type": "code",
   "execution_count": 14,
   "metadata": {},
   "outputs": [
    {
     "name": "stdout",
     "output_type": "stream",
     "text": [
      "<class 'pandas.core.frame.DataFrame'>\n",
      "RangeIndex: 488 entries, 0 to 487\n",
      "Data columns (total 2 columns):\n",
      " #   Column          Non-Null Count  Dtype  \n",
      "---  ------          --------------  -----  \n",
      " 0   month           488 non-null    object \n",
      " 1   total_rainfall  488 non-null    float64\n",
      "dtypes: float64(1), object(1)\n",
      "memory usage: 7.8+ KB\n"
     ]
    }
   ],
   "source": [
    "#check datatype of each column\n",
    "total_rainfall.info()"
   ]
  },
  {
   "cell_type": "code",
   "execution_count": 15,
   "metadata": {},
   "outputs": [
    {
     "data": {
      "text/html": [
       "<div>\n",
       "<style scoped>\n",
       "    .dataframe tbody tr th:only-of-type {\n",
       "        vertical-align: middle;\n",
       "    }\n",
       "\n",
       "    .dataframe tbody tr th {\n",
       "        vertical-align: top;\n",
       "    }\n",
       "\n",
       "    .dataframe thead th {\n",
       "        text-align: right;\n",
       "    }\n",
       "</style>\n",
       "<table border=\"1\" class=\"dataframe\">\n",
       "  <thead>\n",
       "    <tr style=\"text-align: right;\">\n",
       "      <th></th>\n",
       "      <th>total_rainfall</th>\n",
       "    </tr>\n",
       "  </thead>\n",
       "  <tbody>\n",
       "    <tr>\n",
       "      <th>count</th>\n",
       "      <td>488.000000</td>\n",
       "    </tr>\n",
       "    <tr>\n",
       "      <th>mean</th>\n",
       "      <td>177.163730</td>\n",
       "    </tr>\n",
       "    <tr>\n",
       "      <th>std</th>\n",
       "      <td>113.916029</td>\n",
       "    </tr>\n",
       "    <tr>\n",
       "      <th>min</th>\n",
       "      <td>0.200000</td>\n",
       "    </tr>\n",
       "    <tr>\n",
       "      <th>25%</th>\n",
       "      <td>93.850000</td>\n",
       "    </tr>\n",
       "    <tr>\n",
       "      <th>50%</th>\n",
       "      <td>159.450000</td>\n",
       "    </tr>\n",
       "    <tr>\n",
       "      <th>75%</th>\n",
       "      <td>238.075000</td>\n",
       "    </tr>\n",
       "    <tr>\n",
       "      <th>max</th>\n",
       "      <td>765.900000</td>\n",
       "    </tr>\n",
       "  </tbody>\n",
       "</table>\n",
       "</div>"
      ],
      "text/plain": [
       "       total_rainfall\n",
       "count      488.000000\n",
       "mean       177.163730\n",
       "std        113.916029\n",
       "min          0.200000\n",
       "25%         93.850000\n",
       "50%        159.450000\n",
       "75%        238.075000\n",
       "max        765.900000"
      ]
     },
     "execution_count": 15,
     "metadata": {},
     "output_type": "execute_result"
    }
   ],
   "source": [
    "#display basic statistics for the data set\n",
    "total_rainfall.describe()"
   ]
  },
  {
   "cell_type": "markdown",
   "metadata": {},
   "source": [
    "#### Humidity Data Set\n",
    "Conclusions made:\n",
    "* no null values found\n",
    "* total row count = 488 (original 501, removed last few to match month data in other climate sets)\n",
    "* columns >> month, mean_rh (unit %)"
   ]
  },
  {
   "cell_type": "code",
   "execution_count": 16,
   "metadata": {},
   "outputs": [
    {
     "data": {
      "text/html": [
       "<div>\n",
       "<style scoped>\n",
       "    .dataframe tbody tr th:only-of-type {\n",
       "        vertical-align: middle;\n",
       "    }\n",
       "\n",
       "    .dataframe tbody tr th {\n",
       "        vertical-align: top;\n",
       "    }\n",
       "\n",
       "    .dataframe thead th {\n",
       "        text-align: right;\n",
       "    }\n",
       "</style>\n",
       "<table border=\"1\" class=\"dataframe\">\n",
       "  <thead>\n",
       "    <tr style=\"text-align: right;\">\n",
       "      <th></th>\n",
       "      <th>month</th>\n",
       "      <th>mean_rh</th>\n",
       "    </tr>\n",
       "  </thead>\n",
       "  <tbody>\n",
       "    <tr>\n",
       "      <th>0</th>\n",
       "      <td>1982-01</td>\n",
       "      <td>81.2</td>\n",
       "    </tr>\n",
       "    <tr>\n",
       "      <th>1</th>\n",
       "      <td>1982-02</td>\n",
       "      <td>79.5</td>\n",
       "    </tr>\n",
       "    <tr>\n",
       "      <th>2</th>\n",
       "      <td>1982-03</td>\n",
       "      <td>82.3</td>\n",
       "    </tr>\n",
       "    <tr>\n",
       "      <th>3</th>\n",
       "      <td>1982-04</td>\n",
       "      <td>85.9</td>\n",
       "    </tr>\n",
       "    <tr>\n",
       "      <th>4</th>\n",
       "      <td>1982-05</td>\n",
       "      <td>83.2</td>\n",
       "    </tr>\n",
       "  </tbody>\n",
       "</table>\n",
       "</div>"
      ],
      "text/plain": [
       "     month  mean_rh\n",
       "0  1982-01     81.2\n",
       "1  1982-02     79.5\n",
       "2  1982-03     82.3\n",
       "3  1982-04     85.9\n",
       "4  1982-05     83.2"
      ]
     },
     "execution_count": 16,
     "metadata": {},
     "output_type": "execute_result"
    }
   ],
   "source": [
    "#display the first 5 rows of the data frame\n",
    "humidity.head()"
   ]
  },
  {
   "cell_type": "code",
   "execution_count": 17,
   "metadata": {},
   "outputs": [
    {
     "data": {
      "text/html": [
       "<div>\n",
       "<style scoped>\n",
       "    .dataframe tbody tr th:only-of-type {\n",
       "        vertical-align: middle;\n",
       "    }\n",
       "\n",
       "    .dataframe tbody tr th {\n",
       "        vertical-align: top;\n",
       "    }\n",
       "\n",
       "    .dataframe thead th {\n",
       "        text-align: right;\n",
       "    }\n",
       "</style>\n",
       "<table border=\"1\" class=\"dataframe\">\n",
       "  <thead>\n",
       "    <tr style=\"text-align: right;\">\n",
       "      <th></th>\n",
       "      <th>month</th>\n",
       "      <th>mean_rh</th>\n",
       "    </tr>\n",
       "  </thead>\n",
       "  <tbody>\n",
       "    <tr>\n",
       "      <th>481</th>\n",
       "      <td>2022-02</td>\n",
       "      <td>80.3</td>\n",
       "    </tr>\n",
       "    <tr>\n",
       "      <th>482</th>\n",
       "      <td>2022-03</td>\n",
       "      <td>79.2</td>\n",
       "    </tr>\n",
       "    <tr>\n",
       "      <th>483</th>\n",
       "      <td>2022-04</td>\n",
       "      <td>80.0</td>\n",
       "    </tr>\n",
       "    <tr>\n",
       "      <th>484</th>\n",
       "      <td>2022-05</td>\n",
       "      <td>76.5</td>\n",
       "    </tr>\n",
       "    <tr>\n",
       "      <th>485</th>\n",
       "      <td>2022-06</td>\n",
       "      <td>79.1</td>\n",
       "    </tr>\n",
       "    <tr>\n",
       "      <th>486</th>\n",
       "      <td>2022-07</td>\n",
       "      <td>76.8</td>\n",
       "    </tr>\n",
       "    <tr>\n",
       "      <th>487</th>\n",
       "      <td>2022-08</td>\n",
       "      <td>77.4</td>\n",
       "    </tr>\n",
       "    <tr>\n",
       "      <th>488</th>\n",
       "      <td>2022-09</td>\n",
       "      <td>76.9</td>\n",
       "    </tr>\n",
       "    <tr>\n",
       "      <th>489</th>\n",
       "      <td>2022-10</td>\n",
       "      <td>78.7</td>\n",
       "    </tr>\n",
       "    <tr>\n",
       "      <th>490</th>\n",
       "      <td>2022-11</td>\n",
       "      <td>79.9</td>\n",
       "    </tr>\n",
       "    <tr>\n",
       "      <th>491</th>\n",
       "      <td>2022-12</td>\n",
       "      <td>81.2</td>\n",
       "    </tr>\n",
       "    <tr>\n",
       "      <th>492</th>\n",
       "      <td>2023-01</td>\n",
       "      <td>81.9</td>\n",
       "    </tr>\n",
       "    <tr>\n",
       "      <th>493</th>\n",
       "      <td>2023-02</td>\n",
       "      <td>79.4</td>\n",
       "    </tr>\n",
       "    <tr>\n",
       "      <th>494</th>\n",
       "      <td>2023-03</td>\n",
       "      <td>79.2</td>\n",
       "    </tr>\n",
       "    <tr>\n",
       "      <th>495</th>\n",
       "      <td>2023-04</td>\n",
       "      <td>77.4</td>\n",
       "    </tr>\n",
       "    <tr>\n",
       "      <th>496</th>\n",
       "      <td>2023-05</td>\n",
       "      <td>73.7</td>\n",
       "    </tr>\n",
       "    <tr>\n",
       "      <th>497</th>\n",
       "      <td>2023-06</td>\n",
       "      <td>75.1</td>\n",
       "    </tr>\n",
       "    <tr>\n",
       "      <th>498</th>\n",
       "      <td>2023-07</td>\n",
       "      <td>75.1</td>\n",
       "    </tr>\n",
       "    <tr>\n",
       "      <th>499</th>\n",
       "      <td>2023-08</td>\n",
       "      <td>74.6</td>\n",
       "    </tr>\n",
       "    <tr>\n",
       "      <th>500</th>\n",
       "      <td>2023-09</td>\n",
       "      <td>73.6</td>\n",
       "    </tr>\n",
       "  </tbody>\n",
       "</table>\n",
       "</div>"
      ],
      "text/plain": [
       "       month  mean_rh\n",
       "481  2022-02     80.3\n",
       "482  2022-03     79.2\n",
       "483  2022-04     80.0\n",
       "484  2022-05     76.5\n",
       "485  2022-06     79.1\n",
       "486  2022-07     76.8\n",
       "487  2022-08     77.4\n",
       "488  2022-09     76.9\n",
       "489  2022-10     78.7\n",
       "490  2022-11     79.9\n",
       "491  2022-12     81.2\n",
       "492  2023-01     81.9\n",
       "493  2023-02     79.4\n",
       "494  2023-03     79.2\n",
       "495  2023-04     77.4\n",
       "496  2023-05     73.7\n",
       "497  2023-06     75.1\n",
       "498  2023-07     75.1\n",
       "499  2023-08     74.6\n",
       "500  2023-09     73.6"
      ]
     },
     "execution_count": 17,
     "metadata": {},
     "output_type": "execute_result"
    }
   ],
   "source": [
    "#display the last 20 rows of the data frame to view index extra rows for eventual removal\n",
    "humidity.tail(20)"
   ]
  },
  {
   "cell_type": "code",
   "execution_count": 18,
   "metadata": {},
   "outputs": [],
   "source": [
    "#remove indexes 488-500 to match number of rows in the other climate datasets\n",
    "humidity.drop(index=[488,489,490,491,492,493,494,495,496,497,498,499,500], inplace=True)"
   ]
  },
  {
   "cell_type": "code",
   "execution_count": 19,
   "metadata": {},
   "outputs": [
    {
     "data": {
      "text/html": [
       "<div>\n",
       "<style scoped>\n",
       "    .dataframe tbody tr th:only-of-type {\n",
       "        vertical-align: middle;\n",
       "    }\n",
       "\n",
       "    .dataframe tbody tr th {\n",
       "        vertical-align: top;\n",
       "    }\n",
       "\n",
       "    .dataframe thead th {\n",
       "        text-align: right;\n",
       "    }\n",
       "</style>\n",
       "<table border=\"1\" class=\"dataframe\">\n",
       "  <thead>\n",
       "    <tr style=\"text-align: right;\">\n",
       "      <th></th>\n",
       "      <th>month</th>\n",
       "      <th>mean_rh</th>\n",
       "    </tr>\n",
       "  </thead>\n",
       "  <tbody>\n",
       "    <tr>\n",
       "      <th>483</th>\n",
       "      <td>2022-04</td>\n",
       "      <td>80.0</td>\n",
       "    </tr>\n",
       "    <tr>\n",
       "      <th>484</th>\n",
       "      <td>2022-05</td>\n",
       "      <td>76.5</td>\n",
       "    </tr>\n",
       "    <tr>\n",
       "      <th>485</th>\n",
       "      <td>2022-06</td>\n",
       "      <td>79.1</td>\n",
       "    </tr>\n",
       "    <tr>\n",
       "      <th>486</th>\n",
       "      <td>2022-07</td>\n",
       "      <td>76.8</td>\n",
       "    </tr>\n",
       "    <tr>\n",
       "      <th>487</th>\n",
       "      <td>2022-08</td>\n",
       "      <td>77.4</td>\n",
       "    </tr>\n",
       "  </tbody>\n",
       "</table>\n",
       "</div>"
      ],
      "text/plain": [
       "       month  mean_rh\n",
       "483  2022-04     80.0\n",
       "484  2022-05     76.5\n",
       "485  2022-06     79.1\n",
       "486  2022-07     76.8\n",
       "487  2022-08     77.4"
      ]
     },
     "execution_count": 19,
     "metadata": {},
     "output_type": "execute_result"
    }
   ],
   "source": [
    "#display the last 5 rows of the data frame to confirm removal of additional rows\n",
    "humidity.tail()"
   ]
  },
  {
   "cell_type": "code",
   "execution_count": 20,
   "metadata": {},
   "outputs": [
    {
     "data": {
      "text/plain": [
       "month      0\n",
       "mean_rh    0\n",
       "dtype: int64"
      ]
     },
     "execution_count": 20,
     "metadata": {},
     "output_type": "execute_result"
    }
   ],
   "source": [
    "# check for null values in the dataset\n",
    "humidity.isna().sum()"
   ]
  },
  {
   "cell_type": "code",
   "execution_count": 21,
   "metadata": {},
   "outputs": [
    {
     "name": "stdout",
     "output_type": "stream",
     "text": [
      "<class 'pandas.core.frame.DataFrame'>\n",
      "RangeIndex: 488 entries, 0 to 487\n",
      "Data columns (total 2 columns):\n",
      " #   Column   Non-Null Count  Dtype  \n",
      "---  ------   --------------  -----  \n",
      " 0   month    488 non-null    object \n",
      " 1   mean_rh  488 non-null    float64\n",
      "dtypes: float64(1), object(1)\n",
      "memory usage: 7.8+ KB\n"
     ]
    }
   ],
   "source": [
    "#check datatype of each column\n",
    "humidity.info()"
   ]
  },
  {
   "cell_type": "code",
   "execution_count": 22,
   "metadata": {},
   "outputs": [
    {
     "data": {
      "text/html": [
       "<div>\n",
       "<style scoped>\n",
       "    .dataframe tbody tr th:only-of-type {\n",
       "        vertical-align: middle;\n",
       "    }\n",
       "\n",
       "    .dataframe tbody tr th {\n",
       "        vertical-align: top;\n",
       "    }\n",
       "\n",
       "    .dataframe thead th {\n",
       "        text-align: right;\n",
       "    }\n",
       "</style>\n",
       "<table border=\"1\" class=\"dataframe\">\n",
       "  <thead>\n",
       "    <tr style=\"text-align: right;\">\n",
       "      <th></th>\n",
       "      <th>mean_rh</th>\n",
       "    </tr>\n",
       "  </thead>\n",
       "  <tbody>\n",
       "    <tr>\n",
       "      <th>count</th>\n",
       "      <td>488.000000</td>\n",
       "    </tr>\n",
       "    <tr>\n",
       "      <th>mean</th>\n",
       "      <td>82.247541</td>\n",
       "    </tr>\n",
       "    <tr>\n",
       "      <th>std</th>\n",
       "      <td>3.413940</td>\n",
       "    </tr>\n",
       "    <tr>\n",
       "      <th>min</th>\n",
       "      <td>72.000000</td>\n",
       "    </tr>\n",
       "    <tr>\n",
       "      <th>25%</th>\n",
       "      <td>80.000000</td>\n",
       "    </tr>\n",
       "    <tr>\n",
       "      <th>50%</th>\n",
       "      <td>82.650000</td>\n",
       "    </tr>\n",
       "    <tr>\n",
       "      <th>75%</th>\n",
       "      <td>84.700000</td>\n",
       "    </tr>\n",
       "    <tr>\n",
       "      <th>max</th>\n",
       "      <td>90.700000</td>\n",
       "    </tr>\n",
       "  </tbody>\n",
       "</table>\n",
       "</div>"
      ],
      "text/plain": [
       "          mean_rh\n",
       "count  488.000000\n",
       "mean    82.247541\n",
       "std      3.413940\n",
       "min     72.000000\n",
       "25%     80.000000\n",
       "50%     82.650000\n",
       "75%     84.700000\n",
       "max     90.700000"
      ]
     },
     "execution_count": 22,
     "metadata": {},
     "output_type": "execute_result"
    }
   ],
   "source": [
    "#display basic statistics for the data set\n",
    "humidity.describe()"
   ]
  },
  {
   "cell_type": "markdown",
   "metadata": {},
   "source": [
    "#### Temperature Data Set\n",
    "Conclusions made:\n",
    "* no null values found\n",
    "* total row count = 488 (original 501, removed last few to match month data in other climate sets)\n",
    "* columns >> month, mean_temp (unit deg C)"
   ]
  },
  {
   "cell_type": "code",
   "execution_count": 23,
   "metadata": {},
   "outputs": [
    {
     "data": {
      "text/html": [
       "<div>\n",
       "<style scoped>\n",
       "    .dataframe tbody tr th:only-of-type {\n",
       "        vertical-align: middle;\n",
       "    }\n",
       "\n",
       "    .dataframe tbody tr th {\n",
       "        vertical-align: top;\n",
       "    }\n",
       "\n",
       "    .dataframe thead th {\n",
       "        text-align: right;\n",
       "    }\n",
       "</style>\n",
       "<table border=\"1\" class=\"dataframe\">\n",
       "  <thead>\n",
       "    <tr style=\"text-align: right;\">\n",
       "      <th></th>\n",
       "      <th>month</th>\n",
       "      <th>mean_temp</th>\n",
       "    </tr>\n",
       "  </thead>\n",
       "  <tbody>\n",
       "    <tr>\n",
       "      <th>0</th>\n",
       "      <td>1982-01</td>\n",
       "      <td>25.9</td>\n",
       "    </tr>\n",
       "    <tr>\n",
       "      <th>1</th>\n",
       "      <td>1982-02</td>\n",
       "      <td>27.1</td>\n",
       "    </tr>\n",
       "    <tr>\n",
       "      <th>2</th>\n",
       "      <td>1982-03</td>\n",
       "      <td>27.2</td>\n",
       "    </tr>\n",
       "    <tr>\n",
       "      <th>3</th>\n",
       "      <td>1982-04</td>\n",
       "      <td>27.0</td>\n",
       "    </tr>\n",
       "    <tr>\n",
       "      <th>4</th>\n",
       "      <td>1982-05</td>\n",
       "      <td>28.0</td>\n",
       "    </tr>\n",
       "  </tbody>\n",
       "</table>\n",
       "</div>"
      ],
      "text/plain": [
       "     month  mean_temp\n",
       "0  1982-01       25.9\n",
       "1  1982-02       27.1\n",
       "2  1982-03       27.2\n",
       "3  1982-04       27.0\n",
       "4  1982-05       28.0"
      ]
     },
     "execution_count": 23,
     "metadata": {},
     "output_type": "execute_result"
    }
   ],
   "source": [
    "#display the first 5 rows of the data frame\n",
    "temperature.head()"
   ]
  },
  {
   "cell_type": "code",
   "execution_count": 24,
   "metadata": {},
   "outputs": [
    {
     "data": {
      "text/html": [
       "<div>\n",
       "<style scoped>\n",
       "    .dataframe tbody tr th:only-of-type {\n",
       "        vertical-align: middle;\n",
       "    }\n",
       "\n",
       "    .dataframe tbody tr th {\n",
       "        vertical-align: top;\n",
       "    }\n",
       "\n",
       "    .dataframe thead th {\n",
       "        text-align: right;\n",
       "    }\n",
       "</style>\n",
       "<table border=\"1\" class=\"dataframe\">\n",
       "  <thead>\n",
       "    <tr style=\"text-align: right;\">\n",
       "      <th></th>\n",
       "      <th>month</th>\n",
       "      <th>mean_temp</th>\n",
       "    </tr>\n",
       "  </thead>\n",
       "  <tbody>\n",
       "    <tr>\n",
       "      <th>481</th>\n",
       "      <td>2022-02</td>\n",
       "      <td>27.3</td>\n",
       "    </tr>\n",
       "    <tr>\n",
       "      <th>482</th>\n",
       "      <td>2022-03</td>\n",
       "      <td>28.1</td>\n",
       "    </tr>\n",
       "    <tr>\n",
       "      <th>483</th>\n",
       "      <td>2022-04</td>\n",
       "      <td>28.1</td>\n",
       "    </tr>\n",
       "    <tr>\n",
       "      <th>484</th>\n",
       "      <td>2022-05</td>\n",
       "      <td>29.2</td>\n",
       "    </tr>\n",
       "    <tr>\n",
       "      <th>485</th>\n",
       "      <td>2022-06</td>\n",
       "      <td>27.9</td>\n",
       "    </tr>\n",
       "    <tr>\n",
       "      <th>486</th>\n",
       "      <td>2022-07</td>\n",
       "      <td>28.6</td>\n",
       "    </tr>\n",
       "    <tr>\n",
       "      <th>487</th>\n",
       "      <td>2022-08</td>\n",
       "      <td>28.1</td>\n",
       "    </tr>\n",
       "    <tr>\n",
       "      <th>488</th>\n",
       "      <td>2022-09</td>\n",
       "      <td>27.9</td>\n",
       "    </tr>\n",
       "    <tr>\n",
       "      <th>489</th>\n",
       "      <td>2022-10</td>\n",
       "      <td>27.6</td>\n",
       "    </tr>\n",
       "    <tr>\n",
       "      <th>490</th>\n",
       "      <td>2022-11</td>\n",
       "      <td>27.4</td>\n",
       "    </tr>\n",
       "    <tr>\n",
       "      <th>491</th>\n",
       "      <td>2022-12</td>\n",
       "      <td>26.8</td>\n",
       "    </tr>\n",
       "    <tr>\n",
       "      <th>492</th>\n",
       "      <td>2023-01</td>\n",
       "      <td>26.5</td>\n",
       "    </tr>\n",
       "    <tr>\n",
       "      <th>493</th>\n",
       "      <td>2023-02</td>\n",
       "      <td>26.9</td>\n",
       "    </tr>\n",
       "    <tr>\n",
       "      <th>494</th>\n",
       "      <td>2023-03</td>\n",
       "      <td>27.1</td>\n",
       "    </tr>\n",
       "    <tr>\n",
       "      <th>495</th>\n",
       "      <td>2023-04</td>\n",
       "      <td>28.5</td>\n",
       "    </tr>\n",
       "    <tr>\n",
       "      <th>496</th>\n",
       "      <td>2023-05</td>\n",
       "      <td>29.5</td>\n",
       "    </tr>\n",
       "    <tr>\n",
       "      <th>497</th>\n",
       "      <td>2023-06</td>\n",
       "      <td>29.0</td>\n",
       "    </tr>\n",
       "    <tr>\n",
       "      <th>498</th>\n",
       "      <td>2023-07</td>\n",
       "      <td>28.7</td>\n",
       "    </tr>\n",
       "    <tr>\n",
       "      <th>499</th>\n",
       "      <td>2023-08</td>\n",
       "      <td>28.7</td>\n",
       "    </tr>\n",
       "    <tr>\n",
       "      <th>500</th>\n",
       "      <td>2023-09</td>\n",
       "      <td>28.7</td>\n",
       "    </tr>\n",
       "  </tbody>\n",
       "</table>\n",
       "</div>"
      ],
      "text/plain": [
       "       month  mean_temp\n",
       "481  2022-02       27.3\n",
       "482  2022-03       28.1\n",
       "483  2022-04       28.1\n",
       "484  2022-05       29.2\n",
       "485  2022-06       27.9\n",
       "486  2022-07       28.6\n",
       "487  2022-08       28.1\n",
       "488  2022-09       27.9\n",
       "489  2022-10       27.6\n",
       "490  2022-11       27.4\n",
       "491  2022-12       26.8\n",
       "492  2023-01       26.5\n",
       "493  2023-02       26.9\n",
       "494  2023-03       27.1\n",
       "495  2023-04       28.5\n",
       "496  2023-05       29.5\n",
       "497  2023-06       29.0\n",
       "498  2023-07       28.7\n",
       "499  2023-08       28.7\n",
       "500  2023-09       28.7"
      ]
     },
     "execution_count": 24,
     "metadata": {},
     "output_type": "execute_result"
    }
   ],
   "source": [
    "#display the last 20 rows of the data frame to view index extra rows for eventual removal\n",
    "temperature.tail(20)"
   ]
  },
  {
   "cell_type": "code",
   "execution_count": 25,
   "metadata": {},
   "outputs": [],
   "source": [
    "#remove indexes 488-500 to match number of rows in the other climate datasets\n",
    "temperature.drop(index=[488,489,490,491,492,493,494,495,496,497,498,499,500], inplace=True)"
   ]
  },
  {
   "cell_type": "code",
   "execution_count": 26,
   "metadata": {},
   "outputs": [
    {
     "data": {
      "text/html": [
       "<div>\n",
       "<style scoped>\n",
       "    .dataframe tbody tr th:only-of-type {\n",
       "        vertical-align: middle;\n",
       "    }\n",
       "\n",
       "    .dataframe tbody tr th {\n",
       "        vertical-align: top;\n",
       "    }\n",
       "\n",
       "    .dataframe thead th {\n",
       "        text-align: right;\n",
       "    }\n",
       "</style>\n",
       "<table border=\"1\" class=\"dataframe\">\n",
       "  <thead>\n",
       "    <tr style=\"text-align: right;\">\n",
       "      <th></th>\n",
       "      <th>month</th>\n",
       "      <th>mean_temp</th>\n",
       "    </tr>\n",
       "  </thead>\n",
       "  <tbody>\n",
       "    <tr>\n",
       "      <th>483</th>\n",
       "      <td>2022-04</td>\n",
       "      <td>28.1</td>\n",
       "    </tr>\n",
       "    <tr>\n",
       "      <th>484</th>\n",
       "      <td>2022-05</td>\n",
       "      <td>29.2</td>\n",
       "    </tr>\n",
       "    <tr>\n",
       "      <th>485</th>\n",
       "      <td>2022-06</td>\n",
       "      <td>27.9</td>\n",
       "    </tr>\n",
       "    <tr>\n",
       "      <th>486</th>\n",
       "      <td>2022-07</td>\n",
       "      <td>28.6</td>\n",
       "    </tr>\n",
       "    <tr>\n",
       "      <th>487</th>\n",
       "      <td>2022-08</td>\n",
       "      <td>28.1</td>\n",
       "    </tr>\n",
       "  </tbody>\n",
       "</table>\n",
       "</div>"
      ],
      "text/plain": [
       "       month  mean_temp\n",
       "483  2022-04       28.1\n",
       "484  2022-05       29.2\n",
       "485  2022-06       27.9\n",
       "486  2022-07       28.6\n",
       "487  2022-08       28.1"
      ]
     },
     "execution_count": 26,
     "metadata": {},
     "output_type": "execute_result"
    }
   ],
   "source": [
    "#display the last 5 rows of the data frame to confirm removal of extra rows\n",
    "temperature.tail()"
   ]
  },
  {
   "cell_type": "code",
   "execution_count": 27,
   "metadata": {},
   "outputs": [
    {
     "data": {
      "text/plain": [
       "month        0\n",
       "mean_temp    0\n",
       "dtype: int64"
      ]
     },
     "execution_count": 27,
     "metadata": {},
     "output_type": "execute_result"
    }
   ],
   "source": [
    "# check for null values in the dataset\n",
    "temperature.isna().sum()"
   ]
  },
  {
   "cell_type": "code",
   "execution_count": 28,
   "metadata": {},
   "outputs": [
    {
     "name": "stdout",
     "output_type": "stream",
     "text": [
      "<class 'pandas.core.frame.DataFrame'>\n",
      "RangeIndex: 488 entries, 0 to 487\n",
      "Data columns (total 2 columns):\n",
      " #   Column     Non-Null Count  Dtype  \n",
      "---  ------     --------------  -----  \n",
      " 0   month      488 non-null    object \n",
      " 1   mean_temp  488 non-null    float64\n",
      "dtypes: float64(1), object(1)\n",
      "memory usage: 7.8+ KB\n"
     ]
    }
   ],
   "source": [
    "#check datatype of each column\n",
    "temperature.info()"
   ]
  },
  {
   "cell_type": "code",
   "execution_count": 29,
   "metadata": {},
   "outputs": [
    {
     "data": {
      "text/html": [
       "<div>\n",
       "<style scoped>\n",
       "    .dataframe tbody tr th:only-of-type {\n",
       "        vertical-align: middle;\n",
       "    }\n",
       "\n",
       "    .dataframe tbody tr th {\n",
       "        vertical-align: top;\n",
       "    }\n",
       "\n",
       "    .dataframe thead th {\n",
       "        text-align: right;\n",
       "    }\n",
       "</style>\n",
       "<table border=\"1\" class=\"dataframe\">\n",
       "  <thead>\n",
       "    <tr style=\"text-align: right;\">\n",
       "      <th></th>\n",
       "      <th>mean_temp</th>\n",
       "    </tr>\n",
       "  </thead>\n",
       "  <tbody>\n",
       "    <tr>\n",
       "      <th>count</th>\n",
       "      <td>488.000000</td>\n",
       "    </tr>\n",
       "    <tr>\n",
       "      <th>mean</th>\n",
       "      <td>27.678893</td>\n",
       "    </tr>\n",
       "    <tr>\n",
       "      <th>std</th>\n",
       "      <td>0.802195</td>\n",
       "    </tr>\n",
       "    <tr>\n",
       "      <th>min</th>\n",
       "      <td>25.400000</td>\n",
       "    </tr>\n",
       "    <tr>\n",
       "      <th>25%</th>\n",
       "      <td>27.100000</td>\n",
       "    </tr>\n",
       "    <tr>\n",
       "      <th>50%</th>\n",
       "      <td>27.700000</td>\n",
       "    </tr>\n",
       "    <tr>\n",
       "      <th>75%</th>\n",
       "      <td>28.300000</td>\n",
       "    </tr>\n",
       "    <tr>\n",
       "      <th>max</th>\n",
       "      <td>29.500000</td>\n",
       "    </tr>\n",
       "  </tbody>\n",
       "</table>\n",
       "</div>"
      ],
      "text/plain": [
       "        mean_temp\n",
       "count  488.000000\n",
       "mean    27.678893\n",
       "std      0.802195\n",
       "min     25.400000\n",
       "25%     27.100000\n",
       "50%     27.700000\n",
       "75%     28.300000\n",
       "max     29.500000"
      ]
     },
     "execution_count": 29,
     "metadata": {},
     "output_type": "execute_result"
    }
   ],
   "source": [
    "#display basic statistics for the data set\n",
    "temperature.describe()"
   ]
  },
  {
   "cell_type": "markdown",
   "metadata": {},
   "source": [
    "#### Combining Rainy Days, Total Rainfall, Humidity and Temperature Data Sets \n",
    "\n",
    "Conclusions made:\n",
    "* no null values found\n",
    "* total row count = 488 \n",
    "* columns >> month,no_of_rainy_days, total_rainfall, humidity, mean_temp\n",
    "\n",
    "\n",
    "NOTE: df name to use for comparing with dengue cases data set:      \n",
    "\n",
    "        merged_2014_2018"
   ]
  },
  {
   "cell_type": "code",
   "execution_count": 30,
   "metadata": {},
   "outputs": [],
   "source": [
    "humidity = pd.read_csv('../data/RelativeHumidityMonthlyMean.csv')"
   ]
  },
  {
   "cell_type": "code",
   "execution_count": 31,
   "metadata": {},
   "outputs": [],
   "source": [
    "#merge rainy days and total rainfall sets\n",
    "merged = pd.merge(rainy_days,total_rainfall,on='month')"
   ]
  },
  {
   "cell_type": "code",
   "execution_count": 32,
   "metadata": {},
   "outputs": [
    {
     "data": {
      "text/html": [
       "<div>\n",
       "<style scoped>\n",
       "    .dataframe tbody tr th:only-of-type {\n",
       "        vertical-align: middle;\n",
       "    }\n",
       "\n",
       "    .dataframe tbody tr th {\n",
       "        vertical-align: top;\n",
       "    }\n",
       "\n",
       "    .dataframe thead th {\n",
       "        text-align: right;\n",
       "    }\n",
       "</style>\n",
       "<table border=\"1\" class=\"dataframe\">\n",
       "  <thead>\n",
       "    <tr style=\"text-align: right;\">\n",
       "      <th></th>\n",
       "      <th>month</th>\n",
       "      <th>no_of_rainy_days</th>\n",
       "      <th>total_rainfall</th>\n",
       "    </tr>\n",
       "  </thead>\n",
       "  <tbody>\n",
       "    <tr>\n",
       "      <th>0</th>\n",
       "      <td>1982-01</td>\n",
       "      <td>10</td>\n",
       "      <td>107.1</td>\n",
       "    </tr>\n",
       "    <tr>\n",
       "      <th>1</th>\n",
       "      <td>1982-02</td>\n",
       "      <td>5</td>\n",
       "      <td>27.8</td>\n",
       "    </tr>\n",
       "    <tr>\n",
       "      <th>2</th>\n",
       "      <td>1982-03</td>\n",
       "      <td>11</td>\n",
       "      <td>160.8</td>\n",
       "    </tr>\n",
       "    <tr>\n",
       "      <th>3</th>\n",
       "      <td>1982-04</td>\n",
       "      <td>14</td>\n",
       "      <td>157.0</td>\n",
       "    </tr>\n",
       "    <tr>\n",
       "      <th>4</th>\n",
       "      <td>1982-05</td>\n",
       "      <td>10</td>\n",
       "      <td>102.2</td>\n",
       "    </tr>\n",
       "  </tbody>\n",
       "</table>\n",
       "</div>"
      ],
      "text/plain": [
       "     month  no_of_rainy_days  total_rainfall\n",
       "0  1982-01                10           107.1\n",
       "1  1982-02                 5            27.8\n",
       "2  1982-03                11           160.8\n",
       "3  1982-04                14           157.0\n",
       "4  1982-05                10           102.2"
      ]
     },
     "execution_count": 32,
     "metadata": {},
     "output_type": "execute_result"
    }
   ],
   "source": [
    "merged.head()"
   ]
  },
  {
   "cell_type": "code",
   "execution_count": 33,
   "metadata": {},
   "outputs": [],
   "source": [
    "#merge merged set and humidity sets\n",
    "merged = pd.merge(merged,humidity,on='month')"
   ]
  },
  {
   "cell_type": "code",
   "execution_count": 34,
   "metadata": {},
   "outputs": [
    {
     "data": {
      "text/html": [
       "<div>\n",
       "<style scoped>\n",
       "    .dataframe tbody tr th:only-of-type {\n",
       "        vertical-align: middle;\n",
       "    }\n",
       "\n",
       "    .dataframe tbody tr th {\n",
       "        vertical-align: top;\n",
       "    }\n",
       "\n",
       "    .dataframe thead th {\n",
       "        text-align: right;\n",
       "    }\n",
       "</style>\n",
       "<table border=\"1\" class=\"dataframe\">\n",
       "  <thead>\n",
       "    <tr style=\"text-align: right;\">\n",
       "      <th></th>\n",
       "      <th>month</th>\n",
       "      <th>no_of_rainy_days</th>\n",
       "      <th>total_rainfall</th>\n",
       "      <th>mean_rh</th>\n",
       "    </tr>\n",
       "  </thead>\n",
       "  <tbody>\n",
       "    <tr>\n",
       "      <th>0</th>\n",
       "      <td>1982-01</td>\n",
       "      <td>10</td>\n",
       "      <td>107.1</td>\n",
       "      <td>81.2</td>\n",
       "    </tr>\n",
       "    <tr>\n",
       "      <th>1</th>\n",
       "      <td>1982-02</td>\n",
       "      <td>5</td>\n",
       "      <td>27.8</td>\n",
       "      <td>79.5</td>\n",
       "    </tr>\n",
       "    <tr>\n",
       "      <th>2</th>\n",
       "      <td>1982-03</td>\n",
       "      <td>11</td>\n",
       "      <td>160.8</td>\n",
       "      <td>82.3</td>\n",
       "    </tr>\n",
       "    <tr>\n",
       "      <th>3</th>\n",
       "      <td>1982-04</td>\n",
       "      <td>14</td>\n",
       "      <td>157.0</td>\n",
       "      <td>85.9</td>\n",
       "    </tr>\n",
       "    <tr>\n",
       "      <th>4</th>\n",
       "      <td>1982-05</td>\n",
       "      <td>10</td>\n",
       "      <td>102.2</td>\n",
       "      <td>83.2</td>\n",
       "    </tr>\n",
       "  </tbody>\n",
       "</table>\n",
       "</div>"
      ],
      "text/plain": [
       "     month  no_of_rainy_days  total_rainfall  mean_rh\n",
       "0  1982-01                10           107.1     81.2\n",
       "1  1982-02                 5            27.8     79.5\n",
       "2  1982-03                11           160.8     82.3\n",
       "3  1982-04                14           157.0     85.9\n",
       "4  1982-05                10           102.2     83.2"
      ]
     },
     "execution_count": 34,
     "metadata": {},
     "output_type": "execute_result"
    }
   ],
   "source": [
    "merged.head()"
   ]
  },
  {
   "cell_type": "code",
   "execution_count": 35,
   "metadata": {},
   "outputs": [],
   "source": [
    "#renaming 'mean_rh' column to 'humidity' for clarity\n",
    "merged.rename(columns = {\"mean_rh\" : \"humidity\"},inplace=True)"
   ]
  },
  {
   "cell_type": "code",
   "execution_count": 36,
   "metadata": {},
   "outputs": [],
   "source": [
    "#merge merged set and humidity sets\n",
    "merged = pd.merge(merged,temperature,on='month')"
   ]
  },
  {
   "cell_type": "code",
   "execution_count": 37,
   "metadata": {},
   "outputs": [
    {
     "data": {
      "text/html": [
       "<div>\n",
       "<style scoped>\n",
       "    .dataframe tbody tr th:only-of-type {\n",
       "        vertical-align: middle;\n",
       "    }\n",
       "\n",
       "    .dataframe tbody tr th {\n",
       "        vertical-align: top;\n",
       "    }\n",
       "\n",
       "    .dataframe thead th {\n",
       "        text-align: right;\n",
       "    }\n",
       "</style>\n",
       "<table border=\"1\" class=\"dataframe\">\n",
       "  <thead>\n",
       "    <tr style=\"text-align: right;\">\n",
       "      <th></th>\n",
       "      <th>month</th>\n",
       "      <th>no_of_rainy_days</th>\n",
       "      <th>total_rainfall</th>\n",
       "      <th>humidity</th>\n",
       "      <th>mean_temp</th>\n",
       "    </tr>\n",
       "  </thead>\n",
       "  <tbody>\n",
       "    <tr>\n",
       "      <th>0</th>\n",
       "      <td>1982-01</td>\n",
       "      <td>10</td>\n",
       "      <td>107.1</td>\n",
       "      <td>81.2</td>\n",
       "      <td>25.9</td>\n",
       "    </tr>\n",
       "    <tr>\n",
       "      <th>1</th>\n",
       "      <td>1982-02</td>\n",
       "      <td>5</td>\n",
       "      <td>27.8</td>\n",
       "      <td>79.5</td>\n",
       "      <td>27.1</td>\n",
       "    </tr>\n",
       "    <tr>\n",
       "      <th>2</th>\n",
       "      <td>1982-03</td>\n",
       "      <td>11</td>\n",
       "      <td>160.8</td>\n",
       "      <td>82.3</td>\n",
       "      <td>27.2</td>\n",
       "    </tr>\n",
       "    <tr>\n",
       "      <th>3</th>\n",
       "      <td>1982-04</td>\n",
       "      <td>14</td>\n",
       "      <td>157.0</td>\n",
       "      <td>85.9</td>\n",
       "      <td>27.0</td>\n",
       "    </tr>\n",
       "    <tr>\n",
       "      <th>4</th>\n",
       "      <td>1982-05</td>\n",
       "      <td>10</td>\n",
       "      <td>102.2</td>\n",
       "      <td>83.2</td>\n",
       "      <td>28.0</td>\n",
       "    </tr>\n",
       "  </tbody>\n",
       "</table>\n",
       "</div>"
      ],
      "text/plain": [
       "     month  no_of_rainy_days  total_rainfall  humidity  mean_temp\n",
       "0  1982-01                10           107.1      81.2       25.9\n",
       "1  1982-02                 5            27.8      79.5       27.1\n",
       "2  1982-03                11           160.8      82.3       27.2\n",
       "3  1982-04                14           157.0      85.9       27.0\n",
       "4  1982-05                10           102.2      83.2       28.0"
      ]
     },
     "execution_count": 37,
     "metadata": {},
     "output_type": "execute_result"
    }
   ],
   "source": [
    "merged.head()"
   ]
  },
  {
   "cell_type": "code",
   "execution_count": 38,
   "metadata": {},
   "outputs": [],
   "source": [
    "#making a copy and resetting the index for the new data set\n",
    "merged_2014_2018 = merged.loc[384:443].copy()\n",
    "merged_2014_2018.reset_index(drop=True,inplace=True)"
   ]
  },
  {
   "cell_type": "code",
   "execution_count": 39,
   "metadata": {},
   "outputs": [],
   "source": [
    "merged_for_plots = merged_2014_2018.copy()  #to copy the data set to be used for plotting of line graph with standardised datatype (date time)"
   ]
  },
  {
   "cell_type": "code",
   "execution_count": 40,
   "metadata": {},
   "outputs": [],
   "source": [
    "# convert date column in merged_2014_2018 dataset to datetime format\n",
    "merged_2014_2018['month'] = pd.to_datetime(merged_2014_2018['month'], format='%Y-%m').dt.to_period('M')"
   ]
  },
  {
   "cell_type": "code",
   "execution_count": 41,
   "metadata": {},
   "outputs": [
    {
     "data": {
      "text/html": [
       "<div>\n",
       "<style scoped>\n",
       "    .dataframe tbody tr th:only-of-type {\n",
       "        vertical-align: middle;\n",
       "    }\n",
       "\n",
       "    .dataframe tbody tr th {\n",
       "        vertical-align: top;\n",
       "    }\n",
       "\n",
       "    .dataframe thead th {\n",
       "        text-align: right;\n",
       "    }\n",
       "</style>\n",
       "<table border=\"1\" class=\"dataframe\">\n",
       "  <thead>\n",
       "    <tr style=\"text-align: right;\">\n",
       "      <th></th>\n",
       "      <th>month</th>\n",
       "      <th>no_of_rainy_days</th>\n",
       "      <th>total_rainfall</th>\n",
       "      <th>humidity</th>\n",
       "      <th>mean_temp</th>\n",
       "    </tr>\n",
       "  </thead>\n",
       "  <tbody>\n",
       "    <tr>\n",
       "      <th>0</th>\n",
       "      <td>2014-01</td>\n",
       "      <td>5</td>\n",
       "      <td>75.4</td>\n",
       "      <td>78.5</td>\n",
       "      <td>26.2</td>\n",
       "    </tr>\n",
       "    <tr>\n",
       "      <th>1</th>\n",
       "      <td>2014-02</td>\n",
       "      <td>1</td>\n",
       "      <td>0.2</td>\n",
       "      <td>74.5</td>\n",
       "      <td>27.2</td>\n",
       "    </tr>\n",
       "    <tr>\n",
       "      <th>2</th>\n",
       "      <td>2014-03</td>\n",
       "      <td>6</td>\n",
       "      <td>66.0</td>\n",
       "      <td>76.0</td>\n",
       "      <td>27.9</td>\n",
       "    </tr>\n",
       "    <tr>\n",
       "      <th>3</th>\n",
       "      <td>2014-04</td>\n",
       "      <td>17</td>\n",
       "      <td>110.0</td>\n",
       "      <td>80.0</td>\n",
       "      <td>28.2</td>\n",
       "    </tr>\n",
       "    <tr>\n",
       "      <th>4</th>\n",
       "      <td>2014-05</td>\n",
       "      <td>18</td>\n",
       "      <td>125.8</td>\n",
       "      <td>80.2</td>\n",
       "      <td>28.6</td>\n",
       "    </tr>\n",
       "  </tbody>\n",
       "</table>\n",
       "</div>"
      ],
      "text/plain": [
       "     month  no_of_rainy_days  total_rainfall  humidity  mean_temp\n",
       "0  2014-01                 5            75.4      78.5       26.2\n",
       "1  2014-02                 1             0.2      74.5       27.2\n",
       "2  2014-03                 6            66.0      76.0       27.9\n",
       "3  2014-04                17           110.0      80.0       28.2\n",
       "4  2014-05                18           125.8      80.2       28.6"
      ]
     },
     "execution_count": 41,
     "metadata": {},
     "output_type": "execute_result"
    }
   ],
   "source": [
    "merged_2014_2018.head()"
   ]
  },
  {
   "cell_type": "code",
   "execution_count": 42,
   "metadata": {},
   "outputs": [
    {
     "name": "stdout",
     "output_type": "stream",
     "text": [
      "<class 'pandas.core.frame.DataFrame'>\n",
      "RangeIndex: 60 entries, 0 to 59\n",
      "Data columns (total 5 columns):\n",
      " #   Column            Non-Null Count  Dtype    \n",
      "---  ------            --------------  -----    \n",
      " 0   month             60 non-null     period[M]\n",
      " 1   no_of_rainy_days  60 non-null     int64    \n",
      " 2   total_rainfall    60 non-null     float64  \n",
      " 3   humidity          60 non-null     float64  \n",
      " 4   mean_temp         60 non-null     float64  \n",
      "dtypes: float64(3), int64(1), period[M](1)\n",
      "memory usage: 2.5 KB\n"
     ]
    }
   ],
   "source": [
    "merged_2014_2018.info()"
   ]
  },
  {
   "cell_type": "markdown",
   "metadata": {},
   "source": [
    "#### Dengue Cases Data Set\n",
    "Conclusions made:\n",
    "* 8 null values found and removed\n",
    "* total row count = 522 (original 530, removed null values)\n",
    "* columns >> year, eweek, type_dengue, number "
   ]
  },
  {
   "cell_type": "code",
   "execution_count": 43,
   "metadata": {},
   "outputs": [],
   "source": [
    "dengue_cases = pd.read_csv('../data/dengue_cases.csv')"
   ]
  },
  {
   "cell_type": "code",
   "execution_count": 44,
   "metadata": {},
   "outputs": [
    {
     "data": {
      "text/html": [
       "<div>\n",
       "<style scoped>\n",
       "    .dataframe tbody tr th:only-of-type {\n",
       "        vertical-align: middle;\n",
       "    }\n",
       "\n",
       "    .dataframe tbody tr th {\n",
       "        vertical-align: top;\n",
       "    }\n",
       "\n",
       "    .dataframe thead th {\n",
       "        text-align: right;\n",
       "    }\n",
       "</style>\n",
       "<table border=\"1\" class=\"dataframe\">\n",
       "  <thead>\n",
       "    <tr style=\"text-align: right;\">\n",
       "      <th></th>\n",
       "      <th>year</th>\n",
       "      <th>eweek</th>\n",
       "      <th>type_dengue</th>\n",
       "      <th>number</th>\n",
       "    </tr>\n",
       "  </thead>\n",
       "  <tbody>\n",
       "    <tr>\n",
       "      <th>0</th>\n",
       "      <td>2014</td>\n",
       "      <td>1</td>\n",
       "      <td>Dengue</td>\n",
       "      <td>436.0</td>\n",
       "    </tr>\n",
       "    <tr>\n",
       "      <th>1</th>\n",
       "      <td>2014</td>\n",
       "      <td>1</td>\n",
       "      <td>DHF</td>\n",
       "      <td>1.0</td>\n",
       "    </tr>\n",
       "    <tr>\n",
       "      <th>2</th>\n",
       "      <td>2014</td>\n",
       "      <td>2</td>\n",
       "      <td>Dengue</td>\n",
       "      <td>479.0</td>\n",
       "    </tr>\n",
       "    <tr>\n",
       "      <th>3</th>\n",
       "      <td>2014</td>\n",
       "      <td>2</td>\n",
       "      <td>DHF</td>\n",
       "      <td>0.0</td>\n",
       "    </tr>\n",
       "    <tr>\n",
       "      <th>4</th>\n",
       "      <td>2014</td>\n",
       "      <td>3</td>\n",
       "      <td>Dengue</td>\n",
       "      <td>401.0</td>\n",
       "    </tr>\n",
       "  </tbody>\n",
       "</table>\n",
       "</div>"
      ],
      "text/plain": [
       "   year  eweek type_dengue  number\n",
       "0  2014      1      Dengue   436.0\n",
       "1  2014      1         DHF     1.0\n",
       "2  2014      2      Dengue   479.0\n",
       "3  2014      2         DHF     0.0\n",
       "4  2014      3      Dengue   401.0"
      ]
     },
     "execution_count": 44,
     "metadata": {},
     "output_type": "execute_result"
    }
   ],
   "source": [
    "#display the first 5 rows of the data frame\n",
    "dengue_cases.head()"
   ]
  },
  {
   "cell_type": "code",
   "execution_count": 45,
   "metadata": {},
   "outputs": [
    {
     "data": {
      "text/plain": [
       "year           0\n",
       "eweek          0\n",
       "type_dengue    0\n",
       "number         8\n",
       "dtype: int64"
      ]
     },
     "execution_count": 45,
     "metadata": {},
     "output_type": "execute_result"
    }
   ],
   "source": [
    "# check for null values in the dataset\n",
    "dengue_cases.isna().sum()"
   ]
  },
  {
   "cell_type": "code",
   "execution_count": 46,
   "metadata": {},
   "outputs": [],
   "source": [
    "#drop all rows with NaN values\n",
    "dengue_cases.dropna(inplace=True)"
   ]
  },
  {
   "cell_type": "code",
   "execution_count": 47,
   "metadata": {},
   "outputs": [
    {
     "name": "stdout",
     "output_type": "stream",
     "text": [
      "<class 'pandas.core.frame.DataFrame'>\n",
      "Index: 522 entries, 0 to 527\n",
      "Data columns (total 4 columns):\n",
      " #   Column       Non-Null Count  Dtype  \n",
      "---  ------       --------------  -----  \n",
      " 0   year         522 non-null    int64  \n",
      " 1   eweek        522 non-null    int64  \n",
      " 2   type_dengue  522 non-null    object \n",
      " 3   number       522 non-null    float64\n",
      "dtypes: float64(1), int64(2), object(1)\n",
      "memory usage: 20.4+ KB\n"
     ]
    }
   ],
   "source": [
    "#check datatype of each column\n",
    "dengue_cases.info()"
   ]
  },
  {
   "cell_type": "code",
   "execution_count": 48,
   "metadata": {},
   "outputs": [
    {
     "data": {
      "text/html": [
       "<div>\n",
       "<style scoped>\n",
       "    .dataframe tbody tr th:only-of-type {\n",
       "        vertical-align: middle;\n",
       "    }\n",
       "\n",
       "    .dataframe tbody tr th {\n",
       "        vertical-align: top;\n",
       "    }\n",
       "\n",
       "    .dataframe thead th {\n",
       "        text-align: right;\n",
       "    }\n",
       "</style>\n",
       "<table border=\"1\" class=\"dataframe\">\n",
       "  <thead>\n",
       "    <tr style=\"text-align: right;\">\n",
       "      <th></th>\n",
       "      <th>year</th>\n",
       "      <th>eweek</th>\n",
       "      <th>number</th>\n",
       "    </tr>\n",
       "  </thead>\n",
       "  <tbody>\n",
       "    <tr>\n",
       "      <th>count</th>\n",
       "      <td>522.000000</td>\n",
       "      <td>522.000000</td>\n",
       "      <td>522.000000</td>\n",
       "    </tr>\n",
       "    <tr>\n",
       "      <th>mean</th>\n",
       "      <td>2015.992337</td>\n",
       "      <td>26.601533</td>\n",
       "      <td>93.400383</td>\n",
       "    </tr>\n",
       "    <tr>\n",
       "      <th>std</th>\n",
       "      <td>1.418259</td>\n",
       "      <td>15.083206</td>\n",
       "      <td>145.737645</td>\n",
       "    </tr>\n",
       "    <tr>\n",
       "      <th>min</th>\n",
       "      <td>2014.000000</td>\n",
       "      <td>1.000000</td>\n",
       "      <td>0.000000</td>\n",
       "    </tr>\n",
       "    <tr>\n",
       "      <th>25%</th>\n",
       "      <td>2015.000000</td>\n",
       "      <td>14.000000</td>\n",
       "      <td>0.000000</td>\n",
       "    </tr>\n",
       "    <tr>\n",
       "      <th>50%</th>\n",
       "      <td>2016.000000</td>\n",
       "      <td>27.000000</td>\n",
       "      <td>14.000000</td>\n",
       "    </tr>\n",
       "    <tr>\n",
       "      <th>75%</th>\n",
       "      <td>2017.000000</td>\n",
       "      <td>40.000000</td>\n",
       "      <td>155.500000</td>\n",
       "    </tr>\n",
       "    <tr>\n",
       "      <th>max</th>\n",
       "      <td>2018.000000</td>\n",
       "      <td>53.000000</td>\n",
       "      <td>888.000000</td>\n",
       "    </tr>\n",
       "  </tbody>\n",
       "</table>\n",
       "</div>"
      ],
      "text/plain": [
       "              year       eweek      number\n",
       "count   522.000000  522.000000  522.000000\n",
       "mean   2015.992337   26.601533   93.400383\n",
       "std       1.418259   15.083206  145.737645\n",
       "min    2014.000000    1.000000    0.000000\n",
       "25%    2015.000000   14.000000    0.000000\n",
       "50%    2016.000000   27.000000   14.000000\n",
       "75%    2017.000000   40.000000  155.500000\n",
       "max    2018.000000   53.000000  888.000000"
      ]
     },
     "execution_count": 48,
     "metadata": {},
     "output_type": "execute_result"
    }
   ],
   "source": [
    "#display basic statistics for the data set\n",
    "dengue_cases.describe()"
   ]
  },
  {
   "cell_type": "code",
   "execution_count": 49,
   "metadata": {},
   "outputs": [
    {
     "data": {
      "text/html": [
       "<div>\n",
       "<style scoped>\n",
       "    .dataframe tbody tr th:only-of-type {\n",
       "        vertical-align: middle;\n",
       "    }\n",
       "\n",
       "    .dataframe tbody tr th {\n",
       "        vertical-align: top;\n",
       "    }\n",
       "\n",
       "    .dataframe thead th {\n",
       "        text-align: right;\n",
       "    }\n",
       "</style>\n",
       "<table border=\"1\" class=\"dataframe\">\n",
       "  <thead>\n",
       "    <tr style=\"text-align: right;\">\n",
       "      <th></th>\n",
       "      <th>year</th>\n",
       "      <th>eweek</th>\n",
       "      <th>type_dengue</th>\n",
       "      <th>number</th>\n",
       "    </tr>\n",
       "  </thead>\n",
       "  <tbody>\n",
       "    <tr>\n",
       "      <th>0</th>\n",
       "      <td>2014</td>\n",
       "      <td>1</td>\n",
       "      <td>Dengue</td>\n",
       "      <td>436.0</td>\n",
       "    </tr>\n",
       "    <tr>\n",
       "      <th>1</th>\n",
       "      <td>2014</td>\n",
       "      <td>1</td>\n",
       "      <td>DHF</td>\n",
       "      <td>1.0</td>\n",
       "    </tr>\n",
       "    <tr>\n",
       "      <th>2</th>\n",
       "      <td>2014</td>\n",
       "      <td>2</td>\n",
       "      <td>Dengue</td>\n",
       "      <td>479.0</td>\n",
       "    </tr>\n",
       "    <tr>\n",
       "      <th>3</th>\n",
       "      <td>2014</td>\n",
       "      <td>2</td>\n",
       "      <td>DHF</td>\n",
       "      <td>0.0</td>\n",
       "    </tr>\n",
       "    <tr>\n",
       "      <th>4</th>\n",
       "      <td>2014</td>\n",
       "      <td>3</td>\n",
       "      <td>Dengue</td>\n",
       "      <td>401.0</td>\n",
       "    </tr>\n",
       "  </tbody>\n",
       "</table>\n",
       "</div>"
      ],
      "text/plain": [
       "   year  eweek type_dengue  number\n",
       "0  2014      1      Dengue   436.0\n",
       "1  2014      1         DHF     1.0\n",
       "2  2014      2      Dengue   479.0\n",
       "3  2014      2         DHF     0.0\n",
       "4  2014      3      Dengue   401.0"
      ]
     },
     "execution_count": 49,
     "metadata": {},
     "output_type": "execute_result"
    }
   ],
   "source": [
    "dengue_cases.head()"
   ]
  },
  {
   "cell_type": "code",
   "execution_count": 50,
   "metadata": {},
   "outputs": [
    {
     "data": {
      "text/html": [
       "<div>\n",
       "<style scoped>\n",
       "    .dataframe tbody tr th:only-of-type {\n",
       "        vertical-align: middle;\n",
       "    }\n",
       "\n",
       "    .dataframe tbody tr th {\n",
       "        vertical-align: top;\n",
       "    }\n",
       "\n",
       "    .dataframe thead th {\n",
       "        text-align: right;\n",
       "    }\n",
       "</style>\n",
       "<table border=\"1\" class=\"dataframe\">\n",
       "  <thead>\n",
       "    <tr style=\"text-align: right;\">\n",
       "      <th></th>\n",
       "      <th>index</th>\n",
       "      <th>year</th>\n",
       "      <th>eweek</th>\n",
       "      <th>type_dengue</th>\n",
       "      <th>number</th>\n",
       "    </tr>\n",
       "  </thead>\n",
       "  <tbody>\n",
       "    <tr>\n",
       "      <th>0</th>\n",
       "      <td>1</td>\n",
       "      <td>2014</td>\n",
       "      <td>1</td>\n",
       "      <td>DHF</td>\n",
       "      <td>437.0</td>\n",
       "    </tr>\n",
       "    <tr>\n",
       "      <th>1</th>\n",
       "      <td>3</td>\n",
       "      <td>2014</td>\n",
       "      <td>2</td>\n",
       "      <td>DHF</td>\n",
       "      <td>479.0</td>\n",
       "    </tr>\n",
       "    <tr>\n",
       "      <th>2</th>\n",
       "      <td>5</td>\n",
       "      <td>2014</td>\n",
       "      <td>3</td>\n",
       "      <td>DHF</td>\n",
       "      <td>401.0</td>\n",
       "    </tr>\n",
       "    <tr>\n",
       "      <th>3</th>\n",
       "      <td>7</td>\n",
       "      <td>2014</td>\n",
       "      <td>4</td>\n",
       "      <td>DHF</td>\n",
       "      <td>336.0</td>\n",
       "    </tr>\n",
       "    <tr>\n",
       "      <th>4</th>\n",
       "      <td>9</td>\n",
       "      <td>2014</td>\n",
       "      <td>5</td>\n",
       "      <td>DHF</td>\n",
       "      <td>234.0</td>\n",
       "    </tr>\n",
       "  </tbody>\n",
       "</table>\n",
       "</div>"
      ],
      "text/plain": [
       "   index  year  eweek type_dengue  number\n",
       "0      1  2014      1         DHF   437.0\n",
       "1      3  2014      2         DHF   479.0\n",
       "2      5  2014      3         DHF   401.0\n",
       "3      7  2014      4         DHF   336.0\n",
       "4      9  2014      5         DHF   234.0"
      ]
     },
     "execution_count": 50,
     "metadata": {},
     "output_type": "execute_result"
    }
   ],
   "source": [
    "#combine dengue and DHF values as a whole dengue value for each week\n",
    "num_dhf = dengue_cases.loc[dengue_cases['type_dengue']=='Dengue',:].reset_index() \n",
    "dengue_cases = dengue_cases.loc[dengue_cases['type_dengue']=='DHF',:].reset_index()\n",
    "dengue_cases['number'] = dengue_cases['number'] + num_dhf['number']\n",
    "dengue_cases.head()"
   ]
  },
  {
   "cell_type": "code",
   "execution_count": 51,
   "metadata": {},
   "outputs": [],
   "source": [
    "dengue_cases['eweek'] = dengue_cases['eweek'] - 1   #to match eweek column with index"
   ]
  },
  {
   "cell_type": "code",
   "execution_count": 52,
   "metadata": {},
   "outputs": [
    {
     "data": {
      "text/html": [
       "<div>\n",
       "<style scoped>\n",
       "    .dataframe tbody tr th:only-of-type {\n",
       "        vertical-align: middle;\n",
       "    }\n",
       "\n",
       "    .dataframe tbody tr th {\n",
       "        vertical-align: top;\n",
       "    }\n",
       "\n",
       "    .dataframe thead th {\n",
       "        text-align: right;\n",
       "    }\n",
       "</style>\n",
       "<table border=\"1\" class=\"dataframe\">\n",
       "  <thead>\n",
       "    <tr style=\"text-align: right;\">\n",
       "      <th></th>\n",
       "      <th>index</th>\n",
       "      <th>year</th>\n",
       "      <th>eweek</th>\n",
       "      <th>type_dengue</th>\n",
       "      <th>number</th>\n",
       "    </tr>\n",
       "  </thead>\n",
       "  <tbody>\n",
       "    <tr>\n",
       "      <th>0</th>\n",
       "      <td>1</td>\n",
       "      <td>2014</td>\n",
       "      <td>0</td>\n",
       "      <td>DHF</td>\n",
       "      <td>437.0</td>\n",
       "    </tr>\n",
       "    <tr>\n",
       "      <th>1</th>\n",
       "      <td>3</td>\n",
       "      <td>2014</td>\n",
       "      <td>1</td>\n",
       "      <td>DHF</td>\n",
       "      <td>479.0</td>\n",
       "    </tr>\n",
       "    <tr>\n",
       "      <th>2</th>\n",
       "      <td>5</td>\n",
       "      <td>2014</td>\n",
       "      <td>2</td>\n",
       "      <td>DHF</td>\n",
       "      <td>401.0</td>\n",
       "    </tr>\n",
       "    <tr>\n",
       "      <th>3</th>\n",
       "      <td>7</td>\n",
       "      <td>2014</td>\n",
       "      <td>3</td>\n",
       "      <td>DHF</td>\n",
       "      <td>336.0</td>\n",
       "    </tr>\n",
       "    <tr>\n",
       "      <th>4</th>\n",
       "      <td>9</td>\n",
       "      <td>2014</td>\n",
       "      <td>4</td>\n",
       "      <td>DHF</td>\n",
       "      <td>234.0</td>\n",
       "    </tr>\n",
       "  </tbody>\n",
       "</table>\n",
       "</div>"
      ],
      "text/plain": [
       "   index  year  eweek type_dengue  number\n",
       "0      1  2014      0         DHF   437.0\n",
       "1      3  2014      1         DHF   479.0\n",
       "2      5  2014      2         DHF   401.0\n",
       "3      7  2014      3         DHF   336.0\n",
       "4      9  2014      4         DHF   234.0"
      ]
     },
     "execution_count": 52,
     "metadata": {},
     "output_type": "execute_result"
    }
   ],
   "source": [
    "dengue_cases.head()"
   ]
  },
  {
   "cell_type": "code",
   "execution_count": 53,
   "metadata": {},
   "outputs": [],
   "source": [
    "#change the format of eweek column to add zeroes for changing to datetime function later on\n",
    "def format_eweek(eweek):\n",
    "    if eweek < 10:\n",
    "        return '0' + str(eweek)         #adding a zero in front of eweek str value\n",
    "    else:\n",
    "        return str(eweek)               #changing eweek to str value"
   ]
  },
  {
   "cell_type": "code",
   "execution_count": 54,
   "metadata": {},
   "outputs": [],
   "source": [
    "#change eweek to datetime\n",
    "dengue_cases['eweek'] = dengue_cases['eweek'].apply(format_eweek)"
   ]
  },
  {
   "cell_type": "code",
   "execution_count": 55,
   "metadata": {},
   "outputs": [
    {
     "data": {
      "text/html": [
       "<div>\n",
       "<style scoped>\n",
       "    .dataframe tbody tr th:only-of-type {\n",
       "        vertical-align: middle;\n",
       "    }\n",
       "\n",
       "    .dataframe tbody tr th {\n",
       "        vertical-align: top;\n",
       "    }\n",
       "\n",
       "    .dataframe thead th {\n",
       "        text-align: right;\n",
       "    }\n",
       "</style>\n",
       "<table border=\"1\" class=\"dataframe\">\n",
       "  <thead>\n",
       "    <tr style=\"text-align: right;\">\n",
       "      <th></th>\n",
       "      <th>index</th>\n",
       "      <th>year</th>\n",
       "      <th>eweek</th>\n",
       "      <th>type_dengue</th>\n",
       "      <th>number</th>\n",
       "    </tr>\n",
       "  </thead>\n",
       "  <tbody>\n",
       "    <tr>\n",
       "      <th>0</th>\n",
       "      <td>1</td>\n",
       "      <td>2014</td>\n",
       "      <td>00</td>\n",
       "      <td>DHF</td>\n",
       "      <td>437.0</td>\n",
       "    </tr>\n",
       "    <tr>\n",
       "      <th>1</th>\n",
       "      <td>3</td>\n",
       "      <td>2014</td>\n",
       "      <td>01</td>\n",
       "      <td>DHF</td>\n",
       "      <td>479.0</td>\n",
       "    </tr>\n",
       "    <tr>\n",
       "      <th>2</th>\n",
       "      <td>5</td>\n",
       "      <td>2014</td>\n",
       "      <td>02</td>\n",
       "      <td>DHF</td>\n",
       "      <td>401.0</td>\n",
       "    </tr>\n",
       "    <tr>\n",
       "      <th>3</th>\n",
       "      <td>7</td>\n",
       "      <td>2014</td>\n",
       "      <td>03</td>\n",
       "      <td>DHF</td>\n",
       "      <td>336.0</td>\n",
       "    </tr>\n",
       "    <tr>\n",
       "      <th>4</th>\n",
       "      <td>9</td>\n",
       "      <td>2014</td>\n",
       "      <td>04</td>\n",
       "      <td>DHF</td>\n",
       "      <td>234.0</td>\n",
       "    </tr>\n",
       "    <tr>\n",
       "      <th>5</th>\n",
       "      <td>11</td>\n",
       "      <td>2014</td>\n",
       "      <td>05</td>\n",
       "      <td>DHF</td>\n",
       "      <td>274.0</td>\n",
       "    </tr>\n",
       "    <tr>\n",
       "      <th>6</th>\n",
       "      <td>13</td>\n",
       "      <td>2014</td>\n",
       "      <td>06</td>\n",
       "      <td>DHF</td>\n",
       "      <td>369.0</td>\n",
       "    </tr>\n",
       "    <tr>\n",
       "      <th>7</th>\n",
       "      <td>15</td>\n",
       "      <td>2014</td>\n",
       "      <td>07</td>\n",
       "      <td>DHF</td>\n",
       "      <td>194.0</td>\n",
       "    </tr>\n",
       "    <tr>\n",
       "      <th>8</th>\n",
       "      <td>17</td>\n",
       "      <td>2014</td>\n",
       "      <td>08</td>\n",
       "      <td>DHF</td>\n",
       "      <td>187.0</td>\n",
       "    </tr>\n",
       "    <tr>\n",
       "      <th>9</th>\n",
       "      <td>19</td>\n",
       "      <td>2014</td>\n",
       "      <td>09</td>\n",
       "      <td>DHF</td>\n",
       "      <td>210.0</td>\n",
       "    </tr>\n",
       "    <tr>\n",
       "      <th>10</th>\n",
       "      <td>21</td>\n",
       "      <td>2014</td>\n",
       "      <td>10</td>\n",
       "      <td>DHF</td>\n",
       "      <td>225.0</td>\n",
       "    </tr>\n",
       "    <tr>\n",
       "      <th>11</th>\n",
       "      <td>23</td>\n",
       "      <td>2014</td>\n",
       "      <td>11</td>\n",
       "      <td>DHF</td>\n",
       "      <td>210.0</td>\n",
       "    </tr>\n",
       "    <tr>\n",
       "      <th>12</th>\n",
       "      <td>25</td>\n",
       "      <td>2014</td>\n",
       "      <td>12</td>\n",
       "      <td>DHF</td>\n",
       "      <td>225.0</td>\n",
       "    </tr>\n",
       "    <tr>\n",
       "      <th>13</th>\n",
       "      <td>27</td>\n",
       "      <td>2014</td>\n",
       "      <td>13</td>\n",
       "      <td>DHF</td>\n",
       "      <td>240.0</td>\n",
       "    </tr>\n",
       "    <tr>\n",
       "      <th>14</th>\n",
       "      <td>29</td>\n",
       "      <td>2014</td>\n",
       "      <td>14</td>\n",
       "      <td>DHF</td>\n",
       "      <td>245.0</td>\n",
       "    </tr>\n",
       "    <tr>\n",
       "      <th>15</th>\n",
       "      <td>31</td>\n",
       "      <td>2014</td>\n",
       "      <td>15</td>\n",
       "      <td>DHF</td>\n",
       "      <td>235.0</td>\n",
       "    </tr>\n",
       "    <tr>\n",
       "      <th>16</th>\n",
       "      <td>33</td>\n",
       "      <td>2014</td>\n",
       "      <td>16</td>\n",
       "      <td>DHF</td>\n",
       "      <td>282.0</td>\n",
       "    </tr>\n",
       "    <tr>\n",
       "      <th>17</th>\n",
       "      <td>35</td>\n",
       "      <td>2014</td>\n",
       "      <td>17</td>\n",
       "      <td>DHF</td>\n",
       "      <td>251.0</td>\n",
       "    </tr>\n",
       "    <tr>\n",
       "      <th>18</th>\n",
       "      <td>37</td>\n",
       "      <td>2014</td>\n",
       "      <td>18</td>\n",
       "      <td>DHF</td>\n",
       "      <td>261.0</td>\n",
       "    </tr>\n",
       "    <tr>\n",
       "      <th>19</th>\n",
       "      <td>39</td>\n",
       "      <td>2014</td>\n",
       "      <td>19</td>\n",
       "      <td>DHF</td>\n",
       "      <td>291.0</td>\n",
       "    </tr>\n",
       "  </tbody>\n",
       "</table>\n",
       "</div>"
      ],
      "text/plain": [
       "    index  year eweek type_dengue  number\n",
       "0       1  2014    00         DHF   437.0\n",
       "1       3  2014    01         DHF   479.0\n",
       "2       5  2014    02         DHF   401.0\n",
       "3       7  2014    03         DHF   336.0\n",
       "4       9  2014    04         DHF   234.0\n",
       "5      11  2014    05         DHF   274.0\n",
       "6      13  2014    06         DHF   369.0\n",
       "7      15  2014    07         DHF   194.0\n",
       "8      17  2014    08         DHF   187.0\n",
       "9      19  2014    09         DHF   210.0\n",
       "10     21  2014    10         DHF   225.0\n",
       "11     23  2014    11         DHF   210.0\n",
       "12     25  2014    12         DHF   225.0\n",
       "13     27  2014    13         DHF   240.0\n",
       "14     29  2014    14         DHF   245.0\n",
       "15     31  2014    15         DHF   235.0\n",
       "16     33  2014    16         DHF   282.0\n",
       "17     35  2014    17         DHF   251.0\n",
       "18     37  2014    18         DHF   261.0\n",
       "19     39  2014    19         DHF   291.0"
      ]
     },
     "execution_count": 55,
     "metadata": {},
     "output_type": "execute_result"
    }
   ],
   "source": [
    "dengue_cases.head(20)"
   ]
  },
  {
   "cell_type": "code",
   "execution_count": 56,
   "metadata": {},
   "outputs": [],
   "source": [
    "year_str_type = dengue_cases['year'].astype(str)\n",
    "week_str_type = dengue_cases['eweek'].astype(str)\n",
    "year_week = year_str_type.str.cat(week_str_type,sep='-')"
   ]
  },
  {
   "cell_type": "code",
   "execution_count": 57,
   "metadata": {},
   "outputs": [
    {
     "data": {
      "text/plain": [
       "0    2014-00\n",
       "1    2014-01\n",
       "2    2014-02\n",
       "3    2014-03\n",
       "4    2014-04\n",
       "Name: year, dtype: object"
      ]
     },
     "execution_count": 57,
     "metadata": {},
     "output_type": "execute_result"
    }
   ],
   "source": [
    "year_week.head()"
   ]
  },
  {
   "cell_type": "code",
   "execution_count": 58,
   "metadata": {},
   "outputs": [],
   "source": [
    "#inserting the year_week variable into a new column called 'year_week'\n",
    "dengue_cases.insert(loc=0,column='year_week', value=year_week)"
   ]
  },
  {
   "cell_type": "code",
   "execution_count": 59,
   "metadata": {},
   "outputs": [
    {
     "data": {
      "text/html": [
       "<div>\n",
       "<style scoped>\n",
       "    .dataframe tbody tr th:only-of-type {\n",
       "        vertical-align: middle;\n",
       "    }\n",
       "\n",
       "    .dataframe tbody tr th {\n",
       "        vertical-align: top;\n",
       "    }\n",
       "\n",
       "    .dataframe thead th {\n",
       "        text-align: right;\n",
       "    }\n",
       "</style>\n",
       "<table border=\"1\" class=\"dataframe\">\n",
       "  <thead>\n",
       "    <tr style=\"text-align: right;\">\n",
       "      <th></th>\n",
       "      <th>year_week</th>\n",
       "      <th>index</th>\n",
       "      <th>year</th>\n",
       "      <th>eweek</th>\n",
       "      <th>type_dengue</th>\n",
       "      <th>number</th>\n",
       "    </tr>\n",
       "  </thead>\n",
       "  <tbody>\n",
       "    <tr>\n",
       "      <th>0</th>\n",
       "      <td>2014-00-1</td>\n",
       "      <td>1</td>\n",
       "      <td>2014</td>\n",
       "      <td>00</td>\n",
       "      <td>DHF</td>\n",
       "      <td>437.0</td>\n",
       "    </tr>\n",
       "    <tr>\n",
       "      <th>1</th>\n",
       "      <td>2014-01-1</td>\n",
       "      <td>3</td>\n",
       "      <td>2014</td>\n",
       "      <td>01</td>\n",
       "      <td>DHF</td>\n",
       "      <td>479.0</td>\n",
       "    </tr>\n",
       "    <tr>\n",
       "      <th>2</th>\n",
       "      <td>2014-02-1</td>\n",
       "      <td>5</td>\n",
       "      <td>2014</td>\n",
       "      <td>02</td>\n",
       "      <td>DHF</td>\n",
       "      <td>401.0</td>\n",
       "    </tr>\n",
       "    <tr>\n",
       "      <th>3</th>\n",
       "      <td>2014-03-1</td>\n",
       "      <td>7</td>\n",
       "      <td>2014</td>\n",
       "      <td>03</td>\n",
       "      <td>DHF</td>\n",
       "      <td>336.0</td>\n",
       "    </tr>\n",
       "    <tr>\n",
       "      <th>4</th>\n",
       "      <td>2014-04-1</td>\n",
       "      <td>9</td>\n",
       "      <td>2014</td>\n",
       "      <td>04</td>\n",
       "      <td>DHF</td>\n",
       "      <td>234.0</td>\n",
       "    </tr>\n",
       "  </tbody>\n",
       "</table>\n",
       "</div>"
      ],
      "text/plain": [
       "   year_week  index  year eweek type_dengue  number\n",
       "0  2014-00-1      1  2014    00         DHF   437.0\n",
       "1  2014-01-1      3  2014    01         DHF   479.0\n",
       "2  2014-02-1      5  2014    02         DHF   401.0\n",
       "3  2014-03-1      7  2014    03         DHF   336.0\n",
       "4  2014-04-1      9  2014    04         DHF   234.0"
      ]
     },
     "execution_count": 59,
     "metadata": {},
     "output_type": "execute_result"
    }
   ],
   "source": [
    "#standardising to datetime format\n",
    "dengue_cases['year_week'] = dengue_cases['year_week'] + '-1'\n",
    "dengue_cases.head()"
   ]
  },
  {
   "cell_type": "code",
   "execution_count": 60,
   "metadata": {},
   "outputs": [
    {
     "data": {
      "text/html": [
       "<div>\n",
       "<style scoped>\n",
       "    .dataframe tbody tr th:only-of-type {\n",
       "        vertical-align: middle;\n",
       "    }\n",
       "\n",
       "    .dataframe tbody tr th {\n",
       "        vertical-align: top;\n",
       "    }\n",
       "\n",
       "    .dataframe thead th {\n",
       "        text-align: right;\n",
       "    }\n",
       "</style>\n",
       "<table border=\"1\" class=\"dataframe\">\n",
       "  <thead>\n",
       "    <tr style=\"text-align: right;\">\n",
       "      <th></th>\n",
       "      <th>year_week</th>\n",
       "      <th>number</th>\n",
       "    </tr>\n",
       "  </thead>\n",
       "  <tbody>\n",
       "    <tr>\n",
       "      <th>0</th>\n",
       "      <td>2014-00-1</td>\n",
       "      <td>437.0</td>\n",
       "    </tr>\n",
       "    <tr>\n",
       "      <th>1</th>\n",
       "      <td>2014-01-1</td>\n",
       "      <td>479.0</td>\n",
       "    </tr>\n",
       "    <tr>\n",
       "      <th>2</th>\n",
       "      <td>2014-02-1</td>\n",
       "      <td>401.0</td>\n",
       "    </tr>\n",
       "    <tr>\n",
       "      <th>3</th>\n",
       "      <td>2014-03-1</td>\n",
       "      <td>336.0</td>\n",
       "    </tr>\n",
       "    <tr>\n",
       "      <th>4</th>\n",
       "      <td>2014-04-1</td>\n",
       "      <td>234.0</td>\n",
       "    </tr>\n",
       "  </tbody>\n",
       "</table>\n",
       "</div>"
      ],
      "text/plain": [
       "   year_week  number\n",
       "0  2014-00-1   437.0\n",
       "1  2014-01-1   479.0\n",
       "2  2014-02-1   401.0\n",
       "3  2014-03-1   336.0\n",
       "4  2014-04-1   234.0"
      ]
     },
     "execution_count": 60,
     "metadata": {},
     "output_type": "execute_result"
    }
   ],
   "source": [
    "#dropping extra columns that are not needed\n",
    "dengue_cases.drop(columns='index',inplace=True)\n",
    "dengue_cases.drop(columns='year',inplace=True)\n",
    "dengue_cases.drop(columns='eweek',inplace=True)\n",
    "dengue_cases.drop(columns='type_dengue',inplace=True)\n",
    "dengue_cases.head()"
   ]
  },
  {
   "cell_type": "code",
   "execution_count": 61,
   "metadata": {},
   "outputs": [
    {
     "data": {
      "text/html": [
       "<div>\n",
       "<style scoped>\n",
       "    .dataframe tbody tr th:only-of-type {\n",
       "        vertical-align: middle;\n",
       "    }\n",
       "\n",
       "    .dataframe tbody tr th {\n",
       "        vertical-align: top;\n",
       "    }\n",
       "\n",
       "    .dataframe thead th {\n",
       "        text-align: right;\n",
       "    }\n",
       "</style>\n",
       "<table border=\"1\" class=\"dataframe\">\n",
       "  <thead>\n",
       "    <tr style=\"text-align: right;\">\n",
       "      <th></th>\n",
       "      <th>year_week</th>\n",
       "      <th>number_of_cases</th>\n",
       "    </tr>\n",
       "  </thead>\n",
       "  <tbody>\n",
       "    <tr>\n",
       "      <th>0</th>\n",
       "      <td>2014-00-1</td>\n",
       "      <td>437.0</td>\n",
       "    </tr>\n",
       "    <tr>\n",
       "      <th>1</th>\n",
       "      <td>2014-01-1</td>\n",
       "      <td>479.0</td>\n",
       "    </tr>\n",
       "    <tr>\n",
       "      <th>2</th>\n",
       "      <td>2014-02-1</td>\n",
       "      <td>401.0</td>\n",
       "    </tr>\n",
       "    <tr>\n",
       "      <th>3</th>\n",
       "      <td>2014-03-1</td>\n",
       "      <td>336.0</td>\n",
       "    </tr>\n",
       "    <tr>\n",
       "      <th>4</th>\n",
       "      <td>2014-04-1</td>\n",
       "      <td>234.0</td>\n",
       "    </tr>\n",
       "  </tbody>\n",
       "</table>\n",
       "</div>"
      ],
      "text/plain": [
       "   year_week  number_of_cases\n",
       "0  2014-00-1            437.0\n",
       "1  2014-01-1            479.0\n",
       "2  2014-02-1            401.0\n",
       "3  2014-03-1            336.0\n",
       "4  2014-04-1            234.0"
      ]
     },
     "execution_count": 61,
     "metadata": {},
     "output_type": "execute_result"
    }
   ],
   "source": [
    "#renaming 'number' column to 'number_of_cases' for clarity\n",
    "dengue_cases.rename(columns = {'number' : 'number_of_cases'},inplace=True)\n",
    "dengue_cases.head()"
   ]
  },
  {
   "cell_type": "code",
   "execution_count": 62,
   "metadata": {},
   "outputs": [
    {
     "name": "stdout",
     "output_type": "stream",
     "text": [
      "<class 'pandas.core.frame.DataFrame'>\n",
      "RangeIndex: 261 entries, 0 to 260\n",
      "Data columns (total 2 columns):\n",
      " #   Column           Non-Null Count  Dtype         \n",
      "---  ------           --------------  -----         \n",
      " 0   year_week        261 non-null    datetime64[ns]\n",
      " 1   number_of_cases  261 non-null    float64       \n",
      "dtypes: datetime64[ns](1), float64(1)\n",
      "memory usage: 4.2 KB\n"
     ]
    }
   ],
   "source": [
    "#change to datetime format\n",
    "dengue_cases['year_week'] = pd.to_datetime(dengue_cases['year_week'], format='%Y-%W-%w')\n",
    "dengue_cases.info()"
   ]
  },
  {
   "cell_type": "code",
   "execution_count": 98,
   "metadata": {},
   "outputs": [
    {
     "data": {
      "text/html": [
       "<div>\n",
       "<style scoped>\n",
       "    .dataframe tbody tr th:only-of-type {\n",
       "        vertical-align: middle;\n",
       "    }\n",
       "\n",
       "    .dataframe tbody tr th {\n",
       "        vertical-align: top;\n",
       "    }\n",
       "\n",
       "    .dataframe thead th {\n",
       "        text-align: right;\n",
       "    }\n",
       "</style>\n",
       "<table border=\"1\" class=\"dataframe\">\n",
       "  <thead>\n",
       "    <tr style=\"text-align: right;\">\n",
       "      <th></th>\n",
       "      <th>year_week</th>\n",
       "      <th>number_of_cases</th>\n",
       "    </tr>\n",
       "  </thead>\n",
       "  <tbody>\n",
       "    <tr>\n",
       "      <th>0</th>\n",
       "      <td>2014-01-01</td>\n",
       "      <td>437.0</td>\n",
       "    </tr>\n",
       "    <tr>\n",
       "      <th>1</th>\n",
       "      <td>2014-01-06</td>\n",
       "      <td>479.0</td>\n",
       "    </tr>\n",
       "    <tr>\n",
       "      <th>2</th>\n",
       "      <td>2014-01-13</td>\n",
       "      <td>401.0</td>\n",
       "    </tr>\n",
       "    <tr>\n",
       "      <th>3</th>\n",
       "      <td>2014-01-20</td>\n",
       "      <td>336.0</td>\n",
       "    </tr>\n",
       "    <tr>\n",
       "      <th>4</th>\n",
       "      <td>2014-01-27</td>\n",
       "      <td>234.0</td>\n",
       "    </tr>\n",
       "    <tr>\n",
       "      <th>...</th>\n",
       "      <td>...</td>\n",
       "      <td>...</td>\n",
       "    </tr>\n",
       "    <tr>\n",
       "      <th>256</th>\n",
       "      <td>2018-11-19</td>\n",
       "      <td>109.0</td>\n",
       "    </tr>\n",
       "    <tr>\n",
       "      <th>257</th>\n",
       "      <td>2018-11-26</td>\n",
       "      <td>114.0</td>\n",
       "    </tr>\n",
       "    <tr>\n",
       "      <th>258</th>\n",
       "      <td>2018-12-03</td>\n",
       "      <td>108.0</td>\n",
       "    </tr>\n",
       "    <tr>\n",
       "      <th>259</th>\n",
       "      <td>2018-12-10</td>\n",
       "      <td>128.0</td>\n",
       "    </tr>\n",
       "    <tr>\n",
       "      <th>260</th>\n",
       "      <td>2018-12-17</td>\n",
       "      <td>160.0</td>\n",
       "    </tr>\n",
       "  </tbody>\n",
       "</table>\n",
       "<p>261 rows × 2 columns</p>\n",
       "</div>"
      ],
      "text/plain": [
       "     year_week  number_of_cases\n",
       "0   2014-01-01            437.0\n",
       "1   2014-01-06            479.0\n",
       "2   2014-01-13            401.0\n",
       "3   2014-01-20            336.0\n",
       "4   2014-01-27            234.0\n",
       "..         ...              ...\n",
       "256 2018-11-19            109.0\n",
       "257 2018-11-26            114.0\n",
       "258 2018-12-03            108.0\n",
       "259 2018-12-10            128.0\n",
       "260 2018-12-17            160.0\n",
       "\n",
       "[261 rows x 2 columns]"
      ]
     },
     "execution_count": 98,
     "metadata": {},
     "output_type": "execute_result"
    }
   ],
   "source": [
    "dengue_cases        #to confirm that the year_week is presenting the correct dates after applying datetime"
   ]
  },
  {
   "cell_type": "markdown",
   "metadata": {},
   "source": [
    "### Data Dictionary\n",
    "\n",
    "Now that we've fixed our data, and given it appropriate names, let's create a [data dictionary](http://library.ucmerced.edu/node/10249). \n",
    "\n",
    "A data dictionary provides a quick overview of features/variables/columns, alongside data types and descriptions. The more descriptive you can be, the more useful this document is.\n",
    "\n",
    "Example of a Fictional Data Dictionary Entry: \n",
    "\n",
    "|Feature|Type|Dataset|Description|\n",
    "|---|---|---|---|\n",
    "|**county_pop**|*integer*|2010 census|The population of the county (units in thousands, where 2.5 represents 2500 people).| \n",
    "|**per_poverty**|*float*|2010 census|The percent of the county over the age of 18 living below the 200% of official US poverty rate (units percent to two decimal places 98.10 means 98.1%)|\n",
    "\n",
    "[Here's a quick link to a short guide for formatting markdown in Jupyter notebooks](https://jupyter-notebook.readthedocs.io/en/stable/examples/Notebook/Working%20With%20Markdown%20Cells.html).\n",
    "\n",
    "Provided is the skeleton for formatting a markdown table, with columns headers that will help you create a data dictionary to quickly summarize your data, as well as some examples. **This would be a great thing to copy and paste into your custom README for this project.**\n",
    "\n",
    "*Note*: if you are unsure of what a feature is, check the source of the data! This can be found in the README."
   ]
  },
  {
   "cell_type": "markdown",
   "metadata": {},
   "source": [
    "**To-Do:** *Edit the table below to create your own data dictionary for the datasets you chose.*\n",
    "\n",
    "|Feature|Type|Source|Dataset|Description|\n",
    "|---|---|---|---|---|\n",
    "|total_rainfall|float|GA|rainfall-monthly-total.csv|Total rainfall in Singapore from Jan 1982 to Aug 2022 (units in mm)|\n",
    "|rainy_day|integer|GA|rainfall-monthly-number-of-rain-days.csv|Number of rainy days in Singapore from Jan 1982 to Aug 2022 (units in days)|\n",
    "|humidity|float|NEA|RelativeHumidityMonthlyMean.csv|Measure of the relative humidity in Singapore from Jan 1982 to Aug 2022 (units in %)|\n",
    "|temperature|float|NEA|SurfaceAirTemperatureMonthlyMean.csv|Measure of the temperature of the air in Singapore from Jan 1982 to Aug 2022 (units in deg Celsius)|\n",
    "|merged_2014_2018|mixed|mixed|rainfall-monthly-total.csv, rainfall-monthly-number-of-rain-days.csv, RelativeHumidityMonthlyMean.csv, SurfaceAirTemperatureMonthlyMean.csv|A combination of data that describes the general weather conditions in Singapore from 2014 to 2018. Conditions include temperature, relative humidity, number of rainy days and total monthly rainfall, by month-year.|\n",
    "|dengue_cases|integer|NEA|dengue_cases.csv|Number of dengue cases in Singapore from 2014 to 2018. Number of dengue cases is the total number of cases of Dengue and Dengue Haemorraging Fever.\n"
   ]
  },
  {
   "cell_type": "markdown",
   "metadata": {},
   "source": [
    "## Exploratory Data Analysis\n",
    "\n",
    "Complete the following steps to explore your data. You are welcome to do more EDA than the steps outlined here as you feel necessary:\n",
    "1. Summary Statistics.\n",
    "2. Use a **dictionary comprehension** to apply the standard deviation function you create in part 1 to each numeric column in the dataframe.  **No loops**.\n",
    "    - Assign the output to variable `sd` as a dictionary where: \n",
    "        - Each column name is now a key \n",
    "        - That standard deviation of the column is the value \n",
    "        - *Example Output :* `{'rainfall-monthly-total': xxx, 'no_of_rainy_days': xxx, ...}`\n",
    "3. Investigate trends in the data.\n",
    "    - Using sorting and/or masking (along with the `.head()` method to avoid printing our entire dataframe), consider questions relevant to your problem statement. Some examples are provided below (but feel free to change these questions for your specific problem):\n",
    "        - Which month have the highest and lowest total rainfall in 1990, 2000, 2010 and 2020?\n",
    "        - Which year have the highest and lowest total rainfall in the date range of analysis?\n",
    "        - Which month have the highest and lowest number of rainy days in 1990, 2000, 2010 and 2020?\n",
    "        - Which year have the highest and lowest number of rainy days in the date range of analysis?\n",
    "        - Are there any outliers months in the dataset?\n",
    "       \n",
    "    - **The above 5 questions are compulsory. Feel free to explore other trends based on the datasets that you have choosen for analysis. You should comment on your findings at each step in a markdown cell below your code block**. Make sure you include at least one example of sorting your dataframe by a column, and one example of using boolean filtering (i.e., masking) to select a subset of the dataframe."
   ]
  },
  {
   "cell_type": "code",
   "execution_count": 64,
   "metadata": {},
   "outputs": [
    {
     "name": "stdout",
     "output_type": "stream",
     "text": [
      "                           year_week  number_of_cases\n",
      "count                            261       261.000000\n",
      "mean   2016-06-21 10:56:33.103448320       186.800766\n",
      "min              2014-01-01 00:00:00        24.000000\n",
      "25%              2015-03-23 00:00:00        62.000000\n",
      "50%              2016-06-20 00:00:00       158.000000\n",
      "75%              2017-09-18 00:00:00       250.000000\n",
      "max              2018-12-17 00:00:00       891.000000\n",
      "std                              NaN       158.826461\n",
      "       no_of_rainy_days  total_rainfall   humidity  mean_temp\n",
      "count         60.000000       60.000000  60.000000  60.000000\n",
      "mean          14.133333      141.916667  78.720000  28.033333\n",
      "std            5.768020       79.721443   3.312114   0.741658\n",
      "min            1.000000        0.200000  72.000000  26.100000\n",
      "25%           10.000000       84.050000  76.525000  27.475000\n",
      "50%           14.000000      126.200000  78.450000  28.200000\n",
      "75%           18.250000      185.850000  80.400000  28.500000\n",
      "max           27.000000      371.200000  86.600000  29.400000\n"
     ]
    }
   ],
   "source": [
    "#Code: Summary statistics for 2 data sets\n",
    "print(dengue_cases.describe())\n",
    "print(merged_2014_2018.describe())"
   ]
  },
  {
   "cell_type": "code",
   "execution_count": 65,
   "metadata": {},
   "outputs": [
    {
     "name": "stdout",
     "output_type": "stream",
     "text": [
      "{'no_of_rainy_days': 5.719751354347105, 'total_rainfall': 79.05430658027993, 'humidity': 3.2843974586926388, 'mean_temp': 0.7354514864278194, 'number_of_cases': 158.5219039199358}\n"
     ]
    }
   ],
   "source": [
    "#dictionary comprehension to create standard deviation dictionary\n",
    "\n",
    "sd_rd = std_dev(merged_2014_2018['no_of_rainy_days'])\n",
    "sd_rf = std_dev(merged_2014_2018['total_rainfall'])\n",
    "sd_hum = std_dev(merged_2014_2018['humidity'])\n",
    "sd_temp = std_dev(merged_2014_2018['mean_temp'])\n",
    "sd_deng = std_dev(dengue_cases['number_of_cases'])\n",
    "\n",
    "sd_keys = ['no_of_rainy_days','total_rainfall','humidity','mean_temp','number_of_cases']\n",
    "sd_values = [sd_rd,sd_rf,sd_hum,sd_temp,sd_deng]\n",
    "\n",
    "sd = {k:v for (k,v) in zip(sd_keys,sd_values)}\n",
    "\n",
    "print(sd)\n"
   ]
  },
  {
   "cell_type": "markdown",
   "metadata": {},
   "source": [
    "### Investigating trends in the data"
   ]
  },
  {
   "cell_type": "markdown",
   "metadata": {},
   "source": [
    "#### Which months have the highest and lowest total rainfall in 2014, 2015, 2016, 2017 and 2018?\n",
    "\n",
    "|Year|Month with Highest Total Rainfall|Month with Lowest Total Rainfall|\n",
    "|---|---|---|\n",
    "|2014|November|February|\n",
    "|2015|December|February|\n",
    "|2016|December|March|\n",
    "|2017|December|July|\n",
    "|2018|January|February|\n"
   ]
  },
  {
   "cell_type": "code",
   "execution_count": 66,
   "metadata": {},
   "outputs": [
    {
     "data": {
      "text/html": [
       "<div>\n",
       "<style scoped>\n",
       "    .dataframe tbody tr th:only-of-type {\n",
       "        vertical-align: middle;\n",
       "    }\n",
       "\n",
       "    .dataframe tbody tr th {\n",
       "        vertical-align: top;\n",
       "    }\n",
       "\n",
       "    .dataframe thead th {\n",
       "        text-align: right;\n",
       "    }\n",
       "</style>\n",
       "<table border=\"1\" class=\"dataframe\">\n",
       "  <thead>\n",
       "    <tr style=\"text-align: right;\">\n",
       "      <th></th>\n",
       "      <th>month</th>\n",
       "      <th>no_of_rainy_days</th>\n",
       "      <th>total_rainfall</th>\n",
       "      <th>humidity</th>\n",
       "      <th>mean_temp</th>\n",
       "    </tr>\n",
       "  </thead>\n",
       "  <tbody>\n",
       "    <tr>\n",
       "      <th>0</th>\n",
       "      <td>2014-01</td>\n",
       "      <td>5</td>\n",
       "      <td>75.4</td>\n",
       "      <td>78.5</td>\n",
       "      <td>26.2</td>\n",
       "    </tr>\n",
       "    <tr>\n",
       "      <th>1</th>\n",
       "      <td>2014-02</td>\n",
       "      <td>1</td>\n",
       "      <td>0.2</td>\n",
       "      <td>74.5</td>\n",
       "      <td>27.2</td>\n",
       "    </tr>\n",
       "    <tr>\n",
       "      <th>2</th>\n",
       "      <td>2014-03</td>\n",
       "      <td>6</td>\n",
       "      <td>66.0</td>\n",
       "      <td>76.0</td>\n",
       "      <td>27.9</td>\n",
       "    </tr>\n",
       "    <tr>\n",
       "      <th>3</th>\n",
       "      <td>2014-04</td>\n",
       "      <td>17</td>\n",
       "      <td>110.0</td>\n",
       "      <td>80.0</td>\n",
       "      <td>28.2</td>\n",
       "    </tr>\n",
       "    <tr>\n",
       "      <th>4</th>\n",
       "      <td>2014-05</td>\n",
       "      <td>18</td>\n",
       "      <td>125.8</td>\n",
       "      <td>80.2</td>\n",
       "      <td>28.6</td>\n",
       "    </tr>\n",
       "  </tbody>\n",
       "</table>\n",
       "</div>"
      ],
      "text/plain": [
       "     month  no_of_rainy_days  total_rainfall  humidity  mean_temp\n",
       "0  2014-01                 5            75.4      78.5       26.2\n",
       "1  2014-02                 1             0.2      74.5       27.2\n",
       "2  2014-03                 6            66.0      76.0       27.9\n",
       "3  2014-04                17           110.0      80.0       28.2\n",
       "4  2014-05                18           125.8      80.2       28.6"
      ]
     },
     "execution_count": 66,
     "metadata": {},
     "output_type": "execute_result"
    }
   ],
   "source": [
    "merged_2014_2018.head()"
   ]
  },
  {
   "cell_type": "code",
   "execution_count": 67,
   "metadata": {},
   "outputs": [
    {
     "data": {
      "text/html": [
       "<div>\n",
       "<style scoped>\n",
       "    .dataframe tbody tr th:only-of-type {\n",
       "        vertical-align: middle;\n",
       "    }\n",
       "\n",
       "    .dataframe tbody tr th {\n",
       "        vertical-align: top;\n",
       "    }\n",
       "\n",
       "    .dataframe thead th {\n",
       "        text-align: right;\n",
       "    }\n",
       "</style>\n",
       "<table border=\"1\" class=\"dataframe\">\n",
       "  <thead>\n",
       "    <tr style=\"text-align: right;\">\n",
       "      <th></th>\n",
       "      <th>month</th>\n",
       "      <th>no_of_rainy_days</th>\n",
       "      <th>total_rainfall</th>\n",
       "      <th>humidity</th>\n",
       "      <th>mean_temp</th>\n",
       "    </tr>\n",
       "  </thead>\n",
       "  <tbody>\n",
       "    <tr>\n",
       "      <th>0</th>\n",
       "      <td>2014-01</td>\n",
       "      <td>5</td>\n",
       "      <td>75.4</td>\n",
       "      <td>78.5</td>\n",
       "      <td>26.2</td>\n",
       "    </tr>\n",
       "    <tr>\n",
       "      <th>1</th>\n",
       "      <td>2014-02</td>\n",
       "      <td>1</td>\n",
       "      <td>0.2</td>\n",
       "      <td>74.5</td>\n",
       "      <td>27.2</td>\n",
       "    </tr>\n",
       "    <tr>\n",
       "      <th>2</th>\n",
       "      <td>2014-03</td>\n",
       "      <td>6</td>\n",
       "      <td>66.0</td>\n",
       "      <td>76.0</td>\n",
       "      <td>27.9</td>\n",
       "    </tr>\n",
       "    <tr>\n",
       "      <th>3</th>\n",
       "      <td>2014-04</td>\n",
       "      <td>17</td>\n",
       "      <td>110.0</td>\n",
       "      <td>80.0</td>\n",
       "      <td>28.2</td>\n",
       "    </tr>\n",
       "    <tr>\n",
       "      <th>4</th>\n",
       "      <td>2014-05</td>\n",
       "      <td>18</td>\n",
       "      <td>125.8</td>\n",
       "      <td>80.2</td>\n",
       "      <td>28.6</td>\n",
       "    </tr>\n",
       "  </tbody>\n",
       "</table>\n",
       "</div>"
      ],
      "text/plain": [
       "     month  no_of_rainy_days  total_rainfall  humidity  mean_temp\n",
       "0  2014-01                 5            75.4      78.5       26.2\n",
       "1  2014-02                 1             0.2      74.5       27.2\n",
       "2  2014-03                 6            66.0      76.0       27.9\n",
       "3  2014-04                17           110.0      80.0       28.2\n",
       "4  2014-05                18           125.8      80.2       28.6"
      ]
     },
     "execution_count": 67,
     "metadata": {},
     "output_type": "execute_result"
    }
   ],
   "source": [
    "new_merged = merged_2014_2018.copy()\n",
    "new_merged.head()"
   ]
  },
  {
   "cell_type": "code",
   "execution_count": 68,
   "metadata": {},
   "outputs": [
    {
     "name": "stdout",
     "output_type": "stream",
     "text": [
      "<class 'pandas.core.frame.DataFrame'>\n",
      "RangeIndex: 60 entries, 0 to 59\n",
      "Data columns (total 5 columns):\n",
      " #   Column            Non-Null Count  Dtype  \n",
      "---  ------            --------------  -----  \n",
      " 0   month             60 non-null     object \n",
      " 1   no_of_rainy_days  60 non-null     int64  \n",
      " 2   total_rainfall    60 non-null     float64\n",
      " 3   humidity          60 non-null     float64\n",
      " 4   mean_temp         60 non-null     float64\n",
      "dtypes: float64(3), int64(1), object(1)\n",
      "memory usage: 2.5+ KB\n"
     ]
    }
   ],
   "source": [
    "new_merged['month'] = new_merged['month'].astype(str)\n",
    "new_merged.info()"
   ]
  },
  {
   "cell_type": "code",
   "execution_count": 69,
   "metadata": {},
   "outputs": [],
   "source": [
    "new_merged[['year','month_only']] = new_merged['month'].str.split('-',expand=True)"
   ]
  },
  {
   "cell_type": "code",
   "execution_count": 70,
   "metadata": {},
   "outputs": [
    {
     "data": {
      "text/plain": [
       "year\n",
       "2014    10\n",
       "2015    23\n",
       "2016    35\n",
       "2017    47\n",
       "2018    48\n",
       "Name: total_rainfall, dtype: int64"
      ]
     },
     "execution_count": 70,
     "metadata": {},
     "output_type": "execute_result"
    }
   ],
   "source": [
    "new_merged_rainfall_max = new_merged.groupby(by=['year'])['total_rainfall'].idxmax()\n",
    "new_merged_rainfall_max"
   ]
  },
  {
   "cell_type": "code",
   "execution_count": 71,
   "metadata": {},
   "outputs": [
    {
     "name": "stdout",
     "output_type": "stream",
     "text": [
      "Highest Rainfall\n",
      "2014: month = 11\n",
      "2015: month = 12\n",
      "2016: month = 12\n",
      "2017: month = 12\n",
      "2018: month = 01\n"
     ]
    }
   ],
   "source": [
    "h2014 = new_merged.loc[10]['month_only']\n",
    "h2015 = new_merged.loc[23]['month_only']\n",
    "h2016 = new_merged.loc[35]['month_only']\n",
    "h2017 = new_merged.loc[47]['month_only']\n",
    "h2018 = new_merged.loc[48]['month_only']\n",
    "\n",
    "print(f'Highest Rainfall\\n2014: month = {h2014}\\n2015: month = {h2015}\\n2016: month = {h2016}\\n2017: month = {h2017}\\n2018: month = {h2018}')"
   ]
  },
  {
   "cell_type": "code",
   "execution_count": 72,
   "metadata": {},
   "outputs": [
    {
     "data": {
      "text/plain": [
       "year\n",
       "2014     1\n",
       "2015    13\n",
       "2016    26\n",
       "2017    42\n",
       "2018    49\n",
       "Name: total_rainfall, dtype: int64"
      ]
     },
     "execution_count": 72,
     "metadata": {},
     "output_type": "execute_result"
    }
   ],
   "source": [
    "new_merged_rainfall_min = new_merged.groupby(by=['year'])['total_rainfall'].idxmin()\n",
    "new_merged_rainfall_min"
   ]
  },
  {
   "cell_type": "code",
   "execution_count": 73,
   "metadata": {},
   "outputs": [
    {
     "name": "stdout",
     "output_type": "stream",
     "text": [
      "Lowest Rainfall\n",
      "2014: month = 02\n",
      "2015: month = 02\n",
      "2016: month = 03\n",
      "2017: month = 07\n",
      "2018: month = 02\n"
     ]
    }
   ],
   "source": [
    "l2014 = new_merged.loc[1]['month_only']\n",
    "l2015 = new_merged.loc[13]['month_only']\n",
    "l2016 = new_merged.loc[26]['month_only']\n",
    "l2017 = new_merged.loc[42]['month_only']\n",
    "l2018 = new_merged.loc[49]['month_only']\n",
    "\n",
    "print(f'Lowest Rainfall\\n2014: month = {l2014}\\n2015: month = {l2015}\\n2016: month = {l2016}\\n2017: month = {l2017}\\n2018: month = {l2018}')\n"
   ]
  },
  {
   "cell_type": "markdown",
   "metadata": {},
   "source": [
    "#### Which year has the highest and lowest total rainfall in 2014, 2015, 2016, 2017 and 2018?\n",
    "\n",
    "|Year|Amount of Rainfall per year (mm)|Highest / Lowest|\n",
    "|---|---|---|\n",
    "|2014|1538.4| |\n",
    "|2015|1267.1|Lowest|\n",
    "|2016|1955.7| |\n",
    "|2017|2045.6|Highest|\n",
    "|2018|1708.2| |"
   ]
  },
  {
   "cell_type": "code",
   "execution_count": 74,
   "metadata": {},
   "outputs": [
    {
     "data": {
      "text/html": [
       "<div>\n",
       "<style scoped>\n",
       "    .dataframe tbody tr th:only-of-type {\n",
       "        vertical-align: middle;\n",
       "    }\n",
       "\n",
       "    .dataframe tbody tr th {\n",
       "        vertical-align: top;\n",
       "    }\n",
       "\n",
       "    .dataframe thead th {\n",
       "        text-align: right;\n",
       "    }\n",
       "</style>\n",
       "<table border=\"1\" class=\"dataframe\">\n",
       "  <thead>\n",
       "    <tr style=\"text-align: right;\">\n",
       "      <th></th>\n",
       "      <th>month</th>\n",
       "      <th>no_of_rainy_days</th>\n",
       "      <th>total_rainfall</th>\n",
       "      <th>humidity</th>\n",
       "      <th>mean_temp</th>\n",
       "      <th>year</th>\n",
       "      <th>month_only</th>\n",
       "    </tr>\n",
       "  </thead>\n",
       "  <tbody>\n",
       "    <tr>\n",
       "      <th>0</th>\n",
       "      <td>2014-01</td>\n",
       "      <td>5</td>\n",
       "      <td>75.4</td>\n",
       "      <td>78.5</td>\n",
       "      <td>26.2</td>\n",
       "      <td>2014</td>\n",
       "      <td>01</td>\n",
       "    </tr>\n",
       "    <tr>\n",
       "      <th>1</th>\n",
       "      <td>2014-02</td>\n",
       "      <td>1</td>\n",
       "      <td>0.2</td>\n",
       "      <td>74.5</td>\n",
       "      <td>27.2</td>\n",
       "      <td>2014</td>\n",
       "      <td>02</td>\n",
       "    </tr>\n",
       "    <tr>\n",
       "      <th>2</th>\n",
       "      <td>2014-03</td>\n",
       "      <td>6</td>\n",
       "      <td>66.0</td>\n",
       "      <td>76.0</td>\n",
       "      <td>27.9</td>\n",
       "      <td>2014</td>\n",
       "      <td>03</td>\n",
       "    </tr>\n",
       "    <tr>\n",
       "      <th>3</th>\n",
       "      <td>2014-04</td>\n",
       "      <td>17</td>\n",
       "      <td>110.0</td>\n",
       "      <td>80.0</td>\n",
       "      <td>28.2</td>\n",
       "      <td>2014</td>\n",
       "      <td>04</td>\n",
       "    </tr>\n",
       "    <tr>\n",
       "      <th>4</th>\n",
       "      <td>2014-05</td>\n",
       "      <td>18</td>\n",
       "      <td>125.8</td>\n",
       "      <td>80.2</td>\n",
       "      <td>28.6</td>\n",
       "      <td>2014</td>\n",
       "      <td>05</td>\n",
       "    </tr>\n",
       "  </tbody>\n",
       "</table>\n",
       "</div>"
      ],
      "text/plain": [
       "     month  no_of_rainy_days  total_rainfall  humidity  mean_temp  year  \\\n",
       "0  2014-01                 5            75.4      78.5       26.2  2014   \n",
       "1  2014-02                 1             0.2      74.5       27.2  2014   \n",
       "2  2014-03                 6            66.0      76.0       27.9  2014   \n",
       "3  2014-04                17           110.0      80.0       28.2  2014   \n",
       "4  2014-05                18           125.8      80.2       28.6  2014   \n",
       "\n",
       "  month_only  \n",
       "0         01  \n",
       "1         02  \n",
       "2         03  \n",
       "3         04  \n",
       "4         05  "
      ]
     },
     "execution_count": 74,
     "metadata": {},
     "output_type": "execute_result"
    }
   ],
   "source": [
    "new_merged.head()"
   ]
  },
  {
   "cell_type": "code",
   "execution_count": 75,
   "metadata": {},
   "outputs": [
    {
     "data": {
      "text/plain": [
       "year\n",
       "2014    1538.4\n",
       "2015    1267.1\n",
       "2016    1955.7\n",
       "2017    2045.6\n",
       "2018    1708.2\n",
       "Name: total_rainfall, dtype: float64"
      ]
     },
     "execution_count": 75,
     "metadata": {},
     "output_type": "execute_result"
    }
   ],
   "source": [
    "new_merged_rainfall_sum = new_merged.groupby(by=['year'])['total_rainfall'].sum()\n",
    "new_merged_rainfall_sum"
   ]
  },
  {
   "cell_type": "markdown",
   "metadata": {},
   "source": [
    "#### Which months have the highest and lowest number of rainy days in 2014, 2015, 2016, 2017 and 2018?\n",
    "\n",
    "|Year|Month with Highest Number of Rainy Days|Month with Lowest Number of Rainy Days|\n",
    "|---|---|---|\n",
    "|2014|November|February|\n",
    "|2015|December|March|\n",
    "|2016|December|March|\n",
    "|2017|November|July|\n",
    "|2018|December|February|"
   ]
  },
  {
   "cell_type": "code",
   "execution_count": 76,
   "metadata": {},
   "outputs": [
    {
     "data": {
      "text/html": [
       "<div>\n",
       "<style scoped>\n",
       "    .dataframe tbody tr th:only-of-type {\n",
       "        vertical-align: middle;\n",
       "    }\n",
       "\n",
       "    .dataframe tbody tr th {\n",
       "        vertical-align: top;\n",
       "    }\n",
       "\n",
       "    .dataframe thead th {\n",
       "        text-align: right;\n",
       "    }\n",
       "</style>\n",
       "<table border=\"1\" class=\"dataframe\">\n",
       "  <thead>\n",
       "    <tr style=\"text-align: right;\">\n",
       "      <th></th>\n",
       "      <th>month</th>\n",
       "      <th>no_of_rainy_days</th>\n",
       "      <th>total_rainfall</th>\n",
       "      <th>humidity</th>\n",
       "      <th>mean_temp</th>\n",
       "      <th>year</th>\n",
       "      <th>month_only</th>\n",
       "    </tr>\n",
       "  </thead>\n",
       "  <tbody>\n",
       "    <tr>\n",
       "      <th>0</th>\n",
       "      <td>2014-01</td>\n",
       "      <td>5</td>\n",
       "      <td>75.4</td>\n",
       "      <td>78.5</td>\n",
       "      <td>26.2</td>\n",
       "      <td>2014</td>\n",
       "      <td>01</td>\n",
       "    </tr>\n",
       "    <tr>\n",
       "      <th>1</th>\n",
       "      <td>2014-02</td>\n",
       "      <td>1</td>\n",
       "      <td>0.2</td>\n",
       "      <td>74.5</td>\n",
       "      <td>27.2</td>\n",
       "      <td>2014</td>\n",
       "      <td>02</td>\n",
       "    </tr>\n",
       "    <tr>\n",
       "      <th>2</th>\n",
       "      <td>2014-03</td>\n",
       "      <td>6</td>\n",
       "      <td>66.0</td>\n",
       "      <td>76.0</td>\n",
       "      <td>27.9</td>\n",
       "      <td>2014</td>\n",
       "      <td>03</td>\n",
       "    </tr>\n",
       "    <tr>\n",
       "      <th>3</th>\n",
       "      <td>2014-04</td>\n",
       "      <td>17</td>\n",
       "      <td>110.0</td>\n",
       "      <td>80.0</td>\n",
       "      <td>28.2</td>\n",
       "      <td>2014</td>\n",
       "      <td>04</td>\n",
       "    </tr>\n",
       "    <tr>\n",
       "      <th>4</th>\n",
       "      <td>2014-05</td>\n",
       "      <td>18</td>\n",
       "      <td>125.8</td>\n",
       "      <td>80.2</td>\n",
       "      <td>28.6</td>\n",
       "      <td>2014</td>\n",
       "      <td>05</td>\n",
       "    </tr>\n",
       "  </tbody>\n",
       "</table>\n",
       "</div>"
      ],
      "text/plain": [
       "     month  no_of_rainy_days  total_rainfall  humidity  mean_temp  year  \\\n",
       "0  2014-01                 5            75.4      78.5       26.2  2014   \n",
       "1  2014-02                 1             0.2      74.5       27.2  2014   \n",
       "2  2014-03                 6            66.0      76.0       27.9  2014   \n",
       "3  2014-04                17           110.0      80.0       28.2  2014   \n",
       "4  2014-05                18           125.8      80.2       28.6  2014   \n",
       "\n",
       "  month_only  \n",
       "0         01  \n",
       "1         02  \n",
       "2         03  \n",
       "3         04  \n",
       "4         05  "
      ]
     },
     "execution_count": 76,
     "metadata": {},
     "output_type": "execute_result"
    }
   ],
   "source": [
    "new_merged.head()"
   ]
  },
  {
   "cell_type": "code",
   "execution_count": 77,
   "metadata": {},
   "outputs": [
    {
     "data": {
      "text/plain": [
       "year\n",
       "2014    10\n",
       "2015    23\n",
       "2016    35\n",
       "2017    46\n",
       "2018    58\n",
       "Name: no_of_rainy_days, dtype: int64"
      ]
     },
     "execution_count": 77,
     "metadata": {},
     "output_type": "execute_result"
    }
   ],
   "source": [
    "new_merged_rainy_max = new_merged.groupby(by=['year'])['no_of_rainy_days'].idxmax()\n",
    "new_merged_rainy_max"
   ]
  },
  {
   "cell_type": "code",
   "execution_count": 78,
   "metadata": {},
   "outputs": [],
   "source": [
    "h_rd_2014 = new_merged.loc[10]['month_only']\n",
    "h_rd_2015 = new_merged.loc[23]['month_only']\n",
    "h_rd_2016 = new_merged.loc[35]['month_only']\n",
    "h_rd_2017 = new_merged.loc[46]['month_only']\n",
    "h_rd_2018 = new_merged.loc[58]['month_only']"
   ]
  },
  {
   "cell_type": "code",
   "execution_count": 79,
   "metadata": {},
   "outputs": [
    {
     "name": "stdout",
     "output_type": "stream",
     "text": [
      "Highest Month\n",
      "2014: 11\n",
      "2015: 12\n",
      "2016: 12\n",
      "2017: 11\n",
      "2018: 11\n"
     ]
    }
   ],
   "source": [
    "print(f'Highest Month\\n2014: {h_rd_2014}\\n2015: {h_rd_2015}\\n2016: {h_rd_2016}\\n2017: {h_rd_2017}\\n2018: {h_rd_2018}')"
   ]
  },
  {
   "cell_type": "code",
   "execution_count": 80,
   "metadata": {},
   "outputs": [
    {
     "data": {
      "text/plain": [
       "year\n",
       "2014     1\n",
       "2015    14\n",
       "2016    26\n",
       "2017    42\n",
       "2018    49\n",
       "Name: no_of_rainy_days, dtype: int64"
      ]
     },
     "execution_count": 80,
     "metadata": {},
     "output_type": "execute_result"
    }
   ],
   "source": [
    "new_merged_rainy_min = new_merged.groupby(by=['year'])['no_of_rainy_days'].idxmin()\n",
    "new_merged_rainy_min"
   ]
  },
  {
   "cell_type": "code",
   "execution_count": 81,
   "metadata": {},
   "outputs": [],
   "source": [
    "l_rd_2014 = new_merged.loc[1]['month_only']\n",
    "l_rd_2015 = new_merged.loc[14]['month_only']\n",
    "l_rd_2016 = new_merged.loc[26]['month_only']\n",
    "l_rd_2017 = new_merged.loc[42]['month_only']\n",
    "l_rd_2018 = new_merged.loc[49]['month_only']"
   ]
  },
  {
   "cell_type": "code",
   "execution_count": 82,
   "metadata": {},
   "outputs": [
    {
     "name": "stdout",
     "output_type": "stream",
     "text": [
      "Lowest Month\n",
      "2014: 02\n",
      "2015: 03\n",
      "2016: 03\n",
      "2017: 07\n",
      "2018: 02\n"
     ]
    }
   ],
   "source": [
    "print(f'Lowest Month\\n2014: {l_rd_2014}\\n2015: {l_rd_2015}\\n2016: {l_rd_2016}\\n2017: {l_rd_2017}\\n2018: {l_rd_2018}')"
   ]
  },
  {
   "cell_type": "markdown",
   "metadata": {},
   "source": [
    "#### Which year has the highest and lowest number of rainy days in 2014, 2015, 2016, 2017 and 2018?\n",
    "\n",
    "|Year|Amount of Rainfall per year (mm)|Highest / Lowest|\n",
    "|---|---|---|\n",
    "|2014|152| |\n",
    "|2015|125|Lowest|\n",
    "|2016|179| |\n",
    "|2017|204|Highest|\n",
    "|2018|188| |"
   ]
  },
  {
   "cell_type": "code",
   "execution_count": 83,
   "metadata": {},
   "outputs": [
    {
     "data": {
      "text/html": [
       "<div>\n",
       "<style scoped>\n",
       "    .dataframe tbody tr th:only-of-type {\n",
       "        vertical-align: middle;\n",
       "    }\n",
       "\n",
       "    .dataframe tbody tr th {\n",
       "        vertical-align: top;\n",
       "    }\n",
       "\n",
       "    .dataframe thead th {\n",
       "        text-align: right;\n",
       "    }\n",
       "</style>\n",
       "<table border=\"1\" class=\"dataframe\">\n",
       "  <thead>\n",
       "    <tr style=\"text-align: right;\">\n",
       "      <th></th>\n",
       "      <th>month</th>\n",
       "      <th>no_of_rainy_days</th>\n",
       "      <th>total_rainfall</th>\n",
       "      <th>humidity</th>\n",
       "      <th>mean_temp</th>\n",
       "      <th>year</th>\n",
       "      <th>month_only</th>\n",
       "    </tr>\n",
       "  </thead>\n",
       "  <tbody>\n",
       "    <tr>\n",
       "      <th>0</th>\n",
       "      <td>2014-01</td>\n",
       "      <td>5</td>\n",
       "      <td>75.4</td>\n",
       "      <td>78.5</td>\n",
       "      <td>26.2</td>\n",
       "      <td>2014</td>\n",
       "      <td>01</td>\n",
       "    </tr>\n",
       "    <tr>\n",
       "      <th>1</th>\n",
       "      <td>2014-02</td>\n",
       "      <td>1</td>\n",
       "      <td>0.2</td>\n",
       "      <td>74.5</td>\n",
       "      <td>27.2</td>\n",
       "      <td>2014</td>\n",
       "      <td>02</td>\n",
       "    </tr>\n",
       "    <tr>\n",
       "      <th>2</th>\n",
       "      <td>2014-03</td>\n",
       "      <td>6</td>\n",
       "      <td>66.0</td>\n",
       "      <td>76.0</td>\n",
       "      <td>27.9</td>\n",
       "      <td>2014</td>\n",
       "      <td>03</td>\n",
       "    </tr>\n",
       "    <tr>\n",
       "      <th>3</th>\n",
       "      <td>2014-04</td>\n",
       "      <td>17</td>\n",
       "      <td>110.0</td>\n",
       "      <td>80.0</td>\n",
       "      <td>28.2</td>\n",
       "      <td>2014</td>\n",
       "      <td>04</td>\n",
       "    </tr>\n",
       "    <tr>\n",
       "      <th>4</th>\n",
       "      <td>2014-05</td>\n",
       "      <td>18</td>\n",
       "      <td>125.8</td>\n",
       "      <td>80.2</td>\n",
       "      <td>28.6</td>\n",
       "      <td>2014</td>\n",
       "      <td>05</td>\n",
       "    </tr>\n",
       "  </tbody>\n",
       "</table>\n",
       "</div>"
      ],
      "text/plain": [
       "     month  no_of_rainy_days  total_rainfall  humidity  mean_temp  year  \\\n",
       "0  2014-01                 5            75.4      78.5       26.2  2014   \n",
       "1  2014-02                 1             0.2      74.5       27.2  2014   \n",
       "2  2014-03                 6            66.0      76.0       27.9  2014   \n",
       "3  2014-04                17           110.0      80.0       28.2  2014   \n",
       "4  2014-05                18           125.8      80.2       28.6  2014   \n",
       "\n",
       "  month_only  \n",
       "0         01  \n",
       "1         02  \n",
       "2         03  \n",
       "3         04  \n",
       "4         05  "
      ]
     },
     "execution_count": 83,
     "metadata": {},
     "output_type": "execute_result"
    }
   ],
   "source": [
    "new_merged.head()"
   ]
  },
  {
   "cell_type": "code",
   "execution_count": 84,
   "metadata": {},
   "outputs": [
    {
     "data": {
      "text/plain": [
       "year\n",
       "2014    152\n",
       "2015    125\n",
       "2016    179\n",
       "2017    204\n",
       "2018    188\n",
       "Name: no_of_rainy_days, dtype: int64"
      ]
     },
     "execution_count": 84,
     "metadata": {},
     "output_type": "execute_result"
    }
   ],
   "source": [
    "new_merged_rainy_sum = new_merged.groupby(by=['year'])['no_of_rainy_days'].sum()\n",
    "new_merged_rainy_sum"
   ]
  },
  {
   "cell_type": "markdown",
   "metadata": {},
   "source": [
    "#### Are there any outliers in the dataset?\n",
    "\n",
    "|Column|Number of Outliers|Location (if applicable)|\n",
    "|---|---|---|\n",
    "|Total Rainfall|1|Index = 47|\n",
    "|Number of Rainy Days|None||\n",
    "|Humidity|2|Index = 46 , 48|\n",
    "|Temperature|None||\n"
   ]
  },
  {
   "cell_type": "code",
   "execution_count": 85,
   "metadata": {},
   "outputs": [],
   "source": [
    "def quartiles_outliers(arr1):\n",
    "    \n",
    "    # finding the 1st quartile\n",
    "    q1 = np.quantile(arr1, 0.25)\n",
    "    \n",
    "    # finding the 3rd quartile\n",
    "    q3 = np.quantile(arr1, 0.75)\n",
    "    med = np.median(arr1)\n",
    "    \n",
    "    # finding the iqr region\n",
    "    iqr = round(q3-q1,4)\n",
    "    \n",
    "    # finding upper and lower whiskers\n",
    "    upper_bound = round(q3+(1.5*iqr),4)\n",
    "    lower_bound = round(q1-(1.5*iqr),4)\n",
    "    \n",
    "    print(f'The IQR is {iqr}, with upper whiskers = {upper_bound}, and lower whiskers = {lower_bound}.')\n",
    "\n",
    "    outliers = arr1[(arr1 <= lower_bound) | (arr1 >= upper_bound)]\n",
    "    \n",
    "    print('The following are the outliers in the boxplot: {}'.format(outliers))\n",
    "    return\n"
   ]
  },
  {
   "cell_type": "code",
   "execution_count": 86,
   "metadata": {},
   "outputs": [
    {
     "name": "stdout",
     "output_type": "stream",
     "text": [
      "The IQR is 101.8, with upper whiskers = 338.55, and lower whiskers = -68.65.\n",
      "The following are the outliers in the boxplot: 47    371.2\n",
      "Name: total_rainfall, dtype: float64\n"
     ]
    }
   ],
   "source": [
    "quartiles_outliers(merged_2014_2018['total_rainfall'])"
   ]
  },
  {
   "cell_type": "code",
   "execution_count": 87,
   "metadata": {},
   "outputs": [
    {
     "name": "stdout",
     "output_type": "stream",
     "text": [
      "The IQR is 8.25, with upper whiskers = 30.625, and lower whiskers = -2.375.\n",
      "The following are the outliers in the boxplot: Series([], Name: no_of_rainy_days, dtype: int64)\n"
     ]
    }
   ],
   "source": [
    "quartiles_outliers(merged_2014_2018['no_of_rainy_days'])"
   ]
  },
  {
   "cell_type": "code",
   "execution_count": 88,
   "metadata": {},
   "outputs": [
    {
     "name": "stdout",
     "output_type": "stream",
     "text": [
      "The IQR is 3.875, with upper whiskers = 86.2125, and lower whiskers = 70.7125.\n",
      "The following are the outliers in the boxplot: 46    86.3\n",
      "48    86.6\n",
      "Name: humidity, dtype: float64\n"
     ]
    }
   ],
   "source": [
    "quartiles_outliers(merged_2014_2018['humidity'])"
   ]
  },
  {
   "cell_type": "code",
   "execution_count": 89,
   "metadata": {},
   "outputs": [
    {
     "name": "stdout",
     "output_type": "stream",
     "text": [
      "The IQR is 1.025, with upper whiskers = 30.0375, and lower whiskers = 25.9375.\n",
      "The following are the outliers in the boxplot: Series([], Name: mean_temp, dtype: float64)\n"
     ]
    }
   ],
   "source": [
    "quartiles_outliers(merged_2014_2018['mean_temp'])"
   ]
  },
  {
   "cell_type": "markdown",
   "metadata": {},
   "source": [
    "## Visualize the Data\n",
    "\n",
    "There's not a magic bullet recommendation for the right number of plots to understand a given dataset, but visualizing your data is *always* a good idea. Not only does it allow you to quickly convey your findings (even if you have a non-technical audience), it will often reveal trends in your data that escaped you when you were looking only at numbers. It is important to not only create visualizations, but to **interpret your visualizations** as well.\n",
    "\n",
    "**Every plot should**:\n",
    "- Have a title\n",
    "- Have axis labels\n",
    "- Have appropriate tick labels\n",
    "- Text is legible in a plot\n",
    "- Plots demonstrate meaningful and valid relationships\n",
    "- Have an interpretation to aid understanding\n",
    "\n",
    "Here is an example of what your plots should look like following the above guidelines. Note that while the content of this example is unrelated, the principles of visualization hold:\n",
    "\n",
    "![](https://snag.gy/hCBR1U.jpg)\n",
    "*Interpretation: The above image shows that as we increase our spending on advertising, our sales numbers also tend to increase. There is a positive correlation between advertising spending and sales.*\n",
    "\n",
    "---\n",
    "\n",
    "Here are some prompts to get you started with visualizations. Feel free to add additional visualizations as you see fit:\n",
    "1. Use Seaborn's heatmap with pandas `.corr()` to visualize correlations between all numeric features.\n",
    "    - Heatmaps are generally not appropriate for presentations, and should often be excluded from reports as they can be visually overwhelming. **However**, they can be extremely useful in identify relationships of potential interest (as well as identifying potential collinearity before modeling).\n",
    "    - Please take time to format your output, adding a title. Look through some of the additional arguments and options. (Axis labels aren't really necessary, as long as the title is informative).\n",
    "2. Visualize distributions using histograms. If you have a lot, consider writing a custom function and use subplots.\n",
    "    - *OPTIONAL*: Summarize the underlying distributions of your features (in words & statistics)\n",
    "         - Be thorough in your verbal description of these distributions.\n",
    "         - Be sure to back up these summaries with statistics.\n",
    "         - We generally assume that data we sample from a population will be normally distributed. Do we observe this trend? Explain your answers for each distribution and how you think this will affect estimates made from these data.\n",
    "3. Plot and interpret boxplots. \n",
    "    - Boxplots demonstrate central tendency and spread in variables. In a certain sense, these are somewhat redundant with histograms, but you may be better able to identify clear outliers or differences in IQR, etc.\n",
    "    - Multiple values can be plotted to a single boxplot as long as they are of the same relative scale (meaning they have similar min/max values).\n",
    "    - Each boxplot should:\n",
    "        - Only include variables of a similar scale\n",
    "        - Have clear labels for each variable\n",
    "        - Have appropriate titles and labels\n",
    "4. Plot and interpret scatter plots to view relationships between features. Feel free to write a custom function, and subplot if you'd like. Functions save both time and space.\n",
    "    - Your plots should have:\n",
    "        - Two clearly labeled axes\n",
    "        - A proper title\n",
    "        - Colors and symbols that are clear and unmistakable\n",
    "5. Additional plots of your choosing.\n",
    "    - Are there any additional trends or relationships you haven't explored? Was there something interesting you saw that you'd like to dive further into? It's likely that there are a few more plots you might want to generate to support your narrative and recommendations that you are building toward. **As always, make sure you're interpreting your plots as you go**."
   ]
  },
  {
   "cell_type": "markdown",
   "metadata": {},
   "source": [
    "Some ideas for plots that can be generated:\n",
    "\n",
    "- Plot the histogram of the rainfall data with various bins and comment on the distribution of the data - is it centered, skewed?\n",
    "- Plot the box-and-whiskers plot. Comment on the different quartiles and identify any outliers in the dataset. \n",
    "- Is there a correlation between the number of rainy days and total rainfall in the month? What kind of correlation do your suspect? Does the graph show the same?\n"
   ]
  },
  {
   "cell_type": "markdown",
   "metadata": {},
   "source": [
    "### Heatmap for Weather Dataframe\n",
    "\n",
    "* Both humidity and total rainfall is significantly positively correlated to the number of rainy days, whereas mean temperature is not significantly correlated (though the value shows a more negative correlation).\n",
    "* Humidity is significantly positively correlated to the total rainfall, whereas the mean temperature shows a slightly negative correlation.\n",
    "* Humidity and mean temperature are significantly negatively correlated, which is in line with the fact that they have an inverse relationship.\n",
    "\n",
    "Note: This information was not considered for our problem as we wanted to compare how the trend in the number of dengue cases looked when compared to the four weather conditions."
   ]
  },
  {
   "cell_type": "code",
   "execution_count": 90,
   "metadata": {},
   "outputs": [
    {
     "data": {
      "text/plain": [
       "<Axes: >"
      ]
     },
     "execution_count": 90,
     "metadata": {},
     "output_type": "execute_result"
    },
    {
     "data": {
      "image/png": "[encoded data removed]",
      "text/plain": [
       "<Figure size 700x500 with 2 Axes>"
      ]
     },
     "metadata": {},
     "output_type": "display_data"
    }
   ],
   "source": [
    "# Plot a heatmap to see the correlation values of the columns of weather\n",
    "\n",
    "# establish size of figure\n",
    "plt.figure(figsize = (7,5))\n",
    "\n",
    "# set up mask to be \"True\" in the upper triangle\n",
    "mask = np.zeros_like(merged_2014_2018.corr(numeric_only = True))\n",
    "mask[np.triu_indices_from(mask)] = True\n",
    "\n",
    "# plot the correlation heatmap, while masking the upper triangle to be white.\n",
    "sns.heatmap(merged_2014_2018.corr(numeric_only = True), mask = mask, annot=True, cmap='coolwarm')"
   ]
  },
  {
   "cell_type": "markdown",
   "metadata": {},
   "source": [
    "### Scatterplots (Observing Relationships within the Weather Dataframe)\n",
    "\n",
    "* Both humidity and total rainfall present a positive relationship when plotted against total rainfall.\n",
    "* The same cannot be said when mean temperature is plotted against total rainfall, as there does not seem to be any relationship sighted.\n",
    "* Plotting relative humidity against mean temperature shows a somewhat negative trend.\n",
    "\n",
    "Note: The trends in these scatterplots were similar to the results from the heatmap in terms of positive or negative relationships."
   ]
  },
  {
   "cell_type": "code",
   "execution_count": 104,
   "metadata": {},
   "outputs": [
    {
     "data": {
      "image/png": "[encoded data removed]",
      "text/plain": [
       "<Figure size 2000x1500 with 4 Axes>"
      ]
     },
     "metadata": {},
     "output_type": "display_data"
    }
   ],
   "source": [
    "# This is to show scatterplots of different weather conditions \n",
    "\n",
    "# to create the \"grid\" to put plots side by side\n",
    "fig, axes = plt.subplots(2, 2, figsize=(20,15)) \n",
    "\n",
    "\n",
    "# PLOT 1 - plot for total_rainfall vs number_of_rainy_days\n",
    "# plotting scatterplot\n",
    "scatter_rain = sns.scatterplot(data = merged_for_plots, x = \"total_rainfall\", y = \"no_of_rainy_days\" , ax = axes[0][0])\n",
    "\n",
    "# setting the title of the graph\n",
    "scatter_rain.set(title = \"Total rainfall Vs. Number of Rainy Days\")\n",
    "\n",
    "\n",
    "\n",
    "# PLOT 2 - plot for total_rainfall vs mean_relative_humidity\n",
    "# plotting scatterplot\n",
    "scatter_hum = sns.scatterplot(data = merged_for_plots, x = \"total_rainfall\", y = \"humidity\", ax = axes[0][1])\n",
    "\n",
    "# setting the title of the graph\n",
    "scatter_hum.set(title = \"Total rainfall Vs. Mean Relative Humidity\")\n",
    "\n",
    "\n",
    "\n",
    "# PLOT 3 - plot for total_rainfall vs mean_temp\n",
    "# plotting scatterplot\n",
    "scatter_temp = sns.scatterplot(data = merged_for_plots, x = \"total_rainfall\", y = \"mean_temp\", ax = axes[1][0])\n",
    "\n",
    "# setting the title of the graph\n",
    "scatter_temp.set(title = \"Total rainfall Vs. Mean Temperature\")\n",
    "\n",
    "\n",
    "\n",
    "# PLOT 4 - plot for mean_relative_humidity vs mean_temp\n",
    "# plotting scatterplot\n",
    "scatter_temp = sns.scatterplot(data = merged_for_plots, x = \"mean_temp\", y = \"humidity\", ax = axes[1][1])\n",
    "\n",
    "# setting the title of the graph\n",
    "scatter_temp.set(title = \"Mean Relative Humidity Vs. Mean Temperature\")\n",
    "plt.subplots_adjust(hspace = 0.3)\n",
    "plt.show()"
   ]
  },
  {
   "cell_type": "markdown",
   "metadata": {},
   "source": [
    "### Box Plot for Weather Dataframe (comparing the 4 sets of data) and Dengue Dataframe\n",
    "\n",
    "* There is evidence of some upper limit outliers in the total rainfall, relative humidity and number of dengue cases data frames.\n",
    "\n",
    "Note: While this information was useful in understanding the data, the outliers were not excluded from our data set as they provided valuable insights to how the number of dengue cases related to the four weather conditions."
   ]
  },
  {
   "cell_type": "code",
   "execution_count": 101,
   "metadata": {},
   "outputs": [
    {
     "data": {
      "text/plain": [
       "Text(0.5, 1.0, 'Mean Temperature from 2014 - 2018')"
      ]
     },
     "execution_count": 101,
     "metadata": {},
     "output_type": "execute_result"
    },
    {
     "data": {
      "image/png": "[encoded data removed]",
      "text/plain": [
       "<Figure size 900x900 with 4 Axes>"
      ]
     },
     "metadata": {},
     "output_type": "display_data"
    }
   ],
   "source": [
    "# plot box plot for weather df\n",
    "\n",
    "# Establish figure size.\n",
    "plt.figure(figsize = (9,9))\n",
    "\n",
    "#box plot total rainfall\n",
    "ax1 = plt.subplot(2, 2, 1)\n",
    "ax1.boxplot(merged_2014_2018['total_rainfall'])\n",
    "ax1.set_title('Total Rainfall from 2014 - 2018')\n",
    "\n",
    "#box plot rainy days\n",
    "ax2 = plt.subplot(2, 2, 2)\n",
    "ax2.boxplot(merged_2014_2018['no_of_rainy_days'])\n",
    "ax2.set_title('Number of Rainy Days from 2014 - 2018')\n",
    "\n",
    "#box plot humidity\n",
    "ax3 = plt.subplot(2, 2, 3)\n",
    "ax3.boxplot(merged_2014_2018['humidity'])\n",
    "ax3.set_title('Relative Humidity from 2014 - 2018')\n",
    "\n",
    "#box plot mean temp\n",
    "ax4 = plt.subplot(2, 2, 4)\n",
    "ax4.boxplot(merged_2014_2018['mean_temp'])\n",
    "ax4.set_title('Mean Temperature from 2014 - 2018')\n"
   ]
  },
  {
   "cell_type": "code",
   "execution_count": 105,
   "metadata": {},
   "outputs": [
    {
     "data": {
      "text/plain": [
       "Text(0.5, 1.0, 'Number of Dengue Cases from 2014 - 2018')"
      ]
     },
     "execution_count": 105,
     "metadata": {},
     "output_type": "execute_result"
    },
    {
     "data": {
      "image/png": "[encoded data removed]",
      "text/plain": [
       "<Figure size 400x400 with 1 Axes>"
      ]
     },
     "metadata": {},
     "output_type": "display_data"
    }
   ],
   "source": [
    "# plot box plot for dengue df\n",
    "\n",
    "# Establish figure size.\n",
    "plt.figure(figsize = (4,4))\n",
    "\n",
    "#box plot dengue df\n",
    "plt.boxplot(dengue_cases['number_of_cases'])\n",
    "plt.title('Number of Dengue Cases from 2014 - 2018')"
   ]
  },
  {
   "cell_type": "markdown",
   "metadata": {},
   "source": [
    "### Line Graph (Comparing Dengue against the Weather Dataframe)"
   ]
  },
  {
   "cell_type": "code",
   "execution_count": 93,
   "metadata": {},
   "outputs": [
    {
     "name": "stdout",
     "output_type": "stream",
     "text": [
      "<class 'pandas.core.frame.DataFrame'>\n",
      "RangeIndex: 60 entries, 0 to 59\n",
      "Data columns (total 5 columns):\n",
      " #   Column            Non-Null Count  Dtype  \n",
      "---  ------            --------------  -----  \n",
      " 0   month             60 non-null     object \n",
      " 1   no_of_rainy_days  60 non-null     int64  \n",
      " 2   total_rainfall    60 non-null     float64\n",
      " 3   humidity          60 non-null     float64\n",
      " 4   mean_temp         60 non-null     float64\n",
      "dtypes: float64(3), int64(1), object(1)\n",
      "memory usage: 2.5+ KB\n"
     ]
    }
   ],
   "source": [
    "merged_for_plots.info()"
   ]
  },
  {
   "cell_type": "code",
   "execution_count": 94,
   "metadata": {},
   "outputs": [
    {
     "data": {
      "text/html": [
       "<div>\n",
       "<style scoped>\n",
       "    .dataframe tbody tr th:only-of-type {\n",
       "        vertical-align: middle;\n",
       "    }\n",
       "\n",
       "    .dataframe tbody tr th {\n",
       "        vertical-align: top;\n",
       "    }\n",
       "\n",
       "    .dataframe thead th {\n",
       "        text-align: right;\n",
       "    }\n",
       "</style>\n",
       "<table border=\"1\" class=\"dataframe\">\n",
       "  <thead>\n",
       "    <tr style=\"text-align: right;\">\n",
       "      <th></th>\n",
       "      <th>month</th>\n",
       "      <th>no_of_rainy_days</th>\n",
       "      <th>total_rainfall</th>\n",
       "      <th>humidity</th>\n",
       "      <th>mean_temp</th>\n",
       "    </tr>\n",
       "  </thead>\n",
       "  <tbody>\n",
       "    <tr>\n",
       "      <th>0</th>\n",
       "      <td>1982-01</td>\n",
       "      <td>10</td>\n",
       "      <td>107.1</td>\n",
       "      <td>81.2</td>\n",
       "      <td>25.9</td>\n",
       "    </tr>\n",
       "    <tr>\n",
       "      <th>1</th>\n",
       "      <td>1982-02</td>\n",
       "      <td>5</td>\n",
       "      <td>27.8</td>\n",
       "      <td>79.5</td>\n",
       "      <td>27.1</td>\n",
       "    </tr>\n",
       "    <tr>\n",
       "      <th>2</th>\n",
       "      <td>1982-03</td>\n",
       "      <td>11</td>\n",
       "      <td>160.8</td>\n",
       "      <td>82.3</td>\n",
       "      <td>27.2</td>\n",
       "    </tr>\n",
       "    <tr>\n",
       "      <th>3</th>\n",
       "      <td>1982-04</td>\n",
       "      <td>14</td>\n",
       "      <td>157.0</td>\n",
       "      <td>85.9</td>\n",
       "      <td>27.0</td>\n",
       "    </tr>\n",
       "    <tr>\n",
       "      <th>4</th>\n",
       "      <td>1982-05</td>\n",
       "      <td>10</td>\n",
       "      <td>102.2</td>\n",
       "      <td>83.2</td>\n",
       "      <td>28.0</td>\n",
       "    </tr>\n",
       "  </tbody>\n",
       "</table>\n",
       "</div>"
      ],
      "text/plain": [
       "     month  no_of_rainy_days  total_rainfall  humidity  mean_temp\n",
       "0  1982-01                10           107.1      81.2       25.9\n",
       "1  1982-02                 5            27.8      79.5       27.1\n",
       "2  1982-03                11           160.8      82.3       27.2\n",
       "3  1982-04                14           157.0      85.9       27.0\n",
       "4  1982-05                10           102.2      83.2       28.0"
      ]
     },
     "execution_count": 94,
     "metadata": {},
     "output_type": "execute_result"
    }
   ],
   "source": [
    "merged.head()"
   ]
  },
  {
   "cell_type": "code",
   "execution_count": 95,
   "metadata": {},
   "outputs": [],
   "source": [
    "#applying date time function\n",
    "merged_for_plots['month'] = pd.to_datetime(merged_for_plots['month'], format='%Y-%m')"
   ]
  },
  {
   "cell_type": "code",
   "execution_count": 103,
   "metadata": {},
   "outputs": [
    {
     "data": {
      "image/png": "[encoded data removed]",
      "text/plain": [
       "<Figure size 1000x1500 with 5 Axes>"
      ]
     },
     "metadata": {},
     "output_type": "display_data"
    }
   ],
   "source": [
    "plt.figure(figsize = (10,15))\n",
    "\n",
    "# PLOT 1 - number of dengue cases\n",
    "plt.subplot(5,1,1)\n",
    "plt.plot(dengue_cases['year_week'],\n",
    "         dengue_cases['number_of_cases'],\n",
    "         c = 'cornflowerblue',\n",
    "         label = 'Number of Dengue Cases')\n",
    "plt.title(\"Number of Dengue Cases\")\n",
    "\n",
    "# Create a grid in the background\n",
    "plt.grid(True, linewidth = 0.5, linestyle = '-', c = 'black', alpha = 0.2)\n",
    "\n",
    "# PLOT 2 - number of rainy days\n",
    "plt.subplot(5,1,2)\n",
    "plt.plot(merged_for_plots['month'],\n",
    "         merged_for_plots['no_of_rainy_days'],\n",
    "         c = 'peru',\n",
    "         label = 'Number of Rainy Days')\n",
    "plt.title(\"Number of Rainy Days\")\n",
    "\n",
    "# Create a grid in the background\n",
    "plt.grid(True, linewidth = 0.5, linestyle = '-', c = 'black', alpha = 0.2)\n",
    "\n",
    "# PLOT 3 - total_rainfall\n",
    "plt.subplot(5,1,3)\n",
    "plt.plot(merged_for_plots['month'],\n",
    "         merged_for_plots['total_rainfall'],\n",
    "         c = 'orange',\n",
    "         label = 'Rainfall')\n",
    "plt.title(\"Total Rainfall\")\n",
    "\n",
    "# Create a grid in the background\n",
    "plt.grid(True, linewidth = 0.5, linestyle = '-', c = 'black', alpha = 0.2)\n",
    "\n",
    "# PLOT 4 - mean relative humidity\n",
    "plt.subplot(5,1,4)\n",
    "plt.plot(merged_for_plots['month'],\n",
    "         merged_for_plots['humidity'],\n",
    "         c = \"palevioletred\",\n",
    "         label = 'Humidity')\n",
    "plt.title(\"Mean Relative Humidity\")\n",
    "\n",
    "# Create a grid in the background\n",
    "plt.grid(True, linewidth = 0.5, linestyle = '-', c = 'black', alpha = 0.2)\n",
    "\n",
    "# PLOT 5 - mean temperature\n",
    "plt.subplot(5,1,5)\n",
    "plt.plot(merged_for_plots['month'],\n",
    "         merged_for_plots['mean_temp'],\n",
    "         c = 'green',\n",
    "         label = 'Temperature')\n",
    "plt.title(\"Mean Temperature\")\n",
    "\n",
    "# Create a grid in the background\n",
    "plt.grid(True, linewidth = 0.5, linestyle = '-', c = 'black', alpha = 0.2)\n",
    "\n",
    "plt.subplots_adjust(hspace = 0.3)\n",
    "\n",
    "plt.show()"
   ]
  },
  {
   "cell_type": "markdown",
   "metadata": {},
   "source": [
    "#### Analysis of Line Graphs\n",
    "There are 3 areas that we focus on:\n",
    "\n",
    "##### First spike in dengue cases in mid 2014\n",
    "- As weather conditions such as rainy days and total rainfall increased towards mid 2014, the increase in dengue cases was observed to peak during the similar period.\n",
    "\n",
    "##### Second spike in dengue cases at the start of 2016\n",
    "- Towards Nov 2015, rainfall and temperature spiked. The peak in the number of dengue cases was delayed by approximately 1 month after the peak of the respective weather conditions.\n",
    "    - The peak of the rainfall and temperature values are observed to coincide with the start of the increase in number of dengue cases.\n",
    "    \n",
    "##### General trend after 2016\n",
    "- From Oct 2016 onwards, the number of dengue cases dropped even though there were spikes/ drops in rainfall, temperature and relative humidity.\n",
    "    - Despite the typical spike in rainfall/ temp occurring at the end of 2016, further analysis of the dengue cases profile did not suggest an increase in number of infections.\n",
    "    - In fact, there was a drop in number of dengue cases from Oct 2016 (based on the line plots) .\n",
    "    - Number of dengue cases also did not drastically increase despite spikes in weather conditions in December 2016, compared to prior of project launch.\n",
    "\n",
    "\n"
   ]
  },
  {
   "cell_type": "markdown",
   "metadata": {},
   "source": [
    "\n",
    "## Conclusion & Recommendations\n"
   ]
  },
  {
   "cell_type": "markdown",
   "metadata": {},
   "source": [
    "### Key Takeaways:\n",
    "\n",
    "##### Given a known estimate of the weather conditions' profiles and their relationship with number of dengue cases, the spike in dengue cases could be determined:\n",
    "- Dengue cases spikes approximately 1 month after rainfall and temperature spikes (humidity will drop due to inverse relationship with temperature)\n",
    "    - Peak/dips in weather profile suggests initial increase in dengue cases\n",
    "- According to available research, the optimal temperature for the survival of Aedes aegypti has a mean of 27.5 deg C, similar to the trend seen in the line plot.\n",
    "\n",
    "##### Effectiveness of Project Wolbachia cannot be discounted\n",
    "- The launch of the project coincided not only with the reduction of dengue cases, but also in suppression of the spike of dengue cases in the same time frame. \n",
    "\n",
    "\n"
   ]
  },
  {
   "cell_type": "markdown",
   "metadata": {},
   "source": [
    "### Recommendations:\n",
    "\n",
    "##### Time-specific release of Wolbachia-Aedes aegypti\n",
    "\n",
    "* Release of Wolbachia mosquitoes are recommended to be 2-4 weeks before the spike in rainfall/ temperature profile \n",
    "    - spikes in rainfall/temperature suggests initial increase in dengue cases\n",
    "    - closely related to the life cycle of the Aedes mosquitoes\n",
    "    - takes into consideration the time NEA requires to breed the mosquitoes\n",
    "    - to maximise cost-efficiency and optimise the use of resources such as manpower while reducing ecological impact \n",
    "\n",
    "\n",
    "##### Prediction of profiles in spikes or drops in weather conditions is crucial in planning for mosquito release\n",
    "- Potential for higher precision in prediction of weather conditions from wide availability of past historical data for analysis\n",
    "- Partnership with meteorological services for minimal error in predictions can be explored\n",
    "    - In view of this partnership, NEA can also continue to make use of the [GEOJSON maps](\"https://beta.data.gov.sg/collections?query=dengue%20(cases)\") that they have already been using to pinpoint clusters all around Singapore\n"
   ]
  },
  {
   "cell_type": "markdown",
   "metadata": {},
   "source": [
    "# References\n",
    "---\n",
    "#### Research Articles:\n",
    "- [Drakou, K., Nikolaou, T., Vasquez, M., Petric, D., Michaelakis, A., Kapranas, A., Papatheodoulou, A., & Koliou, M. (2020). The Effect of Weather Variables on Mosquito Activity: A Snapshot of the Main Point of Entry of Cyprus. International journal of environmental research and public health, 17(4), 1403. https://doi.org/10.3390/ijerph17041403](\"https://www.ncbi.nlm.nih.gov/pmc/articles/PMC7068582/)\n",
    "- [Ho SH, Lim JT, Ong J, Hapuarachchi HC, Sim S, Ng LC (2023) Singapore’s 5 decades of dengue prevention and control—Implications for global dengue control. PLoS Negl Trop Dis 17(6): e0011400. https://doi.org/10.1371/journal.pntd.001140](https://journals.plos.org/plosntds/article?id=10.1371/journal.pntd.0011400)\n",
    "- [Reinhold, J. M., Lazzari, C. R., & Lahondère, C. (2018). Effects of the Environmental Temperature on Aedes aegypti and Aedes albopictus Mosquitoes: A Review. Insects, 9(4), 158. https://doi.org/10.3390/insects9040158](https://www.ncbi.nlm.nih.gov/pmc/articles/PMC6316560/#B24-insects-09-00158)\n",
    "\n",
    "#### Government Websites relating to weather & Project Wolbachia\n",
    "- [Vector-Borne Diseases Research Programme](https://www.nea.gov.sg/corporate-functions/resources/research/vector-borne-diseases-research-programme)\n",
    "- [Wolbachia-Aedes Mosquito Suppression Strategy](https://www.nea.gov.sg/corporate-functions/resources/research/wolbachia-aedes-mosquito-suppression-strategy), \n",
    "- [Climate in Singapore](https://www.weather.gov.sg/climate-climate-of-singapore/)\n",
    "- [Mosquito release schedule](https://www.nea.gov.sg/corporate-functions/resources/research/wolbachia-aedes-mosquito-suppression-strategy/wolbachia-aedes-release-schedule)\n",
    "\n",
    "#### Other sources regarding Project Wolbachia/ dengue-related information\n",
    "- [\"Project Wolbachia: 300 million mosquitoes released but not a silver bullet to deal with dengue, says NEA\"](https://www.channelnewsasia.com/singapore/project-wolbachia-mosquito-dengue-nea-facility-3773176)\n",
    "- [CNA Explains: Why is Singapore at risk of a surge in dengue cases?](https://www.channelnewsasia.com/singapore/dengue-clusters-surge-aedes-mosquito-toa-payoh-3753571)\n",
    "- [Singapore's dengue emergency](https://edition.cnn.com/2022/06/06/asia/health-dengue-singapore-emergency-climate-heat-intl-hnk/index.html)"
   ]
  }
 ],
 "metadata": {
  "anaconda-cloud": {},
  "kernelspec": {
   "display_name": "Python 3 (ipykernel)",
   "language": "python",
   "name": "python3"
  },
  "language_info": {
   "codemirror_mode": {
    "name": "ipython",
    "version": 3
   },
   "file_extension": ".py",
   "mimetype": "text/x-python",
   "name": "python",
   "nbconvert_exporter": "python",
   "pygments_lexer": "ipython3",
   "version": "3.11.5"
  }
 },
 "nbformat": 4,
 "nbformat_minor": 4
}
