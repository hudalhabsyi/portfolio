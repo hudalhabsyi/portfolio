{
 "cells": [
  {
   "cell_type": "markdown",
   "metadata": {},
   "source": [
    "#### Import libraries"
   ]
  },
  {
   "cell_type": "code",
   "execution_count": 1,
   "metadata": {},
   "outputs": [],
   "source": [
    "import praw\n",
    "import pandas as pd"
   ]
  },
  {
   "cell_type": "markdown",
   "metadata": {},
   "source": [
    "#### Scraping from r/GenZ"
   ]
  },
  {
   "cell_type": "code",
   "execution_count": 13,
   "metadata": {},
   "outputs": [],
   "source": [
    "# authenticate with Reddit API\n",
    "reddit = praw.Reddit(\n",
    "    client_id=\"oa9Echgvw5weRGEO6B9y9w\",\n",
    "    client_secret=\"DHlTGTWPDAxi-7_VIDOD-JgM2IlI-Q\",\n",
    "    user_agent=\"red_api_test\"\n",
    ")\n",
    "\n",
    "# list to store threads and comments\n",
    "threads = []\n",
    "comments = []\n",
    "\n",
    "# subreddit to scrape\n",
    "subreddit = reddit.subreddit(\"GenZ\")\n",
    "\n",
    "# iterate through hottest threads in subreddit\n",
    "for submission in subreddit.top(limit=100):\n",
    "\n",
    "    # store thread data\n",
    "    thread = {\n",
    "        \"id\": submission.id,\n",
    "        \"title\": submission.title,\n",
    "        \"body\": submission.selftext,\n",
    "        \"score\": submission.score,\n",
    "        \"num_comments\": submission.num_comments\n",
    "    }\n",
    "    threads.append(thread)\n",
    "\n",
    "    # store all comment data under thread\n",
    "    submission.comments.replace_more(limit=0)\n",
    "    for comment in submission.comments.list():\n",
    "        comment_data = {\n",
    "            \"thread_id\": submission.id,\n",
    "            \"comment_id\": comment.id,\n",
    "            \"comment_text\": comment.body,\n",
    "            \"comment_score\" : comment.score,\n",
    "            \"comment_replies\" : comment.replies.__len__()\n",
    "        }\n",
    "        comments.append(comment_data)\n",
    "\n",
    "# store in pandas dataframe\n",
    "genz_threads_df = pd.DataFrame(threads)\n",
    "genz_comments_df = pd.DataFrame(comments)"
   ]
  },
  {
   "cell_type": "code",
   "execution_count": 14,
   "metadata": {},
   "outputs": [
    {
     "data": {
      "text/html": [
       "<div>\n",
       "<style scoped>\n",
       "    .dataframe tbody tr th:only-of-type {\n",
       "        vertical-align: middle;\n",
       "    }\n",
       "\n",
       "    .dataframe tbody tr th {\n",
       "        vertical-align: top;\n",
       "    }\n",
       "\n",
       "    .dataframe thead th {\n",
       "        text-align: right;\n",
       "    }\n",
       "</style>\n",
       "<table border=\"1\" class=\"dataframe\">\n",
       "  <thead>\n",
       "    <tr style=\"text-align: right;\">\n",
       "      <th></th>\n",
       "      <th>id</th>\n",
       "      <th>title</th>\n",
       "      <th>body</th>\n",
       "      <th>score</th>\n",
       "      <th>num_comments</th>\n",
       "    </tr>\n",
       "  </thead>\n",
       "  <tbody>\n",
       "    <tr>\n",
       "      <th>0</th>\n",
       "      <td>18zc3op</td>\n",
       "      <td>Who else remembers Net Neutrality and when thi...</td>\n",
       "      <td></td>\n",
       "      <td>30449</td>\n",
       "      <td>1977</td>\n",
       "    </tr>\n",
       "    <tr>\n",
       "      <th>1</th>\n",
       "      <td>18jeumy</td>\n",
       "      <td>Do Gen Z guys experience this?</td>\n",
       "      <td></td>\n",
       "      <td>23131</td>\n",
       "      <td>4574</td>\n",
       "    </tr>\n",
       "    <tr>\n",
       "      <th>2</th>\n",
       "      <td>19246wl</td>\n",
       "      <td>Should student loan debt be forgiven?</td>\n",
       "      <td>I think so I also think it’s crazy how hard mi...</td>\n",
       "      <td>21376</td>\n",
       "      <td>2213</td>\n",
       "    </tr>\n",
       "    <tr>\n",
       "      <th>3</th>\n",
       "      <td>190zscp</td>\n",
       "      <td>Thoughts?</td>\n",
       "      <td></td>\n",
       "      <td>17966</td>\n",
       "      <td>6138</td>\n",
       "    </tr>\n",
       "    <tr>\n",
       "      <th>4</th>\n",
       "      <td>1944wts</td>\n",
       "      <td>Thoughts?</td>\n",
       "      <td></td>\n",
       "      <td>14127</td>\n",
       "      <td>2348</td>\n",
       "    </tr>\n",
       "  </tbody>\n",
       "</table>\n",
       "</div>"
      ],
      "text/plain": [
       "        id                                              title  \\\n",
       "0  18zc3op  Who else remembers Net Neutrality and when thi...   \n",
       "1  18jeumy                     Do Gen Z guys experience this?   \n",
       "2  19246wl              Should student loan debt be forgiven?   \n",
       "3  190zscp                                          Thoughts?   \n",
       "4  1944wts                                          Thoughts?   \n",
       "\n",
       "                                                body  score  num_comments  \n",
       "0                                                     30449          1977  \n",
       "1                                                     23131          4574  \n",
       "2  I think so I also think it’s crazy how hard mi...  21376          2213  \n",
       "3                                                     17966          6138  \n",
       "4                                                     14127          2348  "
      ]
     },
     "execution_count": 14,
     "metadata": {},
     "output_type": "execute_result"
    }
   ],
   "source": [
    "#view first 5 rows of df\n",
    "genz_threads_df.head()"
   ]
  },
  {
   "cell_type": "code",
   "execution_count": 15,
   "metadata": {},
   "outputs": [
    {
     "data": {
      "text/plain": [
       "(100, 5)"
      ]
     },
     "execution_count": 15,
     "metadata": {},
     "output_type": "execute_result"
    }
   ],
   "source": [
    "#view number of rows and columns in the df\n",
    "genz_threads_df.shape"
   ]
  },
  {
   "cell_type": "code",
   "execution_count": 16,
   "metadata": {},
   "outputs": [
    {
     "data": {
      "text/html": [
       "<div>\n",
       "<style scoped>\n",
       "    .dataframe tbody tr th:only-of-type {\n",
       "        vertical-align: middle;\n",
       "    }\n",
       "\n",
       "    .dataframe tbody tr th {\n",
       "        vertical-align: top;\n",
       "    }\n",
       "\n",
       "    .dataframe thead th {\n",
       "        text-align: right;\n",
       "    }\n",
       "</style>\n",
       "<table border=\"1\" class=\"dataframe\">\n",
       "  <thead>\n",
       "    <tr style=\"text-align: right;\">\n",
       "      <th></th>\n",
       "      <th>thread_id</th>\n",
       "      <th>comment_id</th>\n",
       "      <th>comment_text</th>\n",
       "      <th>comment_score</th>\n",
       "      <th>comment_replies</th>\n",
       "    </tr>\n",
       "  </thead>\n",
       "  <tbody>\n",
       "    <tr>\n",
       "      <th>0</th>\n",
       "      <td>18zc3op</td>\n",
       "      <td>kggheri</td>\n",
       "      <td>We are looking for moderators! If you're inter...</td>\n",
       "      <td>1</td>\n",
       "      <td>0</td>\n",
       "    </tr>\n",
       "    <tr>\n",
       "      <th>1</th>\n",
       "      <td>18zc3op</td>\n",
       "      <td>kggs4al</td>\n",
       "      <td>And he absolutely deserves it</td>\n",
       "      <td>1336</td>\n",
       "      <td>5</td>\n",
       "    </tr>\n",
       "    <tr>\n",
       "      <th>2</th>\n",
       "      <td>18zc3op</td>\n",
       "      <td>kggv8pg</td>\n",
       "      <td>I randomly thought about the whole net neutral...</td>\n",
       "      <td>197</td>\n",
       "      <td>4</td>\n",
       "    </tr>\n",
       "    <tr>\n",
       "      <th>3</th>\n",
       "      <td>18zc3op</td>\n",
       "      <td>kggxrvu</td>\n",
       "      <td>\"hello my fellow brand conusming youth got my ...</td>\n",
       "      <td>107</td>\n",
       "      <td>2</td>\n",
       "    </tr>\n",
       "    <tr>\n",
       "      <th>4</th>\n",
       "      <td>18zc3op</td>\n",
       "      <td>kggth7g</td>\n",
       "      <td>has anything even came of net neutrality being...</td>\n",
       "      <td>478</td>\n",
       "      <td>10</td>\n",
       "    </tr>\n",
       "  </tbody>\n",
       "</table>\n",
       "</div>"
      ],
      "text/plain": [
       "  thread_id comment_id                                       comment_text  \\\n",
       "0   18zc3op    kggheri  We are looking for moderators! If you're inter...   \n",
       "1   18zc3op    kggs4al                      And he absolutely deserves it   \n",
       "2   18zc3op    kggv8pg  I randomly thought about the whole net neutral...   \n",
       "3   18zc3op    kggxrvu  \"hello my fellow brand conusming youth got my ...   \n",
       "4   18zc3op    kggth7g  has anything even came of net neutrality being...   \n",
       "\n",
       "   comment_score  comment_replies  \n",
       "0              1                0  \n",
       "1           1336                5  \n",
       "2            197                4  \n",
       "3            107                2  \n",
       "4            478               10  "
      ]
     },
     "execution_count": 16,
     "metadata": {},
     "output_type": "execute_result"
    }
   ],
   "source": [
    "#view first 5 rows of df\n",
    "genz_comments_df.head()"
   ]
  },
  {
   "cell_type": "code",
   "execution_count": 17,
   "metadata": {},
   "outputs": [
    {
     "data": {
      "text/plain": [
       "(38065, 5)"
      ]
     },
     "execution_count": 17,
     "metadata": {},
     "output_type": "execute_result"
    }
   ],
   "source": [
    "#view number of rows and columns in the df\n",
    "genz_comments_df.shape"
   ]
  },
  {
   "cell_type": "code",
   "execution_count": 27,
   "metadata": {},
   "outputs": [],
   "source": [
    "#exporting both genz df to csv\n",
    "genz_threads_df.to_csv('genz_threads.csv', index=False)\n",
    "genz_comments_df.to_csv('genz_comments.csv', index=False)"
   ]
  },
  {
   "cell_type": "markdown",
   "metadata": {},
   "source": [
    "#### Scraping from r/Millennials"
   ]
  },
  {
   "cell_type": "code",
   "execution_count": 20,
   "metadata": {},
   "outputs": [],
   "source": [
    "# list to store threads and comments\n",
    "threads = []\n",
    "comments = []\n",
    "\n",
    "# subreddit to scrape\n",
    "subreddit = reddit.subreddit(\"Millennials\")\n",
    "\n",
    "# iterate through hottest threads in subreddit\n",
    "for submission in subreddit.top(limit=100):\n",
    "\n",
    "    # store thread data\n",
    "    thread = {\n",
    "        \"id\": submission.id,\n",
    "        \"title\": submission.title,\n",
    "        \"body\": submission.selftext,\n",
    "        \"score\": submission.score,\n",
    "        \"num_comments\": submission.num_comments\n",
    "    }\n",
    "    threads.append(thread)\n",
    "\n",
    "    # store all comment data under thread\n",
    "    submission.comments.replace_more(limit=0)\n",
    "    for comment in submission.comments.list():\n",
    "        comment_data = {\n",
    "            \"thread_id\": submission.id,\n",
    "            \"comment_id\": comment.id,\n",
    "            \"comment_text\": comment.body,\n",
    "            \"comment_score\" : comment.score,\n",
    "            \"comment_replies\" : comment.replies.__len__()\n",
    "        }\n",
    "        comments.append(comment_data)\n",
    "\n",
    "# store in pandas dataframe\n",
    "millennials_threads_df = pd.DataFrame(threads)\n",
    "millennials_comments_df = pd.DataFrame(comments)"
   ]
  },
  {
   "cell_type": "code",
   "execution_count": 21,
   "metadata": {},
   "outputs": [
    {
     "data": {
      "text/html": [
       "<div>\n",
       "<style scoped>\n",
       "    .dataframe tbody tr th:only-of-type {\n",
       "        vertical-align: middle;\n",
       "    }\n",
       "\n",
       "    .dataframe tbody tr th {\n",
       "        vertical-align: top;\n",
       "    }\n",
       "\n",
       "    .dataframe thead th {\n",
       "        text-align: right;\n",
       "    }\n",
       "</style>\n",
       "<table border=\"1\" class=\"dataframe\">\n",
       "  <thead>\n",
       "    <tr style=\"text-align: right;\">\n",
       "      <th></th>\n",
       "      <th>id</th>\n",
       "      <th>title</th>\n",
       "      <th>body</th>\n",
       "      <th>score</th>\n",
       "      <th>num_comments</th>\n",
       "    </tr>\n",
       "  </thead>\n",
       "  <tbody>\n",
       "    <tr>\n",
       "      <th>0</th>\n",
       "      <td>18ay2s2</td>\n",
       "      <td>Finally, a worthy millennial bloodline to take...</td>\n",
       "      <td></td>\n",
       "      <td>19849</td>\n",
       "      <td>516</td>\n",
       "    </tr>\n",
       "    <tr>\n",
       "      <th>1</th>\n",
       "      <td>194dkqv</td>\n",
       "      <td>Warning to younger millennials…extra writing t...</td>\n",
       "      <td></td>\n",
       "      <td>19329</td>\n",
       "      <td>1058</td>\n",
       "    </tr>\n",
       "    <tr>\n",
       "      <th>2</th>\n",
       "      <td>182z60u</td>\n",
       "      <td>I brought my kid to a mall on Black Friday. It...</td>\n",
       "      <td>I remember being his age and this exact spot b...</td>\n",
       "      <td>19163</td>\n",
       "      <td>2458</td>\n",
       "    </tr>\n",
       "    <tr>\n",
       "      <th>3</th>\n",
       "      <td>17s83gl</td>\n",
       "      <td>The idea of having this much in SAVINGS is wil...</td>\n",
       "      <td>If you are the 1 in 6 with this much savings, ...</td>\n",
       "      <td>18673</td>\n",
       "      <td>2690</td>\n",
       "    </tr>\n",
       "    <tr>\n",
       "      <th>4</th>\n",
       "      <td>195hzmy</td>\n",
       "      <td>Where do the 35-40 year old people hangout on ...</td>\n",
       "      <td>Especially during the winter if you’re in a co...</td>\n",
       "      <td>15245</td>\n",
       "      <td>1640</td>\n",
       "    </tr>\n",
       "  </tbody>\n",
       "</table>\n",
       "</div>"
      ],
      "text/plain": [
       "        id                                              title  \\\n",
       "0  18ay2s2  Finally, a worthy millennial bloodline to take...   \n",
       "1  194dkqv  Warning to younger millennials…extra writing t...   \n",
       "2  182z60u  I brought my kid to a mall on Black Friday. It...   \n",
       "3  17s83gl  The idea of having this much in SAVINGS is wil...   \n",
       "4  195hzmy  Where do the 35-40 year old people hangout on ...   \n",
       "\n",
       "                                                body  score  num_comments  \n",
       "0                                                     19849           516  \n",
       "1                                                     19329          1058  \n",
       "2  I remember being his age and this exact spot b...  19163          2458  \n",
       "3  If you are the 1 in 6 with this much savings, ...  18673          2690  \n",
       "4  Especially during the winter if you’re in a co...  15245          1640  "
      ]
     },
     "execution_count": 21,
     "metadata": {},
     "output_type": "execute_result"
    }
   ],
   "source": [
    "#view first 5 rows of df\n",
    "millennials_threads_df.head()"
   ]
  },
  {
   "cell_type": "code",
   "execution_count": 22,
   "metadata": {},
   "outputs": [
    {
     "data": {
      "text/plain": [
       "(100, 5)"
      ]
     },
     "execution_count": 22,
     "metadata": {},
     "output_type": "execute_result"
    }
   ],
   "source": [
    "#view number of rows and columns in the df\n",
    "millennials_threads_df.shape"
   ]
  },
  {
   "cell_type": "code",
   "execution_count": 23,
   "metadata": {},
   "outputs": [
    {
     "data": {
      "text/html": [
       "<div>\n",
       "<style scoped>\n",
       "    .dataframe tbody tr th:only-of-type {\n",
       "        vertical-align: middle;\n",
       "    }\n",
       "\n",
       "    .dataframe tbody tr th {\n",
       "        vertical-align: top;\n",
       "    }\n",
       "\n",
       "    .dataframe thead th {\n",
       "        text-align: right;\n",
       "    }\n",
       "</style>\n",
       "<table border=\"1\" class=\"dataframe\">\n",
       "  <thead>\n",
       "    <tr style=\"text-align: right;\">\n",
       "      <th></th>\n",
       "      <th>thread_id</th>\n",
       "      <th>comment_id</th>\n",
       "      <th>comment_text</th>\n",
       "      <th>comment_score</th>\n",
       "      <th>comment_replies</th>\n",
       "    </tr>\n",
       "  </thead>\n",
       "  <tbody>\n",
       "    <tr>\n",
       "      <th>0</th>\n",
       "      <td>18ay2s2</td>\n",
       "      <td>kc10fzs</td>\n",
       "      <td>Watch their kid just become like an accountant.</td>\n",
       "      <td>1092</td>\n",
       "      <td>34</td>\n",
       "    </tr>\n",
       "    <tr>\n",
       "      <th>1</th>\n",
       "      <td>18ay2s2</td>\n",
       "      <td>kc1bowr</td>\n",
       "      <td>Can you imagine the bragging rights at school?...</td>\n",
       "      <td>304</td>\n",
       "      <td>9</td>\n",
       "    </tr>\n",
       "    <tr>\n",
       "      <th>2</th>\n",
       "      <td>18ay2s2</td>\n",
       "      <td>kc12zpc</td>\n",
       "      <td>They both look like their dads.</td>\n",
       "      <td>226</td>\n",
       "      <td>8</td>\n",
       "    </tr>\n",
       "    <tr>\n",
       "      <th>3</th>\n",
       "      <td>18ay2s2</td>\n",
       "      <td>kc11j9m</td>\n",
       "      <td>The Sacred One shall be birthed anew</td>\n",
       "      <td>144</td>\n",
       "      <td>1</td>\n",
       "    </tr>\n",
       "    <tr>\n",
       "      <th>4</th>\n",
       "      <td>18ay2s2</td>\n",
       "      <td>kc0zrs8</td>\n",
       "      <td>The world is so small yet so big at the same t...</td>\n",
       "      <td>59</td>\n",
       "      <td>2</td>\n",
       "    </tr>\n",
       "  </tbody>\n",
       "</table>\n",
       "</div>"
      ],
      "text/plain": [
       "  thread_id comment_id                                       comment_text  \\\n",
       "0   18ay2s2    kc10fzs    Watch their kid just become like an accountant.   \n",
       "1   18ay2s2    kc1bowr  Can you imagine the bragging rights at school?...   \n",
       "2   18ay2s2    kc12zpc                    They both look like their dads.   \n",
       "3   18ay2s2    kc11j9m               The Sacred One shall be birthed anew   \n",
       "4   18ay2s2    kc0zrs8  The world is so small yet so big at the same t...   \n",
       "\n",
       "   comment_score  comment_replies  \n",
       "0           1092               34  \n",
       "1            304                9  \n",
       "2            226                8  \n",
       "3            144                1  \n",
       "4             59                2  "
      ]
     },
     "execution_count": 23,
     "metadata": {},
     "output_type": "execute_result"
    }
   ],
   "source": [
    "#view first 5 rows of df\n",
    "millennials_comments_df.head()"
   ]
  },
  {
   "cell_type": "code",
   "execution_count": 24,
   "metadata": {},
   "outputs": [
    {
     "data": {
      "text/plain": [
       "(48145, 5)"
      ]
     },
     "execution_count": 24,
     "metadata": {},
     "output_type": "execute_result"
    }
   ],
   "source": [
    "#view number of rows and columns in the df\n",
    "millennials_comments_df.shape"
   ]
  },
  {
   "cell_type": "code",
   "execution_count": 26,
   "metadata": {},
   "outputs": [],
   "source": [
    "#exporting both millennials df to csv\n",
    "millennials_threads_df.to_csv('millennials_threads.csv', index=False)\n",
    "millennials_comments_df.to_csv('millennials_comments.csv', index=False)"
   ]
  }
 ],
 "metadata": {
  "kernelspec": {
   "display_name": "base",
   "language": "python",
   "name": "python3"
  },
  "language_info": {
   "codemirror_mode": {
    "name": "ipython",
    "version": 3
   },
   "file_extension": ".py",
   "mimetype": "text/x-python",
   "name": "python",
   "nbconvert_exporter": "python",
   "pygments_lexer": "ipython3",
   "version": "3.11.5"
  }
 },
 "nbformat": 4,
 "nbformat_minor": 2
}
