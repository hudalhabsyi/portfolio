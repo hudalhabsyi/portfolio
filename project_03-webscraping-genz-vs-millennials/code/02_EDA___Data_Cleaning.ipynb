{
 "cells": [
  {
   "cell_type": "markdown",
   "metadata": {},
   "source": [
    "<img src=\"http://imgur.com/1ZcRyrc.png\" style=\"float: left; margin: 20px; height: 55px\">\n",
    "\n",
    "# Project 3: Web APIs & NLP\n",
    "\n",
    "## 02 Exploratory Data Analysis (EDA) & Data Cleaning\n",
    "\n",
    "> SG-DSI-41 Group 01: Daryl Chia, Germaine Choo, Sharifah Nurulhuda, Tan Wei Chiong\n",
    "\n",
    "---"
   ]
  },
  {
   "cell_type": "markdown",
   "metadata": {},
   "source": [
    "## 01 Import Libraries"
   ]
  },
  {
   "cell_type": "code",
   "execution_count": 1,
   "metadata": {},
   "outputs": [],
   "source": [
    "# Import libraries, modules, and functions:\n",
    "import os\n",
    "import numpy as np\n",
    "import pandas as pd\n",
    "import matplotlib.pyplot as plt\n",
    "import seaborn as sns\n",
    "import re\n",
    "import enchant\n",
    "\n",
    "#to install pyenchant: #!pip install pyenchant\n",
    "\n",
    "from nltk.tokenize import RegexpTokenizer\n",
    "from sklearn.feature_extraction.text import CountVectorizer, ENGLISH_STOP_WORDS"
   ]
  },
  {
   "cell_type": "markdown",
   "metadata": {},
   "source": [
    "## 02 Load & Check Data"
   ]
  },
  {
   "cell_type": "markdown",
   "metadata": {},
   "source": [
    "### 02.01 Load & Check Data"
   ]
  },
  {
   "cell_type": "code",
   "execution_count": 2,
   "metadata": {},
   "outputs": [
    {
     "name": "stdout",
     "output_type": "stream",
     "text": [
      "(86210, 6)\n"
     ]
    },
    {
     "data": {
      "text/html": [
       "<div>\n",
       "<style scoped>\n",
       "    .dataframe tbody tr th:only-of-type {\n",
       "        vertical-align: middle;\n",
       "    }\n",
       "\n",
       "    .dataframe tbody tr th {\n",
       "        vertical-align: top;\n",
       "    }\n",
       "\n",
       "    .dataframe thead th {\n",
       "        text-align: right;\n",
       "    }\n",
       "</style>\n",
       "<table border=\"1\" class=\"dataframe\">\n",
       "  <thead>\n",
       "    <tr style=\"text-align: right;\">\n",
       "      <th></th>\n",
       "      <th>thread_id</th>\n",
       "      <th>comment_id</th>\n",
       "      <th>comment_text</th>\n",
       "      <th>comment_score</th>\n",
       "      <th>comment_replies</th>\n",
       "      <th>generation_z</th>\n",
       "    </tr>\n",
       "  </thead>\n",
       "  <tbody>\n",
       "    <tr>\n",
       "      <th>0</th>\n",
       "      <td>18ay2s2</td>\n",
       "      <td>kc10fzs</td>\n",
       "      <td>Watch their kid just become like an accountant.</td>\n",
       "      <td>1092</td>\n",
       "      <td>34</td>\n",
       "      <td>0</td>\n",
       "    </tr>\n",
       "    <tr>\n",
       "      <th>1</th>\n",
       "      <td>18ay2s2</td>\n",
       "      <td>kc1bowr</td>\n",
       "      <td>Can you imagine the bragging rights at school?\\n\\nRandom kid:  My dad is a doctor!!!\\n\\n**The kid**:  My grandpa was KURT COBAIN!!!! \\n\\nRandom kid: Oh yeah, well... my mom knows an influencer.\\n\\n**The kid**:  My other grandpa is TONY HAWK!!!!\\n\\n\\----- silence-----</td>\n",
       "      <td>304</td>\n",
       "      <td>9</td>\n",
       "      <td>0</td>\n",
       "    </tr>\n",
       "    <tr>\n",
       "      <th>2</th>\n",
       "      <td>18ay2s2</td>\n",
       "      <td>kc12zpc</td>\n",
       "      <td>They both look like their dads.</td>\n",
       "      <td>226</td>\n",
       "      <td>8</td>\n",
       "      <td>0</td>\n",
       "    </tr>\n",
       "    <tr>\n",
       "      <th>3</th>\n",
       "      <td>18ay2s2</td>\n",
       "      <td>kc11j9m</td>\n",
       "      <td>The Sacred One shall be birthed anew</td>\n",
       "      <td>144</td>\n",
       "      <td>1</td>\n",
       "      <td>0</td>\n",
       "    </tr>\n",
       "    <tr>\n",
       "      <th>4</th>\n",
       "      <td>18ay2s2</td>\n",
       "      <td>kc0zrs8</td>\n",
       "      <td>The world is so small yet so big at the same time.</td>\n",
       "      <td>59</td>\n",
       "      <td>2</td>\n",
       "      <td>0</td>\n",
       "    </tr>\n",
       "  </tbody>\n",
       "</table>\n",
       "</div>"
      ],
      "text/plain": [
       "  thread_id comment_id  \\\n",
       "0   18ay2s2    kc10fzs   \n",
       "1   18ay2s2    kc1bowr   \n",
       "2   18ay2s2    kc12zpc   \n",
       "3   18ay2s2    kc11j9m   \n",
       "4   18ay2s2    kc0zrs8   \n",
       "\n",
       "                                                                                                                                                                                                                                                                  comment_text  \\\n",
       "0                                                                                                                                                                                                                              Watch their kid just become like an accountant.   \n",
       "1  Can you imagine the bragging rights at school?\\n\\nRandom kid:  My dad is a doctor!!!\\n\\n**The kid**:  My grandpa was KURT COBAIN!!!! \\n\\nRandom kid: Oh yeah, well... my mom knows an influencer.\\n\\n**The kid**:  My other grandpa is TONY HAWK!!!!\\n\\n\\----- silence-----   \n",
       "2                                                                                                                                                                                                                                              They both look like their dads.   \n",
       "3                                                                                                                                                                                                                                         The Sacred One shall be birthed anew   \n",
       "4                                                                                                                                                                                                                           The world is so small yet so big at the same time.   \n",
       "\n",
       "   comment_score  comment_replies  generation_z  \n",
       "0           1092               34             0  \n",
       "1            304                9             0  \n",
       "2            226                8             0  \n",
       "3            144                1             0  \n",
       "4             59                2             0  "
      ]
     },
     "execution_count": 2,
     "metadata": {},
     "output_type": "execute_result"
    }
   ],
   "source": [
    "# Load data:\n",
    "comments = pd.read_csv('../data/comments.csv')\n",
    "\n",
    "# Increase data frame column width:\n",
    "pd.set_option('max_colwidth', 400)\n",
    "\n",
    "# Check data:\n",
    "print(comments.shape)\n",
    "comments.head()"
   ]
  },
  {
   "cell_type": "markdown",
   "metadata": {},
   "source": [
    " **Columns of Interest**\n",
    " - Reddit subreddit comments: `comment_text`\n",
    " - Generation indicator: `generation_z`\n",
    "   - 1: **Generation Z**\n",
    "   - 0: **Millennials**"
   ]
  },
  {
   "cell_type": "markdown",
   "metadata": {},
   "source": [
    "### 02.02 Check Data Information & for Null Values"
   ]
  },
  {
   "cell_type": "code",
   "execution_count": 3,
   "metadata": {},
   "outputs": [
    {
     "name": "stdout",
     "output_type": "stream",
     "text": [
      "<class 'pandas.core.frame.DataFrame'>\n",
      "RangeIndex: 86210 entries, 0 to 86209\n",
      "Data columns (total 6 columns):\n",
      " #   Column           Non-Null Count  Dtype \n",
      "---  ------           --------------  ----- \n",
      " 0   thread_id        86210 non-null  object\n",
      " 1   comment_id       86210 non-null  object\n",
      " 2   comment_text     86209 non-null  object\n",
      " 3   comment_score    86210 non-null  int64 \n",
      " 4   comment_replies  86210 non-null  int64 \n",
      " 5   generation_z     86210 non-null  int64 \n",
      "dtypes: int64(3), object(3)\n",
      "memory usage: 3.9+ MB\n"
     ]
    }
   ],
   "source": [
    "# Check data info:\n",
    "comments.info()"
   ]
  },
  {
   "cell_type": "code",
   "execution_count": 4,
   "metadata": {},
   "outputs": [
    {
     "data": {
      "text/plain": [
       "thread_id          0\n",
       "comment_id         0\n",
       "comment_text       1\n",
       "comment_score      0\n",
       "comment_replies    0\n",
       "generation_z       0\n",
       "dtype: int64"
      ]
     },
     "execution_count": 4,
     "metadata": {},
     "output_type": "execute_result"
    }
   ],
   "source": [
    "# Check data for null values:\n",
    "comments.isnull().sum()"
   ]
  },
  {
   "cell_type": "code",
   "execution_count": 5,
   "metadata": {},
   "outputs": [
    {
     "data": {
      "text/html": [
       "<div>\n",
       "<style scoped>\n",
       "    .dataframe tbody tr th:only-of-type {\n",
       "        vertical-align: middle;\n",
       "    }\n",
       "\n",
       "    .dataframe tbody tr th {\n",
       "        vertical-align: top;\n",
       "    }\n",
       "\n",
       "    .dataframe thead th {\n",
       "        text-align: right;\n",
       "    }\n",
       "</style>\n",
       "<table border=\"1\" class=\"dataframe\">\n",
       "  <thead>\n",
       "    <tr style=\"text-align: right;\">\n",
       "      <th></th>\n",
       "      <th>thread_id</th>\n",
       "      <th>comment_id</th>\n",
       "      <th>comment_text</th>\n",
       "      <th>comment_score</th>\n",
       "      <th>comment_replies</th>\n",
       "      <th>generation_z</th>\n",
       "    </tr>\n",
       "  </thead>\n",
       "  <tbody>\n",
       "    <tr>\n",
       "      <th>85847</th>\n",
       "      <td>18v71ha</td>\n",
       "      <td>kfpttq6</td>\n",
       "      <td>NaN</td>\n",
       "      <td>1</td>\n",
       "      <td>0</td>\n",
       "      <td>1</td>\n",
       "    </tr>\n",
       "  </tbody>\n",
       "</table>\n",
       "</div>"
      ],
      "text/plain": [
       "      thread_id comment_id comment_text  comment_score  comment_replies  \\\n",
       "85847   18v71ha    kfpttq6          NaN              1                0   \n",
       "\n",
       "       generation_z  \n",
       "85847             1  "
      ]
     },
     "execution_count": 5,
     "metadata": {},
     "output_type": "execute_result"
    }
   ],
   "source": [
    "# Check data for null values in column 'comment_text':\n",
    "comments[comments['comment_text'].isnull()]"
   ]
  },
  {
   "cell_type": "markdown",
   "metadata": {},
   "source": [
    "### 02.03 Check for Substrings to Clean"
   ]
  },
  {
   "cell_type": "code",
   "execution_count": 6,
   "metadata": {},
   "outputs": [
    {
     "name": "stdout",
     "output_type": "stream",
     "text": [
      "comment_text\n",
      "False    85327\n",
      "True       882\n",
      "Name: count, dtype: int64\n"
     ]
    },
    {
     "data": {
      "text/html": [
       "<div>\n",
       "<style scoped>\n",
       "    .dataframe tbody tr th:only-of-type {\n",
       "        vertical-align: middle;\n",
       "    }\n",
       "\n",
       "    .dataframe tbody tr th {\n",
       "        vertical-align: top;\n",
       "    }\n",
       "\n",
       "    .dataframe thead th {\n",
       "        text-align: right;\n",
       "    }\n",
       "</style>\n",
       "<table border=\"1\" class=\"dataframe\">\n",
       "  <thead>\n",
       "    <tr style=\"text-align: right;\">\n",
       "      <th></th>\n",
       "      <th>thread_id</th>\n",
       "      <th>comment_id</th>\n",
       "      <th>comment_text</th>\n",
       "      <th>comment_score</th>\n",
       "      <th>comment_replies</th>\n",
       "      <th>generation_z</th>\n",
       "    </tr>\n",
       "  </thead>\n",
       "  <tbody>\n",
       "    <tr>\n",
       "      <th>23</th>\n",
       "      <td>18ay2s2</td>\n",
       "      <td>kc1pw55</td>\n",
       "      <td>[deleted]</td>\n",
       "      <td>3</td>\n",
       "      <td>1</td>\n",
       "      <td>0</td>\n",
       "    </tr>\n",
       "    <tr>\n",
       "      <th>33</th>\n",
       "      <td>18ay2s2</td>\n",
       "      <td>kc28kfe</td>\n",
       "      <td>[deleted]</td>\n",
       "      <td>2</td>\n",
       "      <td>2</td>\n",
       "      <td>0</td>\n",
       "    </tr>\n",
       "    <tr>\n",
       "      <th>236</th>\n",
       "      <td>18ay2s2</td>\n",
       "      <td>kc2sk5v</td>\n",
       "      <td>[deleted]</td>\n",
       "      <td>7</td>\n",
       "      <td>1</td>\n",
       "      <td>0</td>\n",
       "    </tr>\n",
       "    <tr>\n",
       "      <th>397</th>\n",
       "      <td>18ay2s2</td>\n",
       "      <td>kc2ga5p</td>\n",
       "      <td>[deleted]</td>\n",
       "      <td>1</td>\n",
       "      <td>1</td>\n",
       "      <td>0</td>\n",
       "    </tr>\n",
       "    <tr>\n",
       "      <th>452</th>\n",
       "      <td>18ay2s2</td>\n",
       "      <td>kc25fnx</td>\n",
       "      <td>[deleted]</td>\n",
       "      <td>3</td>\n",
       "      <td>1</td>\n",
       "      <td>0</td>\n",
       "    </tr>\n",
       "  </tbody>\n",
       "</table>\n",
       "</div>"
      ],
      "text/plain": [
       "    thread_id comment_id comment_text  comment_score  comment_replies  \\\n",
       "23    18ay2s2    kc1pw55    [deleted]              3                1   \n",
       "33    18ay2s2    kc28kfe    [deleted]              2                2   \n",
       "236   18ay2s2    kc2sk5v    [deleted]              7                1   \n",
       "397   18ay2s2    kc2ga5p    [deleted]              1                1   \n",
       "452   18ay2s2    kc25fnx    [deleted]              3                1   \n",
       "\n",
       "     generation_z  \n",
       "23              0  \n",
       "33              0  \n",
       "236             0  \n",
       "397             0  \n",
       "452             0  "
      ]
     },
     "execution_count": 6,
     "metadata": {},
     "output_type": "execute_result"
    }
   ],
   "source": [
    "# Check for data in column 'comment_text' that contain substring '[deleted]':\n",
    "print(comments['comment_text'].str.contains(r'\\[deleted\\]').value_counts())\n",
    "comments[comments['comment_text'].str.contains(r'\\[deleted\\]') == True].head()"
   ]
  },
  {
   "cell_type": "code",
   "execution_count": 7,
   "metadata": {},
   "outputs": [
    {
     "name": "stdout",
     "output_type": "stream",
     "text": [
      "comment_text\n",
      "False    86076\n",
      "True       133\n",
      "Name: count, dtype: int64\n"
     ]
    },
    {
     "data": {
      "text/html": [
       "<div>\n",
       "<style scoped>\n",
       "    .dataframe tbody tr th:only-of-type {\n",
       "        vertical-align: middle;\n",
       "    }\n",
       "\n",
       "    .dataframe tbody tr th {\n",
       "        vertical-align: top;\n",
       "    }\n",
       "\n",
       "    .dataframe thead th {\n",
       "        text-align: right;\n",
       "    }\n",
       "</style>\n",
       "<table border=\"1\" class=\"dataframe\">\n",
       "  <thead>\n",
       "    <tr style=\"text-align: right;\">\n",
       "      <th></th>\n",
       "      <th>thread_id</th>\n",
       "      <th>comment_id</th>\n",
       "      <th>comment_text</th>\n",
       "      <th>comment_score</th>\n",
       "      <th>comment_replies</th>\n",
       "      <th>generation_z</th>\n",
       "    </tr>\n",
       "  </thead>\n",
       "  <tbody>\n",
       "    <tr>\n",
       "      <th>1138</th>\n",
       "      <td>182z60u</td>\n",
       "      <td>kancpn8</td>\n",
       "      <td>[removed]</td>\n",
       "      <td>3</td>\n",
       "      <td>0</td>\n",
       "      <td>0</td>\n",
       "    </tr>\n",
       "    <tr>\n",
       "      <th>3053</th>\n",
       "      <td>185wkry</td>\n",
       "      <td>kb4f86w</td>\n",
       "      <td>[removed]</td>\n",
       "      <td>44</td>\n",
       "      <td>3</td>\n",
       "      <td>0</td>\n",
       "    </tr>\n",
       "    <tr>\n",
       "      <th>3197</th>\n",
       "      <td>185wkry</td>\n",
       "      <td>kb4gz7j</td>\n",
       "      <td>[removed]</td>\n",
       "      <td>13</td>\n",
       "      <td>1</td>\n",
       "      <td>0</td>\n",
       "    </tr>\n",
       "    <tr>\n",
       "      <th>4899</th>\n",
       "      <td>18al0tm</td>\n",
       "      <td>kc036ex</td>\n",
       "      <td>[removed]</td>\n",
       "      <td>31</td>\n",
       "      <td>1</td>\n",
       "      <td>0</td>\n",
       "    </tr>\n",
       "    <tr>\n",
       "      <th>6280</th>\n",
       "      <td>1890xqk</td>\n",
       "      <td>kbom31u</td>\n",
       "      <td>[removed]</td>\n",
       "      <td>-5</td>\n",
       "      <td>1</td>\n",
       "      <td>0</td>\n",
       "    </tr>\n",
       "  </tbody>\n",
       "</table>\n",
       "</div>"
      ],
      "text/plain": [
       "     thread_id comment_id comment_text  comment_score  comment_replies  \\\n",
       "1138   182z60u    kancpn8    [removed]              3                0   \n",
       "3053   185wkry    kb4f86w    [removed]             44                3   \n",
       "3197   185wkry    kb4gz7j    [removed]             13                1   \n",
       "4899   18al0tm    kc036ex    [removed]             31                1   \n",
       "6280   1890xqk    kbom31u    [removed]             -5                1   \n",
       "\n",
       "      generation_z  \n",
       "1138             0  \n",
       "3053             0  \n",
       "3197             0  \n",
       "4899             0  \n",
       "6280             0  "
      ]
     },
     "execution_count": 7,
     "metadata": {},
     "output_type": "execute_result"
    }
   ],
   "source": [
    "# Check for data in column 'comment_text' that contain substring '[removed]':\n",
    "print(comments['comment_text'].str.contains(r'\\[removed\\]').value_counts())\n",
    "comments[comments['comment_text'].str.contains(r'\\[removed\\]') == True].head()"
   ]
  },
  {
   "cell_type": "code",
   "execution_count": 8,
   "metadata": {},
   "outputs": [
    {
     "name": "stdout",
     "output_type": "stream",
     "text": [
      "comment_text\n",
      "False    86147\n",
      "True        62\n",
      "Name: count, dtype: int64\n"
     ]
    },
    {
     "data": {
      "text/html": [
       "<div>\n",
       "<style scoped>\n",
       "    .dataframe tbody tr th:only-of-type {\n",
       "        vertical-align: middle;\n",
       "    }\n",
       "\n",
       "    .dataframe tbody tr th {\n",
       "        vertical-align: top;\n",
       "    }\n",
       "\n",
       "    .dataframe thead th {\n",
       "        text-align: right;\n",
       "    }\n",
       "</style>\n",
       "<table border=\"1\" class=\"dataframe\">\n",
       "  <thead>\n",
       "    <tr style=\"text-align: right;\">\n",
       "      <th></th>\n",
       "      <th>thread_id</th>\n",
       "      <th>comment_id</th>\n",
       "      <th>comment_text</th>\n",
       "      <th>comment_score</th>\n",
       "      <th>comment_replies</th>\n",
       "      <th>generation_z</th>\n",
       "    </tr>\n",
       "  </thead>\n",
       "  <tbody>\n",
       "    <tr>\n",
       "      <th>22960</th>\n",
       "      <td>17cc1fr</td>\n",
       "      <td>k5scaav</td>\n",
       "      <td>&gt; to be *paid* and mc\\n\\nFTFY.\\n\\nAlthough *payed* exists (the reason why autocorrection didn't help you), it is only correct in:\\n\\n * Nautical context, when it means to paint a surface, or to cover with something like tar or resin in order to make it waterproof or corrosion-resistant. *The deck is yet to be payed.*\\n\\n * *Payed out* when letting strings, cables or ropes out, by slacking them...</td>\n",
       "      <td>1</td>\n",
       "      <td>0</td>\n",
       "      <td>0</td>\n",
       "    </tr>\n",
       "    <tr>\n",
       "      <th>35379</th>\n",
       "      <td>190rvji</td>\n",
       "      <td>kgq5ng6</td>\n",
       "      <td>It looks like OP posted an AMP link. These should load faster, but AMP is controversial because of [concerns over privacy and the Open Web](https://www.reddit.com/r/AmputatorBot/comments/ehrq3z/why_did_i_build_amputatorbot).\\n\\nMaybe check out **the canonical page** instead: **[https://www.dailymail.co.uk/news/article-12934883/Wall-Street-backed-landlord-buys-264-Las-Vegas-homes-98M-deal-Sin-C...</td>\n",
       "      <td>2</td>\n",
       "      <td>0</td>\n",
       "      <td>0</td>\n",
       "    </tr>\n",
       "    <tr>\n",
       "      <th>44399</th>\n",
       "      <td>1803qx6</td>\n",
       "      <td>ka3xiou</td>\n",
       "      <td>&gt; and haven't *paid* for childcare\\n\\nFTFY.\\n\\nAlthough *payed* exists (the reason why autocorrection didn't help you), it is only correct in:\\n\\n * Nautical context, when it means to paint a surface, or to cover with something like tar or resin in order to make it waterproof or corrosion-resistant. *The deck is yet to be payed.*\\n\\n * *Payed out* when letting strings, cables or ropes out, by ...</td>\n",
       "      <td>4</td>\n",
       "      <td>0</td>\n",
       "      <td>0</td>\n",
       "    </tr>\n",
       "    <tr>\n",
       "      <th>46767</th>\n",
       "      <td>17se109</td>\n",
       "      <td>k8p6uim</td>\n",
       "      <td>It looks like OP posted an AMP link. These should load faster, but AMP is controversial because of [concerns over privacy and the Open Web](https://www.reddit.com/r/AmputatorBot/comments/ehrq3z/why_did_i_build_amputatorbot). Fully cached AMP pages (like the one OP posted), are [especially problematic](https://www.reddit.com/r/AmputatorBot/comments/ehrq3z/why_did_i_build_amputatorbot).\\n\\nMaybe...</td>\n",
       "      <td>1</td>\n",
       "      <td>0</td>\n",
       "      <td>0</td>\n",
       "    </tr>\n",
       "    <tr>\n",
       "      <th>48145</th>\n",
       "      <td>18zc3op</td>\n",
       "      <td>kggheri</td>\n",
       "      <td>We are looking for moderators! If you're interested, read [here](https://www.reddit.com/r/GenZ/comments/18qppgo/rgenz_is_in_need_of_more_moderators_read_below)!\\n\\nDid you know we have a Discord server‽ You can join by clicking [here](https://discord.gg/NWE6JS5rh9)! \\n\\n\\n*I am a bot, and this action was performed automatically. Please [contact the moderators of this subreddit](/message/compos...</td>\n",
       "      <td>1</td>\n",
       "      <td>0</td>\n",
       "      <td>1</td>\n",
       "    </tr>\n",
       "  </tbody>\n",
       "</table>\n",
       "</div>"
      ],
      "text/plain": [
       "      thread_id comment_id  \\\n",
       "22960   17cc1fr    k5scaav   \n",
       "35379   190rvji    kgq5ng6   \n",
       "44399   1803qx6    ka3xiou   \n",
       "46767   17se109    k8p6uim   \n",
       "48145   18zc3op    kggheri   \n",
       "\n",
       "                                                                                                                                                                                                                                                                                                                                                                                                          comment_text  \\\n",
       "22960  > to be *paid* and mc\\n\\nFTFY.\\n\\nAlthough *payed* exists (the reason why autocorrection didn't help you), it is only correct in:\\n\\n * Nautical context, when it means to paint a surface, or to cover with something like tar or resin in order to make it waterproof or corrosion-resistant. *The deck is yet to be payed.*\\n\\n * *Payed out* when letting strings, cables or ropes out, by slacking them...   \n",
       "35379  It looks like OP posted an AMP link. These should load faster, but AMP is controversial because of [concerns over privacy and the Open Web](https://www.reddit.com/r/AmputatorBot/comments/ehrq3z/why_did_i_build_amputatorbot).\\n\\nMaybe check out **the canonical page** instead: **[https://www.dailymail.co.uk/news/article-12934883/Wall-Street-backed-landlord-buys-264-Las-Vegas-homes-98M-deal-Sin-C...   \n",
       "44399  > and haven't *paid* for childcare\\n\\nFTFY.\\n\\nAlthough *payed* exists (the reason why autocorrection didn't help you), it is only correct in:\\n\\n * Nautical context, when it means to paint a surface, or to cover with something like tar or resin in order to make it waterproof or corrosion-resistant. *The deck is yet to be payed.*\\n\\n * *Payed out* when letting strings, cables or ropes out, by ...   \n",
       "46767  It looks like OP posted an AMP link. These should load faster, but AMP is controversial because of [concerns over privacy and the Open Web](https://www.reddit.com/r/AmputatorBot/comments/ehrq3z/why_did_i_build_amputatorbot). Fully cached AMP pages (like the one OP posted), are [especially problematic](https://www.reddit.com/r/AmputatorBot/comments/ehrq3z/why_did_i_build_amputatorbot).\\n\\nMaybe...   \n",
       "48145  We are looking for moderators! If you're interested, read [here](https://www.reddit.com/r/GenZ/comments/18qppgo/rgenz_is_in_need_of_more_moderators_read_below)!\\n\\nDid you know we have a Discord server‽ You can join by clicking [here](https://discord.gg/NWE6JS5rh9)! \\n\\n\\n*I am a bot, and this action was performed automatically. Please [contact the moderators of this subreddit](/message/compos...   \n",
       "\n",
       "       comment_score  comment_replies  generation_z  \n",
       "22960              1                0             0  \n",
       "35379              2                0             0  \n",
       "44399              4                0             0  \n",
       "46767              1                0             0  \n",
       "48145              1                0             1  "
      ]
     },
     "execution_count": 8,
     "metadata": {},
     "output_type": "execute_result"
    }
   ],
   "source": [
    "# Check for data in column 'comment_text' that contain bot comments:\n",
    "print(comments['comment_text'].str.contains(r'I am a bot.|I\\'m a bot.').value_counts())\n",
    "comments[comments['comment_text'].str.contains(r'I am a bot.|I\\'m a bot.') == True].head()"
   ]
  },
  {
   "cell_type": "code",
   "execution_count": 9,
   "metadata": {},
   "outputs": [
    {
     "name": "stdout",
     "output_type": "stream",
     "text": [
      "comment_text\n",
      "False    67225\n",
      "True     18984\n",
      "Name: count, dtype: int64\n"
     ]
    },
    {
     "data": {
      "text/html": [
       "<div>\n",
       "<style scoped>\n",
       "    .dataframe tbody tr th:only-of-type {\n",
       "        vertical-align: middle;\n",
       "    }\n",
       "\n",
       "    .dataframe tbody tr th {\n",
       "        vertical-align: top;\n",
       "    }\n",
       "\n",
       "    .dataframe thead th {\n",
       "        text-align: right;\n",
       "    }\n",
       "</style>\n",
       "<table border=\"1\" class=\"dataframe\">\n",
       "  <thead>\n",
       "    <tr style=\"text-align: right;\">\n",
       "      <th></th>\n",
       "      <th>thread_id</th>\n",
       "      <th>comment_id</th>\n",
       "      <th>comment_text</th>\n",
       "      <th>comment_score</th>\n",
       "      <th>comment_replies</th>\n",
       "      <th>generation_z</th>\n",
       "    </tr>\n",
       "  </thead>\n",
       "  <tbody>\n",
       "    <tr>\n",
       "      <th>1</th>\n",
       "      <td>18ay2s2</td>\n",
       "      <td>kc1bowr</td>\n",
       "      <td>Can you imagine the bragging rights at school?\\n\\nRandom kid:  My dad is a doctor!!!\\n\\n**The kid**:  My grandpa was KURT COBAIN!!!! \\n\\nRandom kid: Oh yeah, well... my mom knows an influencer.\\n\\n**The kid**:  My other grandpa is TONY HAWK!!!!\\n\\n\\----- silence-----</td>\n",
       "      <td>304</td>\n",
       "      <td>9</td>\n",
       "      <td>0</td>\n",
       "    </tr>\n",
       "    <tr>\n",
       "      <th>7</th>\n",
       "      <td>18ay2s2</td>\n",
       "      <td>kc125xl</td>\n",
       "      <td>Michael Stipe officiated their wedding.\\n\\nAnd as a GenX I claim them as our own...</td>\n",
       "      <td>44</td>\n",
       "      <td>4</td>\n",
       "      <td>0</td>\n",
       "    </tr>\n",
       "    <tr>\n",
       "      <th>34</th>\n",
       "      <td>18ay2s2</td>\n",
       "      <td>kc2frr4</td>\n",
       "      <td>Does thos one need the race qualifier to be funny?\\n\\nSeems unnecessary.</td>\n",
       "      <td>2</td>\n",
       "      <td>0</td>\n",
       "      <td>0</td>\n",
       "    </tr>\n",
       "    <tr>\n",
       "      <th>38</th>\n",
       "      <td>18ay2s2</td>\n",
       "      <td>kc3bf61</td>\n",
       "      <td>Honestly, looking at a lot of these famous people, it's giving weird vibes. Frances Cobain is the daughter of Kurt Cobain and Courtney Love, then Courtney Love's father was the Grateful Dead's manager, and her mother might actually be Marlon Brando's daughter. It's giving Sacred Twenty Eight tbh, how so many people in that circle are (or might be) related.\\n\\nShe reminds me of Amy Lee in that ...</td>\n",
       "      <td>2</td>\n",
       "      <td>0</td>\n",
       "      <td>0</td>\n",
       "    </tr>\n",
       "    <tr>\n",
       "      <th>80</th>\n",
       "      <td>18ay2s2</td>\n",
       "      <td>kc25vnk</td>\n",
       "      <td>Aww I remember gently scolding him in the lobby of a very nice hotel, asking him to not yoyo next to a glass table when he was a teen. \\n\\nGlad he's doing well.</td>\n",
       "      <td>1</td>\n",
       "      <td>0</td>\n",
       "      <td>0</td>\n",
       "    </tr>\n",
       "  </tbody>\n",
       "</table>\n",
       "</div>"
      ],
      "text/plain": [
       "   thread_id comment_id  \\\n",
       "1    18ay2s2    kc1bowr   \n",
       "7    18ay2s2    kc125xl   \n",
       "34   18ay2s2    kc2frr4   \n",
       "38   18ay2s2    kc3bf61   \n",
       "80   18ay2s2    kc25vnk   \n",
       "\n",
       "                                                                                                                                                                                                                                                                                                                                                                                                       comment_text  \\\n",
       "1                                                                                                                                       Can you imagine the bragging rights at school?\\n\\nRandom kid:  My dad is a doctor!!!\\n\\n**The kid**:  My grandpa was KURT COBAIN!!!! \\n\\nRandom kid: Oh yeah, well... my mom knows an influencer.\\n\\n**The kid**:  My other grandpa is TONY HAWK!!!!\\n\\n\\----- silence-----   \n",
       "7                                                                                                                                                                                                                                                                                                                               Michael Stipe officiated their wedding.\\n\\nAnd as a GenX I claim them as our own...   \n",
       "34                                                                                                                                                                                                                                                                                                                                         Does thos one need the race qualifier to be funny?\\n\\nSeems unnecessary.   \n",
       "38  Honestly, looking at a lot of these famous people, it's giving weird vibes. Frances Cobain is the daughter of Kurt Cobain and Courtney Love, then Courtney Love's father was the Grateful Dead's manager, and her mother might actually be Marlon Brando's daughter. It's giving Sacred Twenty Eight tbh, how so many people in that circle are (or might be) related.\\n\\nShe reminds me of Amy Lee in that ...   \n",
       "80                                                                                                                                                                                                                                                 Aww I remember gently scolding him in the lobby of a very nice hotel, asking him to not yoyo next to a glass table when he was a teen. \\n\\nGlad he's doing well.   \n",
       "\n",
       "    comment_score  comment_replies  generation_z  \n",
       "1             304                9             0  \n",
       "7              44                4             0  \n",
       "34              2                0             0  \n",
       "38              2                0             0  \n",
       "80              1                0             0  "
      ]
     },
     "execution_count": 9,
     "metadata": {},
     "output_type": "execute_result"
    }
   ],
   "source": [
    "# Check for data in column 'comment_text' that contain line or tab characters:\n",
    "print(comments['comment_text'].str.contains(r'\\r|\\t|\\n').value_counts())\n",
    "comments[comments['comment_text'].str.contains(r'\\r|\\t|\\n') == True].head()"
   ]
  },
  {
   "cell_type": "code",
   "execution_count": 10,
   "metadata": {},
   "outputs": [
    {
     "name": "stdout",
     "output_type": "stream",
     "text": [
      "comment_text\n",
      "False    86165\n",
      "True        44\n",
      "Name: count, dtype: int64\n"
     ]
    },
    {
     "data": {
      "text/html": [
       "<div>\n",
       "<style scoped>\n",
       "    .dataframe tbody tr th:only-of-type {\n",
       "        vertical-align: middle;\n",
       "    }\n",
       "\n",
       "    .dataframe tbody tr th {\n",
       "        vertical-align: top;\n",
       "    }\n",
       "\n",
       "    .dataframe thead th {\n",
       "        text-align: right;\n",
       "    }\n",
       "</style>\n",
       "<table border=\"1\" class=\"dataframe\">\n",
       "  <thead>\n",
       "    <tr style=\"text-align: right;\">\n",
       "      <th></th>\n",
       "      <th>thread_id</th>\n",
       "      <th>comment_id</th>\n",
       "      <th>comment_text</th>\n",
       "      <th>comment_score</th>\n",
       "      <th>comment_replies</th>\n",
       "      <th>generation_z</th>\n",
       "    </tr>\n",
       "  </thead>\n",
       "  <tbody>\n",
       "    <tr>\n",
       "      <th>1164</th>\n",
       "      <td>182z60u</td>\n",
       "      <td>kan3qr3</td>\n",
       "      <td>ad hoc fragile dinosaurs innate obscene domineering boat foolish bake retire\\n\\n *This post was mass deleted and anonymized with [Redact](https://redact.dev)*</td>\n",
       "      <td>2</td>\n",
       "      <td>0</td>\n",
       "      <td>0</td>\n",
       "    </tr>\n",
       "    <tr>\n",
       "      <th>13547</th>\n",
       "      <td>184nhro</td>\n",
       "      <td>kay5n3p</td>\n",
       "      <td>upbeat humorous fact angle spectacular shaggy door deer cats repeat\\n\\n *This post was mass deleted and anonymized with [Redact](https://redact.dev)*</td>\n",
       "      <td>2</td>\n",
       "      <td>0</td>\n",
       "      <td>0</td>\n",
       "    </tr>\n",
       "    <tr>\n",
       "      <th>13648</th>\n",
       "      <td>184nhro</td>\n",
       "      <td>kay5zdc</td>\n",
       "      <td>degree six rinse encourage overconfident hateful smoggy zesty paltry disgusted\\n\\n *This post was mass deleted and anonymized with [Redact](https://redact.dev)*</td>\n",
       "      <td>2</td>\n",
       "      <td>0</td>\n",
       "      <td>0</td>\n",
       "    </tr>\n",
       "    <tr>\n",
       "      <th>13653</th>\n",
       "      <td>184nhro</td>\n",
       "      <td>kay61k0</td>\n",
       "      <td>kiss unpack historical sharp erect memorize cows oil cheerful ancient\\n\\n *This post was mass deleted and anonymized with [Redact](https://redact.dev)*</td>\n",
       "      <td>1</td>\n",
       "      <td>1</td>\n",
       "      <td>0</td>\n",
       "    </tr>\n",
       "    <tr>\n",
       "      <th>14962</th>\n",
       "      <td>17wg8yj</td>\n",
       "      <td>k9k250u</td>\n",
       "      <td>tease dazzling tidy dinner ink upbeat alive edge snatch ripe\\n\\n *This post was mass deleted and anonymized with [Redact](https://redact.dev)*</td>\n",
       "      <td>1</td>\n",
       "      <td>0</td>\n",
       "      <td>0</td>\n",
       "    </tr>\n",
       "  </tbody>\n",
       "</table>\n",
       "</div>"
      ],
      "text/plain": [
       "      thread_id comment_id  \\\n",
       "1164    182z60u    kan3qr3   \n",
       "13547   184nhro    kay5n3p   \n",
       "13648   184nhro    kay5zdc   \n",
       "13653   184nhro    kay61k0   \n",
       "14962   17wg8yj    k9k250u   \n",
       "\n",
       "                                                                                                                                                           comment_text  \\\n",
       "1164     ad hoc fragile dinosaurs innate obscene domineering boat foolish bake retire\\n\\n *This post was mass deleted and anonymized with [Redact](https://redact.dev)*   \n",
       "13547             upbeat humorous fact angle spectacular shaggy door deer cats repeat\\n\\n *This post was mass deleted and anonymized with [Redact](https://redact.dev)*   \n",
       "13648  degree six rinse encourage overconfident hateful smoggy zesty paltry disgusted\\n\\n *This post was mass deleted and anonymized with [Redact](https://redact.dev)*   \n",
       "13653           kiss unpack historical sharp erect memorize cows oil cheerful ancient\\n\\n *This post was mass deleted and anonymized with [Redact](https://redact.dev)*   \n",
       "14962                    tease dazzling tidy dinner ink upbeat alive edge snatch ripe\\n\\n *This post was mass deleted and anonymized with [Redact](https://redact.dev)*   \n",
       "\n",
       "       comment_score  comment_replies  generation_z  \n",
       "1164               2                0             0  \n",
       "13547              2                0             0  \n",
       "13648              2                0             0  \n",
       "13653              1                1             0  \n",
       "14962              1                0             0  "
      ]
     },
     "execution_count": 10,
     "metadata": {},
     "output_type": "execute_result"
    }
   ],
   "source": [
    "# Check for data in column 'comment_text' that contain substring 'This post was mass deleted and anonymized with [Redact](https://redact.dev)':\n",
    "print(comments['comment_text'].str.contains(r'This post was mass deleted and anonymized with \\[Redact\\]\\(https://redact.dev\\)').value_counts())\n",
    "comments[comments['comment_text'].str.contains(r'This post was mass deleted and anonymized with \\[Redact\\]\\(https://redact.dev\\)') == True].head()"
   ]
  },
  {
   "cell_type": "code",
   "execution_count": 11,
   "metadata": {},
   "outputs": [
    {
     "name": "stdout",
     "output_type": "stream",
     "text": [
      "comment_text\n",
      "False    84645\n",
      "True      1564\n",
      "Name: count, dtype: int64\n"
     ]
    },
    {
     "data": {
      "text/html": [
       "<div>\n",
       "<style scoped>\n",
       "    .dataframe tbody tr th:only-of-type {\n",
       "        vertical-align: middle;\n",
       "    }\n",
       "\n",
       "    .dataframe tbody tr th {\n",
       "        vertical-align: top;\n",
       "    }\n",
       "\n",
       "    .dataframe thead th {\n",
       "        text-align: right;\n",
       "    }\n",
       "</style>\n",
       "<table border=\"1\" class=\"dataframe\">\n",
       "  <thead>\n",
       "    <tr style=\"text-align: right;\">\n",
       "      <th></th>\n",
       "      <th>thread_id</th>\n",
       "      <th>comment_id</th>\n",
       "      <th>comment_text</th>\n",
       "      <th>comment_score</th>\n",
       "      <th>comment_replies</th>\n",
       "      <th>generation_z</th>\n",
       "    </tr>\n",
       "  </thead>\n",
       "  <tbody>\n",
       "    <tr>\n",
       "      <th>195</th>\n",
       "      <td>18ay2s2</td>\n",
       "      <td>kc2hj1k</td>\n",
       "      <td>[He was a banker boy, said \"see you later boy.\"](https://www.youtube.com/watch?v=N2X3L1QBCOw)</td>\n",
       "      <td>1</td>\n",
       "      <td>0</td>\n",
       "      <td>0</td>\n",
       "    </tr>\n",
       "    <tr>\n",
       "      <th>297</th>\n",
       "      <td>18ay2s2</td>\n",
       "      <td>kc48rmu</td>\n",
       "      <td>Riley Hawk is an extremely talented street skater in his own right, he's really, really good\\n\\n[https://www.youtube.com/watch?v=ayiJiZ3Ruek](https://www.youtube.com/watch?v=ayiJiZ3Ruek)\\n\\nHe also owns a cool coffee shop</td>\n",
       "      <td>1</td>\n",
       "      <td>0</td>\n",
       "      <td>0</td>\n",
       "    </tr>\n",
       "    <tr>\n",
       "      <th>298</th>\n",
       "      <td>18ay2s2</td>\n",
       "      <td>kc2zlqb</td>\n",
       "      <td>Here's a sneak peek of /r/Accounting using the [top posts](https://np.reddit.com/r/Accounting/top/?sort=top&amp;t=year) of the year!\\n\\n\\#1: [Accountant goes to Disney ](https://v.redd.it/o2mbz7yr4c1b1) | [175 comments](https://np.reddit.com/r/Accounting/comments/13odstf/accountant_goes_to_disney/)  \\n\\#2: [Social media “tax experts” realizing that a tax return contains more than a line saying “Tr...</td>\n",
       "      <td>1</td>\n",
       "      <td>0</td>\n",
       "      <td>0</td>\n",
       "    </tr>\n",
       "    <tr>\n",
       "      <th>301</th>\n",
       "      <td>18ay2s2</td>\n",
       "      <td>kc2lqht</td>\n",
       "      <td>I will be messaging you in 20 years on [**2043-12-05 08:16:09 UTC**](http://www.wolframalpha.com/input/?i=2043-12-05%2008:16:09%20UTC%20To%20Local%20Time) to remind you of [**this link**](https://www.reddit.com/r/Millennials/comments/18ay2s2/finally_a_worthy_millennial_bloodline_to_take_us/kc2loc2/?context=3)\\n\\n[**CLICK THIS LINK**](https://www.reddit.com/message/compose/?to=RemindMeBot&amp;subje...</td>\n",
       "      <td>1</td>\n",
       "      <td>0</td>\n",
       "      <td>0</td>\n",
       "    </tr>\n",
       "    <tr>\n",
       "      <th>362</th>\n",
       "      <td>18ay2s2</td>\n",
       "      <td>kc1uosu</td>\n",
       "      <td>&gt; Neither come from punk heritage Nirvana was grunge \\n\\nhttps://en.wikipedia.org/wiki/Grunge\\n\\n&gt;Grunge fuses elements of punk rock (specifically American hardcore punk such as Black Flag) and heavy metal (especially traditional, earlier heavy metal groups such as Black Sabbath), although some bands performed with more emphasis on one or the other. Alex DiBlasi feels that indie rock was a thi...</td>\n",
       "      <td>4</td>\n",
       "      <td>0</td>\n",
       "      <td>0</td>\n",
       "    </tr>\n",
       "  </tbody>\n",
       "</table>\n",
       "</div>"
      ],
      "text/plain": [
       "    thread_id comment_id  \\\n",
       "195   18ay2s2    kc2hj1k   \n",
       "297   18ay2s2    kc48rmu   \n",
       "298   18ay2s2    kc2zlqb   \n",
       "301   18ay2s2    kc2lqht   \n",
       "362   18ay2s2    kc1uosu   \n",
       "\n",
       "                                                                                                                                                                                                                                                                                                                                                                                                        comment_text  \\\n",
       "195                                                                                                                                                                                                                                                                                                                    [He was a banker boy, said \"see you later boy.\"](https://www.youtube.com/watch?v=N2X3L1QBCOw)   \n",
       "297                                                                                                                                                                                    Riley Hawk is an extremely talented street skater in his own right, he's really, really good\\n\\n[https://www.youtube.com/watch?v=ayiJiZ3Ruek](https://www.youtube.com/watch?v=ayiJiZ3Ruek)\\n\\nHe also owns a cool coffee shop   \n",
       "298  Here's a sneak peek of /r/Accounting using the [top posts](https://np.reddit.com/r/Accounting/top/?sort=top&t=year) of the year!\\n\\n\\#1: [Accountant goes to Disney ](https://v.redd.it/o2mbz7yr4c1b1) | [175 comments](https://np.reddit.com/r/Accounting/comments/13odstf/accountant_goes_to_disney/)  \\n\\#2: [Social media “tax experts” realizing that a tax return contains more than a line saying “Tr...   \n",
       "301  I will be messaging you in 20 years on [**2043-12-05 08:16:09 UTC**](http://www.wolframalpha.com/input/?i=2043-12-05%2008:16:09%20UTC%20To%20Local%20Time) to remind you of [**this link**](https://www.reddit.com/r/Millennials/comments/18ay2s2/finally_a_worthy_millennial_bloodline_to_take_us/kc2loc2/?context=3)\\n\\n[**CLICK THIS LINK**](https://www.reddit.com/message/compose/?to=RemindMeBot&subje...   \n",
       "362  > Neither come from punk heritage Nirvana was grunge \\n\\nhttps://en.wikipedia.org/wiki/Grunge\\n\\n>Grunge fuses elements of punk rock (specifically American hardcore punk such as Black Flag) and heavy metal (especially traditional, earlier heavy metal groups such as Black Sabbath), although some bands performed with more emphasis on one or the other. Alex DiBlasi feels that indie rock was a thi...   \n",
       "\n",
       "     comment_score  comment_replies  generation_z  \n",
       "195              1                0             0  \n",
       "297              1                0             0  \n",
       "298              1                0             0  \n",
       "301              1                0             0  \n",
       "362              4                0             0  "
      ]
     },
     "execution_count": 11,
     "metadata": {},
     "output_type": "execute_result"
    }
   ],
   "source": [
    "# Check for data in column 'comment_text' that contain website urls:\n",
    "print(comments['comment_text'].str.contains(r'http[s]?\\://\\S+').value_counts())\n",
    "comments[comments['comment_text'].str.contains(r'http[s]?\\://\\S+') == True].head()"
   ]
  },
  {
   "cell_type": "code",
   "execution_count": 12,
   "metadata": {},
   "outputs": [
    {
     "name": "stdout",
     "output_type": "stream",
     "text": [
      "comment_text\n",
      "False    86033\n",
      "True       176\n",
      "Name: count, dtype: int64\n"
     ]
    },
    {
     "data": {
      "text/html": [
       "<div>\n",
       "<style scoped>\n",
       "    .dataframe tbody tr th:only-of-type {\n",
       "        vertical-align: middle;\n",
       "    }\n",
       "\n",
       "    .dataframe tbody tr th {\n",
       "        vertical-align: top;\n",
       "    }\n",
       "\n",
       "    .dataframe thead th {\n",
       "        text-align: right;\n",
       "    }\n",
       "</style>\n",
       "<table border=\"1\" class=\"dataframe\">\n",
       "  <thead>\n",
       "    <tr style=\"text-align: right;\">\n",
       "      <th></th>\n",
       "      <th>thread_id</th>\n",
       "      <th>comment_id</th>\n",
       "      <th>comment_text</th>\n",
       "      <th>comment_score</th>\n",
       "      <th>comment_replies</th>\n",
       "      <th>generation_z</th>\n",
       "    </tr>\n",
       "  </thead>\n",
       "  <tbody>\n",
       "    <tr>\n",
       "      <th>2490</th>\n",
       "      <td>18qhor0</td>\n",
       "      <td>kev12bp</td>\n",
       "      <td>Gifts shouldn't be the focus of this holiday.  Some of us grew up getting very little, and would be pleased with shower gels.  Id suggest he make gratitude lists each year around this time so that he can feel grateful despite a lack of creative gifts or nice gifts.  \\n\\n&amp;#x200B;\\n\\nOr he can simply ask people to donate to a charity instead of accepting more stuff. He can also give donations to...</td>\n",
       "      <td>15</td>\n",
       "      <td>0</td>\n",
       "      <td>0</td>\n",
       "    </tr>\n",
       "    <tr>\n",
       "      <th>2665</th>\n",
       "      <td>18qhor0</td>\n",
       "      <td>kev9pno</td>\n",
       "      <td>no one's asking for \"expensive stuff\". If i want that xbox or playstation 5 or whatever I'll get it. \\n\\n&amp;#x200B;\\n\\nbut yknow, how about a little more thought than shower gel or socks. Maybe you saw a book i said i really wanted. or maybe you saw an accessory for something i already have that you'd think I'd like. \\n\\n&amp;#x200B;\\n\\nHappy Yule to you though, hopefully you get that stick removal ...</td>\n",
       "      <td>38</td>\n",
       "      <td>0</td>\n",
       "      <td>0</td>\n",
       "    </tr>\n",
       "    <tr>\n",
       "      <th>3415</th>\n",
       "      <td>185wkry</td>\n",
       "      <td>kb6czry</td>\n",
       "      <td>Its costs like this that push parents to have one stay home, because the childcare costs just completely wipe out one salary.\\n\\n&amp;#x200B;\\n\\nThen you're stuck living on one salary, and this isnt the 1950s... raising a family of 4 on one salary is not easy</td>\n",
       "      <td>7</td>\n",
       "      <td>1</td>\n",
       "      <td>0</td>\n",
       "    </tr>\n",
       "    <tr>\n",
       "      <th>3818</th>\n",
       "      <td>18oj2ij</td>\n",
       "      <td>kehtqcs</td>\n",
       "      <td>you can also turn the meat into a great albondigas soup, or season it up with mexican spices to make ground tacos and nachos!\\n\\n&amp;#x200B;\\n\\nim mexican btw haha</td>\n",
       "      <td>3</td>\n",
       "      <td>0</td>\n",
       "      <td>0</td>\n",
       "    </tr>\n",
       "    <tr>\n",
       "      <th>4825</th>\n",
       "      <td>18al0tm</td>\n",
       "      <td>kbzvjdk</td>\n",
       "      <td>Was this not the trade-off? One income households means that the salary covers both partners. The husband earned the salary to allow the wife to stay home and tend home and children.\\n\\n&amp;#x200B;\\n\\nHowever most jobs were physically demanding, unsafe, or straight-up poisoning men and women had unrealistic expectations on the \"ideal\" image with little opportunity to make their own careers, and d...</td>\n",
       "      <td>10</td>\n",
       "      <td>0</td>\n",
       "      <td>0</td>\n",
       "    </tr>\n",
       "  </tbody>\n",
       "</table>\n",
       "</div>"
      ],
      "text/plain": [
       "     thread_id comment_id  \\\n",
       "2490   18qhor0    kev12bp   \n",
       "2665   18qhor0    kev9pno   \n",
       "3415   185wkry    kb6czry   \n",
       "3818   18oj2ij    kehtqcs   \n",
       "4825   18al0tm    kbzvjdk   \n",
       "\n",
       "                                                                                                                                                                                                                                                                                                                                                                                                         comment_text  \\\n",
       "2490  Gifts shouldn't be the focus of this holiday.  Some of us grew up getting very little, and would be pleased with shower gels.  Id suggest he make gratitude lists each year around this time so that he can feel grateful despite a lack of creative gifts or nice gifts.  \\n\\n&#x200B;\\n\\nOr he can simply ask people to donate to a charity instead of accepting more stuff. He can also give donations to...   \n",
       "2665  no one's asking for \"expensive stuff\". If i want that xbox or playstation 5 or whatever I'll get it. \\n\\n&#x200B;\\n\\nbut yknow, how about a little more thought than shower gel or socks. Maybe you saw a book i said i really wanted. or maybe you saw an accessory for something i already have that you'd think I'd like. \\n\\n&#x200B;\\n\\nHappy Yule to you though, hopefully you get that stick removal ...   \n",
       "3415                                                                                                                                                  Its costs like this that push parents to have one stay home, because the childcare costs just completely wipe out one salary.\\n\\n&#x200B;\\n\\nThen you're stuck living on one salary, and this isnt the 1950s... raising a family of 4 on one salary is not easy   \n",
       "3818                                                                                                                                                                                                                                                 you can also turn the meat into a great albondigas soup, or season it up with mexican spices to make ground tacos and nachos!\\n\\n&#x200B;\\n\\nim mexican btw haha   \n",
       "4825  Was this not the trade-off? One income households means that the salary covers both partners. The husband earned the salary to allow the wife to stay home and tend home and children.\\n\\n&#x200B;\\n\\nHowever most jobs were physically demanding, unsafe, or straight-up poisoning men and women had unrealistic expectations on the \"ideal\" image with little opportunity to make their own careers, and d...   \n",
       "\n",
       "      comment_score  comment_replies  generation_z  \n",
       "2490             15                0             0  \n",
       "2665             38                0             0  \n",
       "3415              7                1             0  \n",
       "3818              3                0             0  \n",
       "4825             10                0             0  "
      ]
     },
     "execution_count": 12,
     "metadata": {},
     "output_type": "execute_result"
    }
   ],
   "source": [
    "# Check for data in column 'comment_text' that contain HTML hexadecimal codes:\n",
    "print(comments['comment_text'].str.contains(r'\\&\\#x\\S+\\;').value_counts())\n",
    "comments[comments['comment_text'].str.contains(r'\\&\\#x\\S+\\;') == True].head()"
   ]
  },
  {
   "cell_type": "code",
   "execution_count": 13,
   "metadata": {},
   "outputs": [
    {
     "name": "stdout",
     "output_type": "stream",
     "text": [
      "comment_text\n",
      "False    85951\n",
      "True       258\n",
      "Name: count, dtype: int64\n"
     ]
    },
    {
     "data": {
      "text/html": [
       "<div>\n",
       "<style scoped>\n",
       "    .dataframe tbody tr th:only-of-type {\n",
       "        vertical-align: middle;\n",
       "    }\n",
       "\n",
       "    .dataframe tbody tr th {\n",
       "        vertical-align: top;\n",
       "    }\n",
       "\n",
       "    .dataframe thead th {\n",
       "        text-align: right;\n",
       "    }\n",
       "</style>\n",
       "<table border=\"1\" class=\"dataframe\">\n",
       "  <thead>\n",
       "    <tr style=\"text-align: right;\">\n",
       "      <th></th>\n",
       "      <th>thread_id</th>\n",
       "      <th>comment_id</th>\n",
       "      <th>comment_text</th>\n",
       "      <th>comment_score</th>\n",
       "      <th>comment_replies</th>\n",
       "      <th>generation_z</th>\n",
       "    </tr>\n",
       "  </thead>\n",
       "  <tbody>\n",
       "    <tr>\n",
       "      <th>412</th>\n",
       "      <td>18ay2s2</td>\n",
       "      <td>kc1mbxp</td>\n",
       "      <td>They even play RHCP on classic rock these days 😵‍💫</td>\n",
       "      <td>16</td>\n",
       "      <td>3</td>\n",
       "      <td>0</td>\n",
       "    </tr>\n",
       "    <tr>\n",
       "      <th>576</th>\n",
       "      <td>194dkqv</td>\n",
       "      <td>khfsg8g</td>\n",
       "      <td>I’m 43 and still feel like 30’s - sometimes even 20’s 🤷‍♂️</td>\n",
       "      <td>1</td>\n",
       "      <td>0</td>\n",
       "      <td>0</td>\n",
       "    </tr>\n",
       "    <tr>\n",
       "      <th>615</th>\n",
       "      <td>194dkqv</td>\n",
       "      <td>khg69w4</td>\n",
       "      <td>I'm 38 and I feel 28. 🤷‍♂️</td>\n",
       "      <td>1</td>\n",
       "      <td>0</td>\n",
       "      <td>0</td>\n",
       "    </tr>\n",
       "    <tr>\n",
       "      <th>704</th>\n",
       "      <td>194dkqv</td>\n",
       "      <td>khfs6oy</td>\n",
       "      <td>Ok I could have gone my whole day not knowing this information 😮‍💨</td>\n",
       "      <td>16</td>\n",
       "      <td>0</td>\n",
       "      <td>0</td>\n",
       "    </tr>\n",
       "    <tr>\n",
       "      <th>762</th>\n",
       "      <td>194dkqv</td>\n",
       "      <td>khhfn33</td>\n",
       "      <td>Work bitch! 👱‍♀️🏳️‍🌈</td>\n",
       "      <td>2</td>\n",
       "      <td>0</td>\n",
       "      <td>0</td>\n",
       "    </tr>\n",
       "  </tbody>\n",
       "</table>\n",
       "</div>"
      ],
      "text/plain": [
       "    thread_id comment_id  \\\n",
       "412   18ay2s2    kc1mbxp   \n",
       "576   194dkqv    khfsg8g   \n",
       "615   194dkqv    khg69w4   \n",
       "704   194dkqv    khfs6oy   \n",
       "762   194dkqv    khhfn33   \n",
       "\n",
       "                                                           comment_text  \\\n",
       "412                  They even play RHCP on classic rock these days 😵‍💫   \n",
       "576          I’m 43 and still feel like 30’s - sometimes even 20’s 🤷‍♂️   \n",
       "615                                          I'm 38 and I feel 28. 🤷‍♂️   \n",
       "704  Ok I could have gone my whole day not knowing this information 😮‍💨   \n",
       "762                                                Work bitch! 👱‍♀️🏳️‍🌈   \n",
       "\n",
       "     comment_score  comment_replies  generation_z  \n",
       "412             16                3             0  \n",
       "576              1                0             0  \n",
       "615              1                0             0  \n",
       "704             16                0             0  \n",
       "762              2                0             0  "
      ]
     },
     "execution_count": 13,
     "metadata": {},
     "output_type": "execute_result"
    }
   ],
   "source": [
    "# Check for data in column 'comment_text' that contain emoji hexadecimal codes:\n",
    "print(comments['comment_text'].str.contains(r'\\u200d').value_counts())\n",
    "comments[comments['comment_text'].str.contains(r'\\u200d') == True].head()"
   ]
  },
  {
   "cell_type": "code",
   "execution_count": 14,
   "metadata": {},
   "outputs": [
    {
     "name": "stdout",
     "output_type": "stream",
     "text": [
      "comment_text\n",
      "False    85670\n",
      "True       539\n",
      "Name: count, dtype: int64\n"
     ]
    },
    {
     "name": "stderr",
     "output_type": "stream",
     "text": [
      "C:\\Users\\daryl\\AppData\\Local\\Temp\\ipykernel_28288\\3173249746.py:2: UserWarning: This pattern is interpreted as a regular expression, and has match groups. To actually get the groups, use str.extract.\n",
      "  print(comments['comment_text'].str.contains(r\"!\\[gif\\]\\((giphy|emote)\\|\\w+(\\|\\w+)?\\)\").value_counts())\n",
      "C:\\Users\\daryl\\AppData\\Local\\Temp\\ipykernel_28288\\3173249746.py:3: UserWarning: This pattern is interpreted as a regular expression, and has match groups. To actually get the groups, use str.extract.\n",
      "  comments[comments['comment_text'].str.contains(r\"!\\[gif\\]\\((giphy|emote)\\|\\w+(\\|\\w+)?\\)\") == True].head()\n"
     ]
    },
    {
     "data": {
      "text/html": [
       "<div>\n",
       "<style scoped>\n",
       "    .dataframe tbody tr th:only-of-type {\n",
       "        vertical-align: middle;\n",
       "    }\n",
       "\n",
       "    .dataframe tbody tr th {\n",
       "        vertical-align: top;\n",
       "    }\n",
       "\n",
       "    .dataframe thead th {\n",
       "        text-align: right;\n",
       "    }\n",
       "</style>\n",
       "<table border=\"1\" class=\"dataframe\">\n",
       "  <thead>\n",
       "    <tr style=\"text-align: right;\">\n",
       "      <th></th>\n",
       "      <th>thread_id</th>\n",
       "      <th>comment_id</th>\n",
       "      <th>comment_text</th>\n",
       "      <th>comment_score</th>\n",
       "      <th>comment_replies</th>\n",
       "      <th>generation_z</th>\n",
       "    </tr>\n",
       "  </thead>\n",
       "  <tbody>\n",
       "    <tr>\n",
       "      <th>204</th>\n",
       "      <td>18ay2s2</td>\n",
       "      <td>kc22ki0</td>\n",
       "      <td>Sadly the most likely response to both is going to be:\\n\\n![gif](giphy|rI9O6UXkCjvTG)</td>\n",
       "      <td>8</td>\n",
       "      <td>1</td>\n",
       "      <td>0</td>\n",
       "    </tr>\n",
       "    <tr>\n",
       "      <th>516</th>\n",
       "      <td>194dkqv</td>\n",
       "      <td>khh9oau</td>\n",
       "      <td>![gif](giphy|4JVTF9zR9BicshFAb7|downsized)\\n\\nQuick maths</td>\n",
       "      <td>2</td>\n",
       "      <td>0</td>\n",
       "      <td>0</td>\n",
       "    </tr>\n",
       "    <tr>\n",
       "      <th>698</th>\n",
       "      <td>194dkqv</td>\n",
       "      <td>khfo8zp</td>\n",
       "      <td>Come closer.\\n\\n![gif](giphy|ZtusrBPGWbqlW|downsized)</td>\n",
       "      <td>7</td>\n",
       "      <td>2</td>\n",
       "      <td>0</td>\n",
       "    </tr>\n",
       "    <tr>\n",
       "      <th>795</th>\n",
       "      <td>194dkqv</td>\n",
       "      <td>khfxa9i</td>\n",
       "      <td>![gif](giphy|PQYxLcDefqJWVgrylr)</td>\n",
       "      <td>6</td>\n",
       "      <td>0</td>\n",
       "      <td>0</td>\n",
       "    </tr>\n",
       "    <tr>\n",
       "      <th>802</th>\n",
       "      <td>194dkqv</td>\n",
       "      <td>khgizfs</td>\n",
       "      <td>![gif](giphy|Z735ofxdfjjFk5fUs7)</td>\n",
       "      <td>4</td>\n",
       "      <td>0</td>\n",
       "      <td>0</td>\n",
       "    </tr>\n",
       "  </tbody>\n",
       "</table>\n",
       "</div>"
      ],
      "text/plain": [
       "    thread_id comment_id  \\\n",
       "204   18ay2s2    kc22ki0   \n",
       "516   194dkqv    khh9oau   \n",
       "698   194dkqv    khfo8zp   \n",
       "795   194dkqv    khfxa9i   \n",
       "802   194dkqv    khgizfs   \n",
       "\n",
       "                                                                              comment_text  \\\n",
       "204  Sadly the most likely response to both is going to be:\\n\\n![gif](giphy|rI9O6UXkCjvTG)   \n",
       "516                              ![gif](giphy|4JVTF9zR9BicshFAb7|downsized)\\n\\nQuick maths   \n",
       "698                                  Come closer.\\n\\n![gif](giphy|ZtusrBPGWbqlW|downsized)   \n",
       "795                                                       ![gif](giphy|PQYxLcDefqJWVgrylr)   \n",
       "802                                                       ![gif](giphy|Z735ofxdfjjFk5fUs7)   \n",
       "\n",
       "     comment_score  comment_replies  generation_z  \n",
       "204              8                1             0  \n",
       "516              2                0             0  \n",
       "698              7                2             0  \n",
       "795              6                0             0  \n",
       "802              4                0             0  "
      ]
     },
     "execution_count": 14,
     "metadata": {},
     "output_type": "execute_result"
    }
   ],
   "source": [
    "# Check for data in column 'comment_text' that contain gif image codes:\n",
    "print(comments['comment_text'].str.contains(r\"!\\[gif\\]\\((giphy|emote)\\|\\w+(\\|\\w+)?\\)\").value_counts())\n",
    "comments[comments['comment_text'].str.contains(r\"!\\[gif\\]\\((giphy|emote)\\|\\w+(\\|\\w+)?\\)\") == True].head()"
   ]
  },
  {
   "cell_type": "code",
   "execution_count": 15,
   "metadata": {},
   "outputs": [
    {
     "name": "stdout",
     "output_type": "stream",
     "text": [
      "comment_text\n",
      "False    85983\n",
      "True       226\n",
      "Name: count, dtype: int64\n"
     ]
    },
    {
     "data": {
      "text/html": [
       "<div>\n",
       "<style scoped>\n",
       "    .dataframe tbody tr th:only-of-type {\n",
       "        vertical-align: middle;\n",
       "    }\n",
       "\n",
       "    .dataframe tbody tr th {\n",
       "        vertical-align: top;\n",
       "    }\n",
       "\n",
       "    .dataframe thead th {\n",
       "        text-align: right;\n",
       "    }\n",
       "</style>\n",
       "<table border=\"1\" class=\"dataframe\">\n",
       "  <thead>\n",
       "    <tr style=\"text-align: right;\">\n",
       "      <th></th>\n",
       "      <th>thread_id</th>\n",
       "      <th>comment_id</th>\n",
       "      <th>comment_text</th>\n",
       "      <th>comment_score</th>\n",
       "      <th>comment_replies</th>\n",
       "      <th>generation_z</th>\n",
       "    </tr>\n",
       "  </thead>\n",
       "  <tbody>\n",
       "    <tr>\n",
       "      <th>177</th>\n",
       "      <td>18ay2s2</td>\n",
       "      <td>kc2zkq6</td>\n",
       "      <td>Kurt Hawk-Cobain Jr. on /r/accounting : “How do I depreciate land?”</td>\n",
       "      <td>4</td>\n",
       "      <td>1</td>\n",
       "      <td>0</td>\n",
       "    </tr>\n",
       "    <tr>\n",
       "      <th>298</th>\n",
       "      <td>18ay2s2</td>\n",
       "      <td>kc2zlqb</td>\n",
       "      <td>Here's a sneak peek of /r/Accounting using the [top posts](https://np.reddit.com/r/Accounting/top/?sort=top&amp;t=year) of the year!\\n\\n\\#1: [Accountant goes to Disney ](https://v.redd.it/o2mbz7yr4c1b1) | [175 comments](https://np.reddit.com/r/Accounting/comments/13odstf/accountant_goes_to_disney/)  \\n\\#2: [Social media “tax experts” realizing that a tax return contains more than a line saying “Tr...</td>\n",
       "      <td>1</td>\n",
       "      <td>0</td>\n",
       "      <td>0</td>\n",
       "    </tr>\n",
       "    <tr>\n",
       "      <th>737</th>\n",
       "      <td>194dkqv</td>\n",
       "      <td>khh29oo</td>\n",
       "      <td>Okay but what about the rest of us older millennials who have decidedly not taken ourselves and have old people problems like bulging disks, /r/GERD and half a dozen eye floaters?</td>\n",
       "      <td>3</td>\n",
       "      <td>0</td>\n",
       "      <td>0</td>\n",
       "    </tr>\n",
       "    <tr>\n",
       "      <th>1229</th>\n",
       "      <td>182z60u</td>\n",
       "      <td>kalxfib</td>\n",
       "      <td>Yea we have a famous dead mall in my hometown about a mile from the good mall. There is so much they could do with that land. I’m not even sure if they have plans to do anything with it. I saw some pretty recent pics on r/deadmalls and it looks like an actual horror movie</td>\n",
       "      <td>15</td>\n",
       "      <td>1</td>\n",
       "      <td>0</td>\n",
       "    </tr>\n",
       "    <tr>\n",
       "      <th>1265</th>\n",
       "      <td>182z60u</td>\n",
       "      <td>kap7u51</td>\n",
       "      <td>I'm a millennial and apparently I know the most about vaporwave aesthetics than my gen z colleagues. \\n\\nr/vaporwaveaesthetics</td>\n",
       "      <td>3</td>\n",
       "      <td>1</td>\n",
       "      <td>0</td>\n",
       "    </tr>\n",
       "  </tbody>\n",
       "</table>\n",
       "</div>"
      ],
      "text/plain": [
       "     thread_id comment_id  \\\n",
       "177    18ay2s2    kc2zkq6   \n",
       "298    18ay2s2    kc2zlqb   \n",
       "737    194dkqv    khh29oo   \n",
       "1229   182z60u    kalxfib   \n",
       "1265   182z60u    kap7u51   \n",
       "\n",
       "                                                                                                                                                                                                                                                                                                                                                                                                         comment_text  \\\n",
       "177                                                                                                                                                                                                                                                                                                                                               Kurt Hawk-Cobain Jr. on /r/accounting : “How do I depreciate land?”   \n",
       "298   Here's a sneak peek of /r/Accounting using the [top posts](https://np.reddit.com/r/Accounting/top/?sort=top&t=year) of the year!\\n\\n\\#1: [Accountant goes to Disney ](https://v.redd.it/o2mbz7yr4c1b1) | [175 comments](https://np.reddit.com/r/Accounting/comments/13odstf/accountant_goes_to_disney/)  \\n\\#2: [Social media “tax experts” realizing that a tax return contains more than a line saying “Tr...   \n",
       "737                                                                                                                                                                                                                               Okay but what about the rest of us older millennials who have decidedly not taken ourselves and have old people problems like bulging disks, /r/GERD and half a dozen eye floaters?   \n",
       "1229                                                                                                                                 Yea we have a famous dead mall in my hometown about a mile from the good mall. There is so much they could do with that land. I’m not even sure if they have plans to do anything with it. I saw some pretty recent pics on r/deadmalls and it looks like an actual horror movie   \n",
       "1265                                                                                                                                                                                                                                                                                   I'm a millennial and apparently I know the most about vaporwave aesthetics than my gen z colleagues. \\n\\nr/vaporwaveaesthetics   \n",
       "\n",
       "      comment_score  comment_replies  generation_z  \n",
       "177               4                1             0  \n",
       "298               1                0             0  \n",
       "737               3                0             0  \n",
       "1229             15                1             0  \n",
       "1265              3                1             0  "
      ]
     },
     "execution_count": 15,
     "metadata": {},
     "output_type": "execute_result"
    }
   ],
   "source": [
    "# Check for data in column 'comment_text' that contain reddit subreddit references:\n",
    "print(comments['comment_text'].str.contains(r'\\s[/]?r/\\S+').value_counts())\n",
    "comments[comments['comment_text'].str.contains(r'\\s[/]?r/\\S+') == True].head()"
   ]
  },
  {
   "cell_type": "code",
   "execution_count": 16,
   "metadata": {},
   "outputs": [
    {
     "name": "stdout",
     "output_type": "stream",
     "text": [
      "comment_text\n",
      "False    86146\n",
      "True        63\n",
      "Name: count, dtype: int64\n"
     ]
    },
    {
     "data": {
      "text/html": [
       "<div>\n",
       "<style scoped>\n",
       "    .dataframe tbody tr th:only-of-type {\n",
       "        vertical-align: middle;\n",
       "    }\n",
       "\n",
       "    .dataframe tbody tr th {\n",
       "        vertical-align: top;\n",
       "    }\n",
       "\n",
       "    .dataframe thead th {\n",
       "        text-align: right;\n",
       "    }\n",
       "</style>\n",
       "<table border=\"1\" class=\"dataframe\">\n",
       "  <thead>\n",
       "    <tr style=\"text-align: right;\">\n",
       "      <th></th>\n",
       "      <th>thread_id</th>\n",
       "      <th>comment_id</th>\n",
       "      <th>comment_text</th>\n",
       "      <th>comment_score</th>\n",
       "      <th>comment_replies</th>\n",
       "      <th>generation_z</th>\n",
       "    </tr>\n",
       "  </thead>\n",
       "  <tbody>\n",
       "    <tr>\n",
       "      <th>5030</th>\n",
       "      <td>18gv7wr</td>\n",
       "      <td>kd3hw4h</td>\n",
       "      <td>\"Post\"-Covid feels a lot like post 9/11 to me. \\n\\nPost World Wars, post Great Depression, post Vietnam are all world-changing things that also brought with it everything u/apartmen1 said (speaking as an American).</td>\n",
       "      <td>74</td>\n",
       "      <td>0</td>\n",
       "      <td>0</td>\n",
       "    </tr>\n",
       "    <tr>\n",
       "      <th>10746</th>\n",
       "      <td>17qt6oz</td>\n",
       "      <td>k8i5y4s</td>\n",
       "      <td>You're not wrong but look at this presidential election. We're going to be stuck with two almost 80 year olds as our two front runners. WHY? There are better options on both sides but the system is so screwed up that we're going to be voting between these two old men who shouldn't be running anything except to the bathroom that is all u/TrumpsBoneSpur was saying.</td>\n",
       "      <td>3</td>\n",
       "      <td>1</td>\n",
       "      <td>0</td>\n",
       "    </tr>\n",
       "    <tr>\n",
       "      <th>11375</th>\n",
       "      <td>18w1712</td>\n",
       "      <td>kfv15vv</td>\n",
       "      <td>I really hope you read this u/Ryans01 posted a legendary comment that is in the “Halls of History” on Reddit sometime late in 2013.  \\n\\nHis comment sparked the creation of a subreddit called r/NonZeroDay  \\n\\nAnyway the premise is pretty simple and I encourage you to check it out. It was fairly life changing for me back at the end of 2013, and I would say it sparked a catalyst of events that ...</td>\n",
       "      <td>2</td>\n",
       "      <td>0</td>\n",
       "      <td>0</td>\n",
       "    </tr>\n",
       "    <tr>\n",
       "      <th>11606</th>\n",
       "      <td>18w1712</td>\n",
       "      <td>kfuxazn</td>\n",
       "      <td>This world needs more people like you, u/bulletPoint. Thanks for being helpful &amp; kind.</td>\n",
       "      <td>121</td>\n",
       "      <td>0</td>\n",
       "      <td>0</td>\n",
       "    </tr>\n",
       "    <tr>\n",
       "      <th>15454</th>\n",
       "      <td>186xsbm</td>\n",
       "      <td>kbbn7j7</td>\n",
       "      <td>All the numbers in your comment added up to 69. Congrats!\\n\\n      45\\n    + 20\\n    + 4\\n    = 69\\n\\n^([Click here](https://www.reddit.com/message/compose?to=LuckyNumber-Bot&amp;subject=Stalk%20Me%20Pls&amp;message=%2Fstalkme) to have me scan all your future comments.) \\\\n^(Summon me on specific comments with u/LuckyNumber-Bot.)</td>\n",
       "      <td>63</td>\n",
       "      <td>3</td>\n",
       "      <td>0</td>\n",
       "    </tr>\n",
       "  </tbody>\n",
       "</table>\n",
       "</div>"
      ],
      "text/plain": [
       "      thread_id comment_id  \\\n",
       "5030    18gv7wr    kd3hw4h   \n",
       "10746   17qt6oz    k8i5y4s   \n",
       "11375   18w1712    kfv15vv   \n",
       "11606   18w1712    kfuxazn   \n",
       "15454   186xsbm    kbbn7j7   \n",
       "\n",
       "                                                                                                                                                                                                                                                                                                                                                                                                          comment_text  \\\n",
       "5030                                                                                                                                                                                            \"Post\"-Covid feels a lot like post 9/11 to me. \\n\\nPost World Wars, post Great Depression, post Vietnam are all world-changing things that also brought with it everything u/apartmen1 said (speaking as an American).   \n",
       "10746                                    You're not wrong but look at this presidential election. We're going to be stuck with two almost 80 year olds as our two front runners. WHY? There are better options on both sides but the system is so screwed up that we're going to be voting between these two old men who shouldn't be running anything except to the bathroom that is all u/TrumpsBoneSpur was saying.   \n",
       "11375  I really hope you read this u/Ryans01 posted a legendary comment that is in the “Halls of History” on Reddit sometime late in 2013.  \\n\\nHis comment sparked the creation of a subreddit called r/NonZeroDay  \\n\\nAnyway the premise is pretty simple and I encourage you to check it out. It was fairly life changing for me back at the end of 2013, and I would say it sparked a catalyst of events that ...   \n",
       "11606                                                                                                                                                                                                                                                                                                                           This world needs more people like you, u/bulletPoint. Thanks for being helpful & kind.   \n",
       "15454                                                                              All the numbers in your comment added up to 69. Congrats!\\n\\n      45\\n    + 20\\n    + 4\\n    = 69\\n\\n^([Click here](https://www.reddit.com/message/compose?to=LuckyNumber-Bot&subject=Stalk%20Me%20Pls&message=%2Fstalkme) to have me scan all your future comments.) \\\\n^(Summon me on specific comments with u/LuckyNumber-Bot.)   \n",
       "\n",
       "       comment_score  comment_replies  generation_z  \n",
       "5030              74                0             0  \n",
       "10746              3                1             0  \n",
       "11375              2                0             0  \n",
       "11606            121                0             0  \n",
       "15454             63                3             0  "
      ]
     },
     "execution_count": 16,
     "metadata": {},
     "output_type": "execute_result"
    }
   ],
   "source": [
    "# Check for data in column 'comment_text' that contain reddit username references:\n",
    "print(comments['comment_text'].str.contains(r'\\s[/]?u/\\S+').value_counts())\n",
    "comments[comments['comment_text'].str.contains(r'\\s[/]?u/\\S+') == True].head()"
   ]
  },
  {
   "cell_type": "code",
   "execution_count": 17,
   "metadata": {},
   "outputs": [
    {
     "name": "stdout",
     "output_type": "stream",
     "text": [
      "comment_text\n",
      "False    85778\n",
      "True       431\n",
      "Name: count, dtype: int64\n"
     ]
    },
    {
     "data": {
      "text/html": [
       "<div>\n",
       "<style scoped>\n",
       "    .dataframe tbody tr th:only-of-type {\n",
       "        vertical-align: middle;\n",
       "    }\n",
       "\n",
       "    .dataframe tbody tr th {\n",
       "        vertical-align: top;\n",
       "    }\n",
       "\n",
       "    .dataframe thead th {\n",
       "        text-align: right;\n",
       "    }\n",
       "</style>\n",
       "<table border=\"1\" class=\"dataframe\">\n",
       "  <thead>\n",
       "    <tr style=\"text-align: right;\">\n",
       "      <th></th>\n",
       "      <th>thread_id</th>\n",
       "      <th>comment_id</th>\n",
       "      <th>comment_text</th>\n",
       "      <th>comment_score</th>\n",
       "      <th>comment_replies</th>\n",
       "      <th>generation_z</th>\n",
       "    </tr>\n",
       "  </thead>\n",
       "  <tbody>\n",
       "    <tr>\n",
       "      <th>44</th>\n",
       "      <td>18ay2s2</td>\n",
       "      <td>kc27le4</td>\n",
       "      <td>Neither of their names were even mentioned haha #generationalwealth</td>\n",
       "      <td>4</td>\n",
       "      <td>0</td>\n",
       "      <td>0</td>\n",
       "    </tr>\n",
       "    <tr>\n",
       "      <th>247</th>\n",
       "      <td>18ay2s2</td>\n",
       "      <td>kc21p5a</td>\n",
       "      <td>#MIKE HAWK</td>\n",
       "      <td>6</td>\n",
       "      <td>1</td>\n",
       "      <td>0</td>\n",
       "    </tr>\n",
       "    <tr>\n",
       "      <th>298</th>\n",
       "      <td>18ay2s2</td>\n",
       "      <td>kc2zlqb</td>\n",
       "      <td>Here's a sneak peek of /r/Accounting using the [top posts](https://np.reddit.com/r/Accounting/top/?sort=top&amp;t=year) of the year!\\n\\n\\#1: [Accountant goes to Disney ](https://v.redd.it/o2mbz7yr4c1b1) | [175 comments](https://np.reddit.com/r/Accounting/comments/13odstf/accountant_goes_to_disney/)  \\n\\#2: [Social media “tax experts” realizing that a tax return contains more than a line saying “Tr...</td>\n",
       "      <td>1</td>\n",
       "      <td>0</td>\n",
       "      <td>0</td>\n",
       "    </tr>\n",
       "    <tr>\n",
       "      <th>759</th>\n",
       "      <td>194dkqv</td>\n",
       "      <td>khfn6k6</td>\n",
       "      <td>Phew lol. I’m coming up on 34 and contemplating kid #2. If true this would be bad.</td>\n",
       "      <td>4</td>\n",
       "      <td>1</td>\n",
       "      <td>0</td>\n",
       "    </tr>\n",
       "    <tr>\n",
       "      <th>834</th>\n",
       "      <td>194dkqv</td>\n",
       "      <td>khfvq27</td>\n",
       "      <td>My wife and I are having kid #4 at 38. Way too many people act like late 30s you might as well be in hospice.</td>\n",
       "      <td>4</td>\n",
       "      <td>0</td>\n",
       "      <td>0</td>\n",
       "    </tr>\n",
       "  </tbody>\n",
       "</table>\n",
       "</div>"
      ],
      "text/plain": [
       "    thread_id comment_id  \\\n",
       "44    18ay2s2    kc27le4   \n",
       "247   18ay2s2    kc21p5a   \n",
       "298   18ay2s2    kc2zlqb   \n",
       "759   194dkqv    khfn6k6   \n",
       "834   194dkqv    khfvq27   \n",
       "\n",
       "                                                                                                                                                                                                                                                                                                                                                                                                        comment_text  \\\n",
       "44                                                                                                                                                                                                                                                                                                                                               Neither of their names were even mentioned haha #generationalwealth   \n",
       "247                                                                                                                                                                                                                                                                                                                                                                                                       #MIKE HAWK   \n",
       "298  Here's a sneak peek of /r/Accounting using the [top posts](https://np.reddit.com/r/Accounting/top/?sort=top&t=year) of the year!\\n\\n\\#1: [Accountant goes to Disney ](https://v.redd.it/o2mbz7yr4c1b1) | [175 comments](https://np.reddit.com/r/Accounting/comments/13odstf/accountant_goes_to_disney/)  \\n\\#2: [Social media “tax experts” realizing that a tax return contains more than a line saying “Tr...   \n",
       "759                                                                                                                                                                                                                                                                                                                               Phew lol. I’m coming up on 34 and contemplating kid #2. If true this would be bad.   \n",
       "834                                                                                                                                                                                                                                                                                                    My wife and I are having kid #4 at 38. Way too many people act like late 30s you might as well be in hospice.   \n",
       "\n",
       "     comment_score  comment_replies  generation_z  \n",
       "44               4                0             0  \n",
       "247              6                1             0  \n",
       "298              1                0             0  \n",
       "759              4                1             0  \n",
       "834              4                0             0  "
      ]
     },
     "execution_count": 17,
     "metadata": {},
     "output_type": "execute_result"
    }
   ],
   "source": [
    "# Check for data in column 'comment_text' that contain hashtags:\n",
    "print(comments['comment_text'].str.contains(r'#\\S+').value_counts())\n",
    "comments[comments['comment_text'].str.contains(r'#\\S+') == True].head()"
   ]
  },
  {
   "cell_type": "code",
   "execution_count": 18,
   "metadata": {},
   "outputs": [
    {
     "name": "stdout",
     "output_type": "stream",
     "text": [
      "comment_text\n",
      "False    61356\n",
      "True     24853\n",
      "Name: count, dtype: int64\n"
     ]
    },
    {
     "data": {
      "text/html": [
       "<div>\n",
       "<style scoped>\n",
       "    .dataframe tbody tr th:only-of-type {\n",
       "        vertical-align: middle;\n",
       "    }\n",
       "\n",
       "    .dataframe tbody tr th {\n",
       "        vertical-align: top;\n",
       "    }\n",
       "\n",
       "    .dataframe thead th {\n",
       "        text-align: right;\n",
       "    }\n",
       "</style>\n",
       "<table border=\"1\" class=\"dataframe\">\n",
       "  <thead>\n",
       "    <tr style=\"text-align: right;\">\n",
       "      <th></th>\n",
       "      <th>thread_id</th>\n",
       "      <th>comment_id</th>\n",
       "      <th>comment_text</th>\n",
       "      <th>comment_score</th>\n",
       "      <th>comment_replies</th>\n",
       "      <th>generation_z</th>\n",
       "    </tr>\n",
       "  </thead>\n",
       "  <tbody>\n",
       "    <tr>\n",
       "      <th>24</th>\n",
       "      <td>18ay2s2</td>\n",
       "      <td>kc2kz1z</td>\n",
       "      <td>It is nuts to think that Kurt could have been a grandpa by now. I sometimes wonder what he would be like in his 50s. He had a supernatural level of cool in the 90s even by today's standards</td>\n",
       "      <td>3</td>\n",
       "      <td>0</td>\n",
       "      <td>0</td>\n",
       "    </tr>\n",
       "    <tr>\n",
       "      <th>32</th>\n",
       "      <td>18ay2s2</td>\n",
       "      <td>kc1z9v2</td>\n",
       "      <td>Tony Hawk seems much more put together than Courtney Love. (From my memory of the 90s?) I wonder whose house they have christmas at?</td>\n",
       "      <td>2</td>\n",
       "      <td>3</td>\n",
       "      <td>0</td>\n",
       "    </tr>\n",
       "    <tr>\n",
       "      <th>37</th>\n",
       "      <td>18ay2s2</td>\n",
       "      <td>kc2xp1r</td>\n",
       "      <td>Nothing hit me like Kurt’s death. I still sing Pennyroyal tea on the way in to work at 40something years old.</td>\n",
       "      <td>2</td>\n",
       "      <td>0</td>\n",
       "      <td>0</td>\n",
       "    </tr>\n",
       "    <tr>\n",
       "      <th>43</th>\n",
       "      <td>18ay2s2</td>\n",
       "      <td>kc1q1xg</td>\n",
       "      <td>It honestly looks like we took a time machine to the 90s and Kurt Cobain came out as trans and married Tony Hawk. They both look so much like their fathers.</td>\n",
       "      <td>3</td>\n",
       "      <td>0</td>\n",
       "      <td>0</td>\n",
       "    </tr>\n",
       "    <tr>\n",
       "      <th>51</th>\n",
       "      <td>18ay2s2</td>\n",
       "      <td>kc2eewz</td>\n",
       "      <td>I'll take \"things that didn't need to mention race\" for $500, Alex.</td>\n",
       "      <td>1</td>\n",
       "      <td>0</td>\n",
       "      <td>0</td>\n",
       "    </tr>\n",
       "  </tbody>\n",
       "</table>\n",
       "</div>"
      ],
      "text/plain": [
       "   thread_id comment_id  \\\n",
       "24   18ay2s2    kc2kz1z   \n",
       "32   18ay2s2    kc1z9v2   \n",
       "37   18ay2s2    kc2xp1r   \n",
       "43   18ay2s2    kc1q1xg   \n",
       "51   18ay2s2    kc2eewz   \n",
       "\n",
       "                                                                                                                                                                                     comment_text  \\\n",
       "24  It is nuts to think that Kurt could have been a grandpa by now. I sometimes wonder what he would be like in his 50s. He had a supernatural level of cool in the 90s even by today's standards   \n",
       "32                                                           Tony Hawk seems much more put together than Courtney Love. (From my memory of the 90s?) I wonder whose house they have christmas at?   \n",
       "37                                                                                  Nothing hit me like Kurt’s death. I still sing Pennyroyal tea on the way in to work at 40something years old.   \n",
       "43                                   It honestly looks like we took a time machine to the 90s and Kurt Cobain came out as trans and married Tony Hawk. They both look so much like their fathers.   \n",
       "51                                                                                                                            I'll take \"things that didn't need to mention race\" for $500, Alex.   \n",
       "\n",
       "    comment_score  comment_replies  generation_z  \n",
       "24              3                0             0  \n",
       "32              2                3             0  \n",
       "37              2                0             0  \n",
       "43              3                0             0  \n",
       "51              1                0             0  "
      ]
     },
     "execution_count": 18,
     "metadata": {},
     "output_type": "execute_result"
    }
   ],
   "source": [
    "# Check for data in column 'comment_text' that contain numbers, including shorthand decade references:\n",
    "print(comments['comment_text'].str.contains(r'[0-9]+[s]?').value_counts())\n",
    "comments[comments['comment_text'].str.contains(r'[0-9]+[s]?') == True].head()"
   ]
  },
  {
   "cell_type": "code",
   "execution_count": 19,
   "metadata": {},
   "outputs": [
    {
     "name": "stdout",
     "output_type": "stream",
     "text": [
      "comment_text\n",
      "False    77141\n",
      "True      9068\n",
      "Name: count, dtype: int64\n"
     ]
    },
    {
     "data": {
      "text/html": [
       "<div>\n",
       "<style scoped>\n",
       "    .dataframe tbody tr th:only-of-type {\n",
       "        vertical-align: middle;\n",
       "    }\n",
       "\n",
       "    .dataframe tbody tr th {\n",
       "        vertical-align: top;\n",
       "    }\n",
       "\n",
       "    .dataframe thead th {\n",
       "        text-align: right;\n",
       "    }\n",
       "</style>\n",
       "<table border=\"1\" class=\"dataframe\">\n",
       "  <thead>\n",
       "    <tr style=\"text-align: right;\">\n",
       "      <th></th>\n",
       "      <th>thread_id</th>\n",
       "      <th>comment_id</th>\n",
       "      <th>comment_text</th>\n",
       "      <th>comment_score</th>\n",
       "      <th>comment_replies</th>\n",
       "      <th>generation_z</th>\n",
       "    </tr>\n",
       "  </thead>\n",
       "  <tbody>\n",
       "    <tr>\n",
       "      <th>23</th>\n",
       "      <td>18ay2s2</td>\n",
       "      <td>kc1pw55</td>\n",
       "      <td>[deleted]</td>\n",
       "      <td>3</td>\n",
       "      <td>1</td>\n",
       "      <td>0</td>\n",
       "    </tr>\n",
       "    <tr>\n",
       "      <th>32</th>\n",
       "      <td>18ay2s2</td>\n",
       "      <td>kc1z9v2</td>\n",
       "      <td>Tony Hawk seems much more put together than Courtney Love. (From my memory of the 90s?) I wonder whose house they have christmas at?</td>\n",
       "      <td>2</td>\n",
       "      <td>3</td>\n",
       "      <td>0</td>\n",
       "    </tr>\n",
       "    <tr>\n",
       "      <th>33</th>\n",
       "      <td>18ay2s2</td>\n",
       "      <td>kc28kfe</td>\n",
       "      <td>[deleted]</td>\n",
       "      <td>2</td>\n",
       "      <td>2</td>\n",
       "      <td>0</td>\n",
       "    </tr>\n",
       "    <tr>\n",
       "      <th>38</th>\n",
       "      <td>18ay2s2</td>\n",
       "      <td>kc3bf61</td>\n",
       "      <td>Honestly, looking at a lot of these famous people, it's giving weird vibes. Frances Cobain is the daughter of Kurt Cobain and Courtney Love, then Courtney Love's father was the Grateful Dead's manager, and her mother might actually be Marlon Brando's daughter. It's giving Sacred Twenty Eight tbh, how so many people in that circle are (or might be) related.\\n\\nShe reminds me of Amy Lee in that ...</td>\n",
       "      <td>2</td>\n",
       "      <td>0</td>\n",
       "      <td>0</td>\n",
       "    </tr>\n",
       "    <tr>\n",
       "      <th>65</th>\n",
       "      <td>18ay2s2</td>\n",
       "      <td>kc3gyn2</td>\n",
       "      <td>Millenials:   As a GenX-er, I love you guys, but sometimes you're just as bad as Boomers at making everything about yourselves.    (That's directed at the title here... not the original pic)</td>\n",
       "      <td>0</td>\n",
       "      <td>2</td>\n",
       "      <td>0</td>\n",
       "    </tr>\n",
       "  </tbody>\n",
       "</table>\n",
       "</div>"
      ],
      "text/plain": [
       "   thread_id comment_id  \\\n",
       "23   18ay2s2    kc1pw55   \n",
       "32   18ay2s2    kc1z9v2   \n",
       "33   18ay2s2    kc28kfe   \n",
       "38   18ay2s2    kc3bf61   \n",
       "65   18ay2s2    kc3gyn2   \n",
       "\n",
       "                                                                                                                                                                                                                                                                                                                                                                                                       comment_text  \\\n",
       "23                                                                                                                                                                                                                                                                                                                                                                                                        [deleted]   \n",
       "32                                                                                                                                                                                                                                                                             Tony Hawk seems much more put together than Courtney Love. (From my memory of the 90s?) I wonder whose house they have christmas at?   \n",
       "33                                                                                                                                                                                                                                                                                                                                                                                                        [deleted]   \n",
       "38  Honestly, looking at a lot of these famous people, it's giving weird vibes. Frances Cobain is the daughter of Kurt Cobain and Courtney Love, then Courtney Love's father was the Grateful Dead's manager, and her mother might actually be Marlon Brando's daughter. It's giving Sacred Twenty Eight tbh, how so many people in that circle are (or might be) related.\\n\\nShe reminds me of Amy Lee in that ...   \n",
       "65                                                                                                                                                                                                                   Millenials:   As a GenX-er, I love you guys, but sometimes you're just as bad as Boomers at making everything about yourselves.    (That's directed at the title here... not the original pic)   \n",
       "\n",
       "    comment_score  comment_replies  generation_z  \n",
       "23              3                1             0  \n",
       "32              2                3             0  \n",
       "33              2                2             0  \n",
       "38              2                0             0  \n",
       "65              0                2             0  "
      ]
     },
     "execution_count": 19,
     "metadata": {},
     "output_type": "execute_result"
    }
   ],
   "source": [
    "# Check for data in column 'comment_text' that contain bracket characters:\n",
    "print(comments['comment_text'].str.contains(r'\\(|\\)|\\[|\\]').value_counts())\n",
    "comments[comments['comment_text'].str.contains(r'\\(|\\)|\\[|\\]') == True].head()"
   ]
  },
  {
   "cell_type": "code",
   "execution_count": 20,
   "metadata": {},
   "outputs": [
    {
     "name": "stdout",
     "output_type": "stream",
     "text": [
      "comment_text\n",
      "True     74914\n",
      "False    11295\n",
      "Name: count, dtype: int64\n"
     ]
    },
    {
     "data": {
      "text/html": [
       "<div>\n",
       "<style scoped>\n",
       "    .dataframe tbody tr th:only-of-type {\n",
       "        vertical-align: middle;\n",
       "    }\n",
       "\n",
       "    .dataframe tbody tr th {\n",
       "        vertical-align: top;\n",
       "    }\n",
       "\n",
       "    .dataframe thead th {\n",
       "        text-align: right;\n",
       "    }\n",
       "</style>\n",
       "<table border=\"1\" class=\"dataframe\">\n",
       "  <thead>\n",
       "    <tr style=\"text-align: right;\">\n",
       "      <th></th>\n",
       "      <th>thread_id</th>\n",
       "      <th>comment_id</th>\n",
       "      <th>comment_text</th>\n",
       "      <th>comment_score</th>\n",
       "      <th>comment_replies</th>\n",
       "      <th>generation_z</th>\n",
       "    </tr>\n",
       "  </thead>\n",
       "  <tbody>\n",
       "    <tr>\n",
       "      <th>0</th>\n",
       "      <td>18ay2s2</td>\n",
       "      <td>kc10fzs</td>\n",
       "      <td>Watch their kid just become like an accountant.</td>\n",
       "      <td>1092</td>\n",
       "      <td>34</td>\n",
       "      <td>0</td>\n",
       "    </tr>\n",
       "    <tr>\n",
       "      <th>1</th>\n",
       "      <td>18ay2s2</td>\n",
       "      <td>kc1bowr</td>\n",
       "      <td>Can you imagine the bragging rights at school?\\n\\nRandom kid:  My dad is a doctor!!!\\n\\n**The kid**:  My grandpa was KURT COBAIN!!!! \\n\\nRandom kid: Oh yeah, well... my mom knows an influencer.\\n\\n**The kid**:  My other grandpa is TONY HAWK!!!!\\n\\n\\----- silence-----</td>\n",
       "      <td>304</td>\n",
       "      <td>9</td>\n",
       "      <td>0</td>\n",
       "    </tr>\n",
       "    <tr>\n",
       "      <th>2</th>\n",
       "      <td>18ay2s2</td>\n",
       "      <td>kc12zpc</td>\n",
       "      <td>They both look like their dads.</td>\n",
       "      <td>226</td>\n",
       "      <td>8</td>\n",
       "      <td>0</td>\n",
       "    </tr>\n",
       "    <tr>\n",
       "      <th>4</th>\n",
       "      <td>18ay2s2</td>\n",
       "      <td>kc0zrs8</td>\n",
       "      <td>The world is so small yet so big at the same time.</td>\n",
       "      <td>59</td>\n",
       "      <td>2</td>\n",
       "      <td>0</td>\n",
       "    </tr>\n",
       "    <tr>\n",
       "      <th>5</th>\n",
       "      <td>18ay2s2</td>\n",
       "      <td>kc18hqx</td>\n",
       "      <td>Honestly, I hope that they'll be happy together.</td>\n",
       "      <td>44</td>\n",
       "      <td>1</td>\n",
       "      <td>0</td>\n",
       "    </tr>\n",
       "  </tbody>\n",
       "</table>\n",
       "</div>"
      ],
      "text/plain": [
       "  thread_id comment_id  \\\n",
       "0   18ay2s2    kc10fzs   \n",
       "1   18ay2s2    kc1bowr   \n",
       "2   18ay2s2    kc12zpc   \n",
       "4   18ay2s2    kc0zrs8   \n",
       "5   18ay2s2    kc18hqx   \n",
       "\n",
       "                                                                                                                                                                                                                                                                  comment_text  \\\n",
       "0                                                                                                                                                                                                                              Watch their kid just become like an accountant.   \n",
       "1  Can you imagine the bragging rights at school?\\n\\nRandom kid:  My dad is a doctor!!!\\n\\n**The kid**:  My grandpa was KURT COBAIN!!!! \\n\\nRandom kid: Oh yeah, well... my mom knows an influencer.\\n\\n**The kid**:  My other grandpa is TONY HAWK!!!!\\n\\n\\----- silence-----   \n",
       "2                                                                                                                                                                                                                                              They both look like their dads.   \n",
       "4                                                                                                                                                                                                                           The world is so small yet so big at the same time.   \n",
       "5                                                                                                                                                                                                                             Honestly, I hope that they'll be happy together.   \n",
       "\n",
       "   comment_score  comment_replies  generation_z  \n",
       "0           1092               34             0  \n",
       "1            304                9             0  \n",
       "2            226                8             0  \n",
       "4             59                2             0  \n",
       "5             44                1             0  "
      ]
     },
     "execution_count": 20,
     "metadata": {},
     "output_type": "execute_result"
    }
   ],
   "source": [
    "# Check for data in column 'comment_text' that contain punctuations, excluding apostrophes:\n",
    "print(comments['comment_text'].str.contains(r'[^a-zA-Z0-9\\'\\’\\′\\ʼ\\s]').value_counts())\n",
    "comments[comments['comment_text'].str.contains(r'[^a-zA-Z0-9\\'\\’\\′\\ʼ\\s]') == True].head()"
   ]
  },
  {
   "cell_type": "code",
   "execution_count": 21,
   "metadata": {},
   "outputs": [
    {
     "name": "stdout",
     "output_type": "stream",
     "text": [
      "comment_text\n",
      "False    64167\n",
      "True     22042\n",
      "Name: count, dtype: int64\n"
     ]
    },
    {
     "data": {
      "text/html": [
       "<div>\n",
       "<style scoped>\n",
       "    .dataframe tbody tr th:only-of-type {\n",
       "        vertical-align: middle;\n",
       "    }\n",
       "\n",
       "    .dataframe tbody tr th {\n",
       "        vertical-align: top;\n",
       "    }\n",
       "\n",
       "    .dataframe thead th {\n",
       "        text-align: right;\n",
       "    }\n",
       "</style>\n",
       "<table border=\"1\" class=\"dataframe\">\n",
       "  <thead>\n",
       "    <tr style=\"text-align: right;\">\n",
       "      <th></th>\n",
       "      <th>thread_id</th>\n",
       "      <th>comment_id</th>\n",
       "      <th>comment_text</th>\n",
       "      <th>comment_score</th>\n",
       "      <th>comment_replies</th>\n",
       "      <th>generation_z</th>\n",
       "    </tr>\n",
       "  </thead>\n",
       "  <tbody>\n",
       "    <tr>\n",
       "      <th>1</th>\n",
       "      <td>18ay2s2</td>\n",
       "      <td>kc1bowr</td>\n",
       "      <td>Can you imagine the bragging rights at school?\\n\\nRandom kid:  My dad is a doctor!!!\\n\\n**The kid**:  My grandpa was KURT COBAIN!!!! \\n\\nRandom kid: Oh yeah, well... my mom knows an influencer.\\n\\n**The kid**:  My other grandpa is TONY HAWK!!!!\\n\\n\\----- silence-----</td>\n",
       "      <td>304</td>\n",
       "      <td>9</td>\n",
       "      <td>0</td>\n",
       "    </tr>\n",
       "    <tr>\n",
       "      <th>7</th>\n",
       "      <td>18ay2s2</td>\n",
       "      <td>kc125xl</td>\n",
       "      <td>Michael Stipe officiated their wedding.\\n\\nAnd as a GenX I claim them as our own...</td>\n",
       "      <td>44</td>\n",
       "      <td>4</td>\n",
       "      <td>0</td>\n",
       "    </tr>\n",
       "    <tr>\n",
       "      <th>27</th>\n",
       "      <td>18ay2s2</td>\n",
       "      <td>kc2x4w2</td>\n",
       "      <td>The kid would only need her Cobain eyes  and it would be set ,the rest is just icing on the cake</td>\n",
       "      <td>3</td>\n",
       "      <td>0</td>\n",
       "      <td>0</td>\n",
       "    </tr>\n",
       "    <tr>\n",
       "      <th>34</th>\n",
       "      <td>18ay2s2</td>\n",
       "      <td>kc2frr4</td>\n",
       "      <td>Does thos one need the race qualifier to be funny?\\n\\nSeems unnecessary.</td>\n",
       "      <td>2</td>\n",
       "      <td>0</td>\n",
       "      <td>0</td>\n",
       "    </tr>\n",
       "    <tr>\n",
       "      <th>38</th>\n",
       "      <td>18ay2s2</td>\n",
       "      <td>kc3bf61</td>\n",
       "      <td>Honestly, looking at a lot of these famous people, it's giving weird vibes. Frances Cobain is the daughter of Kurt Cobain and Courtney Love, then Courtney Love's father was the Grateful Dead's manager, and her mother might actually be Marlon Brando's daughter. It's giving Sacred Twenty Eight tbh, how so many people in that circle are (or might be) related.\\n\\nShe reminds me of Amy Lee in that ...</td>\n",
       "      <td>2</td>\n",
       "      <td>0</td>\n",
       "      <td>0</td>\n",
       "    </tr>\n",
       "  </tbody>\n",
       "</table>\n",
       "</div>"
      ],
      "text/plain": [
       "   thread_id comment_id  \\\n",
       "1    18ay2s2    kc1bowr   \n",
       "7    18ay2s2    kc125xl   \n",
       "27   18ay2s2    kc2x4w2   \n",
       "34   18ay2s2    kc2frr4   \n",
       "38   18ay2s2    kc3bf61   \n",
       "\n",
       "                                                                                                                                                                                                                                                                                                                                                                                                       comment_text  \\\n",
       "1                                                                                                                                       Can you imagine the bragging rights at school?\\n\\nRandom kid:  My dad is a doctor!!!\\n\\n**The kid**:  My grandpa was KURT COBAIN!!!! \\n\\nRandom kid: Oh yeah, well... my mom knows an influencer.\\n\\n**The kid**:  My other grandpa is TONY HAWK!!!!\\n\\n\\----- silence-----   \n",
       "7                                                                                                                                                                                                                                                                                                                               Michael Stipe officiated their wedding.\\n\\nAnd as a GenX I claim them as our own...   \n",
       "27                                                                                                                                                                                                                                                                                                                 The kid would only need her Cobain eyes  and it would be set ,the rest is just icing on the cake   \n",
       "34                                                                                                                                                                                                                                                                                                                                         Does thos one need the race qualifier to be funny?\\n\\nSeems unnecessary.   \n",
       "38  Honestly, looking at a lot of these famous people, it's giving weird vibes. Frances Cobain is the daughter of Kurt Cobain and Courtney Love, then Courtney Love's father was the Grateful Dead's manager, and her mother might actually be Marlon Brando's daughter. It's giving Sacred Twenty Eight tbh, how so many people in that circle are (or might be) related.\\n\\nShe reminds me of Amy Lee in that ...   \n",
       "\n",
       "    comment_score  comment_replies  generation_z  \n",
       "1             304                9             0  \n",
       "7              44                4             0  \n",
       "27              3                0             0  \n",
       "34              2                0             0  \n",
       "38              2                0             0  "
      ]
     },
     "execution_count": 21,
     "metadata": {},
     "output_type": "execute_result"
    }
   ],
   "source": [
    "# Check for data in column 'comment_text' that contain extra whitespaces:\n",
    "print(comments['comment_text'].str.contains(r'\\s{2,}').value_counts())\n",
    "comments[comments['comment_text'].str.contains(r'\\s{2,}') == True].head()"
   ]
  },
  {
   "cell_type": "markdown",
   "metadata": {},
   "source": [
    "### 02.02 - 02.03 Obervations & Findings\n",
    "\n",
    "<details><summary> Show details: </summary>\n",
    "\n",
    "> **Data Type**\n",
    "> - All columns have the correct data type.\n",
    ">\n",
    "> **Null Values** (`comment_text`)\n",
    "> - 1 null comment observed.\n",
    ">\n",
    "> **Substrings to Clean** (`comment_text`)\n",
    "> - 882 deleted comments (e.g. '[deleted]') observed.\n",
    "> - 133 removed comments (e.g. '[removed]') observed.\n",
    "> - 62 bot comments (e.g. 'I am a bot.') observed.\n",
    "> - 18984 comments with line or tab character substrings (e.g. '\\t', '\\n') observed.\n",
    "> - 44 comments with redaction substring (e.g. 'This post was mass deleted and anonymized with [Redact]\\(https://redact.dev\\)') observed.\n",
    "> - 1564 comments with url substrings (e.g. 'https://...') observed.\n",
    "> - 176 comments with html hexadecimal code substrings (e.g. '&#x200B;') observed.\n",
    "> - 258 comments with emoji hexadecimal code substrings (e.g '\\u200d') observed.\n",
    "> - 495 comments with gif image code substrings observed.\n",
    "> - 226 comments with Reddit subreddit references observed.\n",
    "> - 63 comments with Reddit username references observed.\n",
    "> - 431 comments with number sign characters ('#') observed.\n",
    "> - 24853 comments with numbers (e.g. 90s) observed.\n",
    "> - 9068 comments with bracket characters (e.g. '\\(', '\\[') observed.\n",
    "> - 74914 comments with punctuations observed, excluding apostrophes.\n",
    "> - 22042 comments with extra whitespaces observed.\n",
    ">\n",
    "> **Follow-Up Actions**\n",
    "> - **Drop** rows with:\n",
    ">   - Null comments\n",
    ">   - Deleted comments\n",
    ">   - Removed comments\n",
    ">   - Bot comments\n",
    "> - **Replace** these substrings with a single whitespace:\n",
    ">   - Line or tab characters\n",
    ">   - Redaction substrings\n",
    ">   - urls\n",
    ">   - html hexadecimal codes\n",
    ">   - Emoji hexadecimal codes\n",
    ">   - gif image codes\n",
    ">   - Reddit subreddit references\n",
    ">   - Reddit username references\n",
    ">   - Numbers, including decade references.\n",
    ">   - Bracket characters\n",
    ">   - Punctuation\n",
    "> - Others:\n",
    ">   - **Standardize** apostrophes\n",
    ">   - **Remove** trailing whitespaces\n",
    ">   - **Drop** empty string comments\n",
    "\n",
    "</details>"
   ]
  },
  {
   "cell_type": "markdown",
   "metadata": {},
   "source": [
    "## 03 Clean Data"
   ]
  },
  {
   "cell_type": "markdown",
   "metadata": {},
   "source": [
    "### 03.01 Drop Relevant Rows"
   ]
  },
  {
   "cell_type": "code",
   "execution_count": 22,
   "metadata": {},
   "outputs": [
    {
     "data": {
      "text/plain": [
       "86210"
      ]
     },
     "execution_count": 22,
     "metadata": {},
     "output_type": "execute_result"
    }
   ],
   "source": [
    "# Count data rows:\n",
    "comments.shape[0]"
   ]
  },
  {
   "cell_type": "code",
   "execution_count": 23,
   "metadata": {},
   "outputs": [
    {
     "data": {
      "text/plain": [
       "86209"
      ]
     },
     "execution_count": 23,
     "metadata": {},
     "output_type": "execute_result"
    }
   ],
   "source": [
    "# Drop rows with null values in column 'comment_text':\n",
    "comments = comments[comments['comment_text'].notnull()]\n",
    "comments.shape[0]"
   ]
  },
  {
   "cell_type": "code",
   "execution_count": 24,
   "metadata": {},
   "outputs": [
    {
     "data": {
      "text/plain": [
       "85327"
      ]
     },
     "execution_count": 24,
     "metadata": {},
     "output_type": "execute_result"
    }
   ],
   "source": [
    "# Drop rows with substring '[deleted]' in column 'comment_text':\n",
    "comments = comments[comments['comment_text'].str.contains(r'\\[deleted\\]') == False]\n",
    "comments.shape[0]"
   ]
  },
  {
   "cell_type": "code",
   "execution_count": 25,
   "metadata": {},
   "outputs": [
    {
     "data": {
      "text/plain": [
       "85194"
      ]
     },
     "execution_count": 25,
     "metadata": {},
     "output_type": "execute_result"
    }
   ],
   "source": [
    "# Drop rows with substring '[removed]' in column 'comment_text':\n",
    "comments = comments[comments['comment_text'].str.contains(r'\\[removed\\]') == False]\n",
    "comments.shape[0]"
   ]
  },
  {
   "cell_type": "code",
   "execution_count": 26,
   "metadata": {},
   "outputs": [
    {
     "data": {
      "text/plain": [
       "85132"
      ]
     },
     "execution_count": 26,
     "metadata": {},
     "output_type": "execute_result"
    }
   ],
   "source": [
    "# Drop rows with substring 'I am a bot.' in column 'comment_text':\n",
    "comments = comments[comments['comment_text'].str.contains(r'I am a bot.|I\\'m a bot.') == False]\n",
    "comments.shape[0]"
   ]
  },
  {
   "cell_type": "markdown",
   "metadata": {},
   "source": [
    "### 03.02 Replace Substrings for Relevant Rows"
   ]
  },
  {
   "cell_type": "code",
   "execution_count": 27,
   "metadata": {},
   "outputs": [],
   "source": [
    "# Replace line of tab characters in column 'comment_text' with ' ':\n",
    "comments['comment_text'] = comments['comment_text'].str.replace(pat='\\r|\\t|\\n', repl=' ', regex=True)"
   ]
  },
  {
   "cell_type": "code",
   "execution_count": 28,
   "metadata": {},
   "outputs": [],
   "source": [
    "# Replace redaction substrings in column 'comment_text' with ' ':\n",
    "comments['comment_text'] = comments['comment_text'].str.replace(pat='This post was mass deleted and anonymized with \\[Redact\\]\\(https://redact.dev\\)', repl=' ', regex=True)"
   ]
  },
  {
   "cell_type": "code",
   "execution_count": 29,
   "metadata": {},
   "outputs": [],
   "source": [
    "# Replace website urls in column 'comment_text' with ' ':\n",
    "comments['comment_text'] = comments['comment_text'].str.replace(pat='http[s]?\\://\\S+', repl=' ', regex=True)"
   ]
  },
  {
   "cell_type": "code",
   "execution_count": 30,
   "metadata": {},
   "outputs": [],
   "source": [
    "# Replace html hexadecimal codes in column 'comment_text' with ' ':\n",
    "comments['comment_text'] = comments['comment_text'].str.replace(pat='\\&\\#x[A-F0-9]+\\;', repl=' ', regex=True)"
   ]
  },
  {
   "cell_type": "code",
   "execution_count": 31,
   "metadata": {},
   "outputs": [],
   "source": [
    "# Replace emoji hexadecimal codes in column 'comment_text' with ' ':\n",
    "comments['comment_text'] = comments['comment_text'].str.replace(pat='u200d', repl=' ', regex=True)"
   ]
  },
  {
   "cell_type": "code",
   "execution_count": 32,
   "metadata": {},
   "outputs": [],
   "source": [
    "# Replace .gif image codes in column 'comment_text' with ' ':\n",
    "comments['comment_text'] = comments['comment_text'].str.replace(pat=\"!\\[gif\\]\\((giphy|emote)\\|\\w+(\\|\\w+)?\\)\", repl=' ', regex=True)"
   ]
  },
  {
   "cell_type": "code",
   "execution_count": 33,
   "metadata": {},
   "outputs": [],
   "source": [
    "# Replace reddit subreddit references in column 'comment_text' with ' ':\n",
    "comments['comment_text'] = comments['comment_text'].str.replace(pat='\\s[/]?r/\\S+', repl=' ', regex=True)"
   ]
  },
  {
   "cell_type": "code",
   "execution_count": 34,
   "metadata": {},
   "outputs": [],
   "source": [
    "# Replace reddit username references in column 'comment_text' with ' ':\n",
    "comments['comment_text'] = comments['comment_text'].str.replace(pat='\\s[/]?u/\\S+', repl=' ', regex=True)"
   ]
  },
  {
   "cell_type": "code",
   "execution_count": 35,
   "metadata": {},
   "outputs": [],
   "source": [
    "# Replace numbers, including decade references, in column 'comment_text' with ' ':\n",
    "comments['comment_text'] = comments['comment_text'].str.replace(pat='[0-9]+[s]?', repl=' ', regex=True)"
   ]
  },
  {
   "cell_type": "code",
   "execution_count": 36,
   "metadata": {},
   "outputs": [],
   "source": [
    "# Replace bracket characters, in column 'comment_text' with ' ':\n",
    "comments['comment_text'] = comments['comment_text'].str.replace(pat='\\(|\\)|\\[|\\]', repl=' ', regex=True)"
   ]
  },
  {
   "cell_type": "code",
   "execution_count": 37,
   "metadata": {},
   "outputs": [],
   "source": [
    "# Replace punctuation, except apostrophes, in column 'comment_text' with ' ':\n",
    "comments['comment_text'] = comments['comment_text'].str.replace(pat='[^a-zA-Z0-9\\'\\’\\′\\ʼ\\s]', repl=' ', regex=True)"
   ]
  },
  {
   "cell_type": "markdown",
   "metadata": {},
   "source": [
    "### 03.03 Others"
   ]
  },
  {
   "cell_type": "code",
   "execution_count": 38,
   "metadata": {},
   "outputs": [],
   "source": [
    "# Standardise all apostrophes to the same type ''':\n",
    "comments['comment_text'] = comments['comment_text'].str.replace(pat=r'[\\’\\′\\ʼ]', repl='\\'', regex=True)"
   ]
  },
  {
   "cell_type": "code",
   "execution_count": 39,
   "metadata": {},
   "outputs": [],
   "source": [
    "# Remove trailing whitespaces in column 'comment_text':\n",
    "comments['comment_text'] = comments['comment_text'].str.strip()"
   ]
  },
  {
   "cell_type": "code",
   "execution_count": 40,
   "metadata": {},
   "outputs": [
    {
     "name": "stdout",
     "output_type": "stream",
     "text": [
      "comment_text\n",
      "    888\n",
      "Name: count, dtype: int64\n"
     ]
    },
    {
     "data": {
      "text/html": [
       "<div>\n",
       "<style scoped>\n",
       "    .dataframe tbody tr th:only-of-type {\n",
       "        vertical-align: middle;\n",
       "    }\n",
       "\n",
       "    .dataframe tbody tr th {\n",
       "        vertical-align: top;\n",
       "    }\n",
       "\n",
       "    .dataframe thead th {\n",
       "        text-align: right;\n",
       "    }\n",
       "</style>\n",
       "<table border=\"1\" class=\"dataframe\">\n",
       "  <thead>\n",
       "    <tr style=\"text-align: right;\">\n",
       "      <th></th>\n",
       "      <th>thread_id</th>\n",
       "      <th>comment_id</th>\n",
       "      <th>comment_text</th>\n",
       "      <th>comment_score</th>\n",
       "      <th>comment_replies</th>\n",
       "      <th>generation_z</th>\n",
       "    </tr>\n",
       "  </thead>\n",
       "  <tbody>\n",
       "    <tr>\n",
       "      <th>82</th>\n",
       "      <td>18ay2s2</td>\n",
       "      <td>kc267e5</td>\n",
       "      <td></td>\n",
       "      <td>1</td>\n",
       "      <td>0</td>\n",
       "      <td>0</td>\n",
       "    </tr>\n",
       "    <tr>\n",
       "      <th>233</th>\n",
       "      <td>18ay2s2</td>\n",
       "      <td>kc2d85t</td>\n",
       "      <td></td>\n",
       "      <td>1</td>\n",
       "      <td>0</td>\n",
       "      <td>0</td>\n",
       "    </tr>\n",
       "    <tr>\n",
       "      <th>265</th>\n",
       "      <td>18ay2s2</td>\n",
       "      <td>kc37th7</td>\n",
       "      <td></td>\n",
       "      <td>1</td>\n",
       "      <td>0</td>\n",
       "      <td>0</td>\n",
       "    </tr>\n",
       "    <tr>\n",
       "      <th>269</th>\n",
       "      <td>18ay2s2</td>\n",
       "      <td>kc2doiy</td>\n",
       "      <td></td>\n",
       "      <td>6</td>\n",
       "      <td>0</td>\n",
       "      <td>0</td>\n",
       "    </tr>\n",
       "    <tr>\n",
       "      <th>355</th>\n",
       "      <td>18ay2s2</td>\n",
       "      <td>kc1i4og</td>\n",
       "      <td></td>\n",
       "      <td>5</td>\n",
       "      <td>0</td>\n",
       "      <td>0</td>\n",
       "    </tr>\n",
       "  </tbody>\n",
       "</table>\n",
       "</div>"
      ],
      "text/plain": [
       "    thread_id comment_id comment_text  comment_score  comment_replies  \\\n",
       "82    18ay2s2    kc267e5                           1                0   \n",
       "233   18ay2s2    kc2d85t                           1                0   \n",
       "265   18ay2s2    kc37th7                           1                0   \n",
       "269   18ay2s2    kc2doiy                           6                0   \n",
       "355   18ay2s2    kc1i4og                           5                0   \n",
       "\n",
       "     generation_z  \n",
       "82              0  \n",
       "233             0  \n",
       "265             0  \n",
       "269             0  \n",
       "355             0  "
      ]
     },
     "execution_count": 40,
     "metadata": {},
     "output_type": "execute_result"
    }
   ],
   "source": [
    "# Check for data in column 'comment_text' that are empty strings:\n",
    "print(comments[comments['comment_text'] == '']['comment_text'].value_counts())\n",
    "comments[comments['comment_text'] == ''].head()"
   ]
  },
  {
   "cell_type": "code",
   "execution_count": 41,
   "metadata": {},
   "outputs": [
    {
     "data": {
      "text/plain": [
       "84244"
      ]
     },
     "execution_count": 41,
     "metadata": {},
     "output_type": "execute_result"
    }
   ],
   "source": [
    "# Drop rows with empty strings in column 'comment_text':\n",
    "comments = comments[comments['comment_text'] != '']\n",
    "comments.shape[0]"
   ]
  },
  {
   "cell_type": "code",
   "execution_count": 42,
   "metadata": {},
   "outputs": [
    {
     "name": "stdout",
     "output_type": "stream",
     "text": [
      "(84244, 6)\n"
     ]
    },
    {
     "data": {
      "text/html": [
       "<div>\n",
       "<style scoped>\n",
       "    .dataframe tbody tr th:only-of-type {\n",
       "        vertical-align: middle;\n",
       "    }\n",
       "\n",
       "    .dataframe tbody tr th {\n",
       "        vertical-align: top;\n",
       "    }\n",
       "\n",
       "    .dataframe thead th {\n",
       "        text-align: right;\n",
       "    }\n",
       "</style>\n",
       "<table border=\"1\" class=\"dataframe\">\n",
       "  <thead>\n",
       "    <tr style=\"text-align: right;\">\n",
       "      <th></th>\n",
       "      <th>thread_id</th>\n",
       "      <th>comment_id</th>\n",
       "      <th>comment_text</th>\n",
       "      <th>comment_score</th>\n",
       "      <th>comment_replies</th>\n",
       "      <th>generation_z</th>\n",
       "    </tr>\n",
       "  </thead>\n",
       "  <tbody>\n",
       "    <tr>\n",
       "      <th>0</th>\n",
       "      <td>18ay2s2</td>\n",
       "      <td>kc10fzs</td>\n",
       "      <td>Watch their kid just become like an accountant</td>\n",
       "      <td>1092</td>\n",
       "      <td>34</td>\n",
       "      <td>0</td>\n",
       "    </tr>\n",
       "    <tr>\n",
       "      <th>1</th>\n",
       "      <td>18ay2s2</td>\n",
       "      <td>kc1bowr</td>\n",
       "      <td>Can you imagine the bragging rights at school   Random kid   My dad is a doctor       The kid     My grandpa was KURT COBAIN       Random kid  Oh yeah  well    my mom knows an influencer     The kid     My other grandpa is TONY HAWK             silence</td>\n",
       "      <td>304</td>\n",
       "      <td>9</td>\n",
       "      <td>0</td>\n",
       "    </tr>\n",
       "    <tr>\n",
       "      <th>2</th>\n",
       "      <td>18ay2s2</td>\n",
       "      <td>kc12zpc</td>\n",
       "      <td>They both look like their dads</td>\n",
       "      <td>226</td>\n",
       "      <td>8</td>\n",
       "      <td>0</td>\n",
       "    </tr>\n",
       "    <tr>\n",
       "      <th>3</th>\n",
       "      <td>18ay2s2</td>\n",
       "      <td>kc11j9m</td>\n",
       "      <td>The Sacred One shall be birthed anew</td>\n",
       "      <td>144</td>\n",
       "      <td>1</td>\n",
       "      <td>0</td>\n",
       "    </tr>\n",
       "    <tr>\n",
       "      <th>4</th>\n",
       "      <td>18ay2s2</td>\n",
       "      <td>kc0zrs8</td>\n",
       "      <td>The world is so small yet so big at the same time</td>\n",
       "      <td>59</td>\n",
       "      <td>2</td>\n",
       "      <td>0</td>\n",
       "    </tr>\n",
       "  </tbody>\n",
       "</table>\n",
       "</div>"
      ],
      "text/plain": [
       "  thread_id comment_id  \\\n",
       "0   18ay2s2    kc10fzs   \n",
       "1   18ay2s2    kc1bowr   \n",
       "2   18ay2s2    kc12zpc   \n",
       "3   18ay2s2    kc11j9m   \n",
       "4   18ay2s2    kc0zrs8   \n",
       "\n",
       "                                                                                                                                                                                                                                                   comment_text  \\\n",
       "0                                                                                                                                                                                                                Watch their kid just become like an accountant   \n",
       "1  Can you imagine the bragging rights at school   Random kid   My dad is a doctor       The kid     My grandpa was KURT COBAIN       Random kid  Oh yeah  well    my mom knows an influencer     The kid     My other grandpa is TONY HAWK             silence   \n",
       "2                                                                                                                                                                                                                                They both look like their dads   \n",
       "3                                                                                                                                                                                                                          The Sacred One shall be birthed anew   \n",
       "4                                                                                                                                                                                                             The world is so small yet so big at the same time   \n",
       "\n",
       "   comment_score  comment_replies  generation_z  \n",
       "0           1092               34             0  \n",
       "1            304                9             0  \n",
       "2            226                8             0  \n",
       "3            144                1             0  \n",
       "4             59                2             0  "
      ]
     },
     "execution_count": 42,
     "metadata": {},
     "output_type": "execute_result"
    }
   ],
   "source": [
    "# Check data:\n",
    "print(comments.shape)\n",
    "comments.head()"
   ]
  },
  {
   "cell_type": "code",
   "execution_count": 43,
   "metadata": {},
   "outputs": [],
   "source": [
    "# Reset data frame index:\n",
    "comments.reset_index(drop=True, inplace=True)"
   ]
  },
  {
   "cell_type": "markdown",
   "metadata": {},
   "source": [
    "## 04 Analyse Data"
   ]
  },
  {
   "cell_type": "markdown",
   "metadata": {},
   "source": [
    "### 04.01 Analyse Comment Length & Word Count"
   ]
  },
  {
   "cell_type": "code",
   "execution_count": 44,
   "metadata": {},
   "outputs": [],
   "source": [
    "# Create columns to count string length and words:\n",
    "# Create column 'comment_length' for column 'comment_text' length:\n",
    "comments['comment_length'] = comments['comment_text'].str.strip().str.len()\n",
    "\n",
    "# Create column 'comment_word_count' for column 'comment_text' length:\n",
    "comments['comment_word_count'] = comments['comment_text'].str.strip().str.split(' ').str.len()"
   ]
  },
  {
   "cell_type": "code",
   "execution_count": 45,
   "metadata": {},
   "outputs": [
    {
     "data": {
      "text/html": [
       "<div>\n",
       "<style scoped>\n",
       "    .dataframe tbody tr th:only-of-type {\n",
       "        vertical-align: middle;\n",
       "    }\n",
       "\n",
       "    .dataframe tbody tr th {\n",
       "        vertical-align: top;\n",
       "    }\n",
       "\n",
       "    .dataframe thead tr th {\n",
       "        text-align: left;\n",
       "    }\n",
       "\n",
       "    .dataframe thead tr:last-of-type th {\n",
       "        text-align: right;\n",
       "    }\n",
       "</style>\n",
       "<table border=\"1\" class=\"dataframe\">\n",
       "  <thead>\n",
       "    <tr>\n",
       "      <th></th>\n",
       "      <th colspan=\"8\" halign=\"left\">comment_length</th>\n",
       "      <th colspan=\"8\" halign=\"left\">comment_word_count</th>\n",
       "    </tr>\n",
       "    <tr>\n",
       "      <th></th>\n",
       "      <th>count</th>\n",
       "      <th>mean</th>\n",
       "      <th>std</th>\n",
       "      <th>min</th>\n",
       "      <th>25%</th>\n",
       "      <th>50%</th>\n",
       "      <th>75%</th>\n",
       "      <th>max</th>\n",
       "      <th>count</th>\n",
       "      <th>mean</th>\n",
       "      <th>std</th>\n",
       "      <th>min</th>\n",
       "      <th>25%</th>\n",
       "      <th>50%</th>\n",
       "      <th>75%</th>\n",
       "      <th>max</th>\n",
       "    </tr>\n",
       "    <tr>\n",
       "      <th>generation_z</th>\n",
       "      <th></th>\n",
       "      <th></th>\n",
       "      <th></th>\n",
       "      <th></th>\n",
       "      <th></th>\n",
       "      <th></th>\n",
       "      <th></th>\n",
       "      <th></th>\n",
       "      <th></th>\n",
       "      <th></th>\n",
       "      <th></th>\n",
       "      <th></th>\n",
       "      <th></th>\n",
       "      <th></th>\n",
       "      <th></th>\n",
       "      <th></th>\n",
       "    </tr>\n",
       "  </thead>\n",
       "  <tbody>\n",
       "    <tr>\n",
       "      <th>0</th>\n",
       "      <td>47306.0</td>\n",
       "      <td>234.523633</td>\n",
       "      <td>291.426043</td>\n",
       "      <td>1.0</td>\n",
       "      <td>65.0</td>\n",
       "      <td>143.0</td>\n",
       "      <td>294.0</td>\n",
       "      <td>7065.0</td>\n",
       "      <td>47306.0</td>\n",
       "      <td>50.241703</td>\n",
       "      <td>62.642764</td>\n",
       "      <td>1.0</td>\n",
       "      <td>14.0</td>\n",
       "      <td>30.0</td>\n",
       "      <td>63.0</td>\n",
       "      <td>1399.0</td>\n",
       "    </tr>\n",
       "    <tr>\n",
       "      <th>1</th>\n",
       "      <td>36938.0</td>\n",
       "      <td>157.849153</td>\n",
       "      <td>233.050653</td>\n",
       "      <td>1.0</td>\n",
       "      <td>40.0</td>\n",
       "      <td>85.0</td>\n",
       "      <td>182.0</td>\n",
       "      <td>4448.0</td>\n",
       "      <td>36938.0</td>\n",
       "      <td>32.828063</td>\n",
       "      <td>48.274147</td>\n",
       "      <td>1.0</td>\n",
       "      <td>8.0</td>\n",
       "      <td>18.0</td>\n",
       "      <td>38.0</td>\n",
       "      <td>1281.0</td>\n",
       "    </tr>\n",
       "  </tbody>\n",
       "</table>\n",
       "</div>"
      ],
      "text/plain": [
       "             comment_length                                                   \\\n",
       "                      count        mean         std  min   25%    50%    75%   \n",
       "generation_z                                                                   \n",
       "0                   47306.0  234.523633  291.426043  1.0  65.0  143.0  294.0   \n",
       "1                   36938.0  157.849153  233.050653  1.0  40.0   85.0  182.0   \n",
       "\n",
       "                     comment_word_count                                   \\\n",
       "                 max              count       mean        std  min   25%   \n",
       "generation_z                                                               \n",
       "0             7065.0            47306.0  50.241703  62.642764  1.0  14.0   \n",
       "1             4448.0            36938.0  32.828063  48.274147  1.0   8.0   \n",
       "\n",
       "                                  \n",
       "               50%   75%     max  \n",
       "generation_z                      \n",
       "0             30.0  63.0  1399.0  \n",
       "1             18.0  38.0  1281.0  "
      ]
     },
     "execution_count": 45,
     "metadata": {},
     "output_type": "execute_result"
    }
   ],
   "source": [
    "# Check summary statistics for columns 'comment_length' and 'comment_word_count' by column 'generation_z':\n",
    "comments.groupby('generation_z')[['comment_length', 'comment_word_count']].describe()"
   ]
  },
  {
   "cell_type": "code",
   "execution_count": 46,
   "metadata": {},
   "outputs": [
    {
     "name": "stdout",
     "output_type": "stream",
     "text": [
      "Mean: 157.8491526341437\n",
      "Standard Deviation: 233.05065275331785\n"
     ]
    },
    {
     "data": {
      "text/plain": [
       "Text(0.5, 1.0, 'Generation Z (1)')"
      ]
     },
     "execution_count": 46,
     "metadata": {},
     "output_type": "execute_result"
    },
    {
     "data": {
      "image/png": "[encoded data removed]",
      "text/plain": [
       "<Figure size 500x500 with 1 Axes>"
      ]
     },
     "metadata": {},
     "output_type": "display_data"
    }
   ],
   "source": [
    "# Check mean, standard deviation, and distribution of 'comment_length' when 'generation_z' = 1 (generation z):\n",
    "print(f\"Mean: {comments[comments['generation_z'] == 1]['comment_length'].mean()}\")\n",
    "print(f\"Standard Deviation: {comments[comments['generation_z'] == 1]['comment_length'].std()}\")\n",
    "sns.displot(comments[comments['generation_z'] == 1]['comment_length'], kde=True)\n",
    "plt.title('Generation Z (1)')"
   ]
  },
  {
   "cell_type": "code",
   "execution_count": 47,
   "metadata": {},
   "outputs": [
    {
     "name": "stdout",
     "output_type": "stream",
     "text": [
      "Mean: 234.5236333657464\n",
      "Standard Deviation: 291.4260431997564\n"
     ]
    },
    {
     "data": {
      "text/plain": [
       "Text(0.5, 1.0, 'Generation Y / Millennials (0)')"
      ]
     },
     "execution_count": 47,
     "metadata": {},
     "output_type": "execute_result"
    },
    {
     "data": {
      "image/png": "[encoded data removed]",
      "text/plain": [
       "<Figure size 500x500 with 1 Axes>"
      ]
     },
     "metadata": {},
     "output_type": "display_data"
    }
   ],
   "source": [
    "# Check mean, standard deviation, and distribution of 'comment_length' when 'generation_z' = 0 (generation y):\n",
    "print(f\"Mean: {comments[comments['generation_z'] == 0]['comment_length'].mean()}\")\n",
    "print(f\"Standard Deviation: {comments[comments['generation_z'] == 0]['comment_length'].std()}\")\n",
    "sns.displot(comments[comments['generation_z'] == 0]['comment_length'], kde=True)\n",
    "plt.title('Generation Y / Millennials (0)')"
   ]
  },
  {
   "cell_type": "code",
   "execution_count": 48,
   "metadata": {},
   "outputs": [
    {
     "data": {
      "text/html": [
       "<div>\n",
       "<style scoped>\n",
       "    .dataframe tbody tr th:only-of-type {\n",
       "        vertical-align: middle;\n",
       "    }\n",
       "\n",
       "    .dataframe tbody tr th {\n",
       "        vertical-align: top;\n",
       "    }\n",
       "\n",
       "    .dataframe thead th {\n",
       "        text-align: right;\n",
       "    }\n",
       "</style>\n",
       "<table border=\"1\" class=\"dataframe\">\n",
       "  <thead>\n",
       "    <tr style=\"text-align: right;\">\n",
       "      <th></th>\n",
       "      <th>comment_text</th>\n",
       "      <th>comment_word_count</th>\n",
       "      <th>generation_z</th>\n",
       "    </tr>\n",
       "  </thead>\n",
       "  <tbody>\n",
       "    <tr>\n",
       "      <th>29559</th>\n",
       "      <td>The issue with uprisings is that it requires a majority of the general population to be in agreement    That's only one side of it and frankly  it doesn't even need to be a majority  Just a large enough proportion to be  very disruptive  to the rest  The issue is primarily rooted in two areas     Time    Level of discomfort   Time is a tough one  People are working themselves to death to barel...</td>\n",
       "      <td>1399</td>\n",
       "      <td>0</td>\n",
       "    </tr>\n",
       "    <tr>\n",
       "      <th>58283</th>\n",
       "      <td>Hijacking your comment to post a thorough explanation on how the US is pretty good statistically   Let's see how the  third world country  USA compares to other countries  To do this I will be looking using fellow G  countries  who are undoubtedly among the best countries in the world  This will be Canada  France  Germany  Italy  Japan  and the U K  These countries are also much better compari...</td>\n",
       "      <td>1281</td>\n",
       "      <td>1</td>\n",
       "    </tr>\n",
       "    <tr>\n",
       "      <th>37963</th>\n",
       "      <td>Seems like a small study that doesn't necessarily jive with findings in previous studies  I'm also not exercising while wearing an N   I'm usually quite sedentary when I'm wearing one  and I don't generally wear one outside     Methodology Questioned    However  US researcher Erik Van Iterson  PhD  who conducted  a previous study    that did not find any clinically meaningful physiologic effec...</td>\n",
       "      <td>1188</td>\n",
       "      <td>0</td>\n",
       "    </tr>\n",
       "    <tr>\n",
       "      <th>20534</th>\n",
       "      <td>Yes    I was a recently confirmed Catholic in college who went hard in the paint into left wing ideologies  Legalize all substances  nationalize Healthcare and post high school education  minimum wage should be higher  universal basic income  literally dissolve the military  LGBTQIA  rights  abolish death penalty  unionize all jobs  government fund of arts  relax requirements on voting  ID  an...</td>\n",
       "      <td>1136</td>\n",
       "      <td>0</td>\n",
       "    </tr>\n",
       "    <tr>\n",
       "      <th>31913</th>\n",
       "      <td>I'm married when my birth control failed at   we chose termination  I was sad  I felt like a failure that I wasn't mentally  financially or physically in place to keep it  Now   years later I know we made the right choice for our life circumstances  We'd be in over our heads with no support system    Our family  village  is toxic  narcissistic  selfish and greedy  I hadn't even faced the real ...</td>\n",
       "      <td>1116</td>\n",
       "      <td>0</td>\n",
       "    </tr>\n",
       "  </tbody>\n",
       "</table>\n",
       "</div>"
      ],
      "text/plain": [
       "                                                                                                                                                                                                                                                                                                                                                                                                          comment_text  \\\n",
       "29559  The issue with uprisings is that it requires a majority of the general population to be in agreement    That's only one side of it and frankly  it doesn't even need to be a majority  Just a large enough proportion to be  very disruptive  to the rest  The issue is primarily rooted in two areas     Time    Level of discomfort   Time is a tough one  People are working themselves to death to barel...   \n",
       "58283  Hijacking your comment to post a thorough explanation on how the US is pretty good statistically   Let's see how the  third world country  USA compares to other countries  To do this I will be looking using fellow G  countries  who are undoubtedly among the best countries in the world  This will be Canada  France  Germany  Italy  Japan  and the U K  These countries are also much better compari...   \n",
       "37963  Seems like a small study that doesn't necessarily jive with findings in previous studies  I'm also not exercising while wearing an N   I'm usually quite sedentary when I'm wearing one  and I don't generally wear one outside     Methodology Questioned    However  US researcher Erik Van Iterson  PhD  who conducted  a previous study    that did not find any clinically meaningful physiologic effec...   \n",
       "20534  Yes    I was a recently confirmed Catholic in college who went hard in the paint into left wing ideologies  Legalize all substances  nationalize Healthcare and post high school education  minimum wage should be higher  universal basic income  literally dissolve the military  LGBTQIA  rights  abolish death penalty  unionize all jobs  government fund of arts  relax requirements on voting  ID  an...   \n",
       "31913  I'm married when my birth control failed at   we chose termination  I was sad  I felt like a failure that I wasn't mentally  financially or physically in place to keep it  Now   years later I know we made the right choice for our life circumstances  We'd be in over our heads with no support system    Our family  village  is toxic  narcissistic  selfish and greedy  I hadn't even faced the real ...   \n",
       "\n",
       "       comment_word_count  generation_z  \n",
       "29559                1399             0  \n",
       "58283                1281             1  \n",
       "37963                1188             0  \n",
       "20534                1136             0  \n",
       "31913                1116             0  "
      ]
     },
     "execution_count": 48,
     "metadata": {},
     "output_type": "execute_result"
    }
   ],
   "source": [
    "# Check longest comments by word count:\n",
    "comments[['comment_text', 'comment_word_count', 'generation_z']].sort_values('comment_word_count', ascending=False).head()"
   ]
  },
  {
   "cell_type": "code",
   "execution_count": 49,
   "metadata": {},
   "outputs": [
    {
     "data": {
      "text/html": [
       "<div>\n",
       "<style scoped>\n",
       "    .dataframe tbody tr th:only-of-type {\n",
       "        vertical-align: middle;\n",
       "    }\n",
       "\n",
       "    .dataframe tbody tr th {\n",
       "        vertical-align: top;\n",
       "    }\n",
       "\n",
       "    .dataframe thead th {\n",
       "        text-align: right;\n",
       "    }\n",
       "</style>\n",
       "<table border=\"1\" class=\"dataframe\">\n",
       "  <thead>\n",
       "    <tr style=\"text-align: right;\">\n",
       "      <th></th>\n",
       "      <th>comment_text</th>\n",
       "      <th>comment_word_count</th>\n",
       "      <th>generation_z</th>\n",
       "    </tr>\n",
       "  </thead>\n",
       "  <tbody>\n",
       "    <tr>\n",
       "      <th>53173</th>\n",
       "      <td>Felt</td>\n",
       "      <td>1</td>\n",
       "      <td>1</td>\n",
       "    </tr>\n",
       "    <tr>\n",
       "      <th>76675</th>\n",
       "      <td>Accurate</td>\n",
       "      <td>1</td>\n",
       "      <td>1</td>\n",
       "    </tr>\n",
       "    <tr>\n",
       "      <th>76673</th>\n",
       "      <td>Accurate</td>\n",
       "      <td>1</td>\n",
       "      <td>1</td>\n",
       "    </tr>\n",
       "    <tr>\n",
       "      <th>76671</th>\n",
       "      <td>GGWP</td>\n",
       "      <td>1</td>\n",
       "      <td>1</td>\n",
       "    </tr>\n",
       "    <tr>\n",
       "      <th>21257</th>\n",
       "      <td>yep</td>\n",
       "      <td>1</td>\n",
       "      <td>0</td>\n",
       "    </tr>\n",
       "    <tr>\n",
       "      <th>76669</th>\n",
       "      <td>h</td>\n",
       "      <td>1</td>\n",
       "      <td>1</td>\n",
       "    </tr>\n",
       "    <tr>\n",
       "      <th>51963</th>\n",
       "      <td>Amazing</td>\n",
       "      <td>1</td>\n",
       "      <td>1</td>\n",
       "    </tr>\n",
       "    <tr>\n",
       "      <th>58990</th>\n",
       "      <td>dumbass</td>\n",
       "      <td>1</td>\n",
       "      <td>1</td>\n",
       "    </tr>\n",
       "    <tr>\n",
       "      <th>76663</th>\n",
       "      <td>gang</td>\n",
       "      <td>1</td>\n",
       "      <td>1</td>\n",
       "    </tr>\n",
       "    <tr>\n",
       "      <th>10350</th>\n",
       "      <td>Fr</td>\n",
       "      <td>1</td>\n",
       "      <td>0</td>\n",
       "    </tr>\n",
       "  </tbody>\n",
       "</table>\n",
       "</div>"
      ],
      "text/plain": [
       "      comment_text  comment_word_count  generation_z\n",
       "53173         Felt                   1             1\n",
       "76675     Accurate                   1             1\n",
       "76673     Accurate                   1             1\n",
       "76671         GGWP                   1             1\n",
       "21257          yep                   1             0\n",
       "76669            h                   1             1\n",
       "51963      Amazing                   1             1\n",
       "58990      dumbass                   1             1\n",
       "76663         gang                   1             1\n",
       "10350           Fr                   1             0"
      ]
     },
     "execution_count": 49,
     "metadata": {},
     "output_type": "execute_result"
    }
   ],
   "source": [
    "# Check shortest comments by word count:\n",
    "comments[['comment_text', 'comment_word_count', 'generation_z']].sort_values('comment_word_count', ascending=True).head(10)"
   ]
  },
  {
   "cell_type": "code",
   "execution_count": 50,
   "metadata": {},
   "outputs": [
    {
     "name": "stdout",
     "output_type": "stream",
     "text": [
      "Mean: 32.82806324110672\n",
      "Standard Deviation: 48.27414668263048\n"
     ]
    },
    {
     "data": {
      "text/plain": [
       "Text(0.5, 1.0, 'Generation Z (1)')"
      ]
     },
     "execution_count": 50,
     "metadata": {},
     "output_type": "execute_result"
    },
    {
     "data": {
      "image/png": "[encoded data removed]",
      "text/plain": [
       "<Figure size 500x500 with 1 Axes>"
      ]
     },
     "metadata": {},
     "output_type": "display_data"
    }
   ],
   "source": [
    "# Check mean and distribution of 'comment_word_count' when 'generation_z' = 1 (generation z):\n",
    "print(f\"Mean: {comments[comments['generation_z'] == 1]['comment_word_count'].mean()}\")\n",
    "print(f\"Standard Deviation: {comments[comments['generation_z'] == 1]['comment_word_count'].std()}\")\n",
    "sns.displot(comments[comments['generation_z'] == 1]['comment_word_count'], kde=True)\n",
    "plt.title('Generation Z (1)')"
   ]
  },
  {
   "cell_type": "code",
   "execution_count": 51,
   "metadata": {},
   "outputs": [
    {
     "name": "stdout",
     "output_type": "stream",
     "text": [
      "Mean: 50.241702955227666\n",
      "Standard Deviation: 62.642764099759376\n"
     ]
    },
    {
     "data": {
      "text/plain": [
       "Text(0.5, 1.0, 'Generation Y / Millennials (0)')"
      ]
     },
     "execution_count": 51,
     "metadata": {},
     "output_type": "execute_result"
    },
    {
     "data": {
      "image/png": "[encoded data removed]",
      "text/plain": [
       "<Figure size 500x500 with 1 Axes>"
      ]
     },
     "metadata": {},
     "output_type": "display_data"
    }
   ],
   "source": [
    "# Check mean and distribution of 'comment_word_count' when 'generation_z' = 0 (generation y):\n",
    "print(f\"Mean: {comments[comments['generation_z'] == 0]['comment_word_count'].mean()}\")\n",
    "print(f\"Standard Deviation: {comments[comments['generation_z'] == 0]['comment_word_count'].std()}\")\n",
    "sns.displot(comments[comments['generation_z'] == 0]['comment_word_count'], kde=True)\n",
    "plt.title('Generation Y / Millennials (0)')"
   ]
  },
  {
   "cell_type": "markdown",
   "metadata": {},
   "source": [
    "### 04.01 Obervations & Findings\n",
    "\n",
    "<details><summary> Show details: </summary>\n",
    "\n",
    "> **Comment Length** (`comment_length`)\n",
    "> - Comment lengths are of a relatively lower mean of around **158** and narrower spread with a standard deviation of **233**, with a maximum of **7065**, for **Generation Z**.\n",
    "> - Comment lengths are of a relatively lower mean of around **235** and narrower spread with a standard deviation of **291**, with a maximum of **4448**, for **Millennials**.\n",
    ">\n",
    "> **Comment Word Count** (`comment_word_count`)\n",
    "> - Comment word counts are of a relatively lower mean of around **33** and narrower spread with a standard deviation of **48**, with a maxiimum of **1399**, for **Generation Z**.\n",
    "> - Comment word counts are of a relatively lower mean of around **50** and narrower spread with a standard deviation of **63**, with a maximum of **1281**, for **Millennials**.\n",
    "\n",
    "</details>"
   ]
  },
  {
   "cell_type": "markdown",
   "metadata": {},
   "source": [
    "### 04.02 Analyse Percentage of Correctly Spelled Words in Comments"
   ]
  },
  {
   "cell_type": "code",
   "execution_count": 52,
   "metadata": {},
   "outputs": [],
   "source": [
    "# function to 'tokenize' comments, while not separating aprostophes\n",
    "\n",
    "def tokenize_text(text):\n",
    "    # Match words, including contractions with apostrophes\n",
    "    pattern = r\"\\b(?:[A-Za-z]+(?:'[A-Za-z]+)?)\\b\"\n",
    "    tokens = re.findall(pattern, text)\n",
    "    return tokens"
   ]
  },
  {
   "cell_type": "code",
   "execution_count": 53,
   "metadata": {},
   "outputs": [],
   "source": [
    "# function to find the percentage of correctly spelled words in a comment\n",
    "\n",
    "def spell_checker_percentage(word_list):\n",
    "    # Create an English dictionary object\n",
    "    english_dict = enchant.Dict(\"en\")\n",
    "\n",
    "    # Count of correctly spelled words\n",
    "    correct_count = len([word for word in word_list if english_dict.check(word.lower())])\n",
    "\n",
    "    # Calculate percentage\n",
    "    percentage_correct = (correct_count / len(word_list))\n",
    "\n",
    "    return percentage_correct"
   ]
  },
  {
   "cell_type": "code",
   "execution_count": 54,
   "metadata": {},
   "outputs": [],
   "source": [
    "# Millennials: Randomly select rows with strings\n",
    "random_rows_mill = comments[comments['generation_z'] == 0].sample(n=5000)  # Adjust the number of rows you want to select\n",
    "\n",
    "# generating dataframe that has original text, tokenized results, and correctly spelled percentage\n",
    "result_df_mill = pd.DataFrame({\n",
    "    'comment_text': random_rows_mill['comment_text'],\n",
    "    'tokenised_result': random_rows_mill['comment_text'].apply(tokenize_text),\n",
    "    'correct_spelled_percent': random_rows_mill['comment_text'].apply(tokenize_text).apply(spell_checker_percentage)\n",
    "}).reset_index(drop=True)"
   ]
  },
  {
   "cell_type": "code",
   "execution_count": 55,
   "metadata": {},
   "outputs": [],
   "source": [
    "# Gen Z: Randomly select rows with strings\n",
    "random_rows_genz = comments[comments['generation_z'] == 1].sample(n=5000)  # Adjust the number of rows you want to select\n",
    "\n",
    "# generating dataframe that has original text, tokenized results, and correctly spelled percentage\n",
    "result_df_genz = pd.DataFrame({\n",
    "    'comment_text': random_rows_genz['comment_text'],\n",
    "    'tokenised_result': random_rows_genz['comment_text'].apply(tokenize_text),\n",
    "    'correct_spelled_percent': random_rows_genz['comment_text'].apply(tokenize_text).apply(spell_checker_percentage)\n",
    "}).reset_index(drop=True)"
   ]
  },
  {
   "cell_type": "code",
   "execution_count": 56,
   "metadata": {},
   "outputs": [
    {
     "data": {
      "text/plain": [
       "Text(0.5, 1.0, 'Millennials')"
      ]
     },
     "execution_count": 56,
     "metadata": {},
     "output_type": "execute_result"
    },
    {
     "data": {
      "image/png": "[encoded data removed]",
      "text/plain": [
       "<Figure size 500x500 with 1 Axes>"
      ]
     },
     "metadata": {},
     "output_type": "display_data"
    }
   ],
   "source": [
    "# plotting distribution for millennials\n",
    "sns.displot(result_df_mill['correct_spelled_percent'], kde=True)\n",
    "plt.title('Millennials')"
   ]
  },
  {
   "cell_type": "code",
   "execution_count": 57,
   "metadata": {},
   "outputs": [
    {
     "data": {
      "text/plain": [
       "Text(0.5, 1.0, 'Generation Z')"
      ]
     },
     "execution_count": 57,
     "metadata": {},
     "output_type": "execute_result"
    },
    {
     "data": {
      "image/png": "[encoded data removed]",
      "text/plain": [
       "<Figure size 500x500 with 1 Axes>"
      ]
     },
     "metadata": {},
     "output_type": "display_data"
    }
   ],
   "source": [
    "# plotting distribution for gen z\n",
    "sns.displot(result_df_genz['correct_spelled_percent'], kde=True)\n",
    "plt.title('Generation Z')"
   ]
  },
  {
   "cell_type": "code",
   "execution_count": 58,
   "metadata": {},
   "outputs": [
    {
     "name": "stdout",
     "output_type": "stream",
     "text": [
      "0.878\n",
      "0.7686\n"
     ]
    }
   ],
   "source": [
    "# Identifying percentage of Millennial having 90% of correctly spelled words\n",
    "print(len(result_df_mill[result_df_mill['correct_spelled_percent'] > 0.9]) / 5000)\n",
    "\n",
    "# Identifying percentage of gen Zs having 90% of correctly spelled words\n",
    "print(len(result_df_genz[result_df_genz['correct_spelled_percent'] > 0.9]) / 5000)"
   ]
  },
  {
   "cell_type": "markdown",
   "metadata": {},
   "source": [
    "### 04.02 Obervations & Findings\n",
    "\n",
    "<details><summary> Show details: </summary>\n",
    "\n",
    "> To have a brief overview if there are any distinct differences between how the 2 generations place emphasis on correctly spelled words:\n",
    "> - randomly sampled through 10,000 comments from each class\n",
    "> - identifying the percentage of correctly spelled words in each of the comments\n",
    ">\n",
    "> Potential limitations: each posts have a different word lengths, percentage might be skewed for a comment with less text. Hence this analysis aims to provide just a brief outlook on any distinct differences in this area.\n",
    "> Based on the distributions between the generations, both generations overall do not have much spelling errors in their comments with the high count of comments of 100% correctly spelled words. The percentage for number of comments are more skewed towards 1.0 in Millennials as compared to Gen Zs.\n",
    "> Focusing on comments scoring 90% of correct spelled words, Millennials have 12% more comments of this score as compared to Gen Zs.\n",
    "\n",
    "</details>"
   ]
  },
  {
   "cell_type": "markdown",
   "metadata": {},
   "source": [
    "### 04.03 Analyse Top Words"
   ]
  },
  {
   "cell_type": "code",
   "execution_count": 59,
   "metadata": {},
   "outputs": [],
   "source": [
    "# Create list of custom stop words to include common contractions:\n",
    "stopwords_extra = [\"they're\", \"doesn't\", \"isn't\", \"i've\", \"there's\", \"aren't\", \"i'd\", \"we're\", \"wasn't\", \"i'll\"]\n",
    "stopwords_custom = list(ENGLISH_STOP_WORDS.union(stopwords_extra))"
   ]
  },
  {
   "cell_type": "code",
   "execution_count": 60,
   "metadata": {},
   "outputs": [],
   "source": [
    "# Instantiate 'TF-IDF' vectorizers for 1-gram, 2-gram, and 3-gram words:\n",
    "# 1-gram:\n",
    "tvec_1 = CountVectorizer(stop_words=stopwords_custom,\n",
    "                       token_pattern=r'(?u)\\b(?:\\w\\w+|i|I)(?:[\\'\\’\\′\\ʼ](?:s|t|m|re|ve|d|ll))?\\b',\n",
    "                       ngram_range=(1, 1),\n",
    "                       max_df=0.03,\n",
    "                       min_df=2,\n",
    "                       max_features=50000)\n",
    "\n",
    "# 2-gram:\n",
    "tvec_2 = CountVectorizer(stop_words=stopwords_custom,\n",
    "                       token_pattern=r'(?u)\\b(?:\\w\\w+|i|I)(?:[\\'\\’\\′\\ʼ](?:s|t|m|re|ve|d|ll))?\\b',\n",
    "                       ngram_range=(2, 2),\n",
    "                       max_df=0.03,\n",
    "                       min_df=2,\n",
    "                       max_features=50000)\n",
    "\n",
    "# 3-gram:\n",
    "tvec_3 = CountVectorizer(stop_words=stopwords_custom,\n",
    "                       token_pattern=r'(?u)\\b(?:\\w\\w+|i|I)(?:[\\'\\’\\′\\ʼ](?:s|t|m|re|ve|d|ll))?\\b',\n",
    "                       ngram_range=(3, 3),\n",
    "                       max_df=0.03,\n",
    "                       min_df=2,\n",
    "                       max_features=50000)"
   ]
  },
  {
   "cell_type": "code",
   "execution_count": 61,
   "metadata": {},
   "outputs": [
    {
     "data": {
      "text/plain": [
       "Text(0.5, 1.0, 'Generation Z Top Words (1-gram)')"
      ]
     },
     "execution_count": 61,
     "metadata": {},
     "output_type": "execute_result"
    },
    {
     "data": {
      "image/png": "[encoded data removed]",
      "text/plain": [
       "<Figure size 1600x900 with 1 Axes>"
      ]
     },
     "metadata": {},
     "output_type": "display_data"
    }
   ],
   "source": [
    "# Check for top occuring 1-gram words for column 'generation_z' = 1:\n",
    "# Create word frequency dictionary:\n",
    "comments_vec_z_1 = comments[comments['generation_z'] == 1]['comment_text']\n",
    "comments_vec_z_1 = tvec_1.fit_transform(comments_vec_z_1)\n",
    "comments_vec_z_1_sum = np.asarray(comments_vec_z_1.sum(axis=0)).ravel()\n",
    "count_dict_z = {word: comments_vec_z_1_sum[tvec_1.vocabulary_[word]] for word in tvec_1.vocabulary_}\n",
    "sorted_dict_z = {key: value for key, value in sorted(count_dict_z.items(), key=lambda x: x[1], reverse=True)}\n",
    "\n",
    "# Plot horizontal bar chart:\n",
    "plt.figure(figsize=(16, 9))\n",
    "plt.barh(y=list(sorted_dict_z.keys())[:30][::-1], width=list(sorted_dict_z.values())[:30][::-1])\n",
    "plt.title('Generation Z Top Words (1-gram)')"
   ]
  },
  {
   "cell_type": "code",
   "execution_count": 62,
   "metadata": {},
   "outputs": [
    {
     "data": {
      "text/plain": [
       "Text(0.5, 1.0, 'Generation Y Top Words (1-gram)')"
      ]
     },
     "execution_count": 62,
     "metadata": {},
     "output_type": "execute_result"
    },
    {
     "data": {
      "image/png": "[encoded data removed]",
      "text/plain": [
       "<Figure size 1600x900 with 1 Axes>"
      ]
     },
     "metadata": {},
     "output_type": "display_data"
    }
   ],
   "source": [
    "# Check top occuring 1-gram words for column 'generation_z' = 0:\n",
    "# Create word frequency dictionary:\n",
    "comments_vec_y_1 = comments[comments['generation_z'] == 0]['comment_text']\n",
    "comments_vec_y_1 = tvec_1.fit_transform(comments_vec_y_1)\n",
    "comments_vec_y_1_sum = np.asarray(comments_vec_y_1.sum(axis=0)).ravel()\n",
    "count_dict_y = {word: comments_vec_y_1_sum[tvec_1.vocabulary_[word]] for word in tvec_1.vocabulary_}\n",
    "sorted_dict_y = {key: value for key, value in sorted(count_dict_y.items(), key=lambda x: x[1], reverse=True)}\n",
    "\n",
    "# Plot horizontal bar chart:\n",
    "plt.figure(figsize=(16, 9))\n",
    "plt.barh(y=list(sorted_dict_y.keys())[:30][::-1], width=list(sorted_dict_y.values())[:30][::-1])\n",
    "plt.title('Generation Y Top Words (1-gram)')"
   ]
  },
  {
   "cell_type": "code",
   "execution_count": 63,
   "metadata": {},
   "outputs": [
    {
     "data": {
      "text/plain": [
       "Text(0.5, 1.0, 'Generation Z Top Words (2-gram)')"
      ]
     },
     "execution_count": 63,
     "metadata": {},
     "output_type": "execute_result"
    },
    {
     "data": {
      "image/png": "[encoded data removed]",
      "text/plain": [
       "<Figure size 1600x900 with 1 Axes>"
      ]
     },
     "metadata": {},
     "output_type": "display_data"
    }
   ],
   "source": [
    "# Check top occuring 2-gram words for column 'generation_z' = 1:\n",
    "# Create word frequency dictionary:\n",
    "comments_vec_z_2 = comments[comments['generation_z'] == 1]['comment_text']\n",
    "comments_vec_z_2 = tvec_2.fit_transform(comments_vec_z_2)\n",
    "comments_vec_z_2_sum = np.asarray(comments_vec_z_2.sum(axis=0)).ravel()\n",
    "count_dict_z = {word: comments_vec_z_2_sum[tvec_2.vocabulary_[word]] for word in tvec_2.vocabulary_}\n",
    "sorted_dict_z = {key: value for key, value in sorted(count_dict_z.items(), key=lambda x: x[1], reverse=True)}\n",
    "\n",
    "# Plot horizontal bar chart:\n",
    "plt.figure(figsize=(16, 9))\n",
    "plt.barh(y=list(sorted_dict_z.keys())[:30][::-1], width=list(sorted_dict_z.values())[:30][::-1])\n",
    "plt.title('Generation Z Top Words (2-gram)')"
   ]
  },
  {
   "cell_type": "code",
   "execution_count": 64,
   "metadata": {},
   "outputs": [
    {
     "data": {
      "text/plain": [
       "Text(0.5, 1.0, 'Generation Y Top Words (2-gram)')"
      ]
     },
     "execution_count": 64,
     "metadata": {},
     "output_type": "execute_result"
    },
    {
     "data": {
      "image/png": "[encoded data removed]",
      "text/plain": [
       "<Figure size 1600x900 with 1 Axes>"
      ]
     },
     "metadata": {},
     "output_type": "display_data"
    }
   ],
   "source": [
    "# Check top occuring 2-gram words for column 'generation_z' = 0:\n",
    "# Create word frequency dictionary:\n",
    "comments_vec_y_2 = comments[comments['generation_z'] == 0]['comment_text']\n",
    "comments_vec_y_2 = tvec_2.fit_transform(comments_vec_y_2)\n",
    "comments_vec_y_2_sum = np.asarray(comments_vec_y_2.sum(axis=0)).ravel()\n",
    "count_dict_y = {word: comments_vec_y_2_sum[tvec_2.vocabulary_[word]] for word in tvec_2.vocabulary_}\n",
    "sorted_dict_y = {key: value for key, value in sorted(count_dict_y.items(), key=lambda x: x[1], reverse=True)}\n",
    "\n",
    "# Plot horizontal bar chart:\n",
    "plt.figure(figsize=(16, 9))\n",
    "plt.barh(y=list(sorted_dict_y.keys())[:30][::-1], width=list(sorted_dict_y.values())[:30][::-1])\n",
    "plt.title('Generation Y Top Words (2-gram)')"
   ]
  },
  {
   "cell_type": "code",
   "execution_count": 65,
   "metadata": {},
   "outputs": [
    {
     "data": {
      "text/plain": [
       "Text(0.5, 1.0, 'Generation Z Top Words (3-gram)')"
      ]
     },
     "execution_count": 65,
     "metadata": {},
     "output_type": "execute_result"
    },
    {
     "data": {
      "image/png": "[encoded data removed]",
      "text/plain": [
       "<Figure size 1600x900 with 1 Axes>"
      ]
     },
     "metadata": {},
     "output_type": "display_data"
    }
   ],
   "source": [
    "# Check top occuring 3-gram words for column 'generation_z' = 1:\n",
    "# Create word frequency dictionary:\n",
    "comments_vec_z_3 = comments[comments['generation_z'] == 1]['comment_text']\n",
    "comments_vec_z_3 = tvec_3.fit_transform(comments_vec_z_3)\n",
    "comments_vec_z_3_sum = np.asarray(comments_vec_z_3.sum(axis=0)).ravel()\n",
    "count_dict_z = {word: comments_vec_z_3_sum[tvec_3.vocabulary_[word]] for word in tvec_3.vocabulary_}\n",
    "sorted_dict_z = {key: value for key, value in sorted(count_dict_z.items(), key=lambda x: x[1], reverse=True)}\n",
    "\n",
    "# Plot horizontal bar chart:\n",
    "plt.figure(figsize=(16, 9))\n",
    "plt.barh(y=list(sorted_dict_z.keys())[:30][::-1], width=list(sorted_dict_z.values())[:30][::-1])\n",
    "plt.title('Generation Z Top Words (3-gram)')"
   ]
  },
  {
   "cell_type": "code",
   "execution_count": 66,
   "metadata": {},
   "outputs": [
    {
     "data": {
      "text/plain": [
       "Text(0.5, 1.0, 'Generation Y Top Words (3-gram)')"
      ]
     },
     "execution_count": 66,
     "metadata": {},
     "output_type": "execute_result"
    },
    {
     "data": {
      "image/png": "[encoded data removed]",
      "text/plain": [
       "<Figure size 1600x900 with 1 Axes>"
      ]
     },
     "metadata": {},
     "output_type": "display_data"
    }
   ],
   "source": [
    "# Check top occuring 3-gram words for column 'generation_z' = 0:\n",
    "# Create word frequency dictionary:\n",
    "comments_vec_y_3 = comments[comments['generation_z'] == 0]['comment_text']\n",
    "comments_vec_y_3 = tvec_3.fit_transform(comments_vec_y_3)\n",
    "comments_vec_y_3_sum = np.asarray(comments_vec_y_3.sum(axis=0)).ravel()\n",
    "count_dict_y = {word: comments_vec_y_3_sum[tvec_3.vocabulary_[word]] for word in tvec_3.vocabulary_}\n",
    "sorted_dict_y = {key: value for key, value in sorted(count_dict_y.items(), key=lambda x: x[1], reverse=True)}\n",
    "\n",
    "# Plot horizontal bar chart:\n",
    "plt.figure(figsize=(16, 9))\n",
    "plt.barh(y=list(sorted_dict_y.keys())[:30][::-1], width=list(sorted_dict_y.values())[:30][::-1])\n",
    "plt.title('Generation Y Top Words (3-gram)')"
   ]
  },
  {
   "cell_type": "markdown",
   "metadata": {},
   "source": [
    "### 04.03 Obervations & Findings\n",
    "\n",
    "<details><summary> Show details: </summary>\n",
    "\n",
    "> **Word Vectorizing**\n",
    "> - The analysis of top words will focus on **key words**, which are defined as words that have direct interpretive value related to the liftstyles of people from either **Generation Z** or **Millennials**.\n",
    "> - 1-gram, 2-gram, and 3-gram will be the focus of this analysis.\n",
    "> - Word vectorizing was done specifically for 1-gram, 2-gram, and 3-gram words since 1-gram words dominate with the highest frequency, allowing for unique 2-gram and 3-gram words to be analysed as well.\n",
    "> - Maximum Document Freqeuncy (`max_df`) set consisitently at 3% to filter out commonly used words to detect unique key words for both groups, especially for 1-gram words.\n",
    ">\n",
    "> **Top Words**\n",
    "> - Unique key words observed for each group across 1-gram, 2-gram, and 3-gram words.\n",
    "> - 1-gram words tend to be very simmilar, with similar top key words such as **'boomer'**, a generation term.\n",
    "> - 2-gram words are relatively less similar than 1-gram words, with similar top key words such as **'social media'**, and different top key words such as **'net neutrality'** for **Generation Z**, a term about internet freedom, and **'mental health'** for **Millennials**.\n",
    "> - 3-gram words are even less similar and most telling of lifestyle, with different top key words such as **'playing video games'** for **Generation Z**, and **'living paycheck paycheck'** for **Millennials**, a phrase that was likely **'living paycheck to paycheck'** before removing stop words.\n",
    "\n",
    "</details>"
   ]
  },
  {
   "cell_type": "markdown",
   "metadata": {},
   "source": [
    "## 05 Export Data"
   ]
  },
  {
   "cell_type": "code",
   "execution_count": 67,
   "metadata": {},
   "outputs": [],
   "source": [
    "# Redefine data frame 'comments':\n",
    "comments = comments[['thread_id', 'comment_id', 'comment_text', 'comment_length', 'comment_word_count', 'generation_z']]"
   ]
  },
  {
   "cell_type": "code",
   "execution_count": 68,
   "metadata": {},
   "outputs": [],
   "source": [
    "# Create output folder and export data frame 'comments' as 'comments_2.csv':\n",
    "if not os.path.exists('../data'):\n",
    "    os.makedirs('data')\n",
    "comments.to_csv('../data/comments_2.csv', index=False)"
   ]
  }
 ],
 "metadata": {
  "kernelspec": {
   "display_name": "base",
   "language": "python",
   "name": "python3"
  },
  "language_info": {
   "codemirror_mode": {
    "name": "ipython",
    "version": 3
   },
   "file_extension": ".py",
   "mimetype": "text/x-python",
   "name": "python",
   "nbconvert_exporter": "python",
   "pygments_lexer": "ipython3",
   "version": "3.11.7"
  }
 },
 "nbformat": 4,
 "nbformat_minor": 2
}
