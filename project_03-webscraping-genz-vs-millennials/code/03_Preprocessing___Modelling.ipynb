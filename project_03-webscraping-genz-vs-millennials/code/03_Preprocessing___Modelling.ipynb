{
 "cells": [
  {
   "cell_type": "markdown",
   "metadata": {},
   "source": [
    "<img src=\"http://imgur.com/1ZcRyrc.png\" style=\"float: left; margin: 20px; height: 55px\">\n",
    "\n",
    "# Project 3: Web APIs & NLP\n",
    "\n",
    "## 03 Preprocessing & Modelling\n",
    "\n",
    "> SG-DSI-41 Group 01: Daryl Chia, Germaine Choo, Sharifah Nurulhuda, Tan Wei Chiong\n",
    "\n",
    "---"
   ]
  },
  {
   "cell_type": "markdown",
   "metadata": {},
   "source": [
    "## 01 Import Libraries"
   ]
  },
  {
   "cell_type": "code",
   "execution_count": 1,
   "metadata": {},
   "outputs": [],
   "source": [
    "# Import libraries, modules, and functions:\n",
    "import os\n",
    "import joblib\n",
    "import pandas as pd\n",
    "\n",
    "from imblearn.under_sampling import RandomUnderSampler\n",
    "from nltk.tokenize import RegexpTokenizer\n",
    "from nltk.stem.porter import PorterStemmer\n",
    "from sklearn.feature_extraction.text import TfidfVectorizer\n",
    "from sklearn.model_selection import train_test_split\n",
    "from sklearn.naive_bayes import BernoulliNB, MultinomialNB\n",
    "from sklearn.linear_model import LogisticRegression\n",
    "from sklearn.metrics import ConfusionMatrixDisplay, confusion_matrix, classification_report"
   ]
  },
  {
   "cell_type": "markdown",
   "metadata": {},
   "source": [
    "## 02 Load & Check Data"
   ]
  },
  {
   "cell_type": "markdown",
   "metadata": {},
   "source": [
    "### 02.01 Load & Check Data"
   ]
  },
  {
   "cell_type": "code",
   "execution_count": 2,
   "metadata": {},
   "outputs": [
    {
     "name": "stdout",
     "output_type": "stream",
     "text": [
      "(84244, 6)\n"
     ]
    },
    {
     "data": {
      "text/html": [
       "<div>\n",
       "<style scoped>\n",
       "    .dataframe tbody tr th:only-of-type {\n",
       "        vertical-align: middle;\n",
       "    }\n",
       "\n",
       "    .dataframe tbody tr th {\n",
       "        vertical-align: top;\n",
       "    }\n",
       "\n",
       "    .dataframe thead th {\n",
       "        text-align: right;\n",
       "    }\n",
       "</style>\n",
       "<table border=\"1\" class=\"dataframe\">\n",
       "  <thead>\n",
       "    <tr style=\"text-align: right;\">\n",
       "      <th></th>\n",
       "      <th>thread_id</th>\n",
       "      <th>comment_id</th>\n",
       "      <th>comment_text</th>\n",
       "      <th>comment_length</th>\n",
       "      <th>comment_word_count</th>\n",
       "      <th>generation_z</th>\n",
       "    </tr>\n",
       "  </thead>\n",
       "  <tbody>\n",
       "    <tr>\n",
       "      <th>0</th>\n",
       "      <td>18ay2s2</td>\n",
       "      <td>kc10fzs</td>\n",
       "      <td>Watch their kid just become like an accountant</td>\n",
       "      <td>46</td>\n",
       "      <td>8</td>\n",
       "      <td>0</td>\n",
       "    </tr>\n",
       "    <tr>\n",
       "      <th>1</th>\n",
       "      <td>18ay2s2</td>\n",
       "      <td>kc1bowr</td>\n",
       "      <td>Can you imagine the bragging rights at school   Random kid   My dad is a doctor       The kid     My grandpa was KURT COBAIN       Random kid  Oh yeah  well    my mom knows an influencer     The kid     My other grandpa is TONY HAWK             silence</td>\n",
       "      <td>252</td>\n",
       "      <td>86</td>\n",
       "      <td>0</td>\n",
       "    </tr>\n",
       "    <tr>\n",
       "      <th>2</th>\n",
       "      <td>18ay2s2</td>\n",
       "      <td>kc12zpc</td>\n",
       "      <td>They both look like their dads</td>\n",
       "      <td>30</td>\n",
       "      <td>6</td>\n",
       "      <td>0</td>\n",
       "    </tr>\n",
       "    <tr>\n",
       "      <th>3</th>\n",
       "      <td>18ay2s2</td>\n",
       "      <td>kc11j9m</td>\n",
       "      <td>The Sacred One shall be birthed anew</td>\n",
       "      <td>36</td>\n",
       "      <td>7</td>\n",
       "      <td>0</td>\n",
       "    </tr>\n",
       "    <tr>\n",
       "      <th>4</th>\n",
       "      <td>18ay2s2</td>\n",
       "      <td>kc0zrs8</td>\n",
       "      <td>The world is so small yet so big at the same time</td>\n",
       "      <td>49</td>\n",
       "      <td>12</td>\n",
       "      <td>0</td>\n",
       "    </tr>\n",
       "  </tbody>\n",
       "</table>\n",
       "</div>"
      ],
      "text/plain": [
       "  thread_id comment_id  \\\n",
       "0   18ay2s2    kc10fzs   \n",
       "1   18ay2s2    kc1bowr   \n",
       "2   18ay2s2    kc12zpc   \n",
       "3   18ay2s2    kc11j9m   \n",
       "4   18ay2s2    kc0zrs8   \n",
       "\n",
       "                                                                                                                                                                                                                                                   comment_text  \\\n",
       "0                                                                                                                                                                                                                Watch their kid just become like an accountant   \n",
       "1  Can you imagine the bragging rights at school   Random kid   My dad is a doctor       The kid     My grandpa was KURT COBAIN       Random kid  Oh yeah  well    my mom knows an influencer     The kid     My other grandpa is TONY HAWK             silence   \n",
       "2                                                                                                                                                                                                                                They both look like their dads   \n",
       "3                                                                                                                                                                                                                          The Sacred One shall be birthed anew   \n",
       "4                                                                                                                                                                                                             The world is so small yet so big at the same time   \n",
       "\n",
       "   comment_length  comment_word_count  generation_z  \n",
       "0              46                   8             0  \n",
       "1             252                  86             0  \n",
       "2              30                   6             0  \n",
       "3              36                   7             0  \n",
       "4              49                  12             0  "
      ]
     },
     "execution_count": 2,
     "metadata": {},
     "output_type": "execute_result"
    }
   ],
   "source": [
    "# Load data:\n",
    "comments = pd.read_csv('../data/comments_2.csv')\n",
    "\n",
    "# Increase data frame column width:\n",
    "pd.set_option('max_colwidth', 400)\n",
    "\n",
    "# Check data:\n",
    "print(comments.shape)\n",
    "comments.head()"
   ]
  },
  {
   "cell_type": "markdown",
   "metadata": {},
   "source": [
    "### 02.02 Check Data Information & for Null Values"
   ]
  },
  {
   "cell_type": "code",
   "execution_count": 3,
   "metadata": {},
   "outputs": [
    {
     "name": "stdout",
     "output_type": "stream",
     "text": [
      "<class 'pandas.core.frame.DataFrame'>\n",
      "RangeIndex: 84244 entries, 0 to 84243\n",
      "Data columns (total 6 columns):\n",
      " #   Column              Non-Null Count  Dtype \n",
      "---  ------              --------------  ----- \n",
      " 0   thread_id           84244 non-null  object\n",
      " 1   comment_id          84244 non-null  object\n",
      " 2   comment_text        84243 non-null  object\n",
      " 3   comment_length      84244 non-null  int64 \n",
      " 4   comment_word_count  84244 non-null  int64 \n",
      " 5   generation_z        84244 non-null  int64 \n",
      "dtypes: int64(3), object(3)\n",
      "memory usage: 3.9+ MB\n"
     ]
    }
   ],
   "source": [
    "# Check data info:\n",
    "comments.info()"
   ]
  },
  {
   "cell_type": "code",
   "execution_count": 4,
   "metadata": {},
   "outputs": [
    {
     "data": {
      "text/plain": [
       "thread_id             0\n",
       "comment_id            0\n",
       "comment_text          1\n",
       "comment_length        0\n",
       "comment_word_count    0\n",
       "generation_z          0\n",
       "dtype: int64"
      ]
     },
     "execution_count": 4,
     "metadata": {},
     "output_type": "execute_result"
    }
   ],
   "source": [
    "# Check data for null values:\n",
    "comments.isnull().sum()"
   ]
  },
  {
   "cell_type": "code",
   "execution_count": 5,
   "metadata": {},
   "outputs": [
    {
     "data": {
      "text/html": [
       "<div>\n",
       "<style scoped>\n",
       "    .dataframe tbody tr th:only-of-type {\n",
       "        vertical-align: middle;\n",
       "    }\n",
       "\n",
       "    .dataframe tbody tr th {\n",
       "        vertical-align: top;\n",
       "    }\n",
       "\n",
       "    .dataframe thead th {\n",
       "        text-align: right;\n",
       "    }\n",
       "</style>\n",
       "<table border=\"1\" class=\"dataframe\">\n",
       "  <thead>\n",
       "    <tr style=\"text-align: right;\">\n",
       "      <th></th>\n",
       "      <th>thread_id</th>\n",
       "      <th>comment_id</th>\n",
       "      <th>comment_text</th>\n",
       "      <th>comment_length</th>\n",
       "      <th>comment_word_count</th>\n",
       "      <th>generation_z</th>\n",
       "    </tr>\n",
       "  </thead>\n",
       "  <tbody>\n",
       "    <tr>\n",
       "      <th>13481</th>\n",
       "      <td>184nhro</td>\n",
       "      <td>kazb3cv</td>\n",
       "      <td>NaN</td>\n",
       "      <td>4</td>\n",
       "      <td>1</td>\n",
       "      <td>0</td>\n",
       "    </tr>\n",
       "  </tbody>\n",
       "</table>\n",
       "</div>"
      ],
      "text/plain": [
       "      thread_id comment_id comment_text  comment_length  comment_word_count  \\\n",
       "13481   184nhro    kazb3cv          NaN               4                   1   \n",
       "\n",
       "       generation_z  \n",
       "13481             0  "
      ]
     },
     "execution_count": 5,
     "metadata": {},
     "output_type": "execute_result"
    }
   ],
   "source": [
    "comments[comments['comment_text'].isnull()]"
   ]
  },
  {
   "cell_type": "code",
   "execution_count": 6,
   "metadata": {},
   "outputs": [
    {
     "data": {
      "text/plain": [
       "84243"
      ]
     },
     "execution_count": 6,
     "metadata": {},
     "output_type": "execute_result"
    }
   ],
   "source": [
    "# Drop rows with null values in column 'comment_text':\n",
    "comments = comments[comments['comment_text'].notnull()]\n",
    "comments.shape[0]"
   ]
  },
  {
   "cell_type": "markdown",
   "metadata": {},
   "source": [
    "> - 1 null comment observed and removed. This was due to the loading process recognizing the string 'None' as a null value."
   ]
  },
  {
   "cell_type": "markdown",
   "metadata": {},
   "source": [
    "## 03 Preprocess Data"
   ]
  },
  {
   "cell_type": "markdown",
   "metadata": {},
   "source": [
    "### 03.01 Undersample Majority Class Data"
   ]
  },
  {
   "cell_type": "code",
   "execution_count": 7,
   "metadata": {},
   "outputs": [],
   "source": [
    "# Define X and y:\n",
    "X = comments[['comment_text']]\n",
    "y = comments['generation_z']"
   ]
  },
  {
   "cell_type": "code",
   "execution_count": 8,
   "metadata": {},
   "outputs": [
    {
     "name": "stdout",
     "output_type": "stream",
     "text": [
      "generation_z\n",
      "0    47305\n",
      "1    36938\n",
      "Name: count, dtype: int64\n",
      "generation_z\n",
      "0    0.56153\n",
      "1    0.43847\n",
      "Name: proportion, dtype: float64\n"
     ]
    }
   ],
   "source": [
    "# Check distribution of y target classes:\n",
    "print(y.value_counts())\n",
    "print(y.value_counts(normalize=True))"
   ]
  },
  {
   "cell_type": "code",
   "execution_count": 9,
   "metadata": {},
   "outputs": [],
   "source": [
    "# Instantiate random under sampler:\n",
    "rus = RandomUnderSampler(random_state=42)"
   ]
  },
  {
   "cell_type": "code",
   "execution_count": 10,
   "metadata": {},
   "outputs": [],
   "source": [
    "# Fit and resample X and y:\n",
    "X_rus, y_rus = rus.fit_resample(X, y)"
   ]
  },
  {
   "cell_type": "code",
   "execution_count": 11,
   "metadata": {},
   "outputs": [
    {
     "name": "stdout",
     "output_type": "stream",
     "text": [
      "generation_z\n",
      "0    36938\n",
      "1    36938\n",
      "Name: count, dtype: int64\n",
      "generation_z\n",
      "0    0.5\n",
      "1    0.5\n",
      "Name: proportion, dtype: float64\n"
     ]
    }
   ],
   "source": [
    "# Check distribution of y_rus target classes:\n",
    "print(y_rus.value_counts())\n",
    "print(y_rus.value_counts(normalize=True))"
   ]
  },
  {
   "cell_type": "code",
   "execution_count": 12,
   "metadata": {},
   "outputs": [],
   "source": [
    "# Reset X_rus data frame index:\n",
    "X_rus.reset_index(drop=True, inplace=True)\n",
    "\n",
    "# Reset y_rus series index:\n",
    "y_rus.reset_index(drop=True, inplace=True)"
   ]
  },
  {
   "cell_type": "markdown",
   "metadata": {},
   "source": [
    "> - The majority class where column 'generation_z' = 0 was randomly undersampled to ensure class balance in the training and testing sets."
   ]
  },
  {
   "cell_type": "markdown",
   "metadata": {},
   "source": [
    "### 03.02 Stem Comment Words"
   ]
  },
  {
   "cell_type": "code",
   "execution_count": 13,
   "metadata": {},
   "outputs": [],
   "source": [
    "# Define stemmer function:\n",
    "def stemmer(row):\n",
    "    '''Applies `PorterStemmer()` to each token in a document.\n",
    "    '''\n",
    "    # initializes PorterStemmer object\n",
    "    stem = PorterStemmer()\n",
    "\n",
    "    # extracts document\n",
    "    document = row['comment_text']\n",
    "\n",
    "    # splits document up into tokens using RegexpTokenizer\n",
    "    re_tokenizer = RegexpTokenizer(pattern=r\"(?u)\\b(?:\\w\\w+|i|I)(?:[\\'\\'\\′\\ʼ](?:s|t|m|re|ve|d|ll))?\\b\")\n",
    "    lst_of_tokens = re_tokenizer.tokenize(document)\n",
    "\n",
    "    # initialize return value\n",
    "    stemmed_document = ''\n",
    "\n",
    "    # applies PorterStemmer to the list of tokens\n",
    "    for token in lst_of_tokens:\n",
    "        stemmed_document += f'{stem.stem(token)} '\n",
    "    \n",
    "    return stemmed_document"
   ]
  },
  {
   "cell_type": "code",
   "execution_count": 14,
   "metadata": {},
   "outputs": [
    {
     "data": {
      "text/html": [
       "<div>\n",
       "<style scoped>\n",
       "    .dataframe tbody tr th:only-of-type {\n",
       "        vertical-align: middle;\n",
       "    }\n",
       "\n",
       "    .dataframe tbody tr th {\n",
       "        vertical-align: top;\n",
       "    }\n",
       "\n",
       "    .dataframe thead th {\n",
       "        text-align: right;\n",
       "    }\n",
       "</style>\n",
       "<table border=\"1\" class=\"dataframe\">\n",
       "  <thead>\n",
       "    <tr style=\"text-align: right;\">\n",
       "      <th></th>\n",
       "      <th>comment_text</th>\n",
       "    </tr>\n",
       "  </thead>\n",
       "  <tbody>\n",
       "    <tr>\n",
       "      <th>0</th>\n",
       "      <td>someon need to steal op' freakin kidney for not know charli the unicorn</td>\n",
       "    </tr>\n",
       "    <tr>\n",
       "      <th>1</th>\n",
       "      <td>who said they don't do that point out that tiktok is like design to all of thi doesn't mean you'r assert that compani aren't guilti of the same thing</td>\n",
       "    </tr>\n",
       "    <tr>\n",
       "      <th>2</th>\n",
       "      <td>thi happen in also</td>\n",
       "    </tr>\n",
       "    <tr>\n",
       "      <th>3</th>\n",
       "      <td>he probabl contribut travel and have drink and meal with the company' money so it' busi expens that can reduc the company' tax burden</td>\n",
       "    </tr>\n",
       "    <tr>\n",
       "      <th>4</th>\n",
       "      <td>i doubt ani of these peopl know they are now on reddit</td>\n",
       "    </tr>\n",
       "  </tbody>\n",
       "</table>\n",
       "</div>"
      ],
      "text/plain": [
       "                                                                                                                                             comment_text\n",
       "0                                                                                someon need to steal op' freakin kidney for not know charli the unicorn \n",
       "1  who said they don't do that point out that tiktok is like design to all of thi doesn't mean you'r assert that compani aren't guilti of the same thing \n",
       "2                                                                                                                                     thi happen in also \n",
       "3                  he probabl contribut travel and have drink and meal with the company' money so it' busi expens that can reduc the company' tax burden \n",
       "4                                                                                                 i doubt ani of these peopl know they are now on reddit "
      ]
     },
     "execution_count": 14,
     "metadata": {},
     "output_type": "execute_result"
    }
   ],
   "source": [
    "# Stem comments:\n",
    "X_rus['comment_text'] = X_rus.apply(stemmer,axis=1)\n",
    "X_rus.head()"
   ]
  },
  {
   "cell_type": "markdown",
   "metadata": {},
   "source": [
    "> - Comment words are stemmed to feature root words as much as possible for better classifier fitting and prediction."
   ]
  },
  {
   "cell_type": "markdown",
   "metadata": {},
   "source": [
    "### 03.03 Perform Train Test Split"
   ]
  },
  {
   "cell_type": "code",
   "execution_count": 15,
   "metadata": {},
   "outputs": [],
   "source": [
    "# Perform train test split on data:\n",
    "X_train, X_test, y_train, y_test = train_test_split(X_rus, y_rus, random_state=42, stratify=y_rus)"
   ]
  },
  {
   "cell_type": "markdown",
   "metadata": {},
   "source": [
    "### 03.04 Word Vectorize Comments"
   ]
  },
  {
   "cell_type": "markdown",
   "metadata": {},
   "source": [
    "Word Vectorizer 1"
   ]
  },
  {
   "cell_type": "code",
   "execution_count": 16,
   "metadata": {},
   "outputs": [],
   "source": [
    "# Instantiate 'TF-IDF' vectorizer 1:\n",
    "tvec = TfidfVectorizer(stop_words='english',\n",
    "                       token_pattern=r\"(?u)\\b(?:\\w\\w+|i|I)(?:[\\'\\’\\′\\ʼ](?:s|t|m|re|ve|d|ll))?\\b\",\n",
    "                       ngram_range=(1, 3),\n",
    "                       max_df=0.9,\n",
    "                       min_df=2,\n",
    "                       max_features=50000,\n",
    "                       smooth_idf=True)"
   ]
  },
  {
   "cell_type": "code",
   "execution_count": 17,
   "metadata": {},
   "outputs": [
    {
     "data": {
      "text/plain": [
       "(55407, 50000)"
      ]
     },
     "execution_count": 17,
     "metadata": {},
     "output_type": "execute_result"
    }
   ],
   "source": [
    "# Fit vectorizer 1 with corpus X_train and transform X_train:\n",
    "X_train_tvec = pd.DataFrame(tvec.fit_transform(X_train['comment_text']).todense(),\n",
    "                            columns=tvec.get_feature_names_out())\n",
    "X_train_tvec.shape"
   ]
  },
  {
   "cell_type": "code",
   "execution_count": 18,
   "metadata": {},
   "outputs": [
    {
     "data": {
      "text/plain": [
       "(18469, 50000)"
      ]
     },
     "execution_count": 18,
     "metadata": {},
     "output_type": "execute_result"
    }
   ],
   "source": [
    "# Transform corpus X_test with vectorizer 1:\n",
    "X_test_tvec = pd.DataFrame(tvec.transform(X_test['comment_text']).todense(),\n",
    "                            columns=tvec.get_feature_names_out())\n",
    "X_test_tvec.shape"
   ]
  },
  {
   "cell_type": "markdown",
   "metadata": {},
   "source": [
    "Word Vectorizer 2"
   ]
  },
  {
   "cell_type": "code",
   "execution_count": 19,
   "metadata": {},
   "outputs": [],
   "source": [
    "# Instantiate 'TF-IDF' vectorizer 2:\n",
    "tvec_2 = TfidfVectorizer(stop_words='english',\n",
    "                       token_pattern=r\"(?u)\\b(?:\\w\\w+|i|I)(?:[\\'\\’\\′\\ʼ](?:s|t|m|re|ve|d|ll))?\\b\",\n",
    "                       ngram_range=(1, 3),\n",
    "                       max_df=0.9,\n",
    "                       min_df=2,\n",
    "                       max_features=25000,\n",
    "                       smooth_idf=True)"
   ]
  },
  {
   "cell_type": "code",
   "execution_count": 20,
   "metadata": {},
   "outputs": [
    {
     "data": {
      "text/plain": [
       "(55407, 25000)"
      ]
     },
     "execution_count": 20,
     "metadata": {},
     "output_type": "execute_result"
    }
   ],
   "source": [
    "# Fit vectorizer 2 with corpus X_train and transform X_train:\n",
    "X_train_tvec_2 = pd.DataFrame(tvec_2.fit_transform(X_train['comment_text']).todense(),\n",
    "                            columns=tvec_2.get_feature_names_out())\n",
    "X_train_tvec_2.shape"
   ]
  },
  {
   "cell_type": "code",
   "execution_count": 21,
   "metadata": {},
   "outputs": [
    {
     "data": {
      "text/plain": [
       "(18469, 25000)"
      ]
     },
     "execution_count": 21,
     "metadata": {},
     "output_type": "execute_result"
    }
   ],
   "source": [
    "# Transform corpus X_test with vectorizer 1:\n",
    "X_test_tvec_2 = pd.DataFrame(tvec_2.transform(X_test['comment_text']).todense(),\n",
    "                            columns=tvec_2.get_feature_names_out())\n",
    "X_test_tvec_2.shape"
   ]
  },
  {
   "cell_type": "markdown",
   "metadata": {},
   "source": [
    "## 04 Fit Classifier Models"
   ]
  },
  {
   "cell_type": "markdown",
   "metadata": {},
   "source": [
    "### 04.01 Bernoulli Naive Bayes"
   ]
  },
  {
   "cell_type": "markdown",
   "metadata": {},
   "source": [
    "Word Vectorizer 1"
   ]
  },
  {
   "cell_type": "code",
   "execution_count": 22,
   "metadata": {},
   "outputs": [],
   "source": [
    "# Instantiate bernoulli naive bayes classifier (tvec 1):\n",
    "bnb = BernoulliNB()"
   ]
  },
  {
   "cell_type": "code",
   "execution_count": 23,
   "metadata": {},
   "outputs": [],
   "source": [
    "# Fit bernoulli naive bayes model with training set (tvec 1):\n",
    "model_bnb = bnb.fit(X_train_tvec, y_train)"
   ]
  },
  {
   "cell_type": "markdown",
   "metadata": {},
   "source": [
    "Word Vectorizer 2"
   ]
  },
  {
   "cell_type": "code",
   "execution_count": 24,
   "metadata": {},
   "outputs": [],
   "source": [
    "# Instantiate bernoulli naive bayes classifier (tvec 2):\n",
    "bnb_2 = BernoulliNB()"
   ]
  },
  {
   "cell_type": "code",
   "execution_count": 25,
   "metadata": {},
   "outputs": [],
   "source": [
    "# Fit bernoulli naive bayes model with training set (tvec 2):\n",
    "model_bnb_2 = bnb_2.fit(X_train_tvec_2, y_train)"
   ]
  },
  {
   "cell_type": "markdown",
   "metadata": {},
   "source": [
    "### 04.02 Multinomial Naive Bayes"
   ]
  },
  {
   "cell_type": "markdown",
   "metadata": {},
   "source": [
    "Word Vectorizer 1"
   ]
  },
  {
   "cell_type": "code",
   "execution_count": 26,
   "metadata": {},
   "outputs": [],
   "source": [
    "# Instantiate multinommial naive bayes classifier (tvec 1):\n",
    "mnb = MultinomialNB()"
   ]
  },
  {
   "cell_type": "code",
   "execution_count": 27,
   "metadata": {},
   "outputs": [],
   "source": [
    "# Fit multinomial naive bayes model with training set (tvec 1):\n",
    "model_mnb = mnb.fit(X_train_tvec, y_train)"
   ]
  },
  {
   "cell_type": "markdown",
   "metadata": {},
   "source": [
    "Word Vectorizer 2"
   ]
  },
  {
   "cell_type": "code",
   "execution_count": 28,
   "metadata": {},
   "outputs": [],
   "source": [
    "# Instantiate multinommial naive bayes classifier (tvec 2):\n",
    "mnb_2 = MultinomialNB()"
   ]
  },
  {
   "cell_type": "code",
   "execution_count": 29,
   "metadata": {},
   "outputs": [],
   "source": [
    "# Fit multinomial naive bayes model with training set (tvec 2):\n",
    "model_mnb_2 = mnb_2.fit(X_train_tvec_2, y_train)"
   ]
  },
  {
   "cell_type": "markdown",
   "metadata": {},
   "source": [
    "### 04.03 Logistic Regression"
   ]
  },
  {
   "cell_type": "code",
   "execution_count": 30,
   "metadata": {},
   "outputs": [],
   "source": [
    "# Instantiate logistic regression models:\n",
    "# LASSO (l1), α=1:\n",
    "lr_l1_1 = LogisticRegression(penalty='l1', C=1, random_state=42, solver='liblinear')\n",
    "# LASSO (l1), α=10:\n",
    "lr_l1_10 = LogisticRegression(penalty='l1', C=0.1, random_state=42, solver='liblinear')\n",
    "# Ridge (l2), α=1:\n",
    "lr_l2_1 = LogisticRegression(penalty='l2', C=1, random_state=42, solver='liblinear')\n",
    "# Ridge (l2), α=10:\n",
    "lr_l2_10 = LogisticRegression(penalty='l2', C=0.1, random_state=42, solver='liblinear')"
   ]
  },
  {
   "cell_type": "code",
   "execution_count": 31,
   "metadata": {},
   "outputs": [],
   "source": [
    "# Fit logistic regression models with training set (tvec 1):\n",
    "# LASSO (l1), α=1:\n",
    "model_lr_l1_1 = lr_l1_1.fit(X_train_tvec, y_train)\n",
    "# LASSO (l1), α=10:\n",
    "model_lr_l1_10 = lr_l1_10.fit(X_train_tvec, y_train)\n",
    "# Ridge (l2), α=1:\n",
    "model_lr_l2_1 = lr_l2_1.fit(X_train_tvec, y_train)\n",
    "# Ridge (l2), α=10:\n",
    "model_lr_l2_10 = lr_l2_10.fit(X_train_tvec, y_train)"
   ]
  },
  {
   "cell_type": "markdown",
   "metadata": {},
   "source": [
    "## 05 Evaluate Classifier Models"
   ]
  },
  {
   "cell_type": "markdown",
   "metadata": {},
   "source": [
    "### 04.01 Bernoulli Naive Bayes"
   ]
  },
  {
   "cell_type": "markdown",
   "metadata": {},
   "source": [
    "Word Vectorizer 1"
   ]
  },
  {
   "cell_type": "code",
   "execution_count": 32,
   "metadata": {},
   "outputs": [
    {
     "data": {
      "text/plain": [
       "0.7270020033569765"
      ]
     },
     "execution_count": 32,
     "metadata": {},
     "output_type": "execute_result"
    }
   ],
   "source": [
    "# Evaluate bernoulli naive bayes model with training set (tvec 1):\n",
    "model_bnb.score(X_train_tvec, y_train)"
   ]
  },
  {
   "cell_type": "code",
   "execution_count": 33,
   "metadata": {},
   "outputs": [
    {
     "data": {
      "text/plain": [
       "0.6941902647679896"
      ]
     },
     "execution_count": 33,
     "metadata": {},
     "output_type": "execute_result"
    }
   ],
   "source": [
    "# Evaluate bernoulli naive bayes model with testing set (tvec 1):\n",
    "model_bnb.score(X_test_tvec, y_test)"
   ]
  },
  {
   "cell_type": "code",
   "execution_count": 34,
   "metadata": {},
   "outputs": [],
   "source": [
    "# Get bernoulli naive bayes model testing predictions (tvec 1):\n",
    "y_pred_bnb = model_bnb.predict(X_test_tvec)\n",
    "\n",
    "# Get confusion matrix values:\n",
    "tn, fp, fn, tp = confusion_matrix(y_test, y_pred_bnb).ravel()\n",
    "cm = confusion_matrix(y_test, y_pred_bnb)"
   ]
  },
  {
   "cell_type": "code",
   "execution_count": 35,
   "metadata": {},
   "outputs": [
    {
     "data": {
      "text/plain": [
       "<sklearn.metrics._plot.confusion_matrix.ConfusionMatrixDisplay at 0x295ad5b90>"
      ]
     },
     "execution_count": 35,
     "metadata": {},
     "output_type": "execute_result"
    },
    {
     "data": {
      "image/png": "[encoded data removed]",
      "text/plain": [
       "<Figure size 640x480 with 2 Axes>"
      ]
     },
     "metadata": {},
     "output_type": "display_data"
    }
   ],
   "source": [
    "# Plot confusion matrix (tvec 1):\n",
    "disp = ConfusionMatrixDisplay(confusion_matrix=cm, display_labels=model_bnb.classes_)\n",
    "disp.plot()"
   ]
  },
  {
   "cell_type": "code",
   "execution_count": 36,
   "metadata": {},
   "outputs": [
    {
     "name": "stdout",
     "output_type": "stream",
     "text": [
      "              precision    recall  f1-score   support\n",
      "\n",
      "           0       0.81      0.51      0.63      9235\n",
      "           1       0.64      0.88      0.74      9234\n",
      "\n",
      "    accuracy                           0.69     18469\n",
      "   macro avg       0.72      0.69      0.68     18469\n",
      "weighted avg       0.72      0.69      0.68     18469\n",
      "\n"
     ]
    }
   ],
   "source": [
    "# Print classification report (tvec 1):\n",
    "print(classification_report(y_test, y_pred_bnb))"
   ]
  },
  {
   "cell_type": "markdown",
   "metadata": {},
   "source": [
    "Word Vectorizer 2"
   ]
  },
  {
   "cell_type": "code",
   "execution_count": 37,
   "metadata": {},
   "outputs": [
    {
     "data": {
      "text/plain": [
       "0.712039994946487"
      ]
     },
     "execution_count": 37,
     "metadata": {},
     "output_type": "execute_result"
    }
   ],
   "source": [
    "# Evaluate bernoulli naive bayes model with training set (tvec 2):\n",
    "model_bnb_2.score(X_train_tvec_2, y_train)"
   ]
  },
  {
   "cell_type": "code",
   "execution_count": 38,
   "metadata": {},
   "outputs": [
    {
     "data": {
      "text/plain": [
       "0.6950565812983919"
      ]
     },
     "execution_count": 38,
     "metadata": {},
     "output_type": "execute_result"
    }
   ],
   "source": [
    "# Evaluate bernoulli naive bayes model with testing set (tvec 2):\n",
    "model_bnb_2.score(X_test_tvec_2, y_test)"
   ]
  },
  {
   "cell_type": "code",
   "execution_count": 39,
   "metadata": {},
   "outputs": [],
   "source": [
    "# Get bernoulli naive bayes model testing predictions (tvec 2):\n",
    "y_pred_bnb_2 = model_bnb_2.predict(X_test_tvec_2)\n",
    "\n",
    "# Get confusion matrix values:\n",
    "tn, fp, fn, tp = confusion_matrix(y_test, y_pred_bnb_2).ravel()\n",
    "cm = confusion_matrix(y_test, y_pred_bnb_2)"
   ]
  },
  {
   "cell_type": "code",
   "execution_count": 40,
   "metadata": {},
   "outputs": [
    {
     "data": {
      "text/plain": [
       "<sklearn.metrics._plot.confusion_matrix.ConfusionMatrixDisplay at 0x110754290>"
      ]
     },
     "execution_count": 40,
     "metadata": {},
     "output_type": "execute_result"
    },
    {
     "data": {
      "image/png": "[encoded data removed]",
      "text/plain": [
       "<Figure size 640x480 with 2 Axes>"
      ]
     },
     "metadata": {},
     "output_type": "display_data"
    }
   ],
   "source": [
    "# Plot confusion matrix (tvec 2):\n",
    "disp = ConfusionMatrixDisplay(confusion_matrix=cm, display_labels=model_bnb.classes_)\n",
    "disp.plot()"
   ]
  },
  {
   "cell_type": "code",
   "execution_count": 41,
   "metadata": {},
   "outputs": [
    {
     "name": "stdout",
     "output_type": "stream",
     "text": [
      "              precision    recall  f1-score   support\n",
      "\n",
      "           0       0.80      0.52      0.63      9235\n",
      "           1       0.64      0.87      0.74      9234\n",
      "\n",
      "    accuracy                           0.70     18469\n",
      "   macro avg       0.72      0.70      0.69     18469\n",
      "weighted avg       0.72      0.70      0.69     18469\n",
      "\n"
     ]
    }
   ],
   "source": [
    "# Print classification report (tvec 2):\n",
    "print(classification_report(y_test, y_pred_bnb_2))"
   ]
  },
  {
   "cell_type": "markdown",
   "metadata": {},
   "source": [
    "### 04.02 Multinomial Naive Bayes"
   ]
  },
  {
   "cell_type": "markdown",
   "metadata": {},
   "source": [
    "Word Vectorizer 1"
   ]
  },
  {
   "cell_type": "code",
   "execution_count": 42,
   "metadata": {},
   "outputs": [
    {
     "data": {
      "text/plain": [
       "0.8387748840399227"
      ]
     },
     "execution_count": 42,
     "metadata": {},
     "output_type": "execute_result"
    }
   ],
   "source": [
    "# Evaluate multinomial naive bayes model with training set (tvec 1):\n",
    "model_mnb.score(X_train_tvec, y_train)"
   ]
  },
  {
   "cell_type": "code",
   "execution_count": 43,
   "metadata": {},
   "outputs": [
    {
     "data": {
      "text/plain": [
       "0.7618712437056689"
      ]
     },
     "execution_count": 43,
     "metadata": {},
     "output_type": "execute_result"
    }
   ],
   "source": [
    "# Evaluate multinomial naive bayes model (tvec 1) with testing set (tvec 1):\n",
    "model_mnb.score(X_test_tvec, y_test)"
   ]
  },
  {
   "cell_type": "code",
   "execution_count": 44,
   "metadata": {},
   "outputs": [],
   "source": [
    "# Get bernoulli naive bayes model (tvec 1) testing predictions (tvec 1):\n",
    "y_pred_mnb = model_mnb.predict(X_test_tvec)\n",
    "\n",
    "# Get confusion matrix values:\n",
    "tn, fp, fn, tp = confusion_matrix(y_test, y_pred_mnb).ravel()\n",
    "cm = confusion_matrix(y_test, y_pred_mnb)"
   ]
  },
  {
   "cell_type": "code",
   "execution_count": 45,
   "metadata": {},
   "outputs": [
    {
     "data": {
      "text/plain": [
       "<sklearn.metrics._plot.confusion_matrix.ConfusionMatrixDisplay at 0x2ac82c4d0>"
      ]
     },
     "execution_count": 45,
     "metadata": {},
     "output_type": "execute_result"
    },
    {
     "data": {
      "image/png": "[encoded data removed]",
      "text/plain": [
       "<Figure size 640x480 with 2 Axes>"
      ]
     },
     "metadata": {},
     "output_type": "display_data"
    }
   ],
   "source": [
    "# Plot confusion matrix (tvec 1) \n",
    "disp = ConfusionMatrixDisplay(confusion_matrix=cm, display_labels=model_mnb.classes_)\n",
    "disp.plot()"
   ]
  },
  {
   "cell_type": "code",
   "execution_count": 46,
   "metadata": {},
   "outputs": [
    {
     "name": "stdout",
     "output_type": "stream",
     "text": [
      "              precision    recall  f1-score   support\n",
      "\n",
      "           0       0.76      0.77      0.76      9235\n",
      "           1       0.77      0.75      0.76      9234\n",
      "\n",
      "    accuracy                           0.76     18469\n",
      "   macro avg       0.76      0.76      0.76     18469\n",
      "weighted avg       0.76      0.76      0.76     18469\n",
      "\n"
     ]
    }
   ],
   "source": [
    "# Print classification report (tvec 1):\n",
    "print(classification_report(y_test, y_pred_mnb))"
   ]
  },
  {
   "cell_type": "markdown",
   "metadata": {},
   "source": [
    "Word Vectorizer 2"
   ]
  },
  {
   "cell_type": "code",
   "execution_count": 47,
   "metadata": {},
   "outputs": [
    {
     "data": {
      "text/plain": [
       "0.8122078437742524"
      ]
     },
     "execution_count": 47,
     "metadata": {},
     "output_type": "execute_result"
    }
   ],
   "source": [
    "# Evaluate multinomial naive bayes model with training set (tvec 1):\n",
    "model_mnb_2.score(X_train_tvec_2, y_train)"
   ]
  },
  {
   "cell_type": "code",
   "execution_count": 48,
   "metadata": {},
   "outputs": [
    {
     "data": {
      "text/plain": [
       "0.7578645297525584"
      ]
     },
     "execution_count": 48,
     "metadata": {},
     "output_type": "execute_result"
    }
   ],
   "source": [
    "# Evaluate multinomial naive bayes model (tvec 1) with testing set (tvec 1):\n",
    "model_mnb_2.score(X_test_tvec_2, y_test)"
   ]
  },
  {
   "cell_type": "code",
   "execution_count": 49,
   "metadata": {},
   "outputs": [],
   "source": [
    "# Get bernoulli naive bayes model (tvec 1) testing predictions (tvec 1):\n",
    "y_pred_mnb_2 = model_mnb_2.predict(X_test_tvec_2)\n",
    "\n",
    "# Get confusion matrix values:\n",
    "tn, fp, fn, tp = confusion_matrix(y_test, y_pred_mnb_2).ravel()\n",
    "cm = confusion_matrix(y_test, y_pred_mnb_2)"
   ]
  },
  {
   "cell_type": "code",
   "execution_count": 50,
   "metadata": {},
   "outputs": [
    {
     "data": {
      "text/plain": [
       "<sklearn.metrics._plot.confusion_matrix.ConfusionMatrixDisplay at 0x2afc36890>"
      ]
     },
     "execution_count": 50,
     "metadata": {},
     "output_type": "execute_result"
    },
    {
     "data": {
      "image/png": "[encoded data removed]",
      "text/plain": [
       "<Figure size 640x480 with 2 Axes>"
      ]
     },
     "metadata": {},
     "output_type": "display_data"
    }
   ],
   "source": [
    "# Plot confusion matrix (tvec 1) \n",
    "disp = ConfusionMatrixDisplay(confusion_matrix=cm, display_labels=model_mnb_2.classes_)\n",
    "disp.plot()"
   ]
  },
  {
   "cell_type": "code",
   "execution_count": 51,
   "metadata": {},
   "outputs": [
    {
     "name": "stdout",
     "output_type": "stream",
     "text": [
      "              precision    recall  f1-score   support\n",
      "\n",
      "           0       0.76      0.75      0.76      9235\n",
      "           1       0.76      0.76      0.76      9234\n",
      "\n",
      "    accuracy                           0.76     18469\n",
      "   macro avg       0.76      0.76      0.76     18469\n",
      "weighted avg       0.76      0.76      0.76     18469\n",
      "\n"
     ]
    }
   ],
   "source": [
    "# Print classification report (tvec 1):\n",
    "print(classification_report(y_test, y_pred_mnb_2))"
   ]
  },
  {
   "cell_type": "markdown",
   "metadata": {},
   "source": [
    "### 04.03 Logistic Regression"
   ]
  },
  {
   "cell_type": "code",
   "execution_count": 52,
   "metadata": {},
   "outputs": [],
   "source": [
    "# Evaluate logistic regression models with training set:\n",
    "# LASSO (l1), α=1:\n",
    "score_train_l1_1 = model_lr_l1_1.score(X_train_tvec, y_train)\n",
    "# LASSO (l1), α=10:\n",
    "score_train_l1_10 = model_lr_l1_10.score(X_train_tvec, y_train)\n",
    "# Ridge (l2), α=1:\n",
    "score_train_l2_1 = model_lr_l2_1.score(X_train_tvec, y_train)\n",
    "# Ridge (l2), α=10:\n",
    "score_train_l2_10 = model_lr_l2_10.score(X_train_tvec, y_train)"
   ]
  },
  {
   "cell_type": "code",
   "execution_count": 53,
   "metadata": {},
   "outputs": [
    {
     "name": "stdout",
     "output_type": "stream",
     "text": [
      "Logit reg training scores:\n",
      "LASSO (l1), α=1: 0.79\n",
      "LASSO (l1), α=10: 0.69\n",
      "Ridge (l2), α=1: 0.85\n",
      "Ridge (l2), α=10: 0.77\n"
     ]
    }
   ],
   "source": [
    "# Print training scores:\n",
    "print('Logit reg training scores:')\n",
    "# LASSO (l1), α=1:\n",
    "print(f\"LASSO (l1), α=1: {round(score_train_l1_1, 2)}\")\n",
    "# LASSO (l1), α=10:\n",
    "print(f\"LASSO (l1), α=10: {round(score_train_l1_10, 2)}\")\n",
    "# Ridge (l2), α=1:\n",
    "print(f\"Ridge (l2), α=1: {round(score_train_l2_1, 2)}\")\n",
    "# Ridge (l2), α=10:\n",
    "print(f\"Ridge (l2), α=10: {round(score_train_l2_10, 2)}\")"
   ]
  },
  {
   "cell_type": "code",
   "execution_count": 54,
   "metadata": {},
   "outputs": [],
   "source": [
    "# Evaluate logistic regression models with testing set:\n",
    "# LASSO (l1), α=1:\n",
    "score_test_l1_1 = model_lr_l1_1.score(X_test_tvec, y_test)\n",
    "# LASSO (l1), α=10:\n",
    "score_test_l1_10 = model_lr_l1_10.score(X_test_tvec, y_test)\n",
    "# Ridge (l2), α=1:\n",
    "score_test_l2_1 = model_lr_l2_1.score(X_test_tvec, y_test)\n",
    "# Ridge (l2), α=10:\n",
    "score_test_l2_10 = model_lr_l2_10.score(X_test_tvec, y_test)"
   ]
  },
  {
   "cell_type": "code",
   "execution_count": 55,
   "metadata": {},
   "outputs": [
    {
     "name": "stdout",
     "output_type": "stream",
     "text": [
      "Logit reg testing scores:\n",
      "LASSO (l1), α=1: 0.7525\n",
      "LASSO (l1), α=10: 0.6849\n",
      "Ridge (l2), α=1 0.7621\n",
      "Ridge (l2), α=10: 0.7396\n"
     ]
    }
   ],
   "source": [
    "# Print testing scores:\n",
    "print('Logit reg testing scores:')\n",
    "# LASSO (l1), α=1:\n",
    "print(f\"LASSO (l1), α=1: {round(score_test_l1_1, 4)}\")\n",
    "# LASSO (l1), α=10:\n",
    "print(f\"LASSO (l1), α=10: {round(score_test_l1_10, 4)}\")\n",
    "# Ridge (l2), α=1:\n",
    "print(f\"Ridge (l2), α=1 {round(score_test_l2_1, 4)}\")\n",
    "# Ridge (l2), α=10:\n",
    "print(f\"Ridge (l2), α=10: {round(score_test_l2_10, 4)}\")"
   ]
  },
  {
   "cell_type": "code",
   "execution_count": 56,
   "metadata": {},
   "outputs": [],
   "source": [
    "# Get best logistic regression model testing predictions:\n",
    "y_pred_lr = model_lr_l2_1.predict(X_test_tvec)\n",
    "\n",
    "# Get confusion matrix values:\n",
    "tn, fp, fn, tp = confusion_matrix(y_test, y_pred_lr).ravel()\n",
    "cm = confusion_matrix(y_test, y_pred_lr)"
   ]
  },
  {
   "cell_type": "markdown",
   "metadata": {},
   "source": [
    "> **Logistic Regression with Ridge (l2) regularization and α=1** is chosen as the best model, given it has the highest test score."
   ]
  },
  {
   "cell_type": "code",
   "execution_count": 57,
   "metadata": {},
   "outputs": [
    {
     "data": {
      "text/plain": [
       "<sklearn.metrics._plot.confusion_matrix.ConfusionMatrixDisplay at 0x2afc9a610>"
      ]
     },
     "execution_count": 57,
     "metadata": {},
     "output_type": "execute_result"
    },
    {
     "data": {
      "image/png": "[encoded data removed]",
      "text/plain": [
       "<Figure size 640x480 with 2 Axes>"
      ]
     },
     "metadata": {},
     "output_type": "display_data"
    }
   ],
   "source": [
    "# Plot confusion matrix:\n",
    "disp = ConfusionMatrixDisplay(confusion_matrix=cm, display_labels=model_lr_l2_1.classes_)\n",
    "disp.plot()"
   ]
  },
  {
   "cell_type": "code",
   "execution_count": 58,
   "metadata": {},
   "outputs": [
    {
     "name": "stdout",
     "output_type": "stream",
     "text": [
      "              precision    recall  f1-score   support\n",
      "\n",
      "           0       0.77      0.75      0.76      9235\n",
      "           1       0.76      0.77      0.76      9234\n",
      "\n",
      "    accuracy                           0.76     18469\n",
      "   macro avg       0.76      0.76      0.76     18469\n",
      "weighted avg       0.76      0.76      0.76     18469\n",
      "\n"
     ]
    }
   ],
   "source": [
    "# Print classification report:\n",
    "print(classification_report(y_test, y_pred_lr))"
   ]
  },
  {
   "cell_type": "markdown",
   "metadata": {},
   "source": [
    "### 04.04 Summary of Results"
   ]
  },
  {
   "cell_type": "markdown",
   "metadata": {},
   "source": [
    "> |   |**Classifier**|**TF-IDF Vectorizer**|**Regularization**|**Penalty Term ($α$)**|**Accuracy (Training Set)**|**Accuracy (Testing Set)**|\n",
    "> |---|---|---|---|---|---|---|\n",
    "> |1|Bernoulli Naive Bayes |Vectorizer 1 (50k max_features)|-|-|0.73|0.69|\n",
    "> |2|Bernoulli Naive Bayes |Vectorizer 2 (25k max_features)|-|-|0.71|0.70|\n",
    "> |3|Multinomial Naive Bayes |Vectorizer 1 (50k max_features)|-|-|0.84|0.76|\n",
    "> |4|Multinomial Naive Bayes |Vectorizer 2 (25k max_features)|-|-|0.81|0.76|\n",
    "> |5|Logistic Regression|Vectorizer 1 (50k max_features)|LASSO (l1)|1|0.79|0.75|\n",
    "> |6|Logistic Regression|Vectorizer 1 (50k max_features)|LASSO (l1)|10|0.69|0.68|\n",
    "> |7|Logistic Regression|Vectorizer 1 (50k max_features)|Ridge (l2)|1|0.85|0.76|\n",
    "> |8|Logistic Regression|Vectorizer 1 (50k max_features)|Ridge (l2)|10|0.77|0.74|"
   ]
  },
  {
   "cell_type": "markdown",
   "metadata": {},
   "source": [
    "## 05 Export Fitted Word Vectorizer and Logistic Regression Model"
   ]
  },
  {
   "cell_type": "code",
   "execution_count": 59,
   "metadata": {},
   "outputs": [
    {
     "data": {
      "text/plain": [
       "['./tvec.pkl']"
      ]
     },
     "execution_count": 59,
     "metadata": {},
     "output_type": "execute_result"
    }
   ],
   "source": [
    "# Export fitted 'TF-IDF' vectorizer for demonstration:\n",
    "joblib.dump(tvec, './tvec.pkl')"
   ]
  },
  {
   "cell_type": "code",
   "execution_count": 60,
   "metadata": {},
   "outputs": [
    {
     "data": {
      "text/plain": [
       "['./model_lr.pkl']"
      ]
     },
     "execution_count": 60,
     "metadata": {},
     "output_type": "execute_result"
    }
   ],
   "source": [
    "# Export chosen fitted classifier model for demonstration:\n",
    "joblib.dump(model_lr_l2_1, './model_lr.pkl')"
   ]
  }
 ],
 "metadata": {
  "kernelspec": {
   "display_name": "base",
   "language": "python",
   "name": "python3"
  },
  "language_info": {
   "codemirror_mode": {
    "name": "ipython",
    "version": 3
   },
   "file_extension": ".py",
   "mimetype": "text/x-python",
   "name": "python",
   "nbconvert_exporter": "python",
   "pygments_lexer": "ipython3",
   "version": "3.11.5"
  }
 },
 "nbformat": 4,
 "nbformat_minor": 2
}
