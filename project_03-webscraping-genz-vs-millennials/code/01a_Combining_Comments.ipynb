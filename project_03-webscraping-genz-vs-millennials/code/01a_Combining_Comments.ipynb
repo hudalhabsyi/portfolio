{
 "cells": [
  {
   "cell_type": "markdown",
   "metadata": {},
   "source": [
    "## Combining genz_comments and millennials_comments into one dataframe for EDA purposes"
   ]
  },
  {
   "cell_type": "markdown",
   "metadata": {},
   "source": [
    "Import libraries"
   ]
  },
  {
   "cell_type": "code",
   "execution_count": 1,
   "metadata": {},
   "outputs": [],
   "source": [
    "import pandas as pd"
   ]
  },
  {
   "cell_type": "markdown",
   "metadata": {},
   "source": [
    "Load datasets"
   ]
  },
  {
   "cell_type": "code",
   "execution_count": 2,
   "metadata": {},
   "outputs": [],
   "source": [
    "genz_comments_df = pd.read_csv('../data/genz_comments.csv')\n",
    "millennials_comments_df = pd.read_csv('../data/millennials_comments.csv')"
   ]
  },
  {
   "cell_type": "markdown",
   "metadata": {},
   "source": [
    "Adding new column into `genz_comments_df` and `millennials_comments_df` called `generation_z` to indicate where the data was originally from, before we concat the data into one df.\n",
    "* from `genz_comments_df` : col value = 1\n",
    "* from `millennials_comments_df` ; col value = 0"
   ]
  },
  {
   "cell_type": "code",
   "execution_count": 3,
   "metadata": {},
   "outputs": [
    {
     "data": {
      "text/html": [
       "<div>\n",
       "<style scoped>\n",
       "    .dataframe tbody tr th:only-of-type {\n",
       "        vertical-align: middle;\n",
       "    }\n",
       "\n",
       "    .dataframe tbody tr th {\n",
       "        vertical-align: top;\n",
       "    }\n",
       "\n",
       "    .dataframe thead th {\n",
       "        text-align: right;\n",
       "    }\n",
       "</style>\n",
       "<table border=\"1\" class=\"dataframe\">\n",
       "  <thead>\n",
       "    <tr style=\"text-align: right;\">\n",
       "      <th></th>\n",
       "      <th>thread_id</th>\n",
       "      <th>comment_id</th>\n",
       "      <th>comment_text</th>\n",
       "      <th>comment_score</th>\n",
       "      <th>comment_replies</th>\n",
       "      <th>generation_z</th>\n",
       "    </tr>\n",
       "  </thead>\n",
       "  <tbody>\n",
       "    <tr>\n",
       "      <th>0</th>\n",
       "      <td>18zc3op</td>\n",
       "      <td>kggheri</td>\n",
       "      <td>We are looking for moderators! If you're inter...</td>\n",
       "      <td>1</td>\n",
       "      <td>0</td>\n",
       "      <td>1</td>\n",
       "    </tr>\n",
       "    <tr>\n",
       "      <th>1</th>\n",
       "      <td>18zc3op</td>\n",
       "      <td>kggs4al</td>\n",
       "      <td>And he absolutely deserves it</td>\n",
       "      <td>1336</td>\n",
       "      <td>5</td>\n",
       "      <td>1</td>\n",
       "    </tr>\n",
       "    <tr>\n",
       "      <th>2</th>\n",
       "      <td>18zc3op</td>\n",
       "      <td>kggv8pg</td>\n",
       "      <td>I randomly thought about the whole net neutral...</td>\n",
       "      <td>197</td>\n",
       "      <td>4</td>\n",
       "      <td>1</td>\n",
       "    </tr>\n",
       "    <tr>\n",
       "      <th>3</th>\n",
       "      <td>18zc3op</td>\n",
       "      <td>kggxrvu</td>\n",
       "      <td>\"hello my fellow brand conusming youth got my ...</td>\n",
       "      <td>107</td>\n",
       "      <td>2</td>\n",
       "      <td>1</td>\n",
       "    </tr>\n",
       "    <tr>\n",
       "      <th>4</th>\n",
       "      <td>18zc3op</td>\n",
       "      <td>kggth7g</td>\n",
       "      <td>has anything even came of net neutrality being...</td>\n",
       "      <td>478</td>\n",
       "      <td>10</td>\n",
       "      <td>1</td>\n",
       "    </tr>\n",
       "  </tbody>\n",
       "</table>\n",
       "</div>"
      ],
      "text/plain": [
       "  thread_id comment_id                                       comment_text  \\\n",
       "0   18zc3op    kggheri  We are looking for moderators! If you're inter...   \n",
       "1   18zc3op    kggs4al                      And he absolutely deserves it   \n",
       "2   18zc3op    kggv8pg  I randomly thought about the whole net neutral...   \n",
       "3   18zc3op    kggxrvu  \"hello my fellow brand conusming youth got my ...   \n",
       "4   18zc3op    kggth7g  has anything even came of net neutrality being...   \n",
       "\n",
       "   comment_score  comment_replies  generation_z  \n",
       "0              1                0             1  \n",
       "1           1336                5             1  \n",
       "2            197                4             1  \n",
       "3            107                2             1  \n",
       "4            478               10             1  "
      ]
     },
     "execution_count": 3,
     "metadata": {},
     "output_type": "execute_result"
    }
   ],
   "source": [
    "genz_comments_df['generation_z'] = 1\n",
    "genz_comments_df.head()"
   ]
  },
  {
   "cell_type": "code",
   "execution_count": 4,
   "metadata": {},
   "outputs": [
    {
     "data": {
      "text/html": [
       "<div>\n",
       "<style scoped>\n",
       "    .dataframe tbody tr th:only-of-type {\n",
       "        vertical-align: middle;\n",
       "    }\n",
       "\n",
       "    .dataframe tbody tr th {\n",
       "        vertical-align: top;\n",
       "    }\n",
       "\n",
       "    .dataframe thead th {\n",
       "        text-align: right;\n",
       "    }\n",
       "</style>\n",
       "<table border=\"1\" class=\"dataframe\">\n",
       "  <thead>\n",
       "    <tr style=\"text-align: right;\">\n",
       "      <th></th>\n",
       "      <th>thread_id</th>\n",
       "      <th>comment_id</th>\n",
       "      <th>comment_text</th>\n",
       "      <th>comment_score</th>\n",
       "      <th>comment_replies</th>\n",
       "      <th>generation_z</th>\n",
       "    </tr>\n",
       "  </thead>\n",
       "  <tbody>\n",
       "    <tr>\n",
       "      <th>0</th>\n",
       "      <td>18ay2s2</td>\n",
       "      <td>kc10fzs</td>\n",
       "      <td>Watch their kid just become like an accountant.</td>\n",
       "      <td>1092</td>\n",
       "      <td>34</td>\n",
       "      <td>0</td>\n",
       "    </tr>\n",
       "    <tr>\n",
       "      <th>1</th>\n",
       "      <td>18ay2s2</td>\n",
       "      <td>kc1bowr</td>\n",
       "      <td>Can you imagine the bragging rights at school?...</td>\n",
       "      <td>304</td>\n",
       "      <td>9</td>\n",
       "      <td>0</td>\n",
       "    </tr>\n",
       "    <tr>\n",
       "      <th>2</th>\n",
       "      <td>18ay2s2</td>\n",
       "      <td>kc12zpc</td>\n",
       "      <td>They both look like their dads.</td>\n",
       "      <td>226</td>\n",
       "      <td>8</td>\n",
       "      <td>0</td>\n",
       "    </tr>\n",
       "    <tr>\n",
       "      <th>3</th>\n",
       "      <td>18ay2s2</td>\n",
       "      <td>kc11j9m</td>\n",
       "      <td>The Sacred One shall be birthed anew</td>\n",
       "      <td>144</td>\n",
       "      <td>1</td>\n",
       "      <td>0</td>\n",
       "    </tr>\n",
       "    <tr>\n",
       "      <th>4</th>\n",
       "      <td>18ay2s2</td>\n",
       "      <td>kc0zrs8</td>\n",
       "      <td>The world is so small yet so big at the same t...</td>\n",
       "      <td>59</td>\n",
       "      <td>2</td>\n",
       "      <td>0</td>\n",
       "    </tr>\n",
       "  </tbody>\n",
       "</table>\n",
       "</div>"
      ],
      "text/plain": [
       "  thread_id comment_id                                       comment_text  \\\n",
       "0   18ay2s2    kc10fzs    Watch their kid just become like an accountant.   \n",
       "1   18ay2s2    kc1bowr  Can you imagine the bragging rights at school?...   \n",
       "2   18ay2s2    kc12zpc                    They both look like their dads.   \n",
       "3   18ay2s2    kc11j9m               The Sacred One shall be birthed anew   \n",
       "4   18ay2s2    kc0zrs8  The world is so small yet so big at the same t...   \n",
       "\n",
       "   comment_score  comment_replies  generation_z  \n",
       "0           1092               34             0  \n",
       "1            304                9             0  \n",
       "2            226                8             0  \n",
       "3            144                1             0  \n",
       "4             59                2             0  "
      ]
     },
     "execution_count": 4,
     "metadata": {},
     "output_type": "execute_result"
    }
   ],
   "source": [
    "millennials_comments_df['generation_z'] = 0\n",
    "millennials_comments_df.head()"
   ]
  },
  {
   "cell_type": "markdown",
   "metadata": {},
   "source": [
    "Combining both data sets together into one df for EDA using pd.concat"
   ]
  },
  {
   "cell_type": "code",
   "execution_count": 5,
   "metadata": {},
   "outputs": [],
   "source": [
    "comments = pd.concat([millennials_comments_df, genz_comments_df], axis=0, ignore_index=True)"
   ]
  },
  {
   "cell_type": "code",
   "execution_count": 6,
   "metadata": {},
   "outputs": [
    {
     "data": {
      "text/html": [
       "<div>\n",
       "<style scoped>\n",
       "    .dataframe tbody tr th:only-of-type {\n",
       "        vertical-align: middle;\n",
       "    }\n",
       "\n",
       "    .dataframe tbody tr th {\n",
       "        vertical-align: top;\n",
       "    }\n",
       "\n",
       "    .dataframe thead th {\n",
       "        text-align: right;\n",
       "    }\n",
       "</style>\n",
       "<table border=\"1\" class=\"dataframe\">\n",
       "  <thead>\n",
       "    <tr style=\"text-align: right;\">\n",
       "      <th></th>\n",
       "      <th>thread_id</th>\n",
       "      <th>comment_id</th>\n",
       "      <th>comment_text</th>\n",
       "      <th>comment_score</th>\n",
       "      <th>comment_replies</th>\n",
       "      <th>generation_z</th>\n",
       "    </tr>\n",
       "  </thead>\n",
       "  <tbody>\n",
       "    <tr>\n",
       "      <th>0</th>\n",
       "      <td>18ay2s2</td>\n",
       "      <td>kc10fzs</td>\n",
       "      <td>Watch their kid just become like an accountant.</td>\n",
       "      <td>1092</td>\n",
       "      <td>34</td>\n",
       "      <td>0</td>\n",
       "    </tr>\n",
       "    <tr>\n",
       "      <th>1</th>\n",
       "      <td>18ay2s2</td>\n",
       "      <td>kc1bowr</td>\n",
       "      <td>Can you imagine the bragging rights at school?...</td>\n",
       "      <td>304</td>\n",
       "      <td>9</td>\n",
       "      <td>0</td>\n",
       "    </tr>\n",
       "    <tr>\n",
       "      <th>2</th>\n",
       "      <td>18ay2s2</td>\n",
       "      <td>kc12zpc</td>\n",
       "      <td>They both look like their dads.</td>\n",
       "      <td>226</td>\n",
       "      <td>8</td>\n",
       "      <td>0</td>\n",
       "    </tr>\n",
       "    <tr>\n",
       "      <th>3</th>\n",
       "      <td>18ay2s2</td>\n",
       "      <td>kc11j9m</td>\n",
       "      <td>The Sacred One shall be birthed anew</td>\n",
       "      <td>144</td>\n",
       "      <td>1</td>\n",
       "      <td>0</td>\n",
       "    </tr>\n",
       "    <tr>\n",
       "      <th>4</th>\n",
       "      <td>18ay2s2</td>\n",
       "      <td>kc0zrs8</td>\n",
       "      <td>The world is so small yet so big at the same t...</td>\n",
       "      <td>59</td>\n",
       "      <td>2</td>\n",
       "      <td>0</td>\n",
       "    </tr>\n",
       "  </tbody>\n",
       "</table>\n",
       "</div>"
      ],
      "text/plain": [
       "  thread_id comment_id                                       comment_text  \\\n",
       "0   18ay2s2    kc10fzs    Watch their kid just become like an accountant.   \n",
       "1   18ay2s2    kc1bowr  Can you imagine the bragging rights at school?...   \n",
       "2   18ay2s2    kc12zpc                    They both look like their dads.   \n",
       "3   18ay2s2    kc11j9m               The Sacred One shall be birthed anew   \n",
       "4   18ay2s2    kc0zrs8  The world is so small yet so big at the same t...   \n",
       "\n",
       "   comment_score  comment_replies  generation_z  \n",
       "0           1092               34             0  \n",
       "1            304                9             0  \n",
       "2            226                8             0  \n",
       "3            144                1             0  \n",
       "4             59                2             0  "
      ]
     },
     "execution_count": 6,
     "metadata": {},
     "output_type": "execute_result"
    }
   ],
   "source": [
    "comments.head()"
   ]
  },
  {
   "cell_type": "code",
   "execution_count": 7,
   "metadata": {},
   "outputs": [
    {
     "data": {
      "text/html": [
       "<div>\n",
       "<style scoped>\n",
       "    .dataframe tbody tr th:only-of-type {\n",
       "        vertical-align: middle;\n",
       "    }\n",
       "\n",
       "    .dataframe tbody tr th {\n",
       "        vertical-align: top;\n",
       "    }\n",
       "\n",
       "    .dataframe thead th {\n",
       "        text-align: right;\n",
       "    }\n",
       "</style>\n",
       "<table border=\"1\" class=\"dataframe\">\n",
       "  <thead>\n",
       "    <tr style=\"text-align: right;\">\n",
       "      <th></th>\n",
       "      <th>thread_id</th>\n",
       "      <th>comment_id</th>\n",
       "      <th>comment_text</th>\n",
       "      <th>comment_score</th>\n",
       "      <th>comment_replies</th>\n",
       "      <th>generation_z</th>\n",
       "    </tr>\n",
       "  </thead>\n",
       "  <tbody>\n",
       "    <tr>\n",
       "      <th>86205</th>\n",
       "      <td>d4kzaz</td>\n",
       "      <td>f0g3il9</td>\n",
       "      <td>So was my oldest brother. It was awkward going...</td>\n",
       "      <td>3</td>\n",
       "      <td>0</td>\n",
       "      <td>1</td>\n",
       "    </tr>\n",
       "    <tr>\n",
       "      <th>86206</th>\n",
       "      <td>d4kzaz</td>\n",
       "      <td>f0hh5vf</td>\n",
       "      <td>True true</td>\n",
       "      <td>4</td>\n",
       "      <td>0</td>\n",
       "      <td>1</td>\n",
       "    </tr>\n",
       "    <tr>\n",
       "      <th>86207</th>\n",
       "      <td>d4kzaz</td>\n",
       "      <td>f0f5eh7</td>\n",
       "      <td>Or so</td>\n",
       "      <td>2</td>\n",
       "      <td>0</td>\n",
       "      <td>1</td>\n",
       "    </tr>\n",
       "    <tr>\n",
       "      <th>86208</th>\n",
       "      <td>d4kzaz</td>\n",
       "      <td>f0f3bbj</td>\n",
       "      <td>lol</td>\n",
       "      <td>-3</td>\n",
       "      <td>0</td>\n",
       "      <td>1</td>\n",
       "    </tr>\n",
       "    <tr>\n",
       "      <th>86209</th>\n",
       "      <td>d4kzaz</td>\n",
       "      <td>f0gz53g</td>\n",
       "      <td>Oh yeah I forgot. some of you still think 40 i...</td>\n",
       "      <td>3</td>\n",
       "      <td>0</td>\n",
       "      <td>1</td>\n",
       "    </tr>\n",
       "  </tbody>\n",
       "</table>\n",
       "</div>"
      ],
      "text/plain": [
       "      thread_id comment_id                                       comment_text  \\\n",
       "86205    d4kzaz    f0g3il9  So was my oldest brother. It was awkward going...   \n",
       "86206    d4kzaz    f0hh5vf                                          True true   \n",
       "86207    d4kzaz    f0f5eh7                                              Or so   \n",
       "86208    d4kzaz    f0f3bbj                                                lol   \n",
       "86209    d4kzaz    f0gz53g  Oh yeah I forgot. some of you still think 40 i...   \n",
       "\n",
       "       comment_score  comment_replies  generation_z  \n",
       "86205              3                0             1  \n",
       "86206              4                0             1  \n",
       "86207              2                0             1  \n",
       "86208             -3                0             1  \n",
       "86209              3                0             1  "
      ]
     },
     "execution_count": 7,
     "metadata": {},
     "output_type": "execute_result"
    }
   ],
   "source": [
    "comments.tail()"
   ]
  },
  {
   "cell_type": "markdown",
   "metadata": {},
   "source": [
    "Exporting to csv"
   ]
  },
  {
   "cell_type": "code",
   "execution_count": 8,
   "metadata": {},
   "outputs": [],
   "source": [
    "#exporting comments df to csv\n",
    "comments.to_csv('../data/comments.csv', index=False)"
   ]
  }
 ],
 "metadata": {
  "kernelspec": {
   "display_name": "base",
   "language": "python",
   "name": "python3"
  },
  "language_info": {
   "codemirror_mode": {
    "name": "ipython",
    "version": 3
   },
   "file_extension": ".py",
   "mimetype": "text/x-python",
   "name": "python",
   "nbconvert_exporter": "python",
   "pygments_lexer": "ipython3",
   "version": "3.11.7"
  }
 },
 "nbformat": 4,
 "nbformat_minor": 2
}
