{
 "cells": [
  {
   "cell_type": "markdown",
   "metadata": {},
   "source": [
    "<img src=\"http://imgur.com/1ZcRyrc.png\" style=\"float: left; margin: 20px; height: 55px\">\n",
    "\n",
    "# Project 3: Web APIs & NLP\n",
    "\n",
    "## 04 Model Demonstration\n",
    "\n",
    "> SG-DSI-41 Group 01: Daryl Chia, Germaine Choo, Sharifah Nurulhuda, Tan Wei Chiong\n",
    "\n",
    "---"
   ]
  },
  {
   "cell_type": "markdown",
   "metadata": {},
   "source": [
    "## 01 Import Libraries"
   ]
  },
  {
   "cell_type": "code",
   "execution_count": 1,
   "metadata": {},
   "outputs": [],
   "source": [
    "# Import libraries, modules, and functions:\n",
    "import os\n",
    "import joblib\n",
    "import pandas as pd\n",
    "import re\n",
    "\n",
    "from nltk.tokenize import RegexpTokenizer\n",
    "from nltk.stem.porter import PorterStemmer\n",
    "from sklearn.feature_extraction.text import TfidfVectorizer\n",
    "from sklearn.linear_model import LogisticRegression"
   ]
  },
  {
   "cell_type": "markdown",
   "metadata": {},
   "source": [
    "## 02 Load & Check Data"
   ]
  },
  {
   "cell_type": "markdown",
   "metadata": {},
   "source": [
    "### 02.01 Load & Check Data"
   ]
  },
  {
   "cell_type": "code",
   "execution_count": 2,
   "metadata": {},
   "outputs": [
    {
     "name": "stdout",
     "output_type": "stream",
     "text": [
      "(10, 1)\n"
     ]
    },
    {
     "data": {
      "text/html": [
       "<div>\n",
       "<style scoped>\n",
       "    .dataframe tbody tr th:only-of-type {\n",
       "        vertical-align: middle;\n",
       "    }\n",
       "\n",
       "    .dataframe tbody tr th {\n",
       "        vertical-align: top;\n",
       "    }\n",
       "\n",
       "    .dataframe thead th {\n",
       "        text-align: right;\n",
       "    }\n",
       "</style>\n",
       "<table border=\"1\" class=\"dataframe\">\n",
       "  <thead>\n",
       "    <tr style=\"text-align: right;\">\n",
       "      <th></th>\n",
       "      <th>comment_text</th>\n",
       "    </tr>\n",
       "  </thead>\n",
       "  <tbody>\n",
       "    <tr>\n",
       "      <th>0</th>\n",
       "      <td>You can bounce back. 7-8 years ago I was a homeless drug addict who was done trying also and it took jail to get me back on track. Now Im happily married, have a great job making great money. I had to hit rock bottom and experience homelessness to get my shit together. Being homeless is probably the worst experience I have ever gone through and it made me realize things can always get worse. W...</td>\n",
       "    </tr>\n",
       "    <tr>\n",
       "      <th>1</th>\n",
       "      <td>What kids? I can't afford to have kids.</td>\n",
       "    </tr>\n",
       "    <tr>\n",
       "      <th>2</th>\n",
       "      <td>My mom thinks you just string together the first letters and everyone just knows what you meant. She'll be on her way to my house, and I get a text that says something like IOMWBFTDDIHTSTPADYWAS?C?\\n My mom would have you believe that everyone knows what she meant. I'll help y'all on this first one because you're new. I'm on my way but fuck these damn diuretics I have to stop to pee again, do ...</td>\n",
       "    </tr>\n",
       "    <tr>\n",
       "      <th>3</th>\n",
       "      <td>Lots of teen angst going on in here. I like following younger genz stuff to stay connected but it’s the dooming is definitely a pattern I see on Reddit and TikTok.\\n I genuinely think younger genZ lost a lot more to the pandemic than we did. It seems like some never recovered and it the negativity just continues. I see so many people say they don’t have friends, don’t go out, and only do solo ...</td>\n",
       "    </tr>\n",
       "    <tr>\n",
       "      <th>4</th>\n",
       "      <td>It’s a Reddit problem. Take all the posts you see with a grain of salt. A ton of the people on the entire website are chronically online, especially the younger ones</td>\n",
       "    </tr>\n",
       "  </tbody>\n",
       "</table>\n",
       "</div>"
      ],
      "text/plain": [
       "                                                                                                                                                                                                                                                                                                                                                                                                      comment_text\n",
       "0  You can bounce back. 7-8 years ago I was a homeless drug addict who was done trying also and it took jail to get me back on track. Now Im happily married, have a great job making great money. I had to hit rock bottom and experience homelessness to get my shit together. Being homeless is probably the worst experience I have ever gone through and it made me realize things can always get worse. W...\n",
       "1                                                                                                                                                                                                                                                                                                                                                                          What kids? I can't afford to have kids.\n",
       "2  My mom thinks you just string together the first letters and everyone just knows what you meant. She'll be on her way to my house, and I get a text that says something like IOMWBFTDDIHTSTPADYWAS?C?\\n My mom would have you believe that everyone knows what she meant. I'll help y'all on this first one because you're new. I'm on my way but fuck these damn diuretics I have to stop to pee again, do ...\n",
       "3  Lots of teen angst going on in here. I like following younger genz stuff to stay connected but it’s the dooming is definitely a pattern I see on Reddit and TikTok.\\n I genuinely think younger genZ lost a lot more to the pandemic than we did. It seems like some never recovered and it the negativity just continues. I see so many people say they don’t have friends, don’t go out, and only do solo ...\n",
       "4                                                                                                                                                                                                                                            It’s a Reddit problem. Take all the posts you see with a grain of salt. A ton of the people on the entire website are chronically online, especially the younger ones"
      ]
     },
     "execution_count": 2,
     "metadata": {},
     "output_type": "execute_result"
    }
   ],
   "source": [
    "# Load data:\n",
    "comments = pd.read_csv('../data/sample_data.csv')\n",
    "\n",
    "# Increase data frame column width:\n",
    "pd.set_option('max_colwidth', 400)\n",
    "\n",
    "# Check data:\n",
    "print(comments.shape)\n",
    "comments.head()"
   ]
  },
  {
   "cell_type": "markdown",
   "metadata": {},
   "source": [
    "### 02.02 Check Data Information & for Null Values"
   ]
  },
  {
   "cell_type": "code",
   "execution_count": 3,
   "metadata": {},
   "outputs": [
    {
     "name": "stdout",
     "output_type": "stream",
     "text": [
      "<class 'pandas.core.frame.DataFrame'>\n",
      "RangeIndex: 10 entries, 0 to 9\n",
      "Data columns (total 1 columns):\n",
      " #   Column        Non-Null Count  Dtype \n",
      "---  ------        --------------  ----- \n",
      " 0   comment_text  10 non-null     object\n",
      "dtypes: object(1)\n",
      "memory usage: 212.0+ bytes\n"
     ]
    }
   ],
   "source": [
    "# Check data info:\n",
    "comments.info()"
   ]
  },
  {
   "cell_type": "code",
   "execution_count": 4,
   "metadata": {},
   "outputs": [
    {
     "data": {
      "text/plain": [
       "comment_text    0\n",
       "dtype: int64"
      ]
     },
     "execution_count": 4,
     "metadata": {},
     "output_type": "execute_result"
    }
   ],
   "source": [
    "# Check data for null values:\n",
    "comments.isnull().sum()"
   ]
  },
  {
   "cell_type": "code",
   "execution_count": 5,
   "metadata": {},
   "outputs": [
    {
     "data": {
      "text/html": [
       "<div>\n",
       "<style scoped>\n",
       "    .dataframe tbody tr th:only-of-type {\n",
       "        vertical-align: middle;\n",
       "    }\n",
       "\n",
       "    .dataframe tbody tr th {\n",
       "        vertical-align: top;\n",
       "    }\n",
       "\n",
       "    .dataframe thead th {\n",
       "        text-align: right;\n",
       "    }\n",
       "</style>\n",
       "<table border=\"1\" class=\"dataframe\">\n",
       "  <thead>\n",
       "    <tr style=\"text-align: right;\">\n",
       "      <th></th>\n",
       "      <th>comment_text</th>\n",
       "    </tr>\n",
       "  </thead>\n",
       "  <tbody>\n",
       "  </tbody>\n",
       "</table>\n",
       "</div>"
      ],
      "text/plain": [
       "Empty DataFrame\n",
       "Columns: [comment_text]\n",
       "Index: []"
      ]
     },
     "execution_count": 5,
     "metadata": {},
     "output_type": "execute_result"
    }
   ],
   "source": [
    "# Check data for null values in column 'comment_text':\n",
    "comments[comments['comment_text'].isnull()]"
   ]
  },
  {
   "cell_type": "markdown",
   "metadata": {},
   "source": [
    "### 02.03 Check for Substrings to Clean"
   ]
  },
  {
   "cell_type": "code",
   "execution_count": 6,
   "metadata": {},
   "outputs": [
    {
     "name": "stdout",
     "output_type": "stream",
     "text": [
      "comment_text\n",
      "False    10\n",
      "Name: count, dtype: int64\n"
     ]
    },
    {
     "data": {
      "text/html": [
       "<div>\n",
       "<style scoped>\n",
       "    .dataframe tbody tr th:only-of-type {\n",
       "        vertical-align: middle;\n",
       "    }\n",
       "\n",
       "    .dataframe tbody tr th {\n",
       "        vertical-align: top;\n",
       "    }\n",
       "\n",
       "    .dataframe thead th {\n",
       "        text-align: right;\n",
       "    }\n",
       "</style>\n",
       "<table border=\"1\" class=\"dataframe\">\n",
       "  <thead>\n",
       "    <tr style=\"text-align: right;\">\n",
       "      <th></th>\n",
       "      <th>comment_text</th>\n",
       "    </tr>\n",
       "  </thead>\n",
       "  <tbody>\n",
       "  </tbody>\n",
       "</table>\n",
       "</div>"
      ],
      "text/plain": [
       "Empty DataFrame\n",
       "Columns: [comment_text]\n",
       "Index: []"
      ]
     },
     "execution_count": 6,
     "metadata": {},
     "output_type": "execute_result"
    }
   ],
   "source": [
    "# Check for data in column 'comment_text' that contain substring '[deleted]':\n",
    "print(comments['comment_text'].str.contains(r'\\[deleted\\]').value_counts())\n",
    "comments[comments['comment_text'].str.contains(r'\\[deleted\\]') == True].head()"
   ]
  },
  {
   "cell_type": "code",
   "execution_count": 7,
   "metadata": {},
   "outputs": [
    {
     "name": "stdout",
     "output_type": "stream",
     "text": [
      "comment_text\n",
      "False    10\n",
      "Name: count, dtype: int64\n"
     ]
    },
    {
     "data": {
      "text/html": [
       "<div>\n",
       "<style scoped>\n",
       "    .dataframe tbody tr th:only-of-type {\n",
       "        vertical-align: middle;\n",
       "    }\n",
       "\n",
       "    .dataframe tbody tr th {\n",
       "        vertical-align: top;\n",
       "    }\n",
       "\n",
       "    .dataframe thead th {\n",
       "        text-align: right;\n",
       "    }\n",
       "</style>\n",
       "<table border=\"1\" class=\"dataframe\">\n",
       "  <thead>\n",
       "    <tr style=\"text-align: right;\">\n",
       "      <th></th>\n",
       "      <th>comment_text</th>\n",
       "    </tr>\n",
       "  </thead>\n",
       "  <tbody>\n",
       "  </tbody>\n",
       "</table>\n",
       "</div>"
      ],
      "text/plain": [
       "Empty DataFrame\n",
       "Columns: [comment_text]\n",
       "Index: []"
      ]
     },
     "execution_count": 7,
     "metadata": {},
     "output_type": "execute_result"
    }
   ],
   "source": [
    "# Check for data in column 'comment_text' that contain substring '[removed]':\n",
    "print(comments['comment_text'].str.contains(r'\\[removed\\]').value_counts())\n",
    "comments[comments['comment_text'].str.contains(r'\\[removed\\]') == True].head()"
   ]
  },
  {
   "cell_type": "code",
   "execution_count": 8,
   "metadata": {},
   "outputs": [
    {
     "name": "stdout",
     "output_type": "stream",
     "text": [
      "comment_text\n",
      "False    10\n",
      "Name: count, dtype: int64\n"
     ]
    },
    {
     "data": {
      "text/html": [
       "<div>\n",
       "<style scoped>\n",
       "    .dataframe tbody tr th:only-of-type {\n",
       "        vertical-align: middle;\n",
       "    }\n",
       "\n",
       "    .dataframe tbody tr th {\n",
       "        vertical-align: top;\n",
       "    }\n",
       "\n",
       "    .dataframe thead th {\n",
       "        text-align: right;\n",
       "    }\n",
       "</style>\n",
       "<table border=\"1\" class=\"dataframe\">\n",
       "  <thead>\n",
       "    <tr style=\"text-align: right;\">\n",
       "      <th></th>\n",
       "      <th>comment_text</th>\n",
       "    </tr>\n",
       "  </thead>\n",
       "  <tbody>\n",
       "  </tbody>\n",
       "</table>\n",
       "</div>"
      ],
      "text/plain": [
       "Empty DataFrame\n",
       "Columns: [comment_text]\n",
       "Index: []"
      ]
     },
     "execution_count": 8,
     "metadata": {},
     "output_type": "execute_result"
    }
   ],
   "source": [
    "# Check for data in column 'comment_text' that contain bot comments:\n",
    "print(comments['comment_text'].str.contains(r'I am a bot.|I\\'m a bot.').value_counts())\n",
    "comments[comments['comment_text'].str.contains(r'I am a bot.|I\\'m a bot.') == True].head()"
   ]
  },
  {
   "cell_type": "code",
   "execution_count": 9,
   "metadata": {},
   "outputs": [
    {
     "name": "stdout",
     "output_type": "stream",
     "text": [
      "comment_text\n",
      "False    8\n",
      "True     2\n",
      "Name: count, dtype: int64\n"
     ]
    },
    {
     "data": {
      "text/html": [
       "<div>\n",
       "<style scoped>\n",
       "    .dataframe tbody tr th:only-of-type {\n",
       "        vertical-align: middle;\n",
       "    }\n",
       "\n",
       "    .dataframe tbody tr th {\n",
       "        vertical-align: top;\n",
       "    }\n",
       "\n",
       "    .dataframe thead th {\n",
       "        text-align: right;\n",
       "    }\n",
       "</style>\n",
       "<table border=\"1\" class=\"dataframe\">\n",
       "  <thead>\n",
       "    <tr style=\"text-align: right;\">\n",
       "      <th></th>\n",
       "      <th>comment_text</th>\n",
       "    </tr>\n",
       "  </thead>\n",
       "  <tbody>\n",
       "    <tr>\n",
       "      <th>2</th>\n",
       "      <td>My mom thinks you just string together the first letters and everyone just knows what you meant. She'll be on her way to my house, and I get a text that says something like IOMWBFTDDIHTSTPADYWAS?C?\\n My mom would have you believe that everyone knows what she meant. I'll help y'all on this first one because you're new. I'm on my way but fuck these damn diuretics I have to stop to pee again, do ...</td>\n",
       "    </tr>\n",
       "    <tr>\n",
       "      <th>3</th>\n",
       "      <td>Lots of teen angst going on in here. I like following younger genz stuff to stay connected but it’s the dooming is definitely a pattern I see on Reddit and TikTok.\\n I genuinely think younger genZ lost a lot more to the pandemic than we did. It seems like some never recovered and it the negativity just continues. I see so many people say they don’t have friends, don’t go out, and only do solo ...</td>\n",
       "    </tr>\n",
       "  </tbody>\n",
       "</table>\n",
       "</div>"
      ],
      "text/plain": [
       "                                                                                                                                                                                                                                                                                                                                                                                                      comment_text\n",
       "2  My mom thinks you just string together the first letters and everyone just knows what you meant. She'll be on her way to my house, and I get a text that says something like IOMWBFTDDIHTSTPADYWAS?C?\\n My mom would have you believe that everyone knows what she meant. I'll help y'all on this first one because you're new. I'm on my way but fuck these damn diuretics I have to stop to pee again, do ...\n",
       "3  Lots of teen angst going on in here. I like following younger genz stuff to stay connected but it’s the dooming is definitely a pattern I see on Reddit and TikTok.\\n I genuinely think younger genZ lost a lot more to the pandemic than we did. It seems like some never recovered and it the negativity just continues. I see so many people say they don’t have friends, don’t go out, and only do solo ..."
      ]
     },
     "execution_count": 9,
     "metadata": {},
     "output_type": "execute_result"
    }
   ],
   "source": [
    "# Check for data in column 'comment_text' that contain line or tab characters:\n",
    "print(comments['comment_text'].str.contains(r'\\r|\\t|\\n').value_counts())\n",
    "comments[comments['comment_text'].str.contains(r'\\r|\\t|\\n') == True].head()"
   ]
  },
  {
   "cell_type": "code",
   "execution_count": 10,
   "metadata": {},
   "outputs": [
    {
     "name": "stdout",
     "output_type": "stream",
     "text": [
      "comment_text\n",
      "False    10\n",
      "Name: count, dtype: int64\n"
     ]
    },
    {
     "data": {
      "text/html": [
       "<div>\n",
       "<style scoped>\n",
       "    .dataframe tbody tr th:only-of-type {\n",
       "        vertical-align: middle;\n",
       "    }\n",
       "\n",
       "    .dataframe tbody tr th {\n",
       "        vertical-align: top;\n",
       "    }\n",
       "\n",
       "    .dataframe thead th {\n",
       "        text-align: right;\n",
       "    }\n",
       "</style>\n",
       "<table border=\"1\" class=\"dataframe\">\n",
       "  <thead>\n",
       "    <tr style=\"text-align: right;\">\n",
       "      <th></th>\n",
       "      <th>comment_text</th>\n",
       "    </tr>\n",
       "  </thead>\n",
       "  <tbody>\n",
       "  </tbody>\n",
       "</table>\n",
       "</div>"
      ],
      "text/plain": [
       "Empty DataFrame\n",
       "Columns: [comment_text]\n",
       "Index: []"
      ]
     },
     "execution_count": 10,
     "metadata": {},
     "output_type": "execute_result"
    }
   ],
   "source": [
    "# Check for data in column 'comment_text' that contain substring 'This post was mass deleted and anonymized with [Redact](https://redact.dev)':\n",
    "print(comments['comment_text'].str.contains(r'This post was mass deleted and anonymized with \\[Redact\\]\\(https://redact.dev\\)').value_counts())\n",
    "comments[comments['comment_text'].str.contains(r'This post was mass deleted and anonymized with \\[Redact\\]\\(https://redact.dev\\)') == True].head()"
   ]
  },
  {
   "cell_type": "code",
   "execution_count": 11,
   "metadata": {},
   "outputs": [
    {
     "name": "stdout",
     "output_type": "stream",
     "text": [
      "comment_text\n",
      "False    10\n",
      "Name: count, dtype: int64\n"
     ]
    },
    {
     "data": {
      "text/html": [
       "<div>\n",
       "<style scoped>\n",
       "    .dataframe tbody tr th:only-of-type {\n",
       "        vertical-align: middle;\n",
       "    }\n",
       "\n",
       "    .dataframe tbody tr th {\n",
       "        vertical-align: top;\n",
       "    }\n",
       "\n",
       "    .dataframe thead th {\n",
       "        text-align: right;\n",
       "    }\n",
       "</style>\n",
       "<table border=\"1\" class=\"dataframe\">\n",
       "  <thead>\n",
       "    <tr style=\"text-align: right;\">\n",
       "      <th></th>\n",
       "      <th>comment_text</th>\n",
       "    </tr>\n",
       "  </thead>\n",
       "  <tbody>\n",
       "  </tbody>\n",
       "</table>\n",
       "</div>"
      ],
      "text/plain": [
       "Empty DataFrame\n",
       "Columns: [comment_text]\n",
       "Index: []"
      ]
     },
     "execution_count": 11,
     "metadata": {},
     "output_type": "execute_result"
    }
   ],
   "source": [
    "# Check for data in column 'comment_text' that contain website urls:\n",
    "print(comments['comment_text'].str.contains(r'http[s]?\\://\\S+').value_counts())\n",
    "comments[comments['comment_text'].str.contains(r'http[s]?\\://\\S+') == True].head()"
   ]
  },
  {
   "cell_type": "code",
   "execution_count": 12,
   "metadata": {},
   "outputs": [
    {
     "name": "stdout",
     "output_type": "stream",
     "text": [
      "comment_text\n",
      "False    10\n",
      "Name: count, dtype: int64\n"
     ]
    },
    {
     "data": {
      "text/html": [
       "<div>\n",
       "<style scoped>\n",
       "    .dataframe tbody tr th:only-of-type {\n",
       "        vertical-align: middle;\n",
       "    }\n",
       "\n",
       "    .dataframe tbody tr th {\n",
       "        vertical-align: top;\n",
       "    }\n",
       "\n",
       "    .dataframe thead th {\n",
       "        text-align: right;\n",
       "    }\n",
       "</style>\n",
       "<table border=\"1\" class=\"dataframe\">\n",
       "  <thead>\n",
       "    <tr style=\"text-align: right;\">\n",
       "      <th></th>\n",
       "      <th>comment_text</th>\n",
       "    </tr>\n",
       "  </thead>\n",
       "  <tbody>\n",
       "  </tbody>\n",
       "</table>\n",
       "</div>"
      ],
      "text/plain": [
       "Empty DataFrame\n",
       "Columns: [comment_text]\n",
       "Index: []"
      ]
     },
     "execution_count": 12,
     "metadata": {},
     "output_type": "execute_result"
    }
   ],
   "source": [
    "# Check for data in column 'comment_text' that contain HTML hexadecimal codes:\n",
    "print(comments['comment_text'].str.contains(r'\\&\\#x\\S+\\;').value_counts())\n",
    "comments[comments['comment_text'].str.contains(r'\\&\\#x\\S+\\;') == True].head()"
   ]
  },
  {
   "cell_type": "code",
   "execution_count": 13,
   "metadata": {},
   "outputs": [
    {
     "name": "stdout",
     "output_type": "stream",
     "text": [
      "comment_text\n",
      "False    10\n",
      "Name: count, dtype: int64\n"
     ]
    },
    {
     "data": {
      "text/html": [
       "<div>\n",
       "<style scoped>\n",
       "    .dataframe tbody tr th:only-of-type {\n",
       "        vertical-align: middle;\n",
       "    }\n",
       "\n",
       "    .dataframe tbody tr th {\n",
       "        vertical-align: top;\n",
       "    }\n",
       "\n",
       "    .dataframe thead th {\n",
       "        text-align: right;\n",
       "    }\n",
       "</style>\n",
       "<table border=\"1\" class=\"dataframe\">\n",
       "  <thead>\n",
       "    <tr style=\"text-align: right;\">\n",
       "      <th></th>\n",
       "      <th>comment_text</th>\n",
       "    </tr>\n",
       "  </thead>\n",
       "  <tbody>\n",
       "  </tbody>\n",
       "</table>\n",
       "</div>"
      ],
      "text/plain": [
       "Empty DataFrame\n",
       "Columns: [comment_text]\n",
       "Index: []"
      ]
     },
     "execution_count": 13,
     "metadata": {},
     "output_type": "execute_result"
    }
   ],
   "source": [
    "# Check for data in column 'comment_text' that contain emoji hexadecimal codes:\n",
    "print(comments['comment_text'].str.contains(r'\\u200d').value_counts())\n",
    "comments[comments['comment_text'].str.contains(r'\\u200d') == True].head()"
   ]
  },
  {
   "cell_type": "code",
   "execution_count": 14,
   "metadata": {},
   "outputs": [
    {
     "name": "stdout",
     "output_type": "stream",
     "text": [
      "comment_text\n",
      "False    10\n",
      "Name: count, dtype: int64\n"
     ]
    },
    {
     "name": "stderr",
     "output_type": "stream",
     "text": [
      "/var/folders/fk/tl38z_650pnb8d8bzsdfs50h0000gn/T/ipykernel_50662/3079494143.py:2: UserWarning: This pattern is interpreted as a regular expression, and has match groups. To actually get the groups, use str.extract.\n",
      "  print(comments['comment_text'].str.contains(r'!\\[gif\\]\\(giphy\\|\\w+(\\|downsized)?\\)').value_counts())\n",
      "/var/folders/fk/tl38z_650pnb8d8bzsdfs50h0000gn/T/ipykernel_50662/3079494143.py:3: UserWarning: This pattern is interpreted as a regular expression, and has match groups. To actually get the groups, use str.extract.\n",
      "  comments[comments['comment_text'].str.contains(r'!\\[gif\\]\\(giphy\\|\\w+(\\|downsized)?\\)') == True].head()\n"
     ]
    },
    {
     "data": {
      "text/html": [
       "<div>\n",
       "<style scoped>\n",
       "    .dataframe tbody tr th:only-of-type {\n",
       "        vertical-align: middle;\n",
       "    }\n",
       "\n",
       "    .dataframe tbody tr th {\n",
       "        vertical-align: top;\n",
       "    }\n",
       "\n",
       "    .dataframe thead th {\n",
       "        text-align: right;\n",
       "    }\n",
       "</style>\n",
       "<table border=\"1\" class=\"dataframe\">\n",
       "  <thead>\n",
       "    <tr style=\"text-align: right;\">\n",
       "      <th></th>\n",
       "      <th>comment_text</th>\n",
       "    </tr>\n",
       "  </thead>\n",
       "  <tbody>\n",
       "  </tbody>\n",
       "</table>\n",
       "</div>"
      ],
      "text/plain": [
       "Empty DataFrame\n",
       "Columns: [comment_text]\n",
       "Index: []"
      ]
     },
     "execution_count": 14,
     "metadata": {},
     "output_type": "execute_result"
    }
   ],
   "source": [
    "# Check for data in column 'comment_text' that contain gif image codes:\n",
    "print(comments['comment_text'].str.contains(r'!\\[gif\\]\\(giphy\\|\\w+(\\|downsized)?\\)').value_counts())\n",
    "comments[comments['comment_text'].str.contains(r'!\\[gif\\]\\(giphy\\|\\w+(\\|downsized)?\\)') == True].head()"
   ]
  },
  {
   "cell_type": "code",
   "execution_count": 15,
   "metadata": {},
   "outputs": [
    {
     "name": "stdout",
     "output_type": "stream",
     "text": [
      "comment_text\n",
      "False    10\n",
      "Name: count, dtype: int64\n"
     ]
    },
    {
     "data": {
      "text/html": [
       "<div>\n",
       "<style scoped>\n",
       "    .dataframe tbody tr th:only-of-type {\n",
       "        vertical-align: middle;\n",
       "    }\n",
       "\n",
       "    .dataframe tbody tr th {\n",
       "        vertical-align: top;\n",
       "    }\n",
       "\n",
       "    .dataframe thead th {\n",
       "        text-align: right;\n",
       "    }\n",
       "</style>\n",
       "<table border=\"1\" class=\"dataframe\">\n",
       "  <thead>\n",
       "    <tr style=\"text-align: right;\">\n",
       "      <th></th>\n",
       "      <th>comment_text</th>\n",
       "    </tr>\n",
       "  </thead>\n",
       "  <tbody>\n",
       "  </tbody>\n",
       "</table>\n",
       "</div>"
      ],
      "text/plain": [
       "Empty DataFrame\n",
       "Columns: [comment_text]\n",
       "Index: []"
      ]
     },
     "execution_count": 15,
     "metadata": {},
     "output_type": "execute_result"
    }
   ],
   "source": [
    "# Check for data in column 'comment_text' that contain reddit subreddit references:\n",
    "print(comments['comment_text'].str.contains(r'\\s[/]?r/\\S+').value_counts())\n",
    "comments[comments['comment_text'].str.contains(r'\\s[/]?r/\\S+') == True].head()"
   ]
  },
  {
   "cell_type": "code",
   "execution_count": 16,
   "metadata": {},
   "outputs": [
    {
     "name": "stdout",
     "output_type": "stream",
     "text": [
      "comment_text\n",
      "False    10\n",
      "Name: count, dtype: int64\n"
     ]
    },
    {
     "data": {
      "text/html": [
       "<div>\n",
       "<style scoped>\n",
       "    .dataframe tbody tr th:only-of-type {\n",
       "        vertical-align: middle;\n",
       "    }\n",
       "\n",
       "    .dataframe tbody tr th {\n",
       "        vertical-align: top;\n",
       "    }\n",
       "\n",
       "    .dataframe thead th {\n",
       "        text-align: right;\n",
       "    }\n",
       "</style>\n",
       "<table border=\"1\" class=\"dataframe\">\n",
       "  <thead>\n",
       "    <tr style=\"text-align: right;\">\n",
       "      <th></th>\n",
       "      <th>comment_text</th>\n",
       "    </tr>\n",
       "  </thead>\n",
       "  <tbody>\n",
       "  </tbody>\n",
       "</table>\n",
       "</div>"
      ],
      "text/plain": [
       "Empty DataFrame\n",
       "Columns: [comment_text]\n",
       "Index: []"
      ]
     },
     "execution_count": 16,
     "metadata": {},
     "output_type": "execute_result"
    }
   ],
   "source": [
    "# Check for data in column 'comment_text' that contain reddit username references:\n",
    "print(comments['comment_text'].str.contains(r'\\s[/]?u/\\S+').value_counts())\n",
    "comments[comments['comment_text'].str.contains(r'\\s[/]?u/\\S+') == True].head()"
   ]
  },
  {
   "cell_type": "code",
   "execution_count": 17,
   "metadata": {},
   "outputs": [
    {
     "name": "stdout",
     "output_type": "stream",
     "text": [
      "comment_text\n",
      "False    10\n",
      "Name: count, dtype: int64\n"
     ]
    },
    {
     "data": {
      "text/html": [
       "<div>\n",
       "<style scoped>\n",
       "    .dataframe tbody tr th:only-of-type {\n",
       "        vertical-align: middle;\n",
       "    }\n",
       "\n",
       "    .dataframe tbody tr th {\n",
       "        vertical-align: top;\n",
       "    }\n",
       "\n",
       "    .dataframe thead th {\n",
       "        text-align: right;\n",
       "    }\n",
       "</style>\n",
       "<table border=\"1\" class=\"dataframe\">\n",
       "  <thead>\n",
       "    <tr style=\"text-align: right;\">\n",
       "      <th></th>\n",
       "      <th>comment_text</th>\n",
       "    </tr>\n",
       "  </thead>\n",
       "  <tbody>\n",
       "  </tbody>\n",
       "</table>\n",
       "</div>"
      ],
      "text/plain": [
       "Empty DataFrame\n",
       "Columns: [comment_text]\n",
       "Index: []"
      ]
     },
     "execution_count": 17,
     "metadata": {},
     "output_type": "execute_result"
    }
   ],
   "source": [
    "# Check for data in column 'comment_text' that contain hashtags:\n",
    "print(comments['comment_text'].str.contains(r'#\\S+').value_counts())\n",
    "comments[comments['comment_text'].str.contains(r'#\\S+') == True].head()"
   ]
  },
  {
   "cell_type": "code",
   "execution_count": 18,
   "metadata": {},
   "outputs": [
    {
     "name": "stdout",
     "output_type": "stream",
     "text": [
      "comment_text\n",
      "False    7\n",
      "True     3\n",
      "Name: count, dtype: int64\n"
     ]
    },
    {
     "data": {
      "text/html": [
       "<div>\n",
       "<style scoped>\n",
       "    .dataframe tbody tr th:only-of-type {\n",
       "        vertical-align: middle;\n",
       "    }\n",
       "\n",
       "    .dataframe tbody tr th {\n",
       "        vertical-align: top;\n",
       "    }\n",
       "\n",
       "    .dataframe thead th {\n",
       "        text-align: right;\n",
       "    }\n",
       "</style>\n",
       "<table border=\"1\" class=\"dataframe\">\n",
       "  <thead>\n",
       "    <tr style=\"text-align: right;\">\n",
       "      <th></th>\n",
       "      <th>comment_text</th>\n",
       "    </tr>\n",
       "  </thead>\n",
       "  <tbody>\n",
       "    <tr>\n",
       "      <th>0</th>\n",
       "      <td>You can bounce back. 7-8 years ago I was a homeless drug addict who was done trying also and it took jail to get me back on track. Now Im happily married, have a great job making great money. I had to hit rock bottom and experience homelessness to get my shit together. Being homeless is probably the worst experience I have ever gone through and it made me realize things can always get worse. W...</td>\n",
       "    </tr>\n",
       "    <tr>\n",
       "      <th>5</th>\n",
       "      <td>Yeah lmao it’s funny to watch. My ass moved out at 17 (essentially 16) and been working 60 hour weeks, often across multiple jobs to pay bills, while doing highschool online trying to graduate. And then I go onto reddit and see a bunch of 13-15 year olds talking about how hard it’ll be in the future, even though I guarantee they have their parents full support in life. 30% of Gen Z (adults) ar...</td>\n",
       "    </tr>\n",
       "    <tr>\n",
       "      <th>7</th>\n",
       "      <td>I was skeptical, but took a chance on the Black Friday deal. Haven’t used another cup since it arrived. Everything I drink from it tastes immaculate. My 3rd and 4th cups are in the mail. The Hydration+ and Tea Infusers are great too. Couldn’t recommend more highly.</td>\n",
       "    </tr>\n",
       "  </tbody>\n",
       "</table>\n",
       "</div>"
      ],
      "text/plain": [
       "                                                                                                                                                                                                                                                                                                                                                                                                      comment_text\n",
       "0  You can bounce back. 7-8 years ago I was a homeless drug addict who was done trying also and it took jail to get me back on track. Now Im happily married, have a great job making great money. I had to hit rock bottom and experience homelessness to get my shit together. Being homeless is probably the worst experience I have ever gone through and it made me realize things can always get worse. W...\n",
       "5  Yeah lmao it’s funny to watch. My ass moved out at 17 (essentially 16) and been working 60 hour weeks, often across multiple jobs to pay bills, while doing highschool online trying to graduate. And then I go onto reddit and see a bunch of 13-15 year olds talking about how hard it’ll be in the future, even though I guarantee they have their parents full support in life. 30% of Gen Z (adults) ar...\n",
       "7                                                                                                                                        I was skeptical, but took a chance on the Black Friday deal. Haven’t used another cup since it arrived. Everything I drink from it tastes immaculate. My 3rd and 4th cups are in the mail. The Hydration+ and Tea Infusers are great too. Couldn’t recommend more highly."
      ]
     },
     "execution_count": 18,
     "metadata": {},
     "output_type": "execute_result"
    }
   ],
   "source": [
    "# Check for data in column 'comment_text' that contain numbers, including shorthand decade references:\n",
    "print(comments['comment_text'].str.contains(r'[0-9]+[s]?').value_counts())\n",
    "comments[comments['comment_text'].str.contains(r'[0-9]+[s]?') == True].head()"
   ]
  },
  {
   "cell_type": "code",
   "execution_count": 19,
   "metadata": {},
   "outputs": [
    {
     "name": "stdout",
     "output_type": "stream",
     "text": [
      "comment_text\n",
      "False    9\n",
      "True     1\n",
      "Name: count, dtype: int64\n"
     ]
    },
    {
     "data": {
      "text/html": [
       "<div>\n",
       "<style scoped>\n",
       "    .dataframe tbody tr th:only-of-type {\n",
       "        vertical-align: middle;\n",
       "    }\n",
       "\n",
       "    .dataframe tbody tr th {\n",
       "        vertical-align: top;\n",
       "    }\n",
       "\n",
       "    .dataframe thead th {\n",
       "        text-align: right;\n",
       "    }\n",
       "</style>\n",
       "<table border=\"1\" class=\"dataframe\">\n",
       "  <thead>\n",
       "    <tr style=\"text-align: right;\">\n",
       "      <th></th>\n",
       "      <th>comment_text</th>\n",
       "    </tr>\n",
       "  </thead>\n",
       "  <tbody>\n",
       "    <tr>\n",
       "      <th>5</th>\n",
       "      <td>Yeah lmao it’s funny to watch. My ass moved out at 17 (essentially 16) and been working 60 hour weeks, often across multiple jobs to pay bills, while doing highschool online trying to graduate. And then I go onto reddit and see a bunch of 13-15 year olds talking about how hard it’ll be in the future, even though I guarantee they have their parents full support in life. 30% of Gen Z (adults) ar...</td>\n",
       "    </tr>\n",
       "  </tbody>\n",
       "</table>\n",
       "</div>"
      ],
      "text/plain": [
       "                                                                                                                                                                                                                                                                                                                                                                                                      comment_text\n",
       "5  Yeah lmao it’s funny to watch. My ass moved out at 17 (essentially 16) and been working 60 hour weeks, often across multiple jobs to pay bills, while doing highschool online trying to graduate. And then I go onto reddit and see a bunch of 13-15 year olds talking about how hard it’ll be in the future, even though I guarantee they have their parents full support in life. 30% of Gen Z (adults) ar..."
      ]
     },
     "execution_count": 19,
     "metadata": {},
     "output_type": "execute_result"
    }
   ],
   "source": [
    "# Check for data in column 'comment_text' that contain bracket characters:\n",
    "print(comments['comment_text'].str.contains(r'\\(|\\)|\\[|\\]').value_counts())\n",
    "comments[comments['comment_text'].str.contains(r'\\(|\\)|\\[|\\]') == True].head()"
   ]
  },
  {
   "cell_type": "code",
   "execution_count": 20,
   "metadata": {},
   "outputs": [
    {
     "name": "stdout",
     "output_type": "stream",
     "text": [
      "comment_text\n",
      "True    10\n",
      "Name: count, dtype: int64\n"
     ]
    },
    {
     "data": {
      "text/html": [
       "<div>\n",
       "<style scoped>\n",
       "    .dataframe tbody tr th:only-of-type {\n",
       "        vertical-align: middle;\n",
       "    }\n",
       "\n",
       "    .dataframe tbody tr th {\n",
       "        vertical-align: top;\n",
       "    }\n",
       "\n",
       "    .dataframe thead th {\n",
       "        text-align: right;\n",
       "    }\n",
       "</style>\n",
       "<table border=\"1\" class=\"dataframe\">\n",
       "  <thead>\n",
       "    <tr style=\"text-align: right;\">\n",
       "      <th></th>\n",
       "      <th>comment_text</th>\n",
       "    </tr>\n",
       "  </thead>\n",
       "  <tbody>\n",
       "    <tr>\n",
       "      <th>0</th>\n",
       "      <td>You can bounce back. 7-8 years ago I was a homeless drug addict who was done trying also and it took jail to get me back on track. Now Im happily married, have a great job making great money. I had to hit rock bottom and experience homelessness to get my shit together. Being homeless is probably the worst experience I have ever gone through and it made me realize things can always get worse. W...</td>\n",
       "    </tr>\n",
       "    <tr>\n",
       "      <th>1</th>\n",
       "      <td>What kids? I can't afford to have kids.</td>\n",
       "    </tr>\n",
       "    <tr>\n",
       "      <th>2</th>\n",
       "      <td>My mom thinks you just string together the first letters and everyone just knows what you meant. She'll be on her way to my house, and I get a text that says something like IOMWBFTDDIHTSTPADYWAS?C?\\n My mom would have you believe that everyone knows what she meant. I'll help y'all on this first one because you're new. I'm on my way but fuck these damn diuretics I have to stop to pee again, do ...</td>\n",
       "    </tr>\n",
       "    <tr>\n",
       "      <th>3</th>\n",
       "      <td>Lots of teen angst going on in here. I like following younger genz stuff to stay connected but it’s the dooming is definitely a pattern I see on Reddit and TikTok.\\n I genuinely think younger genZ lost a lot more to the pandemic than we did. It seems like some never recovered and it the negativity just continues. I see so many people say they don’t have friends, don’t go out, and only do solo ...</td>\n",
       "    </tr>\n",
       "    <tr>\n",
       "      <th>4</th>\n",
       "      <td>It’s a Reddit problem. Take all the posts you see with a grain of salt. A ton of the people on the entire website are chronically online, especially the younger ones</td>\n",
       "    </tr>\n",
       "  </tbody>\n",
       "</table>\n",
       "</div>"
      ],
      "text/plain": [
       "                                                                                                                                                                                                                                                                                                                                                                                                      comment_text\n",
       "0  You can bounce back. 7-8 years ago I was a homeless drug addict who was done trying also and it took jail to get me back on track. Now Im happily married, have a great job making great money. I had to hit rock bottom and experience homelessness to get my shit together. Being homeless is probably the worst experience I have ever gone through and it made me realize things can always get worse. W...\n",
       "1                                                                                                                                                                                                                                                                                                                                                                          What kids? I can't afford to have kids.\n",
       "2  My mom thinks you just string together the first letters and everyone just knows what you meant. She'll be on her way to my house, and I get a text that says something like IOMWBFTDDIHTSTPADYWAS?C?\\n My mom would have you believe that everyone knows what she meant. I'll help y'all on this first one because you're new. I'm on my way but fuck these damn diuretics I have to stop to pee again, do ...\n",
       "3  Lots of teen angst going on in here. I like following younger genz stuff to stay connected but it’s the dooming is definitely a pattern I see on Reddit and TikTok.\\n I genuinely think younger genZ lost a lot more to the pandemic than we did. It seems like some never recovered and it the negativity just continues. I see so many people say they don’t have friends, don’t go out, and only do solo ...\n",
       "4                                                                                                                                                                                                                                            It’s a Reddit problem. Take all the posts you see with a grain of salt. A ton of the people on the entire website are chronically online, especially the younger ones"
      ]
     },
     "execution_count": 20,
     "metadata": {},
     "output_type": "execute_result"
    }
   ],
   "source": [
    "# Check for data in column 'comment_text' that contain punctuations, excluding apostrophes:\n",
    "print(comments['comment_text'].str.contains(r'[^a-zA-Z0-9\\'\\’\\′\\ʼ\\s]').value_counts())\n",
    "comments[comments['comment_text'].str.contains(r'[^a-zA-Z0-9\\'\\’\\′\\ʼ\\s]') == True].head()"
   ]
  },
  {
   "cell_type": "code",
   "execution_count": 21,
   "metadata": {},
   "outputs": [
    {
     "name": "stdout",
     "output_type": "stream",
     "text": [
      "comment_text\n",
      "False    8\n",
      "True     2\n",
      "Name: count, dtype: int64\n"
     ]
    },
    {
     "data": {
      "text/html": [
       "<div>\n",
       "<style scoped>\n",
       "    .dataframe tbody tr th:only-of-type {\n",
       "        vertical-align: middle;\n",
       "    }\n",
       "\n",
       "    .dataframe tbody tr th {\n",
       "        vertical-align: top;\n",
       "    }\n",
       "\n",
       "    .dataframe thead th {\n",
       "        text-align: right;\n",
       "    }\n",
       "</style>\n",
       "<table border=\"1\" class=\"dataframe\">\n",
       "  <thead>\n",
       "    <tr style=\"text-align: right;\">\n",
       "      <th></th>\n",
       "      <th>comment_text</th>\n",
       "    </tr>\n",
       "  </thead>\n",
       "  <tbody>\n",
       "    <tr>\n",
       "      <th>2</th>\n",
       "      <td>My mom thinks you just string together the first letters and everyone just knows what you meant. She'll be on her way to my house, and I get a text that says something like IOMWBFTDDIHTSTPADYWAS?C?\\n My mom would have you believe that everyone knows what she meant. I'll help y'all on this first one because you're new. I'm on my way but fuck these damn diuretics I have to stop to pee again, do ...</td>\n",
       "    </tr>\n",
       "    <tr>\n",
       "      <th>3</th>\n",
       "      <td>Lots of teen angst going on in here. I like following younger genz stuff to stay connected but it’s the dooming is definitely a pattern I see on Reddit and TikTok.\\n I genuinely think younger genZ lost a lot more to the pandemic than we did. It seems like some never recovered and it the negativity just continues. I see so many people say they don’t have friends, don’t go out, and only do solo ...</td>\n",
       "    </tr>\n",
       "  </tbody>\n",
       "</table>\n",
       "</div>"
      ],
      "text/plain": [
       "                                                                                                                                                                                                                                                                                                                                                                                                      comment_text\n",
       "2  My mom thinks you just string together the first letters and everyone just knows what you meant. She'll be on her way to my house, and I get a text that says something like IOMWBFTDDIHTSTPADYWAS?C?\\n My mom would have you believe that everyone knows what she meant. I'll help y'all on this first one because you're new. I'm on my way but fuck these damn diuretics I have to stop to pee again, do ...\n",
       "3  Lots of teen angst going on in here. I like following younger genz stuff to stay connected but it’s the dooming is definitely a pattern I see on Reddit and TikTok.\\n I genuinely think younger genZ lost a lot more to the pandemic than we did. It seems like some never recovered and it the negativity just continues. I see so many people say they don’t have friends, don’t go out, and only do solo ..."
      ]
     },
     "execution_count": 21,
     "metadata": {},
     "output_type": "execute_result"
    }
   ],
   "source": [
    "# Check for data in column 'comment_text' that contain extra whitespaces:\n",
    "print(comments['comment_text'].str.contains(r'\\s{2,}').value_counts())\n",
    "comments[comments['comment_text'].str.contains(r'\\s{2,}') == True].head()"
   ]
  },
  {
   "cell_type": "markdown",
   "metadata": {},
   "source": [
    "## 03 Clean Data"
   ]
  },
  {
   "cell_type": "markdown",
   "metadata": {},
   "source": [
    "### 03.01 Drop Relevant Rows"
   ]
  },
  {
   "cell_type": "code",
   "execution_count": 22,
   "metadata": {},
   "outputs": [
    {
     "data": {
      "text/plain": [
       "10"
      ]
     },
     "execution_count": 22,
     "metadata": {},
     "output_type": "execute_result"
    }
   ],
   "source": [
    "# Count data rows:\n",
    "comments.shape[0]"
   ]
  },
  {
   "cell_type": "code",
   "execution_count": 23,
   "metadata": {},
   "outputs": [
    {
     "data": {
      "text/plain": [
       "10"
      ]
     },
     "execution_count": 23,
     "metadata": {},
     "output_type": "execute_result"
    }
   ],
   "source": [
    "# Drop rows with null values in column 'comment_text':\n",
    "comments = comments[comments['comment_text'].notnull()]\n",
    "comments.shape[0]"
   ]
  },
  {
   "cell_type": "code",
   "execution_count": 24,
   "metadata": {},
   "outputs": [
    {
     "data": {
      "text/plain": [
       "10"
      ]
     },
     "execution_count": 24,
     "metadata": {},
     "output_type": "execute_result"
    }
   ],
   "source": [
    "# Drop rows with substring '[deleted]' in column 'comment_text':\n",
    "comments = comments[comments['comment_text'].str.contains(r'\\[deleted\\]') == False]\n",
    "comments.shape[0]"
   ]
  },
  {
   "cell_type": "code",
   "execution_count": 25,
   "metadata": {},
   "outputs": [
    {
     "data": {
      "text/plain": [
       "10"
      ]
     },
     "execution_count": 25,
     "metadata": {},
     "output_type": "execute_result"
    }
   ],
   "source": [
    "# Drop rows with substring '[removed]' in column 'comment_text':\n",
    "comments = comments[comments['comment_text'].str.contains(r'\\[removed\\]') == False]\n",
    "comments.shape[0]"
   ]
  },
  {
   "cell_type": "code",
   "execution_count": 26,
   "metadata": {},
   "outputs": [
    {
     "data": {
      "text/plain": [
       "10"
      ]
     },
     "execution_count": 26,
     "metadata": {},
     "output_type": "execute_result"
    }
   ],
   "source": [
    "# Drop rows with substring 'I am a bot.' in column 'comment_text':\n",
    "comments = comments[comments['comment_text'].str.contains(r'I am a bot.|I\\'m a bot.') == False]\n",
    "comments.shape[0]"
   ]
  },
  {
   "cell_type": "markdown",
   "metadata": {},
   "source": [
    "### 03.02 Replace Substrings for Relevant Rows"
   ]
  },
  {
   "cell_type": "code",
   "execution_count": 27,
   "metadata": {},
   "outputs": [],
   "source": [
    "# Replace line of tab characters in column 'comment_text' with ' ':\n",
    "comments['comment_text'] = comments['comment_text'].str.replace(pat='\\r|\\t|\\n', repl=' ', regex=True)"
   ]
  },
  {
   "cell_type": "code",
   "execution_count": 28,
   "metadata": {},
   "outputs": [],
   "source": [
    "# Replace redaction substrings in column 'comment_text' with ' ':\n",
    "comments['comment_text'] = comments['comment_text'].str.replace(pat='This post was mass deleted and anonymized with \\[Redact\\]\\(https://redact.dev\\)', repl=' ', regex=True)"
   ]
  },
  {
   "cell_type": "code",
   "execution_count": 29,
   "metadata": {},
   "outputs": [],
   "source": [
    "# Replace website urls in column 'comment_text' with ' ':\n",
    "comments['comment_text'] = comments['comment_text'].str.replace(pat='http[s]?\\://\\S+', repl=' ', regex=True)"
   ]
  },
  {
   "cell_type": "code",
   "execution_count": 30,
   "metadata": {},
   "outputs": [],
   "source": [
    "# Replace html hexadecimal codes in column 'comment_text' with ' ':\n",
    "comments['comment_text'] = comments['comment_text'].str.replace(pat='\\&\\#x[A-F0-9]+\\;', repl=' ', regex=True)"
   ]
  },
  {
   "cell_type": "code",
   "execution_count": 31,
   "metadata": {},
   "outputs": [],
   "source": [
    "# Replace emoji hexadecimal codes in column 'comment_text' with ' ':\n",
    "comments['comment_text'] = comments['comment_text'].str.replace(pat='u200d', repl=' ', regex=True)"
   ]
  },
  {
   "cell_type": "code",
   "execution_count": 32,
   "metadata": {},
   "outputs": [],
   "source": [
    "# Replace .gif image codes in column 'comment_text' with ' ':\n",
    "comments['comment_text'] = comments['comment_text'].str.replace(pat='!\\[gif\\]\\(giphy\\|\\w+(\\|downsized)?\\)', repl=' ', regex=True)"
   ]
  },
  {
   "cell_type": "code",
   "execution_count": 33,
   "metadata": {},
   "outputs": [],
   "source": [
    "# Replace reddit subreddit references in column 'comment_text' with ' ':\n",
    "comments['comment_text'] = comments['comment_text'].str.replace(pat='\\s[/]?r/\\S+', repl=' ', regex=True)"
   ]
  },
  {
   "cell_type": "code",
   "execution_count": 34,
   "metadata": {},
   "outputs": [],
   "source": [
    "# Replace reddit username references in column 'comment_text' with ' ':\n",
    "comments['comment_text'] = comments['comment_text'].str.replace(pat='\\s[/]?u/\\S+', repl=' ', regex=True)"
   ]
  },
  {
   "cell_type": "code",
   "execution_count": 35,
   "metadata": {},
   "outputs": [],
   "source": [
    "# Replace numbers, including decade references, in column 'comment_text' with ' ':\n",
    "comments['comment_text'] = comments['comment_text'].str.replace(pat='[0-9]+[s]?', repl=' ', regex=True)"
   ]
  },
  {
   "cell_type": "code",
   "execution_count": 36,
   "metadata": {},
   "outputs": [],
   "source": [
    "# Replace bracket characters, in column 'comment_text' with ' ':\n",
    "comments['comment_text'] = comments['comment_text'].str.replace(pat='\\(|\\)|\\[|\\]', repl=' ', regex=True)"
   ]
  },
  {
   "cell_type": "code",
   "execution_count": 37,
   "metadata": {},
   "outputs": [],
   "source": [
    "# Replace punctuation, except apostrophes, in column 'comment_text' with ' ':\n",
    "comments['comment_text'] = comments['comment_text'].str.replace(pat='[^a-zA-Z0-9\\'\\’\\′\\ʼ\\s]', repl=' ', regex=True)"
   ]
  },
  {
   "cell_type": "markdown",
   "metadata": {},
   "source": [
    "### 03.03 Others"
   ]
  },
  {
   "cell_type": "code",
   "execution_count": 38,
   "metadata": {},
   "outputs": [],
   "source": [
    "# Standardise all apostrophes to the same type ''':\n",
    "comments['comment_text'] = comments['comment_text'].str.replace(pat=r'[\\’\\′\\ʼ]', repl='\\'', regex=True)"
   ]
  },
  {
   "cell_type": "code",
   "execution_count": 39,
   "metadata": {},
   "outputs": [],
   "source": [
    "# Remove trailing whitespaces in column 'comment_text':\n",
    "comments['comment_text'] = comments['comment_text'].str.strip()"
   ]
  },
  {
   "cell_type": "code",
   "execution_count": 40,
   "metadata": {},
   "outputs": [
    {
     "name": "stdout",
     "output_type": "stream",
     "text": [
      "Series([], Name: count, dtype: int64)\n"
     ]
    },
    {
     "data": {
      "text/html": [
       "<div>\n",
       "<style scoped>\n",
       "    .dataframe tbody tr th:only-of-type {\n",
       "        vertical-align: middle;\n",
       "    }\n",
       "\n",
       "    .dataframe tbody tr th {\n",
       "        vertical-align: top;\n",
       "    }\n",
       "\n",
       "    .dataframe thead th {\n",
       "        text-align: right;\n",
       "    }\n",
       "</style>\n",
       "<table border=\"1\" class=\"dataframe\">\n",
       "  <thead>\n",
       "    <tr style=\"text-align: right;\">\n",
       "      <th></th>\n",
       "      <th>comment_text</th>\n",
       "    </tr>\n",
       "  </thead>\n",
       "  <tbody>\n",
       "  </tbody>\n",
       "</table>\n",
       "</div>"
      ],
      "text/plain": [
       "Empty DataFrame\n",
       "Columns: [comment_text]\n",
       "Index: []"
      ]
     },
     "execution_count": 40,
     "metadata": {},
     "output_type": "execute_result"
    }
   ],
   "source": [
    "# Check for data in column 'comment_text' that are empty strings:\n",
    "print(comments[comments['comment_text'] == '']['comment_text'].value_counts())\n",
    "comments[comments['comment_text'] == ''].head()"
   ]
  },
  {
   "cell_type": "code",
   "execution_count": 41,
   "metadata": {},
   "outputs": [
    {
     "data": {
      "text/plain": [
       "10"
      ]
     },
     "execution_count": 41,
     "metadata": {},
     "output_type": "execute_result"
    }
   ],
   "source": [
    "# Drop rows with empty strings in column 'comment_text':\n",
    "comments = comments[comments['comment_text'] != '']\n",
    "comments.shape[0]"
   ]
  },
  {
   "cell_type": "code",
   "execution_count": 42,
   "metadata": {},
   "outputs": [
    {
     "name": "stdout",
     "output_type": "stream",
     "text": [
      "(10, 1)\n"
     ]
    },
    {
     "data": {
      "text/html": [
       "<div>\n",
       "<style scoped>\n",
       "    .dataframe tbody tr th:only-of-type {\n",
       "        vertical-align: middle;\n",
       "    }\n",
       "\n",
       "    .dataframe tbody tr th {\n",
       "        vertical-align: top;\n",
       "    }\n",
       "\n",
       "    .dataframe thead th {\n",
       "        text-align: right;\n",
       "    }\n",
       "</style>\n",
       "<table border=\"1\" class=\"dataframe\">\n",
       "  <thead>\n",
       "    <tr style=\"text-align: right;\">\n",
       "      <th></th>\n",
       "      <th>comment_text</th>\n",
       "    </tr>\n",
       "  </thead>\n",
       "  <tbody>\n",
       "    <tr>\n",
       "      <th>0</th>\n",
       "      <td>You can bounce back      years ago I was a homeless drug addict who was done trying also and it took jail to get me back on track  Now Im happily married  have a great job making great money  I had to hit rock bottom and experience homelessness to get my shit together  Being homeless is probably the worst experience I have ever gone through and it made me realize things can always get worse  W...</td>\n",
       "    </tr>\n",
       "    <tr>\n",
       "      <th>1</th>\n",
       "      <td>What kids  I can't afford to have kids</td>\n",
       "    </tr>\n",
       "    <tr>\n",
       "      <th>2</th>\n",
       "      <td>My mom thinks you just string together the first letters and everyone just knows what you meant  She'll be on her way to my house  and I get a text that says something like IOMWBFTDDIHTSTPADYWAS C   My mom would have you believe that everyone knows what she meant  I'll help y'all on this first one because you're new  I'm on my way but fuck these damn diuretics I have to stop to pee again  do y...</td>\n",
       "    </tr>\n",
       "    <tr>\n",
       "      <th>3</th>\n",
       "      <td>Lots of teen angst going on in here  I like following younger genz stuff to stay connected but it's the dooming is definitely a pattern I see on Reddit and TikTok   I genuinely think younger genZ lost a lot more to the pandemic than we did  It seems like some never recovered and it the negativity just continues  I see so many people say they don't have friends  don't go out  and only do solo h...</td>\n",
       "    </tr>\n",
       "    <tr>\n",
       "      <th>4</th>\n",
       "      <td>It's a Reddit problem  Take all the posts you see with a grain of salt  A ton of the people on the entire website are chronically online  especially the younger ones</td>\n",
       "    </tr>\n",
       "  </tbody>\n",
       "</table>\n",
       "</div>"
      ],
      "text/plain": [
       "                                                                                                                                                                                                                                                                                                                                                                                                      comment_text\n",
       "0  You can bounce back      years ago I was a homeless drug addict who was done trying also and it took jail to get me back on track  Now Im happily married  have a great job making great money  I had to hit rock bottom and experience homelessness to get my shit together  Being homeless is probably the worst experience I have ever gone through and it made me realize things can always get worse  W...\n",
       "1                                                                                                                                                                                                                                                                                                                                                                           What kids  I can't afford to have kids\n",
       "2  My mom thinks you just string together the first letters and everyone just knows what you meant  She'll be on her way to my house  and I get a text that says something like IOMWBFTDDIHTSTPADYWAS C   My mom would have you believe that everyone knows what she meant  I'll help y'all on this first one because you're new  I'm on my way but fuck these damn diuretics I have to stop to pee again  do y...\n",
       "3  Lots of teen angst going on in here  I like following younger genz stuff to stay connected but it's the dooming is definitely a pattern I see on Reddit and TikTok   I genuinely think younger genZ lost a lot more to the pandemic than we did  It seems like some never recovered and it the negativity just continues  I see so many people say they don't have friends  don't go out  and only do solo h...\n",
       "4                                                                                                                                                                                                                                            It's a Reddit problem  Take all the posts you see with a grain of salt  A ton of the people on the entire website are chronically online  especially the younger ones"
      ]
     },
     "execution_count": 42,
     "metadata": {},
     "output_type": "execute_result"
    }
   ],
   "source": [
    "# Check data:\n",
    "print(comments.shape)\n",
    "comments.head()"
   ]
  },
  {
   "cell_type": "code",
   "execution_count": 43,
   "metadata": {},
   "outputs": [],
   "source": [
    "# Reset data frame index:\n",
    "comments.reset_index(drop=True, inplace=True)"
   ]
  },
  {
   "cell_type": "markdown",
   "metadata": {},
   "source": [
    "## 04 Preprocess Data"
   ]
  },
  {
   "cell_type": "markdown",
   "metadata": {},
   "source": [
    "### 04.01 Stem Comment Words"
   ]
  },
  {
   "cell_type": "code",
   "execution_count": 44,
   "metadata": {},
   "outputs": [],
   "source": [
    "# Define stemmer function:\n",
    "def stemmer(row):\n",
    "    '''Applies `PorterStemmer()` to each token in a document.\n",
    "    '''\n",
    "    # initializes PorterStemmer object\n",
    "    stem = PorterStemmer()\n",
    "\n",
    "    # extracts document\n",
    "    document = row['comment_text']\n",
    "\n",
    "    # splits document up into tokens using RegexpTokenizer\n",
    "    re_tokenizer = RegexpTokenizer(pattern=r\"(?u)\\b(?:\\w\\w+|i|I)(?:[\\'\\'\\′\\ʼ](?:s|t|m|re|ve|d|ll))?\\b\")\n",
    "    lst_of_tokens = re_tokenizer.tokenize(document)\n",
    "\n",
    "    # initialize return value\n",
    "    stemmed_document = ''\n",
    "\n",
    "    # applies PorterStemmer to the list of tokens\n",
    "    for token in lst_of_tokens:\n",
    "        stemmed_document += f'{stem.stem(token)} '\n",
    "    \n",
    "    return stemmed_document"
   ]
  },
  {
   "cell_type": "code",
   "execution_count": 45,
   "metadata": {},
   "outputs": [
    {
     "data": {
      "text/html": [
       "<div>\n",
       "<style scoped>\n",
       "    .dataframe tbody tr th:only-of-type {\n",
       "        vertical-align: middle;\n",
       "    }\n",
       "\n",
       "    .dataframe tbody tr th {\n",
       "        vertical-align: top;\n",
       "    }\n",
       "\n",
       "    .dataframe thead th {\n",
       "        text-align: right;\n",
       "    }\n",
       "</style>\n",
       "<table border=\"1\" class=\"dataframe\">\n",
       "  <thead>\n",
       "    <tr style=\"text-align: right;\">\n",
       "      <th></th>\n",
       "      <th>comment_text</th>\n",
       "    </tr>\n",
       "  </thead>\n",
       "  <tbody>\n",
       "    <tr>\n",
       "      <th>0</th>\n",
       "      <td>you can bounc back year ago i wa homeless drug addict who wa done tri also and it took jail to get me back on track now im happili marri have great job make great money i had to hit rock bottom and experi homeless to get my shit togeth be homeless is probabl the worst experi i have ever gone through and it made me realiz thing can alway get wors whatev you'r go thru it help to have support net...</td>\n",
       "    </tr>\n",
       "    <tr>\n",
       "      <th>1</th>\n",
       "      <td>what kid i can't afford to have kid</td>\n",
       "    </tr>\n",
       "    <tr>\n",
       "      <th>2</th>\n",
       "      <td>my mom think you just string togeth the first letter and everyon just know what you meant she'll be on her way to my hous and i get text that say someth like iomwbftddihtstpadywa my mom would have you believ that everyon know what she meant i'll help all on thi first one becaus you'r new i'm on my way but fuck these damn diuret i have to stop to pee again do you want snicker coke</td>\n",
       "    </tr>\n",
       "    <tr>\n",
       "      <th>3</th>\n",
       "      <td>lot of teen angst go on in here i like follow younger genz stuff to stay connect but it' the doom is definit pattern i see on reddit and tiktok i genuin think younger genz lost lot more to the pandem than we did it seem like some never recov and it the neg just continu i see so mani peopl say they don't have friend don't go out and onli do solo hobbi etc it genuin concern i wa extrem social in...</td>\n",
       "    </tr>\n",
       "    <tr>\n",
       "      <th>4</th>\n",
       "      <td>it' reddit problem take all the post you see with grain of salt ton of the peopl on the entir websit are chronic onlin especi the younger one</td>\n",
       "    </tr>\n",
       "    <tr>\n",
       "      <th>5</th>\n",
       "      <td>yeah lmao it' funni to watch my ass move out at essenti and been work hour week often across multipl job to pay bill while do highschool onlin tri to graduat and then i go onto reddit and see bunch of year old talk about how hard it'll be in the futur even though i guarante they have their parent full support in life of gen adult are homeown the most of ani gener other than boomer by their mil...</td>\n",
       "    </tr>\n",
       "    <tr>\n",
       "      <th>6</th>\n",
       "      <td>i just bought one i love for way cheaper than your i like the look of your but love the look of my new tumbler better so sorri your ridicul price lose and i win</td>\n",
       "    </tr>\n",
       "    <tr>\n",
       "      <th>7</th>\n",
       "      <td>i wa skeptic but took chanc on the black friday deal haven't use anoth cup sinc it arriv everyth i drink from it tast immacul my rd and th cup are in the mail the hydrat and tea infus are great too couldn't recommend more highli</td>\n",
       "    </tr>\n",
       "    <tr>\n",
       "      <th>8</th>\n",
       "      <td>if it wa cheaper your friend would be mad you didn't spend more money also we'r the first cup that ever fit in hand and that took lot of money to develop</td>\n",
       "    </tr>\n",
       "    <tr>\n",
       "      <th>9</th>\n",
       "      <td>if we made them cheaper they wouldn't feel like expens gift and they wouldn't fit so perfectli in our hand what not sell point if you'r tri to justifi the cost qualiti in an ad</td>\n",
       "    </tr>\n",
       "  </tbody>\n",
       "</table>\n",
       "</div>"
      ],
      "text/plain": [
       "                                                                                                                                                                                                                                                                                                                                                                                                      comment_text\n",
       "0  you can bounc back year ago i wa homeless drug addict who wa done tri also and it took jail to get me back on track now im happili marri have great job make great money i had to hit rock bottom and experi homeless to get my shit togeth be homeless is probabl the worst experi i have ever gone through and it made me realiz thing can alway get wors whatev you'r go thru it help to have support net...\n",
       "1                                                                                                                                                                                                                                                                                                                                                                             what kid i can't afford to have kid \n",
       "2                  my mom think you just string togeth the first letter and everyon just know what you meant she'll be on her way to my hous and i get text that say someth like iomwbftddihtstpadywa my mom would have you believ that everyon know what she meant i'll help all on thi first one becaus you'r new i'm on my way but fuck these damn diuret i have to stop to pee again do you want snicker coke \n",
       "3  lot of teen angst go on in here i like follow younger genz stuff to stay connect but it' the doom is definit pattern i see on reddit and tiktok i genuin think younger genz lost lot more to the pandem than we did it seem like some never recov and it the neg just continu i see so mani peopl say they don't have friend don't go out and onli do solo hobbi etc it genuin concern i wa extrem social in...\n",
       "4                                                                                                                                                                                                                                                                   it' reddit problem take all the post you see with grain of salt ton of the peopl on the entir websit are chronic onlin especi the younger one \n",
       "5  yeah lmao it' funni to watch my ass move out at essenti and been work hour week often across multipl job to pay bill while do highschool onlin tri to graduat and then i go onto reddit and see bunch of year old talk about how hard it'll be in the futur even though i guarante they have their parent full support in life of gen adult are homeown the most of ani gener other than boomer by their mil...\n",
       "6                                                                                                                                                                                                                                                i just bought one i love for way cheaper than your i like the look of your but love the look of my new tumbler better so sorri your ridicul price lose and i win \n",
       "7                                                                                                                                                                            i wa skeptic but took chanc on the black friday deal haven't use anoth cup sinc it arriv everyth i drink from it tast immacul my rd and th cup are in the mail the hydrat and tea infus are great too couldn't recommend more highli \n",
       "8                                                                                                                                                                                                                                                       if it wa cheaper your friend would be mad you didn't spend more money also we'r the first cup that ever fit in hand and that took lot of money to develop \n",
       "9                                                                                                                                                                                                                                if we made them cheaper they wouldn't feel like expens gift and they wouldn't fit so perfectli in our hand what not sell point if you'r tri to justifi the cost qualiti in an ad "
      ]
     },
     "execution_count": 45,
     "metadata": {},
     "output_type": "execute_result"
    }
   ],
   "source": [
    "# Stem comments:\n",
    "comments['comment_text'] = comments.apply(stemmer,axis=1)\n",
    "comments"
   ]
  },
  {
   "cell_type": "markdown",
   "metadata": {},
   "source": [
    "### 04.02 Word Vectorize Comments"
   ]
  },
  {
   "cell_type": "code",
   "execution_count": 46,
   "metadata": {},
   "outputs": [],
   "source": [
    "# Import fitted 'TF-IDF' word vectorizer:\n",
    "tvec = joblib.load(\"./tvec.pkl\")"
   ]
  },
  {
   "cell_type": "code",
   "execution_count": 47,
   "metadata": {},
   "outputs": [
    {
     "data": {
      "text/plain": [
       "(10, 50000)"
      ]
     },
     "execution_count": 47,
     "metadata": {},
     "output_type": "execute_result"
    }
   ],
   "source": [
    "comments_vec = pd.DataFrame(tvec.transform(comments['comment_text']).todense(),\n",
    "                            columns=tvec.get_feature_names_out())\n",
    "comments_vec.shape"
   ]
  },
  {
   "cell_type": "markdown",
   "metadata": {},
   "source": [
    "## 05 Predict Classifier Group"
   ]
  },
  {
   "cell_type": "markdown",
   "metadata": {},
   "source": [
    "### 05.01 Generation Predictions"
   ]
  },
  {
   "cell_type": "code",
   "execution_count": 48,
   "metadata": {},
   "outputs": [],
   "source": [
    "# Import fitted logistic regression model:\n",
    "# Ridge (l2), α=1:\n",
    "model_lr = joblib.load(\"./model_lr.pkl\")"
   ]
  },
  {
   "cell_type": "code",
   "execution_count": 49,
   "metadata": {},
   "outputs": [
    {
     "data": {
      "text/plain": [
       "array([0, 1, 0, 1, 1, 1, 0, 0, 0, 0])"
      ]
     },
     "execution_count": 49,
     "metadata": {},
     "output_type": "execute_result"
    }
   ],
   "source": [
    "# Generate classifier predictions:\n",
    "model_lr.predict(comments_vec)"
   ]
  },
  {
   "cell_type": "code",
   "execution_count": 50,
   "metadata": {},
   "outputs": [],
   "source": [
    "# Create results column in data frame 'comments':\n",
    "comments['generation'] = model_lr.predict(comments_vec)"
   ]
  },
  {
   "cell_type": "code",
   "execution_count": 51,
   "metadata": {},
   "outputs": [],
   "source": [
    "# Convert 'generation_z' column to binary outcomes:\n",
    "comments['generation'] = comments['generation'].map({1: 'Z',0: 'Y' })"
   ]
  },
  {
   "cell_type": "code",
   "execution_count": 52,
   "metadata": {},
   "outputs": [
    {
     "name": "stdout",
     "output_type": "stream",
     "text": [
      "(10, 2)\n"
     ]
    },
    {
     "data": {
      "text/html": [
       "<div>\n",
       "<style scoped>\n",
       "    .dataframe tbody tr th:only-of-type {\n",
       "        vertical-align: middle;\n",
       "    }\n",
       "\n",
       "    .dataframe tbody tr th {\n",
       "        vertical-align: top;\n",
       "    }\n",
       "\n",
       "    .dataframe thead th {\n",
       "        text-align: right;\n",
       "    }\n",
       "</style>\n",
       "<table border=\"1\" class=\"dataframe\">\n",
       "  <thead>\n",
       "    <tr style=\"text-align: right;\">\n",
       "      <th></th>\n",
       "      <th>comment_text</th>\n",
       "      <th>generation</th>\n",
       "    </tr>\n",
       "  </thead>\n",
       "  <tbody>\n",
       "    <tr>\n",
       "      <th>0</th>\n",
       "      <td>you can bounc back year ago i wa homeless drug addict who wa done tri also and it took jail to get me back on track now im happili marri have great job make great money i had to hit rock bottom and experi homeless to get my shit togeth be homeless is probabl the worst experi i have ever gone through and it made me realiz thing can alway get wors whatev you'r go thru it help to have support net...</td>\n",
       "      <td>Y</td>\n",
       "    </tr>\n",
       "    <tr>\n",
       "      <th>1</th>\n",
       "      <td>what kid i can't afford to have kid</td>\n",
       "      <td>Z</td>\n",
       "    </tr>\n",
       "    <tr>\n",
       "      <th>2</th>\n",
       "      <td>my mom think you just string togeth the first letter and everyon just know what you meant she'll be on her way to my hous and i get text that say someth like iomwbftddihtstpadywa my mom would have you believ that everyon know what she meant i'll help all on thi first one becaus you'r new i'm on my way but fuck these damn diuret i have to stop to pee again do you want snicker coke</td>\n",
       "      <td>Y</td>\n",
       "    </tr>\n",
       "    <tr>\n",
       "      <th>3</th>\n",
       "      <td>lot of teen angst go on in here i like follow younger genz stuff to stay connect but it' the doom is definit pattern i see on reddit and tiktok i genuin think younger genz lost lot more to the pandem than we did it seem like some never recov and it the neg just continu i see so mani peopl say they don't have friend don't go out and onli do solo hobbi etc it genuin concern i wa extrem social in...</td>\n",
       "      <td>Z</td>\n",
       "    </tr>\n",
       "    <tr>\n",
       "      <th>4</th>\n",
       "      <td>it' reddit problem take all the post you see with grain of salt ton of the peopl on the entir websit are chronic onlin especi the younger one</td>\n",
       "      <td>Z</td>\n",
       "    </tr>\n",
       "  </tbody>\n",
       "</table>\n",
       "</div>"
      ],
      "text/plain": [
       "                                                                                                                                                                                                                                                                                                                                                                                                      comment_text  \\\n",
       "0  you can bounc back year ago i wa homeless drug addict who wa done tri also and it took jail to get me back on track now im happili marri have great job make great money i had to hit rock bottom and experi homeless to get my shit togeth be homeless is probabl the worst experi i have ever gone through and it made me realiz thing can alway get wors whatev you'r go thru it help to have support net...   \n",
       "1                                                                                                                                                                                                                                                                                                                                                                             what kid i can't afford to have kid    \n",
       "2                  my mom think you just string togeth the first letter and everyon just know what you meant she'll be on her way to my hous and i get text that say someth like iomwbftddihtstpadywa my mom would have you believ that everyon know what she meant i'll help all on thi first one becaus you'r new i'm on my way but fuck these damn diuret i have to stop to pee again do you want snicker coke    \n",
       "3  lot of teen angst go on in here i like follow younger genz stuff to stay connect but it' the doom is definit pattern i see on reddit and tiktok i genuin think younger genz lost lot more to the pandem than we did it seem like some never recov and it the neg just continu i see so mani peopl say they don't have friend don't go out and onli do solo hobbi etc it genuin concern i wa extrem social in...   \n",
       "4                                                                                                                                                                                                                                                                   it' reddit problem take all the post you see with grain of salt ton of the peopl on the entir websit are chronic onlin especi the younger one    \n",
       "\n",
       "  generation  \n",
       "0          Y  \n",
       "1          Z  \n",
       "2          Y  \n",
       "3          Z  \n",
       "4          Z  "
      ]
     },
     "execution_count": 52,
     "metadata": {},
     "output_type": "execute_result"
    }
   ],
   "source": [
    "# Check data\n",
    "print(comments.shape)\n",
    "comments.head()"
   ]
  },
  {
   "cell_type": "code",
   "execution_count": 53,
   "metadata": {},
   "outputs": [],
   "source": [
    "# Create output folder and export data frame 'comments' as 'results.csv':\n",
    "if not os.path.exists('../data'):\n",
    "    os.makedirs('data')\n",
    "comments.to_csv('../data/results.csv', index=False)"
   ]
  }
 ],
 "metadata": {
  "kernelspec": {
   "display_name": "base",
   "language": "python",
   "name": "python3"
  },
  "language_info": {
   "codemirror_mode": {
    "name": "ipython",
    "version": 3
   },
   "file_extension": ".py",
   "mimetype": "text/x-python",
   "name": "python",
   "nbconvert_exporter": "python",
   "pygments_lexer": "ipython3",
   "version": "3.11.5"
  }
 },
 "nbformat": 4,
 "nbformat_minor": 2
}
